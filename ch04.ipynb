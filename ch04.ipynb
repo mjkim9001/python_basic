{
 "cells": [
  {
   "cell_type": "markdown",
   "metadata": {},
   "source": [
    "# Chapter 04. 반복문"
   ]
  },
  {
   "cell_type": "code",
   "execution_count": 5,
   "metadata": {},
   "outputs": [
    {
     "name": "stdout",
     "output_type": "stream",
     "text": [
      "시작 수를 입력하세요: 100\n",
      "끝 수를 입력하세요: 200\n",
      "100에서 200까지 5의 배수가 아닌 수의 합계 : 12000\n"
     ]
    }
   ],
   "source": [
    "# Q4-1\n",
    "start_num = int(input('시작 수를 입력하세요: '))\n",
    "end_num = int(input('끝 수를 입력하세요: '))\n",
    "result = 0\n",
    "for i in range (start_num, end_num+1):\n",
    "    if i % 5 != 0:\n",
    "        result += i\n",
    "\n",
    "print('%d에서 %d까지 5의 배수가 아닌 수의 합계 : %d' %(start_num, end_num, result))"
   ]
  },
  {
   "cell_type": "code",
   "execution_count": 10,
   "metadata": {},
   "outputs": [
    {
     "name": "stdout",
     "output_type": "stream",
     "text": [
      "하이픈(-)을 포함한 휴대폰 번호를 입력하세요: 010-2851-9001\n",
      "01028519001"
     ]
    }
   ],
   "source": [
    "# Q4-2\n",
    "phone_number = input('하이픈(-)을 포함한 휴대폰 번호를 입력하세요: ')\n",
    "\n",
    "for i in phone_number:\n",
    "    if i != '-':\n",
    "        print('%s' %i, end='')\n",
    "    "
   ]
  },
  {
   "cell_type": "code",
   "execution_count": null,
   "metadata": {},
   "outputs": [],
   "source": [
    "# Q4-3\n"
   ]
  }
 ],
 "metadata": {
  "kernelspec": {
   "display_name": "Python 3",
   "language": "python",
   "name": "python3"
  },
  "language_info": {
   "codemirror_mode": {
    "name": "ipython",
    "version": 3
   },
   "file_extension": ".py",
   "mimetype": "text/x-python",
   "name": "python",
   "nbconvert_exporter": "python",
   "pygments_lexer": "ipython3",
   "version": "3.7.6"
  }
 },
 "nbformat": 4,
 "nbformat_minor": 4
}
