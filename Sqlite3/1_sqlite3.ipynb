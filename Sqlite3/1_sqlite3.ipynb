{
 "cells": [
  {
   "cell_type": "code",
   "execution_count": 21,
   "metadata": {},
   "outputs": [],
   "source": [
    "import sqlite3\n",
    "conn = sqlite3.connect('./test.db')"
   ]
  },
  {
   "cell_type": "code",
   "execution_count": 22,
   "metadata": {},
   "outputs": [],
   "source": [
    "cur = conn.cursor()\n",
    "cur.execute('SELECT * FROM eagles')\n",
    "rows = cur.fetchall()"
   ]
  },
  {
   "cell_type": "code",
   "execution_count": 23,
   "metadata": {},
   "outputs": [
    {
     "data": {
      "text/plain": [
       "[(1, 13, '최재훈', '포수'),\n",
       " (2, 3, '노태형', '내야수'),\n",
       " (3, 19, '이용규', '외야수'),\n",
       " (4, 62, '강재민', '투수'),\n",
       " (5, 47, '김종민', '포수수'),\n",
       " (6, 14, '강경학', '내야수'),\n",
       " (7, 114, '김광명', '외야수'),\n",
       " (8, 20, '남지민', '투수'),\n",
       " (9, 116, '강상원', '외야수'),\n",
       " (10, 94, '권용우', '투수')]"
      ]
     },
     "execution_count": 23,
     "metadata": {},
     "output_type": "execute_result"
    }
   ],
   "source": [
    "rows"
   ]
  },
  {
   "cell_type": "code",
   "execution_count": 24,
   "metadata": {
    "scrolled": true
   },
   "outputs": [
    {
     "name": "stdout",
     "output_type": "stream",
     "text": [
      "(4, 62, '강재민', '투수')\n",
      "(8, 20, '남지민', '투수')\n",
      "(10, 94, '권용우', '투수')\n"
     ]
    }
   ],
   "source": [
    "cur.execute(\"select * from eagles where position = '투수'\")\n",
    "pitchers = cur.fetchall()\n",
    "for pitcher in pitchers:\n",
    "    print(pitcher)"
   ]
  },
  {
   "cell_type": "code",
   "execution_count": 28,
   "metadata": {
    "scrolled": true
   },
   "outputs": [
    {
     "ename": "OperationalError",
     "evalue": "near \"(\": syntax error",
     "output_type": "error",
     "traceback": [
      "\u001b[1;31m---------------------------------------------------------------------------\u001b[0m",
      "\u001b[1;31mOperationalError\u001b[0m                          Traceback (most recent call last)",
      "\u001b[1;32m<ipython-input-28-74bc2459ce7c>\u001b[0m in \u001b[0;36m<module>\u001b[1;34m\u001b[0m\n\u001b[0;32m      4\u001b[0m             \u001b[0mname\u001b[0m \u001b[0mtext\u001b[0m\u001b[1;33m,\u001b[0m\u001b[0;31m\\\u001b[0m\u001b[1;33m\u001b[0m\u001b[1;33m\u001b[0m\u001b[0m\n\u001b[0;32m      5\u001b[0m             \u001b[0mpositino\u001b[0m \u001b[0mtext\u001b[0m\u001b[0;31m\\\u001b[0m\u001b[1;33m\u001b[0m\u001b[1;33m\u001b[0m\u001b[0m\n\u001b[1;32m----> 6\u001b[1;33m             primary key(back_no));')\n\u001b[0m",
      "\u001b[1;31mOperationalError\u001b[0m: near \"(\": syntax error"
     ]
    }
   ],
   "source": [
    "cur= conn.cursor()\n",
    "cur.execute('create table if not exists eagles \\\n",
    "            (back_no int not null,\\\n",
    "            name text,\\\n",
    "            positino text\\\n",
    "            primary key(back_no));')"
   ]
  },
  {
   "cell_type": "code",
   "execution_count": 29,
   "metadata": {},
   "outputs": [
    {
     "data": {
      "text/plain": [
       "<sqlite3.Cursor at 0x216d8cc4180>"
      ]
     },
     "execution_count": 29,
     "metadata": {},
     "output_type": "execute_result"
    }
   ],
   "source": [
    "cur.execute('alter table eagles add column birth integer')"
   ]
  },
  {
   "cell_type": "code",
   "execution_count": 30,
   "metadata": {},
   "outputs": [
    {
     "ename": "OperationalError",
     "evalue": "near \".\": syntax error",
     "output_type": "error",
     "traceback": [
      "\u001b[1;31m---------------------------------------------------------------------------\u001b[0m",
      "\u001b[1;31mOperationalError\u001b[0m                          Traceback (most recent call last)",
      "\u001b[1;32m<ipython-input-30-e1221be6264c>\u001b[0m in \u001b[0;36m<module>\u001b[1;34m\u001b[0m\n\u001b[1;32m----> 1\u001b[1;33m \u001b[0mcur\u001b[0m\u001b[1;33m.\u001b[0m\u001b[0mexecute\u001b[0m\u001b[1;33m(\u001b[0m\u001b[1;34m'alter table eagles rename to eagles.backup'\u001b[0m\u001b[1;33m)\u001b[0m\u001b[1;33m\u001b[0m\u001b[1;33m\u001b[0m\u001b[0m\n\u001b[0m",
      "\u001b[1;31mOperationalError\u001b[0m: near \".\": syntax error"
     ]
    }
   ],
   "source": [
    "cur.execute('alter table eagles rename to eagles.backup')"
   ]
  },
  {
   "cell_type": "markdown",
   "metadata": {},
   "source": [
    "## 데이터 추가"
   ]
  },
  {
   "cell_type": "code",
   "execution_count": 54,
   "metadata": {},
   "outputs": [
    {
     "data": {
      "text/plain": [
       "<sqlite3.Cursor at 0x216d8ba9e30>"
      ]
     },
     "execution_count": 54,
     "metadata": {},
     "output_type": "execute_result"
    }
   ],
   "source": [
    "cur\n",
    "cur.execute(\"insert into eagles (back_no, name, position) values(1, '하주석', '내야수');\")"
   ]
  },
  {
   "cell_type": "code",
   "execution_count": 55,
   "metadata": {},
   "outputs": [],
   "source": [
    "## DB에 반영\n",
    "conn.commit()"
   ]
  },
  {
   "cell_type": "code",
   "execution_count": 84,
   "metadata": {},
   "outputs": [],
   "source": [
    "# 파라메터: 튜브를 사용해서 전달\n",
    "back_no = 25\n",
    "name = '노태형'\n",
    "position = '내야수'\n",
    "sql = \"insert into eagles (back_no, name, position) values(?,?,?)\"\n",
    "cur.execute(sql,(back_no, name, position))\n",
    "conn.commit()"
   ]
  },
  {
   "cell_type": "code",
   "execution_count": 85,
   "metadata": {},
   "outputs": [],
   "source": [
    "#튜플 리스트 사용\n",
    "players = [(44,'서폴드','투수'),(54,'서균','투수') ]\n",
    "for player in players:\n",
    "    cur.execute(sql, player)\n",
    "conn.commit()"
   ]
  },
  {
   "cell_type": "code",
   "execution_count": 86,
   "metadata": {},
   "outputs": [],
   "source": [
    "#execuatemany 사용()\n",
    "players = [(48,'벨','투수'),(53,'김민우','투수') ]\n",
    "cur.execute(sql, player)\n",
    "conn.commit()"
   ]
  },
  {
   "cell_type": "code",
   "execution_count": 87,
   "metadata": {},
   "outputs": [],
   "source": [
    "## 데이터 조회"
   ]
  },
  {
   "cell_type": "code",
   "execution_count": 88,
   "metadata": {},
   "outputs": [
    {
     "name": "stdout",
     "output_type": "stream",
     "text": [
      "(1, 13, '최재훈', '포수', None)\n"
     ]
    }
   ],
   "source": [
    "# 순회 조회\n",
    "sql = \"select * from eagles where position = '포수'\"\n",
    "cur.execute(sql)\n",
    "for result in cur:\n",
    "    print(result)"
   ]
  },
  {
   "cell_type": "code",
   "execution_count": 89,
   "metadata": {},
   "outputs": [
    {
     "name": "stdout",
     "output_type": "stream",
     "text": [
      "(1, 13, '최재훈', '포수', None)\n"
     ]
    }
   ],
   "source": [
    "#한건 조회*******\n",
    "cur.execute(sql)\n",
    "result= cur.fetchone()\n",
    "print(result)"
   ]
  },
  {
   "cell_type": "code",
   "execution_count": 90,
   "metadata": {},
   "outputs": [
    {
     "name": "stdout",
     "output_type": "stream",
     "text": [
      "None\n"
     ]
    }
   ],
   "source": [
    "result = cur.fetchone()\n",
    "print(result)"
   ]
  },
  {
   "cell_type": "code",
   "execution_count": 91,
   "metadata": {},
   "outputs": [
    {
     "data": {
      "text/plain": [
       "[(4, 62, '강재민', '투수', None),\n",
       " (8, 20, '남지민', '투수', None),\n",
       " (10, 94, '권용우', '투수', None)]"
      ]
     },
     "execution_count": 91,
     "metadata": {},
     "output_type": "execute_result"
    }
   ],
   "source": [
    "#갯수 지정 조회\n",
    "sql = \"select * from eagles where position = '투수'\"\n",
    "cur.execute(sql)\n",
    "results = cur.fetchmany(3)\n",
    "results"
   ]
  },
  {
   "cell_type": "code",
   "execution_count": 92,
   "metadata": {
    "scrolled": true
   },
   "outputs": [
    {
     "data": {
      "text/plain": [
       "[(2, 3, '노태형', '내야수', None),\n",
       " (6, 14, '강경학', '내야수', None),\n",
       " (20, 25, '노태형', '내야수', None)]"
      ]
     },
     "execution_count": 92,
     "metadata": {},
     "output_type": "execute_result"
    }
   ],
   "source": [
    "#전부 조회**********\n",
    "sql = \"select * from eagles where position = '내야수'\"\n",
    "cur.execute(sql)\n",
    "results = cur.fetchall()\n",
    "results"
   ]
  },
  {
   "cell_type": "code",
   "execution_count": 93,
   "metadata": {},
   "outputs": [
    {
     "data": {
      "text/plain": [
       "[(62, '강재민'),\n",
       " (47, '김종민'),\n",
       " (114, '김광명'),\n",
       " (116, '강상원'),\n",
       " (94, '권용우'),\n",
       " (25, '노태형'),\n",
       " (44, '서폴드'),\n",
       " (54, '서균'),\n",
       " (54, '서균')]"
      ]
     },
     "execution_count": 93,
     "metadata": {},
     "output_type": "execute_result"
    }
   ],
   "source": [
    "# 필요한 컬럼만 조회\n",
    "sql = \"select back_no, name from eagles where back_no > 20\"\n",
    "cur.execute(sql)\n",
    "results = cur.fetchall()\n",
    "results"
   ]
  },
  {
   "cell_type": "code",
   "execution_count": 94,
   "metadata": {},
   "outputs": [
    {
     "data": {
      "text/plain": [
       "[]"
      ]
     },
     "execution_count": 94,
     "metadata": {},
     "output_type": "execute_result"
    }
   ],
   "source": [
    "# 백넘버가 3039가지만 선수\n",
    "sql = \"select back_no, name from eagles where back_no between 30 and 39\"\n",
    "cur.execute(sql)\n",
    "results = cur.fetchall()\n",
    "results"
   ]
  },
  {
   "cell_type": "code",
   "execution_count": 95,
   "metadata": {},
   "outputs": [
    {
     "data": {
      "text/plain": [
       "(9, 116, '강상원', '외야수', None)"
      ]
     },
     "execution_count": 95,
     "metadata": {},
     "output_type": "execute_result"
    }
   ],
   "source": [
    "# 백넘버가 가장 큰 번호를 갖는 선수는?\n",
    "sql = \"select * from eagles order by back_no desc limit 1\"\n",
    "cur.execute(sql)\n",
    "results = cur.fetchone()\n",
    "results"
   ]
  },
  {
   "cell_type": "code",
   "execution_count": 96,
   "metadata": {},
   "outputs": [
    {
     "data": {
      "text/plain": [
       "[('내야수', 3), ('외야수', 4), ('투수', 6), ('포수', 1), ('포수수', 1)]"
      ]
     },
     "execution_count": 96,
     "metadata": {},
     "output_type": "execute_result"
    }
   ],
   "source": [
    "# 포지션별 사람수\n",
    "sql = \"select position, count(*) from eagles group by position\"\n",
    "cur.execute(sql)\n",
    "results = cur.fetchall()\n",
    "results"
   ]
  },
  {
   "cell_type": "markdown",
   "metadata": {},
   "source": [
    "## 데이터 검색"
   ]
  },
  {
   "cell_type": "code",
   "execution_count": 97,
   "metadata": {},
   "outputs": [
    {
     "data": {
      "text/plain": [
       "(1, 13, '최재훈', '포수', None)"
      ]
     },
     "execution_count": 97,
     "metadata": {},
     "output_type": "execute_result"
    }
   ],
   "source": [
    "# back_no가 57번인 선수는?\n",
    "# 꼭 튜플로 만들어줘서 써야 한다!!!!!!!!!!!!!!!!!!!!!!!!!!!!!!!!!!\n",
    "back_no = 13\n",
    "sql = \"select * from eagles where back_no = ?\"\n",
    "cur.execute(sql, (back_no,))\n",
    "result = cur.fetchone()\n",
    "result"
   ]
  },
  {
   "cell_type": "markdown",
   "metadata": {},
   "source": [
    "## 데이터 변경"
   ]
  },
  {
   "cell_type": "code",
   "execution_count": 98,
   "metadata": {},
   "outputs": [],
   "source": [
    "# id가 11인 하주석 선수의 포지셩을 외야수로 변경\n",
    "id = 11\n",
    "position = '외야수'\n",
    "sql = 'update eagles set position =? where id = ?'\n",
    "cur.execute(sql, (position, id))\n",
    "conn.commit()"
   ]
  },
  {
   "cell_type": "markdown",
   "metadata": {},
   "source": [
    "## 데이터 삭제"
   ]
  },
  {
   "cell_type": "code",
   "execution_count": 99,
   "metadata": {},
   "outputs": [],
   "source": [
    "sql = \"delete from eagles where id =?\"\n",
    "cur.execute(sql, (id,))\n",
    "conn.commit()"
   ]
  },
  {
   "cell_type": "code",
   "execution_count": null,
   "metadata": {},
   "outputs": [],
   "source": []
  },
  {
   "cell_type": "code",
   "execution_count": null,
   "metadata": {},
   "outputs": [],
   "source": []
  },
  {
   "cell_type": "code",
   "execution_count": 25,
   "metadata": {},
   "outputs": [],
   "source": [
    "# 2"
   ]
  },
  {
   "cell_type": "code",
   "execution_count": 35,
   "metadata": {},
   "outputs": [
    {
     "data": {
      "text/plain": [
       "<sqlite3.Cursor at 0x216d8cd95e0>"
      ]
     },
     "execution_count": 35,
     "metadata": {},
     "output_type": "execute_result"
    }
   ],
   "source": [
    "#2-1\n",
    "cur = conn.cursor()\n",
    "cur.execute('create table group_info\\\n",
    "                              (id integer primary key autoincrement,\\\n",
    "                              group_name text,\\\n",
    "                              num int,\\\n",
    "                              date text,\\\n",
    "                              company text);')"
   ]
  },
  {
   "cell_type": "code",
   "execution_count": 36,
   "metadata": {},
   "outputs": [
    {
     "data": {
      "text/plain": [
       "<sqlite3.Cursor at 0x216d8cd9570>"
      ]
     },
     "execution_count": 36,
     "metadata": {},
     "output_type": "execute_result"
    }
   ],
   "source": [
    "#2-2\n",
    "cur = conn.cursor()\n",
    "cur.execute('create table song_info(\\\n",
    "                              song_id integer primary key autoincrement,\\\n",
    "                              song_name text,\\\n",
    "                              group_id int,\\\n",
    "                              year text,\\\n",
    "                              composer text,\\\n",
    "                              intro text);')"
   ]
  },
  {
   "cell_type": "code",
   "execution_count": 41,
   "metadata": {},
   "outputs": [],
   "source": [
    "#2-2\n",
    "cur = conn.cursor()\n",
    "cur.execute(\"insert into group_info(group_name, num, date, company) \\\n",
    "            values('방탄소년단',7,'2013-06-12', '빅히트엔터테인먼트'), \\\n",
    "            ('세븐틴',13,'2015-05-26','프레디스'), \\\n",
    "            ('하이라이트',4,'2017-03-20', '어라운드어스 엔터테인먼트'),\\\n",
    "            ('비투비',7, '2012-03-21', '큐브엔터테인먼트'),\\\n",
    "            ('EXO',9, '2012-04-08','SM엔터테인먼트')\")\n",
    "conn.commit()"
   ]
  },
  {
   "cell_type": "code",
   "execution_count": 42,
   "metadata": {},
   "outputs": [
    {
     "data": {
      "text/plain": [
       "<sqlite3.Cursor at 0x216d8cd9f10>"
      ]
     },
     "execution_count": 42,
     "metadata": {},
     "output_type": "execute_result"
    }
   ],
   "source": [
    "cur.execute('drop table song_info')"
   ]
  },
  {
   "cell_type": "code",
   "execution_count": 44,
   "metadata": {},
   "outputs": [
    {
     "data": {
      "text/plain": [
       "<sqlite3.Cursor at 0x216d8ba9e30>"
      ]
     },
     "execution_count": 44,
     "metadata": {},
     "output_type": "execute_result"
    }
   ],
   "source": [
    "cur = conn.cursor()\n",
    "cur.execute('create table song_info(\\\n",
    "                              song_id integer primary key autoincrement,\\\n",
    "                              song_name text,\\\n",
    "                              group_id int,\\\n",
    "                              year text,\\\n",
    "                              composer text,\\\n",
    "                              intro text,\\\n",
    "                              constraint group_id_fk foreign key(group_id)\\\n",
    "                              references group_info(id));')"
   ]
  },
  {
   "cell_type": "code",
   "execution_count": null,
   "metadata": {},
   "outputs": [],
   "source": [
    "cur = conn.cursor()\n",
    "cur.execute(\"insert into song_info(song_name, group_id, year, composer, intro) \\\n",
    "            values('작은 것들을 위한 시',1,'2020', '작곡가','모든 게 궁금해 How’s your day Oh tell me 뭐가 널 행복하게 하는지 Oh text me'), \\\n",
    "            ('세븐틴',13,'2015-05-26','프레디스'), \\\n",
    "            ('하이라이트',4,'2017-03-20', '어라운드어스 엔터테인먼트'),\\\n",
    "            ('비투비',7, '2012-03-21', '큐브엔터테인먼트'),\\\n",
    "            ('EXO',9, '2012-04-08','SM엔터테인먼트')\")"
   ]
  },
  {
   "cell_type": "code",
   "execution_count": 106,
   "metadata": {
    "scrolled": false
   },
   "outputs": [
    {
     "data": {
      "text/plain": [
       "<sqlite3.Cursor at 0x216d8ba9e30>"
      ]
     },
     "execution_count": 106,
     "metadata": {},
     "output_type": "execute_result"
    }
   ],
   "source": [
    "cur.execute('drop table song_info')"
   ]
  },
  {
   "cell_type": "code",
   "execution_count": 107,
   "metadata": {},
   "outputs": [
    {
     "data": {
      "text/plain": [
       "<sqlite3.Cursor at 0x216d8ba9e30>"
      ]
     },
     "execution_count": 107,
     "metadata": {},
     "output_type": "execute_result"
    }
   ],
   "source": [
    "cur.execute('drop table group_info')"
   ]
  },
  {
   "cell_type": "code",
   "execution_count": 102,
   "metadata": {},
   "outputs": [],
   "source": [
    "conn.commit()"
   ]
  },
  {
   "cell_type": "code",
   "execution_count": 108,
   "metadata": {},
   "outputs": [],
   "source": [
    "conn.close()"
   ]
  },
  {
   "cell_type": "code",
   "execution_count": null,
   "metadata": {},
   "outputs": [],
   "source": []
  }
 ],
 "metadata": {
  "kernelspec": {
   "display_name": "Python 3",
   "language": "python",
   "name": "python3"
  },
  "language_info": {
   "codemirror_mode": {
    "name": "ipython",
    "version": 3
   },
   "file_extension": ".py",
   "mimetype": "text/x-python",
   "name": "python",
   "nbconvert_exporter": "python",
   "pygments_lexer": "ipython3",
   "version": "3.7.6"
  }
 },
 "nbformat": 4,
 "nbformat_minor": 4
}
