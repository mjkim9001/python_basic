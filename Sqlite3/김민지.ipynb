{
 "cells": [
  {
   "cell_type": "code",
   "execution_count": 58,
   "metadata": {},
   "outputs": [],
   "source": [
    "import sqlite3\n",
    "import pandas as pd\n",
    "import numpy as np\n",
    "conn = sqlite3.connect('./test.db')"
   ]
  },
  {
   "cell_type": "code",
   "execution_count": 59,
   "metadata": {},
   "outputs": [],
   "source": [
    "cur = conn.cursor()"
   ]
  },
  {
   "cell_type": "code",
   "execution_count": 47,
   "metadata": {},
   "outputs": [
    {
     "data": {
      "text/plain": [
       "<sqlite3.Cursor at 0x2ae0e8d4f10>"
      ]
     },
     "execution_count": 47,
     "metadata": {},
     "output_type": "execute_result"
    }
   ],
   "source": [
    "cur.execute('create table group_info\\\n",
    "                              (id integer primary key autoincrement,\\\n",
    "                              group_name text,\\\n",
    "                              member int,\\\n",
    "                              date text,\\\n",
    "                              company text);')"
   ]
  },
  {
   "cell_type": "code",
   "execution_count": 60,
   "metadata": {},
   "outputs": [
    {
     "data": {
      "text/plain": [
       "<sqlite3.Cursor at 0x2ae0ea86650>"
      ]
     },
     "execution_count": 60,
     "metadata": {},
     "output_type": "execute_result"
    }
   ],
   "source": [
    "cur.execute('create table song_info(\\\n",
    "                              song_id integer primary key autoincrement,\\\n",
    "                              song_name text,\\\n",
    "                              group_id int,\\\n",
    "                              year int,\\\n",
    "                              composer text,\\\n",
    "                              intro text,\\\n",
    "                              constraint group_id_fk foreign key(group_id)\\\n",
    "                              references group_info(id));')"
   ]
  },
  {
   "cell_type": "code",
   "execution_count": 92,
   "metadata": {
    "scrolled": false
   },
   "outputs": [
    {
     "data": {
      "text/html": [
       "<div>\n",
       "<style scoped>\n",
       "    .dataframe tbody tr th:only-of-type {\n",
       "        vertical-align: middle;\n",
       "    }\n",
       "\n",
       "    .dataframe tbody tr th {\n",
       "        vertical-align: top;\n",
       "    }\n",
       "\n",
       "    .dataframe thead th {\n",
       "        text-align: right;\n",
       "    }\n",
       "</style>\n",
       "<table border=\"1\" class=\"dataframe\">\n",
       "  <thead>\n",
       "    <tr style=\"text-align: right;\">\n",
       "      <th></th>\n",
       "      <th>name</th>\n",
       "      <th>member_no</th>\n",
       "      <th>debut</th>\n",
       "      <th>company</th>\n",
       "    </tr>\n",
       "  </thead>\n",
       "  <tbody>\n",
       "    <tr>\n",
       "      <th>0</th>\n",
       "      <td>방탄소년단</td>\n",
       "      <td>7</td>\n",
       "      <td>2013-06-13</td>\n",
       "      <td>빅히트 엔터</td>\n",
       "    </tr>\n",
       "    <tr>\n",
       "      <th>1</th>\n",
       "      <td>마마무</td>\n",
       "      <td>4</td>\n",
       "      <td>2014-06-19</td>\n",
       "      <td>RBW</td>\n",
       "    </tr>\n",
       "    <tr>\n",
       "      <th>2</th>\n",
       "      <td>우주소녀</td>\n",
       "      <td>13</td>\n",
       "      <td>2016-02-25</td>\n",
       "      <td>스타쉽 엔터</td>\n",
       "    </tr>\n",
       "    <tr>\n",
       "      <th>3</th>\n",
       "      <td>블락비</td>\n",
       "      <td>7</td>\n",
       "      <td>2011-04-15</td>\n",
       "      <td>KQ 엔터</td>\n",
       "    </tr>\n",
       "    <tr>\n",
       "      <th>4</th>\n",
       "      <td>엑소</td>\n",
       "      <td>9</td>\n",
       "      <td>2012-04-08</td>\n",
       "      <td>SM 엔터</td>\n",
       "    </tr>\n",
       "    <tr>\n",
       "      <th>5</th>\n",
       "      <td>트와이스</td>\n",
       "      <td>9</td>\n",
       "      <td>2015-10-20</td>\n",
       "      <td>JYP 엔터</td>\n",
       "    </tr>\n",
       "  </tbody>\n",
       "</table>\n",
       "</div>"
      ],
      "text/plain": [
       "    name  member_no       debut company\n",
       "0  방탄소년단          7  2013-06-13  빅히트 엔터\n",
       "1    마마무          4  2014-06-19     RBW\n",
       "2   우주소녀         13  2016-02-25  스타쉽 엔터\n",
       "3    블락비          7  2011-04-15   KQ 엔터\n",
       "4     엑소          9  2012-04-08   SM 엔터\n",
       "5   트와이스          9  2015-10-20  JYP 엔터"
      ]
     },
     "execution_count": 92,
     "metadata": {},
     "output_type": "execute_result"
    }
   ],
   "source": [
    "singers = pd.read_csv('singers.csv',  encoding='CP949')\n",
    "singers"
   ]
  },
  {
   "cell_type": "code",
   "execution_count": 5,
   "metadata": {
    "scrolled": true
   },
   "outputs": [
    {
     "data": {
      "text/plain": [
       "'방탄소년단'"
      ]
     },
     "execution_count": 5,
     "metadata": {},
     "output_type": "execute_result"
    }
   ],
   "source": [
    "singers['name'][0]"
   ]
  },
  {
   "cell_type": "code",
   "execution_count": 6,
   "metadata": {},
   "outputs": [
    {
     "data": {
      "text/html": [
       "<div>\n",
       "<style scoped>\n",
       "    .dataframe tbody tr th:only-of-type {\n",
       "        vertical-align: middle;\n",
       "    }\n",
       "\n",
       "    .dataframe tbody tr th {\n",
       "        vertical-align: top;\n",
       "    }\n",
       "\n",
       "    .dataframe thead th {\n",
       "        text-align: right;\n",
       "    }\n",
       "</style>\n",
       "<table border=\"1\" class=\"dataframe\">\n",
       "  <thead>\n",
       "    <tr style=\"text-align: right;\">\n",
       "      <th></th>\n",
       "      <th>song</th>\n",
       "      <th>gid</th>\n",
       "      <th>year</th>\n",
       "      <th>composer</th>\n",
       "      <th>lyrics</th>\n",
       "    </tr>\n",
       "  </thead>\n",
       "  <tbody>\n",
       "    <tr>\n",
       "      <th>0</th>\n",
       "      <td>작은 것들을 위한 시</td>\n",
       "      <td>1</td>\n",
       "      <td>2019</td>\n",
       "      <td>Pdogg 외</td>\n",
       "      <td>모든 게 궁금해 How’s your day</td>\n",
       "    </tr>\n",
       "    <tr>\n",
       "      <th>1</th>\n",
       "      <td>FAKE LOVE</td>\n",
       "      <td>1</td>\n",
       "      <td>2018</td>\n",
       "      <td>Pdogg 외</td>\n",
       "      <td>널 위해서라면 난 슬퍼도 기쁜 척 할 수가 있었어</td>\n",
       "    </tr>\n",
       "    <tr>\n",
       "      <th>2</th>\n",
       "      <td>넌 is 뭔들</td>\n",
       "      <td>2</td>\n",
       "      <td>2016</td>\n",
       "      <td>김도훈 외</td>\n",
       "      <td>Hey 거기 미소가 예쁜 남자 바로 너</td>\n",
       "    </tr>\n",
       "    <tr>\n",
       "      <th>3</th>\n",
       "      <td>음오아예 (Um Oh Ah Yeh)</td>\n",
       "      <td>2</td>\n",
       "      <td>2015</td>\n",
       "      <td>김도훈</td>\n",
       "      <td>oh yes 음 오 아 예 너에게 빠져들겠어 자꾸 반응하잖아</td>\n",
       "    </tr>\n",
       "    <tr>\n",
       "      <th>4</th>\n",
       "      <td>HER</td>\n",
       "      <td>4</td>\n",
       "      <td>2014</td>\n",
       "      <td>지코 외</td>\n",
       "      <td>Jesus 무슨 말이 필요해 모두 널 작품이라고 불러</td>\n",
       "    </tr>\n",
       "    <tr>\n",
       "      <th>5</th>\n",
       "      <td>으르렁</td>\n",
       "      <td>5</td>\n",
       "      <td>2013</td>\n",
       "      <td>신혁 외</td>\n",
       "      <td>나 으르렁 으르렁 으르렁 대 나 으르렁 으르렁 으르렁 대</td>\n",
       "    </tr>\n",
       "    <tr>\n",
       "      <th>6</th>\n",
       "      <td>MAMA</td>\n",
       "      <td>5</td>\n",
       "      <td>2012</td>\n",
       "      <td>유영진</td>\n",
       "      <td>Careless careless Shoot anonymous anonymous</td>\n",
       "    </tr>\n",
       "    <tr>\n",
       "      <th>7</th>\n",
       "      <td>CHEER UP</td>\n",
       "      <td>6</td>\n",
       "      <td>2016</td>\n",
       "      <td>블랙아이드필승 외</td>\n",
       "      <td>CHEER UP BABY CHEER UP BABY 좀 더 힘을 내</td>\n",
       "    </tr>\n",
       "    <tr>\n",
       "      <th>8</th>\n",
       "      <td>TT</td>\n",
       "      <td>6</td>\n",
       "      <td>2016</td>\n",
       "      <td>블랙아이드필승 외</td>\n",
       "      <td>이런 내 맘 모르고 너무해 너무해</td>\n",
       "    </tr>\n",
       "    <tr>\n",
       "      <th>9</th>\n",
       "      <td>빨간 맛</td>\n",
       "      <td>11</td>\n",
       "      <td>2017</td>\n",
       "      <td>Ludwig Lindell 외</td>\n",
       "      <td>빨간 맛 궁금해 Honey 깨물면 점점 녹아든 스트로베리 그 맛</td>\n",
       "    </tr>\n",
       "  </tbody>\n",
       "</table>\n",
       "</div>"
      ],
      "text/plain": [
       "                  song  gid  year          composer  \\\n",
       "0          작은 것들을 위한 시    1  2019           Pdogg 외   \n",
       "1            FAKE LOVE    1  2018           Pdogg 외   \n",
       "2              넌 is 뭔들    2  2016             김도훈 외   \n",
       "3  음오아예 (Um Oh Ah Yeh)    2  2015               김도훈   \n",
       "4                  HER    4  2014              지코 외   \n",
       "5                  으르렁    5  2013              신혁 외   \n",
       "6                 MAMA    5  2012               유영진   \n",
       "7             CHEER UP    6  2016         블랙아이드필승 외   \n",
       "8                   TT    6  2016         블랙아이드필승 외   \n",
       "9                 빨간 맛   11  2017  Ludwig Lindell 외   \n",
       "\n",
       "                                        lyrics  \n",
       "0                      모든 게 궁금해 How’s your day  \n",
       "1                  널 위해서라면 난 슬퍼도 기쁜 척 할 수가 있었어  \n",
       "2                        Hey 거기 미소가 예쁜 남자 바로 너  \n",
       "3            oh yes 음 오 아 예 너에게 빠져들겠어 자꾸 반응하잖아  \n",
       "4                Jesus 무슨 말이 필요해 모두 널 작품이라고 불러  \n",
       "5              나 으르렁 으르렁 으르렁 대 나 으르렁 으르렁 으르렁 대  \n",
       "6  Careless careless Shoot anonymous anonymous  \n",
       "7         CHEER UP BABY CHEER UP BABY 좀 더 힘을 내  \n",
       "8                           이런 내 맘 모르고 너무해 너무해  \n",
       "9          빨간 맛 궁금해 Honey 깨물면 점점 녹아든 스트로베리 그 맛  "
      ]
     },
     "execution_count": 6,
     "metadata": {},
     "output_type": "execute_result"
    }
   ],
   "source": [
    "songs = pd.read_csv('songs.csv',  encoding='CP949')\n",
    "songs"
   ]
  },
  {
   "cell_type": "code",
   "execution_count": 48,
   "metadata": {},
   "outputs": [],
   "source": [
    "length = len(singers) -1\n",
    "for n in range(0,length, 1):\n",
    "    name = singers['name'][n]\n",
    "    num = singers['member_no'][n]\n",
    "    debut = singers['debut'][n]\n",
    "    company = singers['company'][n]\n",
    "    \n",
    "    sql = \"insert into group_info(group_name, member, date, company) \\\n",
    "        values(?,?,?,?)\"\n",
    "    cur.execute(sql,(name, int(num), debut, company))"
   ]
  },
  {
   "cell_type": "code",
   "execution_count": 49,
   "metadata": {},
   "outputs": [],
   "source": [
    "conn.commit()"
   ]
  },
  {
   "cell_type": "code",
   "execution_count": 61,
   "metadata": {},
   "outputs": [],
   "source": [
    "length = len(songs)\n",
    "for n in range(0,length, 1):\n",
    "    song = songs['song'][n]\n",
    "    gid = songs['gid'][n]\n",
    "    year = songs['year'][n]\n",
    "    composer = songs['composer'][n]\n",
    "    intro = songs['lyrics'][n]\n",
    "    \n",
    "    sql = \"insert into song_info(song_name, group_id, year, composer, intro) \\\n",
    "        values(?,?,?,?,?)\"\n",
    "    cur.execute(sql,(song, int(gid), int(year), composer, intro))"
   ]
  },
  {
   "cell_type": "code",
   "execution_count": 62,
   "metadata": {},
   "outputs": [],
   "source": [
    "conn.commit()"
   ]
  },
  {
   "cell_type": "code",
   "execution_count": 88,
   "metadata": {
    "scrolled": true
   },
   "outputs": [
    {
     "data": {
      "text/plain": [
       "['작은 것들을 위한 시',\n",
       " 'FAKE LOVE',\n",
       " '넌 is 뭔들',\n",
       " '음오아예 (Um Oh Ah Yeh)',\n",
       " 'HER',\n",
       " '으르렁',\n",
       " 'MAMA']"
      ]
     },
     "execution_count": 88,
     "metadata": {},
     "output_type": "execute_result"
    }
   ],
   "source": [
    "sql = 'select go.group_name, go.member, go.date, so.song_name, so.year from group_info as go\\\n",
    "       inner join song_info as so on go.id = so.group_id;'\n",
    "cur.execute(sql)\n",
    "group=[]\n",
    "mem = []\n",
    "de =[]\n",
    "song = []\n",
    "year = []\n",
    "for result in cur:\n",
    "    group.append(result[0])\n",
    "    mem.append(result[1])\n",
    "    de.append(result[2])\n",
    "    song.append(result[3])\n",
    "    year.append(result[4])\n",
    "\n",
    "song"
   ]
  },
  {
   "cell_type": "code",
   "execution_count": 89,
   "metadata": {},
   "outputs": [
    {
     "data": {
      "text/html": [
       "<div>\n",
       "<style scoped>\n",
       "    .dataframe tbody tr th:only-of-type {\n",
       "        vertical-align: middle;\n",
       "    }\n",
       "\n",
       "    .dataframe tbody tr th {\n",
       "        vertical-align: top;\n",
       "    }\n",
       "\n",
       "    .dataframe thead th {\n",
       "        text-align: right;\n",
       "    }\n",
       "</style>\n",
       "<table border=\"1\" class=\"dataframe\">\n",
       "  <thead>\n",
       "    <tr style=\"text-align: right;\">\n",
       "      <th></th>\n",
       "      <th>그룹명</th>\n",
       "      <th>멤버수</th>\n",
       "      <th>데뷔일</th>\n",
       "      <th>노래이름</th>\n",
       "      <th>발표년도</th>\n",
       "    </tr>\n",
       "  </thead>\n",
       "  <tbody>\n",
       "    <tr>\n",
       "      <th>0</th>\n",
       "      <td>방탄소년단</td>\n",
       "      <td>7</td>\n",
       "      <td>2013-06-13</td>\n",
       "      <td>작은 것들을 위한 시</td>\n",
       "      <td>2019</td>\n",
       "    </tr>\n",
       "    <tr>\n",
       "      <th>1</th>\n",
       "      <td>방탄소년단</td>\n",
       "      <td>7</td>\n",
       "      <td>2013-06-13</td>\n",
       "      <td>FAKE LOVE</td>\n",
       "      <td>2018</td>\n",
       "    </tr>\n",
       "    <tr>\n",
       "      <th>2</th>\n",
       "      <td>마마무</td>\n",
       "      <td>4</td>\n",
       "      <td>2014-06-19</td>\n",
       "      <td>넌 is 뭔들</td>\n",
       "      <td>2016</td>\n",
       "    </tr>\n",
       "    <tr>\n",
       "      <th>3</th>\n",
       "      <td>마마무</td>\n",
       "      <td>4</td>\n",
       "      <td>2014-06-19</td>\n",
       "      <td>음오아예 (Um Oh Ah Yeh)</td>\n",
       "      <td>2015</td>\n",
       "    </tr>\n",
       "    <tr>\n",
       "      <th>4</th>\n",
       "      <td>블락비</td>\n",
       "      <td>7</td>\n",
       "      <td>2011-04-15</td>\n",
       "      <td>HER</td>\n",
       "      <td>2014</td>\n",
       "    </tr>\n",
       "    <tr>\n",
       "      <th>5</th>\n",
       "      <td>엑소</td>\n",
       "      <td>9</td>\n",
       "      <td>2012-04-08</td>\n",
       "      <td>으르렁</td>\n",
       "      <td>2013</td>\n",
       "    </tr>\n",
       "    <tr>\n",
       "      <th>6</th>\n",
       "      <td>엑소</td>\n",
       "      <td>9</td>\n",
       "      <td>2012-04-08</td>\n",
       "      <td>MAMA</td>\n",
       "      <td>2012</td>\n",
       "    </tr>\n",
       "  </tbody>\n",
       "</table>\n",
       "</div>"
      ],
      "text/plain": [
       "     그룹명  멤버수         데뷔일                 노래이름  발표년도\n",
       "0  방탄소년단    7  2013-06-13          작은 것들을 위한 시  2019\n",
       "1  방탄소년단    7  2013-06-13            FAKE LOVE  2018\n",
       "2    마마무    4  2014-06-19              넌 is 뭔들  2016\n",
       "3    마마무    4  2014-06-19  음오아예 (Um Oh Ah Yeh)  2015\n",
       "4    블락비    7  2011-04-15                  HER  2014\n",
       "5     엑소    9  2012-04-08                  으르렁  2013\n",
       "6     엑소    9  2012-04-08                 MAMA  2012"
      ]
     },
     "execution_count": 89,
     "metadata": {},
     "output_type": "execute_result"
    }
   ],
   "source": [
    "df = pd.DataFrame({'그룹명':group, '멤버수':mem, '데뷔일':de,'노래이름':song, '발표년도':year})\n",
    "df"
   ]
  },
  {
   "cell_type": "code",
   "execution_count": 90,
   "metadata": {},
   "outputs": [],
   "source": [
    "conn.close()"
   ]
  },
  {
   "cell_type": "code",
   "execution_count": null,
   "metadata": {},
   "outputs": [],
   "source": []
  }
 ],
 "metadata": {
  "kernelspec": {
   "display_name": "Python 3",
   "language": "python",
   "name": "python3"
  },
  "language_info": {
   "codemirror_mode": {
    "name": "ipython",
    "version": 3
   },
   "file_extension": ".py",
   "mimetype": "text/x-python",
   "name": "python",
   "nbconvert_exporter": "python",
   "pygments_lexer": "ipython3",
   "version": "3.7.6"
  }
 },
 "nbformat": 4,
 "nbformat_minor": 4
}
