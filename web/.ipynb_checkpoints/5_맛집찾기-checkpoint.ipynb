{
 "cells": [
  {
   "cell_type": "code",
   "execution_count": 1,
   "metadata": {},
   "outputs": [],
   "source": [
    "import requests\n",
    "from bs4 import BeautifulSoup\n",
    "from urllib.request import urlopen\n",
    "import pandas as pd\n",
    "from urllib.parse import urljoin"
   ]
  },
  {
   "cell_type": "code",
   "execution_count": 2,
   "metadata": {},
   "outputs": [],
   "source": [
    "url = 'http://www.menupan.com/restaurant/search/search_main_sub_area.asp?page=1&areacode=dj202&trec=67'\n",
    "html = urlopen(url)\n",
    "soup = BeautifulSoup(html, 'html.parser')"
   ]
  },
  {
   "cell_type": "code",
   "execution_count": 12,
   "metadata": {},
   "outputs": [
    {
     "data": {
      "text/plain": [
       "1"
      ]
     },
     "execution_count": 12,
     "metadata": {},
     "output_type": "execute_result"
    }
   ],
   "source": [
    "uls = soup.find_all(class_='areaList')\n",
    "len(uls)"
   ]
  },
  {
   "cell_type": "code",
   "execution_count": 13,
   "metadata": {
    "scrolled": true
   },
   "outputs": [
    {
     "data": {
      "text/plain": [
       "<div class=\"ifo\">\n",
       "<dl>\n",
       "<dt><a href=\"/restaurant/onepage.asp?acode=B300004\" target=\"_blank\">라라랄라어은점</a><p class=\"btn\"><a class=\"detBtn\" href=\"/restaurant/onepage.asp?acode=B300004\" target=\"_blank\">자세히보기</a></p></dt>\n",
       "<dd class=\"rate\">\n",
       "<p class=\"point\"><span class=\"star\" style=\"width:83.125%\"></span><!-- ☆☆☆☆☆ //--></p>\n",
       "<p class=\"score\"><span class=\"total\">4.2</span><span class=\"line\">|</span><span class=\"count\">16명 참여</span></p>\n",
       "</dd>\n",
       "<dd>분식<span class=\"barr\">|</span> 대전 유성구 어은동 108-3</dd>\n",
       "<dd>(042)862-3838</dd>\n",
       "<dd class=\"ic\"><img alt=\"프리쿠폰\" class=\"ico_type\" src=\"/image/restaurant/bestrest/ic_coupon.gif\"/><span class=\"typeadd\">도도김밥 한줄 제공</span></dd>\n",
       "<dd class=\"comnt\"><a href=\"/restaurant/onepage.asp?acode=B300004\" target=\"_blank\">라라랄라의 모든 음식에는 원가절감을 위해, \n",
       "\n",
       "혹은 미각을 교란시켜 맛있는 척 하기 위해 사용하는 \n",
       "\n",
       "조미료 및 어떠한 화학첨가물도 들어가지 않는다. \n",
       "\n",
       "오로지 자연에서...</a></dd>\n",
       "</dl>\n",
       "</div>"
      ]
     },
     "execution_count": 13,
     "metadata": {},
     "output_type": "execute_result"
    }
   ],
   "source": [
    "lis = uls[0].find_all(class_='ifo')\n",
    "lis[0]"
   ]
  },
  {
   "cell_type": "code",
   "execution_count": 14,
   "metadata": {},
   "outputs": [
    {
     "data": {
      "text/plain": [
       "'라라랄라어은점'"
      ]
     },
     "execution_count": 14,
     "metadata": {},
     "output_type": "execute_result"
    }
   ],
   "source": [
    "li = lis[0]\n",
    "li.find('a').get_text()"
   ]
  },
  {
   "cell_type": "code",
   "execution_count": 15,
   "metadata": {},
   "outputs": [
    {
     "data": {
      "text/plain": [
       "'4.2'"
      ]
     },
     "execution_count": 15,
     "metadata": {},
     "output_type": "execute_result"
    }
   ],
   "source": [
    "li.find(class_='total').get_text()"
   ]
  },
  {
   "cell_type": "code",
   "execution_count": 19,
   "metadata": {},
   "outputs": [
    {
     "data": {
      "text/plain": [
       "[<dd class=\"rate\">\n",
       " <p class=\"point\"><span class=\"star\" style=\"width:83.125%\"></span><!-- ☆☆☆☆☆ //--></p>\n",
       " <p class=\"score\"><span class=\"total\">4.2</span><span class=\"line\">|</span><span class=\"count\">16명 참여</span></p>\n",
       " </dd>,\n",
       " <dd>분식<span class=\"barr\">|</span> 대전 유성구 어은동 108-3</dd>,\n",
       " <dd>(042)862-3838</dd>,\n",
       " <dd class=\"ic\"><img alt=\"프리쿠폰\" class=\"ico_type\" src=\"/image/restaurant/bestrest/ic_coupon.gif\"/><span class=\"typeadd\">도도김밥 한줄 제공</span></dd>,\n",
       " <dd class=\"comnt\"><a href=\"/restaurant/onepage.asp?acode=B300004\" target=\"_blank\">라라랄라의 모든 음식에는 원가절감을 위해, \n",
       " \n",
       " 혹은 미각을 교란시켜 맛있는 척 하기 위해 사용하는 \n",
       " \n",
       " 조미료 및 어떠한 화학첨가물도 들어가지 않는다. \n",
       " \n",
       " 오로지 자연에서...</a></dd>]"
      ]
     },
     "execution_count": 19,
     "metadata": {},
     "output_type": "execute_result"
    }
   ],
   "source": [
    "dds = li.find_all('dd')\n",
    "dds"
   ]
  },
  {
   "cell_type": "code",
   "execution_count": 20,
   "metadata": {},
   "outputs": [
    {
     "data": {
      "text/plain": [
       "'분식| 대전 유성구 어은동 108-3'"
      ]
     },
     "execution_count": 20,
     "metadata": {},
     "output_type": "execute_result"
    }
   ],
   "source": [
    "dds[1].get_text()"
   ]
  },
  {
   "cell_type": "code",
   "execution_count": 21,
   "metadata": {},
   "outputs": [
    {
     "data": {
      "text/plain": [
       "['분식', '대전 유성구 어은동 108-3']"
      ]
     },
     "execution_count": 21,
     "metadata": {},
     "output_type": "execute_result"
    }
   ],
   "source": [
    "\n",
    "tmp = dds[1].get_text()\n",
    "tmp.split('| ')"
   ]
  },
  {
   "cell_type": "code",
   "execution_count": 22,
   "metadata": {},
   "outputs": [
    {
     "data": {
      "text/plain": [
       "'분식'"
      ]
     },
     "execution_count": 22,
     "metadata": {},
     "output_type": "execute_result"
    }
   ],
   "source": [
    "tmp.split('| ')[0]"
   ]
  },
  {
   "cell_type": "code",
   "execution_count": 23,
   "metadata": {},
   "outputs": [
    {
     "data": {
      "text/plain": [
       "'대전 유성구 어은동 108-3'"
      ]
     },
     "execution_count": 23,
     "metadata": {},
     "output_type": "execute_result"
    }
   ],
   "source": [
    "tmp.split('| ')[1]"
   ]
  },
  {
   "cell_type": "code",
   "execution_count": 24,
   "metadata": {},
   "outputs": [
    {
     "data": {
      "text/plain": [
       "'(042)862-3838'"
      ]
     },
     "execution_count": 24,
     "metadata": {},
     "output_type": "execute_result"
    }
   ],
   "source": [
    "dds[2].get_text()"
   ]
  },
  {
   "cell_type": "code",
   "execution_count": 25,
   "metadata": {},
   "outputs": [],
   "source": [
    "name = []\n",
    "score = []\n",
    "category = []\n",
    "addr = []\n",
    "tel = []\n",
    "\n",
    "for li in lis:\n",
    "    name.append(li.find('a').get_text())\n",
    "    score.append(li.find(class_='total').get_text())\n",
    "    dds = li.find_all('dd')\n",
    "    tmp = dds[1].get_text()\n",
    "    category.append(tmp.split('| ')[0])\n",
    "    addr.append(tmp.split('| ')[1])\n",
    "    tel.append(dds[2].get_text())"
   ]
  },
  {
   "cell_type": "code",
   "execution_count": 26,
   "metadata": {},
   "outputs": [
    {
     "data": {
      "text/html": [
       "<div>\n",
       "<style scoped>\n",
       "    .dataframe tbody tr th:only-of-type {\n",
       "        vertical-align: middle;\n",
       "    }\n",
       "\n",
       "    .dataframe tbody tr th {\n",
       "        vertical-align: top;\n",
       "    }\n",
       "\n",
       "    .dataframe thead th {\n",
       "        text-align: right;\n",
       "    }\n",
       "</style>\n",
       "<table border=\"1\" class=\"dataframe\">\n",
       "  <thead>\n",
       "    <tr style=\"text-align: right;\">\n",
       "      <th></th>\n",
       "      <th>상호</th>\n",
       "      <th>별점</th>\n",
       "      <th>업종</th>\n",
       "      <th>주소</th>\n",
       "      <th>전화번호</th>\n",
       "    </tr>\n",
       "  </thead>\n",
       "  <tbody>\n",
       "    <tr>\n",
       "      <th>0</th>\n",
       "      <td>라라랄라어은점</td>\n",
       "      <td>4.2</td>\n",
       "      <td>분식</td>\n",
       "      <td>대전 유성구 어은동 108-3</td>\n",
       "      <td>(042)862-3838</td>\n",
       "    </tr>\n",
       "    <tr>\n",
       "      <th>1</th>\n",
       "      <td>리엔차이</td>\n",
       "      <td>3.8</td>\n",
       "      <td>중식</td>\n",
       "      <td>대전 유성구 죽동 627-1</td>\n",
       "      <td>(042)824-4499</td>\n",
       "    </tr>\n",
       "    <tr>\n",
       "      <th>2</th>\n",
       "      <td>메이드바이 더초콜릿</td>\n",
       "      <td>4.0</td>\n",
       "      <td>카페/주점</td>\n",
       "      <td>대전 유성구 궁동 419-2 1층</td>\n",
       "      <td>(042)823-7779</td>\n",
       "    </tr>\n",
       "    <tr>\n",
       "      <th>3</th>\n",
       "      <td>로아커피</td>\n",
       "      <td>4.0</td>\n",
       "      <td>카페/주점</td>\n",
       "      <td>대전 유성구 죽동 614-3</td>\n",
       "      <td>(042)826-7599</td>\n",
       "    </tr>\n",
       "    <tr>\n",
       "      <th>4</th>\n",
       "      <td>호텔리베라유성 카페엘루스</td>\n",
       "      <td>3.3</td>\n",
       "      <td>카페/주점</td>\n",
       "      <td>대전 유성구 봉명동 444-5</td>\n",
       "      <td>(042)828-4034</td>\n",
       "    </tr>\n",
       "    <tr>\n",
       "      <th>5</th>\n",
       "      <td>제이부페</td>\n",
       "      <td>3.4</td>\n",
       "      <td>뷔페</td>\n",
       "      <td>대전 유성구 봉명동 469-46 유성 자이아파트 상가 3층</td>\n",
       "      <td>(042)824-8833</td>\n",
       "    </tr>\n",
       "    <tr>\n",
       "      <th>6</th>\n",
       "      <td>피제리아614 죽동점</td>\n",
       "      <td>3.7</td>\n",
       "      <td>양식</td>\n",
       "      <td>대전 유성구 죽동 614-7</td>\n",
       "      <td>(042)826-6147</td>\n",
       "    </tr>\n",
       "    <tr>\n",
       "      <th>7</th>\n",
       "      <td>마들렌과자점</td>\n",
       "      <td>3.9</td>\n",
       "      <td>베이커리</td>\n",
       "      <td>대전 유성구 지족동 910-14</td>\n",
       "      <td>(042)476-1948</td>\n",
       "    </tr>\n",
       "    <tr>\n",
       "      <th>8</th>\n",
       "      <td>호텔리베라유성 델리샵</td>\n",
       "      <td>4.4</td>\n",
       "      <td>베이커리</td>\n",
       "      <td>대전 유성구 봉명동 444-5 리베라관광호텔</td>\n",
       "      <td>(042)828-4035</td>\n",
       "    </tr>\n",
       "    <tr>\n",
       "      <th>9</th>\n",
       "      <td>대사봉무쇠솥밥</td>\n",
       "      <td>3.1</td>\n",
       "      <td>한식</td>\n",
       "      <td>대전 유성구 갑동 327-9</td>\n",
       "      <td>(042)825-8803</td>\n",
       "    </tr>\n",
       "  </tbody>\n",
       "</table>\n",
       "</div>"
      ],
      "text/plain": [
       "              상호   별점     업종                                주소           전화번호\n",
       "0        라라랄라어은점  4.2     분식                  대전 유성구 어은동 108-3  (042)862-3838\n",
       "1           리엔차이  3.8     중식                   대전 유성구 죽동 627-1  (042)824-4499\n",
       "2     메이드바이 더초콜릿  4.0  카페/주점                대전 유성구 궁동 419-2 1층  (042)823-7779\n",
       "3           로아커피  4.0  카페/주점                   대전 유성구 죽동 614-3  (042)826-7599\n",
       "4  호텔리베라유성 카페엘루스  3.3  카페/주점                  대전 유성구 봉명동 444-5  (042)828-4034\n",
       "5           제이부페  3.4     뷔페  대전 유성구 봉명동 469-46 유성 자이아파트 상가 3층  (042)824-8833\n",
       "6    피제리아614 죽동점  3.7     양식                   대전 유성구 죽동 614-7  (042)826-6147\n",
       "7         마들렌과자점  3.9   베이커리                 대전 유성구 지족동 910-14  (042)476-1948\n",
       "8    호텔리베라유성 델리샵  4.4   베이커리          대전 유성구 봉명동 444-5 리베라관광호텔  (042)828-4035\n",
       "9        대사봉무쇠솥밥  3.1     한식                   대전 유성구 갑동 327-9  (042)825-8803"
      ]
     },
     "execution_count": 26,
     "metadata": {},
     "output_type": "execute_result"
    }
   ],
   "source": [
    "\n",
    "import pandas as pd\n",
    "df = pd.DataFrame({'상호':name,'별점':score,'업종':category,'주소':addr,'전화번호':tel})\n",
    "df"
   ]
  },
  {
   "cell_type": "code",
   "execution_count": 27,
   "metadata": {},
   "outputs": [],
   "source": [
    "url_front = 'http://www.menupan.com/restaurant/search/search_main_sub_area.asp?page='\n",
    "url_back = '&areacode=dj202&trec=67'\n",
    "name = []\n",
    "score = []\n",
    "category = []\n",
    "addr = []\n",
    "tel = []\n",
    "\n",
    "for page in range(1,4):\n",
    "    url = url_front + str(page) + url_back\n",
    "    html = urlopen(url)\n",
    "    soup = BeautifulSoup(html, 'html.parser')\n",
    "    \n",
    "    uls = soup.find_all(class_='areaList')\n",
    "    lis = uls[0].find_all(class_='ifo')\n",
    "\n",
    "    for li in lis:\n",
    "        name.append(li.find('a').get_text())\n",
    "        score.append(li.find(class_='total').get_text())\n",
    "        dds = li.find_all('dd')\n",
    "        tmp = dds[1].get_text()\n",
    "        category.append(tmp.split('| ')[0])\n",
    "        addr.append(tmp.split('| ')[1])\n",
    "        tel.append(dds[2].get_text())"
   ]
  },
  {
   "cell_type": "code",
   "execution_count": 28,
   "metadata": {},
   "outputs": [
    {
     "data": {
      "text/html": [
       "<div>\n",
       "<style scoped>\n",
       "    .dataframe tbody tr th:only-of-type {\n",
       "        vertical-align: middle;\n",
       "    }\n",
       "\n",
       "    .dataframe tbody tr th {\n",
       "        vertical-align: top;\n",
       "    }\n",
       "\n",
       "    .dataframe thead th {\n",
       "        text-align: right;\n",
       "    }\n",
       "</style>\n",
       "<table border=\"1\" class=\"dataframe\">\n",
       "  <thead>\n",
       "    <tr style=\"text-align: right;\">\n",
       "      <th></th>\n",
       "      <th>상호</th>\n",
       "      <th>별점</th>\n",
       "      <th>업종</th>\n",
       "      <th>주소</th>\n",
       "      <th>전화번호</th>\n",
       "    </tr>\n",
       "  </thead>\n",
       "  <tbody>\n",
       "    <tr>\n",
       "      <th>0</th>\n",
       "      <td>라라랄라어은점</td>\n",
       "      <td>4.2</td>\n",
       "      <td>분식</td>\n",
       "      <td>대전 유성구 어은동 108-3</td>\n",
       "      <td>(042)862-3838</td>\n",
       "    </tr>\n",
       "    <tr>\n",
       "      <th>1</th>\n",
       "      <td>리엔차이</td>\n",
       "      <td>3.8</td>\n",
       "      <td>중식</td>\n",
       "      <td>대전 유성구 죽동 627-1</td>\n",
       "      <td>(042)824-4499</td>\n",
       "    </tr>\n",
       "    <tr>\n",
       "      <th>2</th>\n",
       "      <td>메이드바이 더초콜릿</td>\n",
       "      <td>4.0</td>\n",
       "      <td>카페/주점</td>\n",
       "      <td>대전 유성구 궁동 419-2 1층</td>\n",
       "      <td>(042)823-7779</td>\n",
       "    </tr>\n",
       "    <tr>\n",
       "      <th>3</th>\n",
       "      <td>로아커피</td>\n",
       "      <td>4.0</td>\n",
       "      <td>카페/주점</td>\n",
       "      <td>대전 유성구 죽동 614-3</td>\n",
       "      <td>(042)826-7599</td>\n",
       "    </tr>\n",
       "    <tr>\n",
       "      <th>4</th>\n",
       "      <td>호텔리베라유성 카페엘루스</td>\n",
       "      <td>3.3</td>\n",
       "      <td>카페/주점</td>\n",
       "      <td>대전 유성구 봉명동 444-5</td>\n",
       "      <td>(042)828-4034</td>\n",
       "    </tr>\n",
       "    <tr>\n",
       "      <th>5</th>\n",
       "      <td>제이부페</td>\n",
       "      <td>3.4</td>\n",
       "      <td>뷔페</td>\n",
       "      <td>대전 유성구 봉명동 469-46 유성 자이아파트 상가 3층</td>\n",
       "      <td>(042)824-8833</td>\n",
       "    </tr>\n",
       "    <tr>\n",
       "      <th>6</th>\n",
       "      <td>피제리아614 죽동점</td>\n",
       "      <td>3.7</td>\n",
       "      <td>양식</td>\n",
       "      <td>대전 유성구 죽동 614-7</td>\n",
       "      <td>(042)826-6147</td>\n",
       "    </tr>\n",
       "    <tr>\n",
       "      <th>7</th>\n",
       "      <td>마들렌과자점</td>\n",
       "      <td>3.9</td>\n",
       "      <td>베이커리</td>\n",
       "      <td>대전 유성구 지족동 910-14</td>\n",
       "      <td>(042)476-1948</td>\n",
       "    </tr>\n",
       "    <tr>\n",
       "      <th>8</th>\n",
       "      <td>호텔리베라유성 델리샵</td>\n",
       "      <td>4.4</td>\n",
       "      <td>베이커리</td>\n",
       "      <td>대전 유성구 봉명동 444-5 리베라관광호텔</td>\n",
       "      <td>(042)828-4035</td>\n",
       "    </tr>\n",
       "    <tr>\n",
       "      <th>9</th>\n",
       "      <td>대사봉무쇠솥밥</td>\n",
       "      <td>3.1</td>\n",
       "      <td>한식</td>\n",
       "      <td>대전 유성구 갑동 327-9</td>\n",
       "      <td>(042)825-8803</td>\n",
       "    </tr>\n",
       "    <tr>\n",
       "      <th>10</th>\n",
       "      <td>임진강장어</td>\n",
       "      <td>3.7</td>\n",
       "      <td>한식</td>\n",
       "      <td>대전 유성구 봉명동 666-2</td>\n",
       "      <td>(042)825-9200</td>\n",
       "    </tr>\n",
       "    <tr>\n",
       "      <th>11</th>\n",
       "      <td>추억이 불타는 조개구이</td>\n",
       "      <td>3.8</td>\n",
       "      <td>한식</td>\n",
       "      <td>대전 유성구 어은동 104-14</td>\n",
       "      <td>(042)862-9294</td>\n",
       "    </tr>\n",
       "    <tr>\n",
       "      <th>12</th>\n",
       "      <td>백리향</td>\n",
       "      <td>3.4</td>\n",
       "      <td>중식</td>\n",
       "      <td>대전 유성구 전민동 466-3 4층</td>\n",
       "      <td>(042)861-1244</td>\n",
       "    </tr>\n",
       "    <tr>\n",
       "      <th>13</th>\n",
       "      <td>크래버대게나라 대전점</td>\n",
       "      <td>3.9</td>\n",
       "      <td>한식</td>\n",
       "      <td>대전 유성구 봉명동 615-1</td>\n",
       "      <td>(042)822-6022</td>\n",
       "    </tr>\n",
       "    <tr>\n",
       "      <th>14</th>\n",
       "      <td>오모리생바지락손칼국수</td>\n",
       "      <td>3.9</td>\n",
       "      <td>한식</td>\n",
       "      <td>대전 유성구 반석동 665-3</td>\n",
       "      <td>(042)825-9788</td>\n",
       "    </tr>\n",
       "    <tr>\n",
       "      <th>15</th>\n",
       "      <td>산밑할머니묵집</td>\n",
       "      <td>4.0</td>\n",
       "      <td>한식</td>\n",
       "      <td>대전 유성구 관평동 544-4</td>\n",
       "      <td>(042)935-2947</td>\n",
       "    </tr>\n",
       "    <tr>\n",
       "      <th>16</th>\n",
       "      <td>홍천식당</td>\n",
       "      <td>4.0</td>\n",
       "      <td>한식</td>\n",
       "      <td>대전 유성구 봉명동 448-14</td>\n",
       "      <td>(042)822-3175</td>\n",
       "    </tr>\n",
       "    <tr>\n",
       "      <th>17</th>\n",
       "      <td>무창포막회</td>\n",
       "      <td>3.9</td>\n",
       "      <td>한식</td>\n",
       "      <td>대전 유성구 봉명동 468-11</td>\n",
       "      <td>(042)825-7743</td>\n",
       "    </tr>\n",
       "    <tr>\n",
       "      <th>18</th>\n",
       "      <td>썸데이</td>\n",
       "      <td>3.7</td>\n",
       "      <td>한식</td>\n",
       "      <td>대전 유성구 봉명동 640-1</td>\n",
       "      <td>(042)825-9431</td>\n",
       "    </tr>\n",
       "    <tr>\n",
       "      <th>19</th>\n",
       "      <td>1152미정네</td>\n",
       "      <td>3.8</td>\n",
       "      <td>한식</td>\n",
       "      <td>대전 유성구 관평동 1152</td>\n",
       "      <td>(042)582-2800</td>\n",
       "    </tr>\n",
       "    <tr>\n",
       "      <th>20</th>\n",
       "      <td>60년대순대보리밥</td>\n",
       "      <td>3.6</td>\n",
       "      <td>한식</td>\n",
       "      <td>대전 유성구 갑동 399-20</td>\n",
       "      <td>(042)825-8250</td>\n",
       "    </tr>\n",
       "    <tr>\n",
       "      <th>21</th>\n",
       "      <td>장태기쌈밥</td>\n",
       "      <td>4.2</td>\n",
       "      <td>한식</td>\n",
       "      <td>대전 유성구 교촌동 624-5 1,2층</td>\n",
       "      <td>(042)541-8884</td>\n",
       "    </tr>\n",
       "    <tr>\n",
       "      <th>22</th>\n",
       "      <td>란스시</td>\n",
       "      <td>3.8</td>\n",
       "      <td>일식</td>\n",
       "      <td>대전 유성구 어은동 101</td>\n",
       "      <td>(042)861-4561</td>\n",
       "    </tr>\n",
       "    <tr>\n",
       "      <th>23</th>\n",
       "      <td>이치고</td>\n",
       "      <td>3.7</td>\n",
       "      <td>일식</td>\n",
       "      <td>대전 유성구 반석동 629-8</td>\n",
       "      <td>(042)825-0974</td>\n",
       "    </tr>\n",
       "    <tr>\n",
       "      <th>24</th>\n",
       "      <td>스바라시라멘</td>\n",
       "      <td>3.3</td>\n",
       "      <td>일식</td>\n",
       "      <td>대전 유성구 봉명동 611-1</td>\n",
       "      <td>(042)477-7909</td>\n",
       "    </tr>\n",
       "    <tr>\n",
       "      <th>25</th>\n",
       "      <td>스시노백쉐프 대전노은점</td>\n",
       "      <td>4.4</td>\n",
       "      <td>일식</td>\n",
       "      <td>대전 유성구 지족동 902-1</td>\n",
       "      <td>(042)825-6802</td>\n",
       "    </tr>\n",
       "    <tr>\n",
       "      <th>26</th>\n",
       "      <td>스시노백쉐프 세종나성점</td>\n",
       "      <td>5.0</td>\n",
       "      <td>일식</td>\n",
       "      <td>세종  나성동 424-3 에스빌딩 201호</td>\n",
       "      <td>(044)863-5802</td>\n",
       "    </tr>\n",
       "    <tr>\n",
       "      <th>27</th>\n",
       "      <td>와인아트 위</td>\n",
       "      <td>4.2</td>\n",
       "      <td>양식</td>\n",
       "      <td>대전 유성구 전민동 299-5</td>\n",
       "      <td>(042)863-4734</td>\n",
       "    </tr>\n",
       "    <tr>\n",
       "      <th>28</th>\n",
       "      <td>누오보나폴리</td>\n",
       "      <td>3.9</td>\n",
       "      <td>양식</td>\n",
       "      <td>대전 유성구 궁동 406-10 신협 3F</td>\n",
       "      <td>(042)322-9582</td>\n",
       "    </tr>\n",
       "    <tr>\n",
       "      <th>29</th>\n",
       "      <td>신흥파닭</td>\n",
       "      <td>4.2</td>\n",
       "      <td>기타/세계</td>\n",
       "      <td>세종  조치원읍 신흥리 48-2</td>\n",
       "      <td>(044)865-5616</td>\n",
       "    </tr>\n",
       "  </tbody>\n",
       "</table>\n",
       "</div>"
      ],
      "text/plain": [
       "               상호   별점     업종                                주소           전화번호\n",
       "0         라라랄라어은점  4.2     분식                  대전 유성구 어은동 108-3  (042)862-3838\n",
       "1            리엔차이  3.8     중식                   대전 유성구 죽동 627-1  (042)824-4499\n",
       "2      메이드바이 더초콜릿  4.0  카페/주점                대전 유성구 궁동 419-2 1층  (042)823-7779\n",
       "3            로아커피  4.0  카페/주점                   대전 유성구 죽동 614-3  (042)826-7599\n",
       "4   호텔리베라유성 카페엘루스  3.3  카페/주점                  대전 유성구 봉명동 444-5  (042)828-4034\n",
       "5            제이부페  3.4     뷔페  대전 유성구 봉명동 469-46 유성 자이아파트 상가 3층  (042)824-8833\n",
       "6     피제리아614 죽동점  3.7     양식                   대전 유성구 죽동 614-7  (042)826-6147\n",
       "7          마들렌과자점  3.9   베이커리                 대전 유성구 지족동 910-14  (042)476-1948\n",
       "8     호텔리베라유성 델리샵  4.4   베이커리          대전 유성구 봉명동 444-5 리베라관광호텔  (042)828-4035\n",
       "9         대사봉무쇠솥밥  3.1     한식                   대전 유성구 갑동 327-9  (042)825-8803\n",
       "10          임진강장어  3.7     한식                  대전 유성구 봉명동 666-2  (042)825-9200\n",
       "11   추억이 불타는 조개구이  3.8     한식                 대전 유성구 어은동 104-14  (042)862-9294\n",
       "12            백리향  3.4     중식               대전 유성구 전민동 466-3 4층  (042)861-1244\n",
       "13    크래버대게나라 대전점  3.9     한식                  대전 유성구 봉명동 615-1  (042)822-6022\n",
       "14    오모리생바지락손칼국수  3.9     한식                  대전 유성구 반석동 665-3  (042)825-9788\n",
       "15        산밑할머니묵집  4.0     한식                  대전 유성구 관평동 544-4  (042)935-2947\n",
       "16           홍천식당  4.0     한식                 대전 유성구 봉명동 448-14  (042)822-3175\n",
       "17          무창포막회  3.9     한식                 대전 유성구 봉명동 468-11  (042)825-7743\n",
       "18            썸데이  3.7     한식                  대전 유성구 봉명동 640-1  (042)825-9431\n",
       "19        1152미정네  3.8     한식                   대전 유성구 관평동 1152  (042)582-2800\n",
       "20      60년대순대보리밥  3.6     한식                  대전 유성구 갑동 399-20  (042)825-8250\n",
       "21          장태기쌈밥  4.2     한식             대전 유성구 교촌동 624-5 1,2층  (042)541-8884\n",
       "22            란스시  3.8     일식                    대전 유성구 어은동 101  (042)861-4561\n",
       "23            이치고  3.7     일식                  대전 유성구 반석동 629-8  (042)825-0974\n",
       "24         스바라시라멘  3.3     일식                  대전 유성구 봉명동 611-1  (042)477-7909\n",
       "25   스시노백쉐프 대전노은점  4.4     일식                  대전 유성구 지족동 902-1  (042)825-6802\n",
       "26   스시노백쉐프 세종나성점  5.0     일식           세종  나성동 424-3 에스빌딩 201호  (044)863-5802\n",
       "27         와인아트 위  4.2     양식                  대전 유성구 전민동 299-5  (042)863-4734\n",
       "28         누오보나폴리  3.9     양식            대전 유성구 궁동 406-10 신협 3F  (042)322-9582\n",
       "29           신흥파닭  4.2  기타/세계                 세종  조치원읍 신흥리 48-2  (044)865-5616"
      ]
     },
     "execution_count": 28,
     "metadata": {},
     "output_type": "execute_result"
    }
   ],
   "source": [
    "df = pd.DataFrame({'상호':name,'별점':score,'업종':category,'주소':addr,'전화번호':tel})\n",
    "df"
   ]
  },
  {
   "cell_type": "code",
   "execution_count": 29,
   "metadata": {},
   "outputs": [
    {
     "data": {
      "text/plain": [
       "30"
      ]
     },
     "execution_count": 29,
     "metadata": {},
     "output_type": "execute_result"
    }
   ],
   "source": [
    "len(df)"
   ]
  },
  {
   "cell_type": "code",
   "execution_count": null,
   "metadata": {},
   "outputs": [],
   "source": []
  }
 ],
 "metadata": {
  "kernelspec": {
   "display_name": "Python 3",
   "language": "python",
   "name": "python3"
  },
  "language_info": {
   "codemirror_mode": {
    "name": "ipython",
    "version": 3
   },
   "file_extension": ".py",
   "mimetype": "text/x-python",
   "name": "python",
   "nbconvert_exporter": "python",
   "pygments_lexer": "ipython3",
   "version": "3.7.6"
  }
 },
 "nbformat": 4,
 "nbformat_minor": 4
}
