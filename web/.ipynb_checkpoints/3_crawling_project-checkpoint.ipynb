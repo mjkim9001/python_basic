{
 "cells": [
  {
   "cell_type": "markdown",
   "metadata": {},
   "source": [
    "# 시카고 샌드위치 맛집 분석"
   ]
  },
  {
   "cell_type": "markdown",
   "metadata": {},
   "source": [
    "## 1. 시카고 샌드위치 맛집 사이트에 접근하기"
   ]
  },
  {
   "cell_type": "code",
   "execution_count": 84,
   "metadata": {},
   "outputs": [],
   "source": [
    "import requests\n",
    "from bs4 import BeautifulSoup\n",
    "from urllib.request import urlopen"
   ]
  },
  {
   "cell_type": "code",
   "execution_count": 85,
   "metadata": {},
   "outputs": [],
   "source": [
    "url_base=\"https://www.chicagomag.com\"\n",
    "url_sub =\"/Chicago-Magazine/November-2012/Best-Sandwiches-Chicago/\"\n",
    "url = url_base + url_sub\n",
    "\n",
    "html = urlopen(url)\n",
    "soup = BeautifulSoup(html, 'html.parser')\n"
   ]
  },
  {
   "cell_type": "code",
   "execution_count": 86,
   "metadata": {
    "scrolled": true
   },
   "outputs": [
    {
     "data": {
      "text/plain": [
       "<div class=\"sammy\" style=\"position: relative;\">\n",
       "<div class=\"sammyRank\">1</div>\n",
       "<div class=\"sammyListing\"><a href=\"/Chicago-Magazine/November-2012/Best-Sandwiches-in-Chicago-Old-Oak-Tap-BLT/\"><b>BLT</b><br>\n",
       "Old Oak Tap<br>\n",
       "<em>Read more</em> </br></br></a></div>\n",
       "</div>"
      ]
     },
     "execution_count": 86,
     "metadata": {},
     "output_type": "execute_result"
    }
   ],
   "source": [
    "rest_list = soup.find_all(class_='sammy')\n",
    "rest_list[0]"
   ]
  },
  {
   "cell_type": "code",
   "execution_count": 87,
   "metadata": {},
   "outputs": [
    {
     "data": {
      "text/plain": [
       "50"
      ]
     },
     "execution_count": 87,
     "metadata": {},
     "output_type": "execute_result"
    }
   ],
   "source": [
    "len(rest_list)"
   ]
  },
  {
   "cell_type": "code",
   "execution_count": 88,
   "metadata": {},
   "outputs": [
    {
     "data": {
      "text/plain": [
       "[<a href=\"/Chicago-Magazine/November-2012/Best-Sandwiches-in-Chicago-Old-Oak-Tap-BLT/\"><b>BLT</b><br>\n",
       " Old Oak Tap<br>\n",
       " <em>Read more</em> </br></br></a>]"
      ]
     },
     "execution_count": 88,
     "metadata": {},
     "output_type": "execute_result"
    }
   ],
   "source": [
    "a = rest_list[0].find_all('a')\n",
    "a"
   ]
  },
  {
   "cell_type": "markdown",
   "metadata": {},
   "source": [
    "## 2. 접근한 웹 페이지에서 원하는 데이터 추출하고 정리하기"
   ]
  },
  {
   "cell_type": "code",
   "execution_count": 89,
   "metadata": {},
   "outputs": [
    {
     "data": {
      "text/plain": [
       "'1'"
      ]
     },
     "execution_count": 89,
     "metadata": {},
     "output_type": "execute_result"
    }
   ],
   "source": [
    "tmp_one = rest_list[0]\n",
    "tmp_one.find(class_='sammyRank').get_text()"
   ]
  },
  {
   "cell_type": "code",
   "execution_count": 90,
   "metadata": {},
   "outputs": [
    {
     "data": {
      "text/plain": [
       "'BLT\\r\\nOld Oak Tap\\nRead more '"
      ]
     },
     "execution_count": 90,
     "metadata": {},
     "output_type": "execute_result"
    }
   ],
   "source": [
    "tmp_one.find(class_='sammyListing').get_text()"
   ]
  },
  {
   "cell_type": "code",
   "execution_count": 91,
   "metadata": {},
   "outputs": [
    {
     "data": {
      "text/plain": [
       "'/Chicago-Magazine/November-2012/Best-Sandwiches-in-Chicago-Old-Oak-Tap-BLT/'"
      ]
     },
     "execution_count": 91,
     "metadata": {},
     "output_type": "execute_result"
    }
   ],
   "source": [
    "tmp_one.find('a')['href']"
   ]
  },
  {
   "cell_type": "code",
   "execution_count": 92,
   "metadata": {},
   "outputs": [
    {
     "data": {
      "text/plain": [
       "['BLT\\r', 'Old Oak Tap', 'Read more ']"
      ]
     },
     "execution_count": 92,
     "metadata": {},
     "output_type": "execute_result"
    }
   ],
   "source": [
    "tmp_str=tmp_one.find(class_='sammyListing').get_text()\n",
    "tmp_str.split('\\n')"
   ]
  },
  {
   "cell_type": "code",
   "execution_count": 93,
   "metadata": {},
   "outputs": [
    {
     "name": "stdout",
     "output_type": "stream",
     "text": [
      "BLT Old Oak Tap\n"
     ]
    }
   ],
   "source": [
    "tmp_res = tmp_str.split('\\n')\n",
    "menu = tmp_res[0].replace('\\r','')\n",
    "cafe = tmp_res[1]\n",
    "print(menu, cafe)"
   ]
  },
  {
   "cell_type": "code",
   "execution_count": 94,
   "metadata": {},
   "outputs": [],
   "source": [
    "import re"
   ]
  },
  {
   "cell_type": "code",
   "execution_count": 95,
   "metadata": {},
   "outputs": [
    {
     "data": {
      "text/plain": [
       "['BLT', 'Old Oak Tap', 'Read more ']"
      ]
     },
     "execution_count": 95,
     "metadata": {},
     "output_type": "execute_result"
    }
   ],
   "source": [
    "re.split(('\\n|\\r\\n'), tmp_str)"
   ]
  },
  {
   "cell_type": "code",
   "execution_count": 96,
   "metadata": {
    "scrolled": true
   },
   "outputs": [
    {
     "name": "stdout",
     "output_type": "stream",
     "text": [
      "BLT Old Oak Tap\n"
     ]
    }
   ],
   "source": [
    "print(re.split(('\\n|\\r\\n'), tmp_str)[0], re.split(('\\n|\\r\\n'), tmp_str)[1])"
   ]
  },
  {
   "cell_type": "code",
   "execution_count": 97,
   "metadata": {},
   "outputs": [],
   "source": [
    "from urllib.parse import urljoin"
   ]
  },
  {
   "cell_type": "code",
   "execution_count": 175,
   "metadata": {},
   "outputs": [
    {
     "data": {
      "text/plain": [
       "50"
      ]
     },
     "execution_count": 175,
     "metadata": {},
     "output_type": "execute_result"
    }
   ],
   "source": [
    "## 데이터 프레임 만들기 전에 항목 데이터 구하기\n",
    "\n",
    "rank =[]\n",
    "main_menu = [] \n",
    "cafe_name = []\n",
    "url_add =[]\n",
    "count=0\n",
    "for rest in rest_list:\n",
    "    rank.append(int(rest.find(class_=\"sammyRank\").get_text()))\n",
    "    tmp_str = rest.find(class_='sammyListing').get_text()\n",
    "    main_menu.append(re.split(('\\n|\\r\\n'), tmp_str)[0])\n",
    "    cafe_name.append(re.split(('\\n|\\r\\n'), tmp_str)[1])\n",
    "    url_add.append(urljoin(url_base, rest.find('a')['href']))\n",
    "    count+=1\n",
    "count"
   ]
  },
  {
   "cell_type": "code",
   "execution_count": 99,
   "metadata": {
    "scrolled": true
   },
   "outputs": [
    {
     "name": "stdout",
     "output_type": "stream",
     "text": [
      "['BLT', 'Fried Bologna', 'Woodland Mushroom', 'Roast Beef', 'PB&L']\n"
     ]
    }
   ],
   "source": [
    "print(main_menu[:5])"
   ]
  },
  {
   "cell_type": "code",
   "execution_count": 100,
   "metadata": {},
   "outputs": [
    {
     "name": "stdout",
     "output_type": "stream",
     "text": [
      "['Old Oak Tap', 'Au Cheval', 'Xoco', 'Al’s Deli', 'Publican Quality Meats']\n"
     ]
    }
   ],
   "source": [
    "print(cafe_name[:5])"
   ]
  },
  {
   "cell_type": "code",
   "execution_count": 101,
   "metadata": {},
   "outputs": [
    {
     "name": "stdout",
     "output_type": "stream",
     "text": [
      "['http://www.chicagomag.com/Chicago-Magazine/November-2012/Best-Sandwiches-in-Chicago-Chickpea-Kufta/', 'http://www.chicagomag.com/Chicago-Magazine/November-2012/Best-Sandwiches-in-Chicago-The-Goddess-and-Grocer-Debbies-Egg-Salad/', 'http://www.chicagomag.com/Chicago-Magazine/November-2012/Best-Sandwiches-in-Chicago-Zenwich-Beef-Curry/', 'http://www.chicagomag.com/Chicago-Magazine/November-2012/Best-Sandwiches-in-Chicago-Toni-Patisserie-Le-Vegetarien/', 'http://www.chicagomag.com/Chicago-Magazine/November-2012/Best-Sandwiches-in-Chicago-Phoebes-Bakery-The-Gatsby/']\n"
     ]
    }
   ],
   "source": [
    "print(url_add[-5:])"
   ]
  },
  {
   "cell_type": "code",
   "execution_count": 102,
   "metadata": {},
   "outputs": [
    {
     "data": {
      "text/html": [
       "<div>\n",
       "<style scoped>\n",
       "    .dataframe tbody tr th:only-of-type {\n",
       "        vertical-align: middle;\n",
       "    }\n",
       "\n",
       "    .dataframe tbody tr th {\n",
       "        vertical-align: top;\n",
       "    }\n",
       "\n",
       "    .dataframe thead th {\n",
       "        text-align: right;\n",
       "    }\n",
       "</style>\n",
       "<table border=\"1\" class=\"dataframe\">\n",
       "  <thead>\n",
       "    <tr style=\"text-align: right;\">\n",
       "      <th></th>\n",
       "      <th>rank</th>\n",
       "      <th>cafe</th>\n",
       "      <th>menu</th>\n",
       "      <th>url</th>\n",
       "    </tr>\n",
       "  </thead>\n",
       "  <tbody>\n",
       "    <tr>\n",
       "      <th>0</th>\n",
       "      <td>1</td>\n",
       "      <td>Old Oak Tap</td>\n",
       "      <td>BLT</td>\n",
       "      <td>https://www.chicagomag.com/Chicago-Magazine/No...</td>\n",
       "    </tr>\n",
       "    <tr>\n",
       "      <th>1</th>\n",
       "      <td>2</td>\n",
       "      <td>Au Cheval</td>\n",
       "      <td>Fried Bologna</td>\n",
       "      <td>https://www.chicagomag.com/Chicago-Magazine/No...</td>\n",
       "    </tr>\n",
       "    <tr>\n",
       "      <th>2</th>\n",
       "      <td>3</td>\n",
       "      <td>Xoco</td>\n",
       "      <td>Woodland Mushroom</td>\n",
       "      <td>https://www.chicagomag.com/Chicago-Magazine/No...</td>\n",
       "    </tr>\n",
       "    <tr>\n",
       "      <th>3</th>\n",
       "      <td>4</td>\n",
       "      <td>Al’s Deli</td>\n",
       "      <td>Roast Beef</td>\n",
       "      <td>https://www.chicagomag.com/Chicago-Magazine/No...</td>\n",
       "    </tr>\n",
       "    <tr>\n",
       "      <th>4</th>\n",
       "      <td>5</td>\n",
       "      <td>Publican Quality Meats</td>\n",
       "      <td>PB&amp;L</td>\n",
       "      <td>https://www.chicagomag.com/Chicago-Magazine/No...</td>\n",
       "    </tr>\n",
       "  </tbody>\n",
       "</table>\n",
       "</div>"
      ],
      "text/plain": [
       "   rank                    cafe               menu  \\\n",
       "0     1             Old Oak Tap                BLT   \n",
       "1     2               Au Cheval      Fried Bologna   \n",
       "2     3                    Xoco  Woodland Mushroom   \n",
       "3     4               Al’s Deli         Roast Beef   \n",
       "4     5  Publican Quality Meats               PB&L   \n",
       "\n",
       "                                                 url  \n",
       "0  https://www.chicagomag.com/Chicago-Magazine/No...  \n",
       "1  https://www.chicagomag.com/Chicago-Magazine/No...  \n",
       "2  https://www.chicagomag.com/Chicago-Magazine/No...  \n",
       "3  https://www.chicagomag.com/Chicago-Magazine/No...  \n",
       "4  https://www.chicagomag.com/Chicago-Magazine/No...  "
      ]
     },
     "execution_count": 102,
     "metadata": {},
     "output_type": "execute_result"
    }
   ],
   "source": [
    "import pandas as pd\n",
    "df = pd.DataFrame({'rank':rank, 'cafe':cafe_name,'menu':main_menu, 'url':url_add})\n",
    "df.head()"
   ]
  },
  {
   "cell_type": "code",
   "execution_count": 103,
   "metadata": {},
   "outputs": [],
   "source": [
    "#데이터 프레임 csv로 저장\n",
    "df.to_csv('chicago1.csv',sep=',', encoding='utf-8')"
   ]
  },
  {
   "cell_type": "markdown",
   "metadata": {},
   "source": [
    "## 3. 다수의 웹 페이지에 자동으로 접근해서원하는 정보 가져오기"
   ]
  },
  {
   "cell_type": "code",
   "execution_count": 104,
   "metadata": {},
   "outputs": [
    {
     "data": {
      "text/plain": [
       "'https://www.chicagomag.com/Chicago-Magazine/November-2012/Best-Sandwiches-in-Chicago-Old-Oak-Tap-BLT/'"
      ]
     },
     "execution_count": 104,
     "metadata": {},
     "output_type": "execute_result"
    }
   ],
   "source": [
    "df['url'][0]"
   ]
  },
  {
   "cell_type": "code",
   "execution_count": 105,
   "metadata": {},
   "outputs": [],
   "source": [
    "url_sub = tmp_one.find('a')['href']"
   ]
  },
  {
   "cell_type": "code",
   "execution_count": 106,
   "metadata": {},
   "outputs": [
    {
     "data": {
      "text/plain": [
       "'/Chicago-Magazine/November-2012/Best-Sandwiches-in-Chicago-Old-Oak-Tap-BLT/'"
      ]
     },
     "execution_count": 106,
     "metadata": {},
     "output_type": "execute_result"
    }
   ],
   "source": [
    "url_sub"
   ]
  },
  {
   "cell_type": "code",
   "execution_count": 125,
   "metadata": {},
   "outputs": [],
   "source": [
    "html = urlopen(df['url'][0])\n",
    "soup = BeautifulSoup(html, 'html.parser')"
   ]
  },
  {
   "cell_type": "code",
   "execution_count": 126,
   "metadata": {},
   "outputs": [
    {
     "data": {
      "text/plain": [
       "'\\n$10. 2109 W. Chicago Ave., 773-772-0406, theoldoaktap.com'"
      ]
     },
     "execution_count": 126,
     "metadata": {},
     "output_type": "execute_result"
    }
   ],
   "source": [
    "info_list = soup.find(class_='addy').get_text()\n",
    "info_list"
   ]
  },
  {
   "cell_type": "code",
   "execution_count": 127,
   "metadata": {},
   "outputs": [
    {
     "data": {
      "text/plain": [
       "['$10.', '2109', 'W.', 'Chicago', 'Ave.,', '773-772-0406,', 'theoldoaktap.com']"
      ]
     },
     "execution_count": 127,
     "metadata": {},
     "output_type": "execute_result"
    }
   ],
   "source": [
    "info_list.split()"
   ]
  },
  {
   "cell_type": "code",
   "execution_count": 128,
   "metadata": {},
   "outputs": [
    {
     "data": {
      "text/plain": [
       "'$10'"
      ]
     },
     "execution_count": 128,
     "metadata": {},
     "output_type": "execute_result"
    }
   ],
   "source": [
    "tmp_price = info_list.split()[0][:-1] #마지막 글자 .을 제외한([:-1])\n",
    "tmp_price"
   ]
  },
  {
   "cell_type": "code",
   "execution_count": 129,
   "metadata": {},
   "outputs": [
    {
     "data": {
      "text/plain": [
       "['2109', 'W.', 'Chicago', 'Ave.,']"
      ]
     },
     "execution_count": 129,
     "metadata": {},
     "output_type": "execute_result"
    }
   ],
   "source": [
    "info_list.split()[1:-2]\n",
    "\n",
    "# -2 전까지 가져와라 라고 하면 된다*****  그 뒤에 정보 두개는 전화번호와 url"
   ]
  },
  {
   "cell_type": "code",
   "execution_count": 130,
   "metadata": {},
   "outputs": [
    {
     "data": {
      "text/plain": [
       "'2109 W. Chicago Ave.,'"
      ]
     },
     "execution_count": 130,
     "metadata": {},
     "output_type": "execute_result"
    }
   ],
   "source": [
    "' '.join(info_list.split()[1:-2])\n",
    "#여러개의 리스트가 하나의 스트링으로 합쳐지는 것*****"
   ]
  },
  {
   "cell_type": "code",
   "execution_count": 131,
   "metadata": {},
   "outputs": [],
   "source": [
    "tmp_addr = ' '.join(info_list.split()[1:-2])[:-1]\n",
    "#조각내진 주소를 하나의 스트링으로 합쳐지고 마지막에 있는 , 가지 없애기"
   ]
  },
  {
   "cell_type": "code",
   "execution_count": 136,
   "metadata": {},
   "outputs": [
    {
     "ename": "IndexError",
     "evalue": "list index out of range",
     "output_type": "error",
     "traceback": [
      "\u001b[1;31m---------------------------------------------------------------------------\u001b[0m",
      "\u001b[1;31mIndexError\u001b[0m                                Traceback (most recent call last)",
      "\u001b[1;32m<ipython-input-136-722211b5b925>\u001b[0m in \u001b[0;36m<module>\u001b[1;34m\u001b[0m\n\u001b[0;32m      3\u001b[0m \u001b[1;33m\u001b[0m\u001b[0m\n\u001b[0;32m      4\u001b[0m \u001b[1;32mfor\u001b[0m \u001b[0mrest\u001b[0m \u001b[1;32min\u001b[0m \u001b[0minfo_list\u001b[0m\u001b[1;33m:\u001b[0m\u001b[1;33m\u001b[0m\u001b[1;33m\u001b[0m\u001b[0m\n\u001b[1;32m----> 5\u001b[1;33m     \u001b[0mprice\u001b[0m\u001b[1;33m.\u001b[0m\u001b[0mappend\u001b[0m\u001b[1;33m(\u001b[0m\u001b[0mrest\u001b[0m\u001b[1;33m.\u001b[0m\u001b[0msplit\u001b[0m\u001b[1;33m(\u001b[0m\u001b[1;33m)\u001b[0m\u001b[1;33m[\u001b[0m\u001b[1;36m0\u001b[0m\u001b[1;33m]\u001b[0m\u001b[1;33m[\u001b[0m\u001b[1;33m:\u001b[0m\u001b[1;33m-\u001b[0m\u001b[1;36m1\u001b[0m\u001b[1;33m]\u001b[0m\u001b[1;33m)\u001b[0m\u001b[1;33m\u001b[0m\u001b[1;33m\u001b[0m\u001b[0m\n\u001b[0m\u001b[0;32m      6\u001b[0m     \u001b[0maddress\u001b[0m\u001b[1;33m.\u001b[0m\u001b[0mappend\u001b[0m\u001b[1;33m(\u001b[0m\u001b[1;34m' '\u001b[0m\u001b[1;33m.\u001b[0m\u001b[0mjoin\u001b[0m\u001b[1;33m(\u001b[0m\u001b[0mrest\u001b[0m\u001b[1;33m.\u001b[0m\u001b[0msplit\u001b[0m\u001b[1;33m(\u001b[0m\u001b[1;33m)\u001b[0m\u001b[1;33m[\u001b[0m\u001b[1;36m1\u001b[0m\u001b[1;33m:\u001b[0m\u001b[1;33m-\u001b[0m\u001b[1;36m2\u001b[0m\u001b[1;33m]\u001b[0m\u001b[1;33m[\u001b[0m\u001b[1;33m:\u001b[0m\u001b[1;33m-\u001b[0m\u001b[1;36m1\u001b[0m\u001b[1;33m]\u001b[0m\u001b[1;33m)\u001b[0m\u001b[1;33m)\u001b[0m\u001b[1;33m\u001b[0m\u001b[1;33m\u001b[0m\u001b[0m\n",
      "\u001b[1;31mIndexError\u001b[0m: list index out of range"
     ]
    }
   ],
   "source": [
    "\n",
    "address = [] \n",
    "price = []\n",
    "\n",
    "for rest in info_list:\n",
    "    price.append(rest.split()[0][:-1])\n",
    "    address.append(' '.join(rest.split()[1:-2][:-1]))"
   ]
  },
  {
   "cell_type": "markdown",
   "metadata": {},
   "source": [
    "## - 상태 진행비 적용"
   ]
  },
  {
   "cell_type": "code",
   "execution_count": 39,
   "metadata": {},
   "outputs": [],
   "source": [
    "from tqdm import tqdm_notebook\n",
    "import time"
   ]
  },
  {
   "cell_type": "code",
   "execution_count": 40,
   "metadata": {},
   "outputs": [
    {
     "name": "stderr",
     "output_type": "stream",
     "text": [
      "C:\\ProgramData\\Anaconda3\\lib\\site-packages\\ipykernel_launcher.py:3: TqdmDeprecationWarning: This function will be removed in tqdm==5.0.0\n",
      "Please use `tqdm.notebook.tqdm` instead of `tqdm.tqdm_notebook`\n",
      "  This is separate from the ipykernel package so we can avoid doing imports until\n"
     ]
    },
    {
     "data": {
      "application/vnd.jupyter.widget-view+json": {
       "model_id": "cb39b9d256234c27837db0762d8f3768",
       "version_major": 2,
       "version_minor": 0
      },
      "text/plain": [
       "HBox(children=(FloatProgress(value=0.0, max=50.0), HTML(value='')))"
      ]
     },
     "metadata": {},
     "output_type": "display_data"
    },
    {
     "name": "stdout",
     "output_type": "stream",
     "text": [
      "\n"
     ]
    }
   ],
   "source": [
    "price = []\n",
    "addr = []\n",
    "for n in tqdm_notebook(df.index):\n",
    "    html = urlopen(df['url'][n])\n",
    "    soup_tmp = BeautifulSoup(html, 'html.parser')\n",
    "    tmp_str = soup_tmp.find(class_='addy').get_text()\n",
    "    \n",
    "    price.append(tmp_str.split()[0][:-1])\n",
    "    addr.append(' '.join(tmp_str.split()[1:-2][:-1]))"
   ]
  },
  {
   "cell_type": "code",
   "execution_count": 133,
   "metadata": {},
   "outputs": [],
   "source": [
    "del df['url']"
   ]
  },
  {
   "cell_type": "code",
   "execution_count": 134,
   "metadata": {},
   "outputs": [
    {
     "ename": "ValueError",
     "evalue": "Length of values does not match length of index",
     "output_type": "error",
     "traceback": [
      "\u001b[1;31m---------------------------------------------------------------------------\u001b[0m",
      "\u001b[1;31mValueError\u001b[0m                                Traceback (most recent call last)",
      "\u001b[1;32m<ipython-input-134-05b66f147279>\u001b[0m in \u001b[0;36m<module>\u001b[1;34m\u001b[0m\n\u001b[1;32m----> 1\u001b[1;33m \u001b[0mdf\u001b[0m\u001b[1;33m[\u001b[0m\u001b[1;34m'price'\u001b[0m\u001b[1;33m]\u001b[0m \u001b[1;33m=\u001b[0m \u001b[0mprice\u001b[0m\u001b[1;33m\u001b[0m\u001b[1;33m\u001b[0m\u001b[0m\n\u001b[0m",
      "\u001b[1;32mC:\\ProgramData\\Anaconda3\\lib\\site-packages\\pandas\\core\\frame.py\u001b[0m in \u001b[0;36m__setitem__\u001b[1;34m(self, key, value)\u001b[0m\n\u001b[0;32m   2936\u001b[0m         \u001b[1;32melse\u001b[0m\u001b[1;33m:\u001b[0m\u001b[1;33m\u001b[0m\u001b[1;33m\u001b[0m\u001b[0m\n\u001b[0;32m   2937\u001b[0m             \u001b[1;31m# set column\u001b[0m\u001b[1;33m\u001b[0m\u001b[1;33m\u001b[0m\u001b[1;33m\u001b[0m\u001b[0m\n\u001b[1;32m-> 2938\u001b[1;33m             \u001b[0mself\u001b[0m\u001b[1;33m.\u001b[0m\u001b[0m_set_item\u001b[0m\u001b[1;33m(\u001b[0m\u001b[0mkey\u001b[0m\u001b[1;33m,\u001b[0m \u001b[0mvalue\u001b[0m\u001b[1;33m)\u001b[0m\u001b[1;33m\u001b[0m\u001b[1;33m\u001b[0m\u001b[0m\n\u001b[0m\u001b[0;32m   2939\u001b[0m \u001b[1;33m\u001b[0m\u001b[0m\n\u001b[0;32m   2940\u001b[0m     \u001b[1;32mdef\u001b[0m \u001b[0m_setitem_slice\u001b[0m\u001b[1;33m(\u001b[0m\u001b[0mself\u001b[0m\u001b[1;33m,\u001b[0m \u001b[0mkey\u001b[0m\u001b[1;33m,\u001b[0m \u001b[0mvalue\u001b[0m\u001b[1;33m)\u001b[0m\u001b[1;33m:\u001b[0m\u001b[1;33m\u001b[0m\u001b[1;33m\u001b[0m\u001b[0m\n",
      "\u001b[1;32mC:\\ProgramData\\Anaconda3\\lib\\site-packages\\pandas\\core\\frame.py\u001b[0m in \u001b[0;36m_set_item\u001b[1;34m(self, key, value)\u001b[0m\n\u001b[0;32m   2998\u001b[0m \u001b[1;33m\u001b[0m\u001b[0m\n\u001b[0;32m   2999\u001b[0m         \u001b[0mself\u001b[0m\u001b[1;33m.\u001b[0m\u001b[0m_ensure_valid_index\u001b[0m\u001b[1;33m(\u001b[0m\u001b[0mvalue\u001b[0m\u001b[1;33m)\u001b[0m\u001b[1;33m\u001b[0m\u001b[1;33m\u001b[0m\u001b[0m\n\u001b[1;32m-> 3000\u001b[1;33m         \u001b[0mvalue\u001b[0m \u001b[1;33m=\u001b[0m \u001b[0mself\u001b[0m\u001b[1;33m.\u001b[0m\u001b[0m_sanitize_column\u001b[0m\u001b[1;33m(\u001b[0m\u001b[0mkey\u001b[0m\u001b[1;33m,\u001b[0m \u001b[0mvalue\u001b[0m\u001b[1;33m)\u001b[0m\u001b[1;33m\u001b[0m\u001b[1;33m\u001b[0m\u001b[0m\n\u001b[0m\u001b[0;32m   3001\u001b[0m         \u001b[0mNDFrame\u001b[0m\u001b[1;33m.\u001b[0m\u001b[0m_set_item\u001b[0m\u001b[1;33m(\u001b[0m\u001b[0mself\u001b[0m\u001b[1;33m,\u001b[0m \u001b[0mkey\u001b[0m\u001b[1;33m,\u001b[0m \u001b[0mvalue\u001b[0m\u001b[1;33m)\u001b[0m\u001b[1;33m\u001b[0m\u001b[1;33m\u001b[0m\u001b[0m\n\u001b[0;32m   3002\u001b[0m \u001b[1;33m\u001b[0m\u001b[0m\n",
      "\u001b[1;32mC:\\ProgramData\\Anaconda3\\lib\\site-packages\\pandas\\core\\frame.py\u001b[0m in \u001b[0;36m_sanitize_column\u001b[1;34m(self, key, value, broadcast)\u001b[0m\n\u001b[0;32m   3634\u001b[0m \u001b[1;33m\u001b[0m\u001b[0m\n\u001b[0;32m   3635\u001b[0m             \u001b[1;31m# turn me into an ndarray\u001b[0m\u001b[1;33m\u001b[0m\u001b[1;33m\u001b[0m\u001b[1;33m\u001b[0m\u001b[0m\n\u001b[1;32m-> 3636\u001b[1;33m             \u001b[0mvalue\u001b[0m \u001b[1;33m=\u001b[0m \u001b[0msanitize_index\u001b[0m\u001b[1;33m(\u001b[0m\u001b[0mvalue\u001b[0m\u001b[1;33m,\u001b[0m \u001b[0mself\u001b[0m\u001b[1;33m.\u001b[0m\u001b[0mindex\u001b[0m\u001b[1;33m,\u001b[0m \u001b[0mcopy\u001b[0m\u001b[1;33m=\u001b[0m\u001b[1;32mFalse\u001b[0m\u001b[1;33m)\u001b[0m\u001b[1;33m\u001b[0m\u001b[1;33m\u001b[0m\u001b[0m\n\u001b[0m\u001b[0;32m   3637\u001b[0m             \u001b[1;32mif\u001b[0m \u001b[1;32mnot\u001b[0m \u001b[0misinstance\u001b[0m\u001b[1;33m(\u001b[0m\u001b[0mvalue\u001b[0m\u001b[1;33m,\u001b[0m \u001b[1;33m(\u001b[0m\u001b[0mnp\u001b[0m\u001b[1;33m.\u001b[0m\u001b[0mndarray\u001b[0m\u001b[1;33m,\u001b[0m \u001b[0mIndex\u001b[0m\u001b[1;33m)\u001b[0m\u001b[1;33m)\u001b[0m\u001b[1;33m:\u001b[0m\u001b[1;33m\u001b[0m\u001b[1;33m\u001b[0m\u001b[0m\n\u001b[0;32m   3638\u001b[0m                 \u001b[1;32mif\u001b[0m \u001b[0misinstance\u001b[0m\u001b[1;33m(\u001b[0m\u001b[0mvalue\u001b[0m\u001b[1;33m,\u001b[0m \u001b[0mlist\u001b[0m\u001b[1;33m)\u001b[0m \u001b[1;32mand\u001b[0m \u001b[0mlen\u001b[0m\u001b[1;33m(\u001b[0m\u001b[0mvalue\u001b[0m\u001b[1;33m)\u001b[0m \u001b[1;33m>\u001b[0m \u001b[1;36m0\u001b[0m\u001b[1;33m:\u001b[0m\u001b[1;33m\u001b[0m\u001b[1;33m\u001b[0m\u001b[0m\n",
      "\u001b[1;32mC:\\ProgramData\\Anaconda3\\lib\\site-packages\\pandas\\core\\internals\\construction.py\u001b[0m in \u001b[0;36msanitize_index\u001b[1;34m(data, index, copy)\u001b[0m\n\u001b[0;32m    609\u001b[0m \u001b[1;33m\u001b[0m\u001b[0m\n\u001b[0;32m    610\u001b[0m     \u001b[1;32mif\u001b[0m \u001b[0mlen\u001b[0m\u001b[1;33m(\u001b[0m\u001b[0mdata\u001b[0m\u001b[1;33m)\u001b[0m \u001b[1;33m!=\u001b[0m \u001b[0mlen\u001b[0m\u001b[1;33m(\u001b[0m\u001b[0mindex\u001b[0m\u001b[1;33m)\u001b[0m\u001b[1;33m:\u001b[0m\u001b[1;33m\u001b[0m\u001b[1;33m\u001b[0m\u001b[0m\n\u001b[1;32m--> 611\u001b[1;33m         \u001b[1;32mraise\u001b[0m \u001b[0mValueError\u001b[0m\u001b[1;33m(\u001b[0m\u001b[1;34m\"Length of values does not match length of index\"\u001b[0m\u001b[1;33m)\u001b[0m\u001b[1;33m\u001b[0m\u001b[1;33m\u001b[0m\u001b[0m\n\u001b[0m\u001b[0;32m    612\u001b[0m \u001b[1;33m\u001b[0m\u001b[0m\n\u001b[0;32m    613\u001b[0m     \u001b[1;32mif\u001b[0m \u001b[0misinstance\u001b[0m\u001b[1;33m(\u001b[0m\u001b[0mdata\u001b[0m\u001b[1;33m,\u001b[0m \u001b[0mABCIndexClass\u001b[0m\u001b[1;33m)\u001b[0m \u001b[1;32mand\u001b[0m \u001b[1;32mnot\u001b[0m \u001b[0mcopy\u001b[0m\u001b[1;33m:\u001b[0m\u001b[1;33m\u001b[0m\u001b[1;33m\u001b[0m\u001b[0m\n",
      "\u001b[1;31mValueError\u001b[0m: Length of values does not match length of index"
     ]
    }
   ],
   "source": [
    "df['price'] = price"
   ]
  },
  {
   "cell_type": "code",
   "execution_count": 137,
   "metadata": {},
   "outputs": [],
   "source": [
    "df['address'] = addr"
   ]
  },
  {
   "cell_type": "code",
   "execution_count": 138,
   "metadata": {},
   "outputs": [],
   "source": [
    "df.to_csv('chicago2.csv',sep=',', encoding='utf-8')"
   ]
  },
  {
   "cell_type": "code",
   "execution_count": 139,
   "metadata": {},
   "outputs": [
    {
     "data": {
      "text/html": [
       "<div>\n",
       "<style scoped>\n",
       "    .dataframe tbody tr th:only-of-type {\n",
       "        vertical-align: middle;\n",
       "    }\n",
       "\n",
       "    .dataframe tbody tr th {\n",
       "        vertical-align: top;\n",
       "    }\n",
       "\n",
       "    .dataframe thead th {\n",
       "        text-align: right;\n",
       "    }\n",
       "</style>\n",
       "<table border=\"1\" class=\"dataframe\">\n",
       "  <thead>\n",
       "    <tr style=\"text-align: right;\">\n",
       "      <th></th>\n",
       "      <th>rank</th>\n",
       "      <th>cafe</th>\n",
       "      <th>menu</th>\n",
       "      <th>address</th>\n",
       "    </tr>\n",
       "  </thead>\n",
       "  <tbody>\n",
       "    <tr>\n",
       "      <th>0</th>\n",
       "      <td>1</td>\n",
       "      <td>Old Oak Tap</td>\n",
       "      <td>BLT</td>\n",
       "      <td>2109 W. Chicago</td>\n",
       "    </tr>\n",
       "    <tr>\n",
       "      <th>1</th>\n",
       "      <td>2</td>\n",
       "      <td>Au Cheval</td>\n",
       "      <td>Fried Bologna</td>\n",
       "      <td>800 W. Randolph</td>\n",
       "    </tr>\n",
       "    <tr>\n",
       "      <th>2</th>\n",
       "      <td>3</td>\n",
       "      <td>Xoco</td>\n",
       "      <td>Woodland Mushroom</td>\n",
       "      <td>445 N. Clark</td>\n",
       "    </tr>\n",
       "    <tr>\n",
       "      <th>3</th>\n",
       "      <td>4</td>\n",
       "      <td>Al’s Deli</td>\n",
       "      <td>Roast Beef</td>\n",
       "      <td>914 Noyes St.,</td>\n",
       "    </tr>\n",
       "    <tr>\n",
       "      <th>4</th>\n",
       "      <td>5</td>\n",
       "      <td>Publican Quality Meats</td>\n",
       "      <td>PB&amp;L</td>\n",
       "      <td>825 W. Fulton</td>\n",
       "    </tr>\n",
       "    <tr>\n",
       "      <th>5</th>\n",
       "      <td>6</td>\n",
       "      <td>Hendrickx Belgian Bread Crafter</td>\n",
       "      <td>Belgian Chicken Curry Salad</td>\n",
       "      <td>100 E.</td>\n",
       "    </tr>\n",
       "    <tr>\n",
       "      <th>6</th>\n",
       "      <td>7</td>\n",
       "      <td>Acadia</td>\n",
       "      <td>Lobster Roll</td>\n",
       "      <td>1639 S. Wabash</td>\n",
       "    </tr>\n",
       "    <tr>\n",
       "      <th>7</th>\n",
       "      <td>8</td>\n",
       "      <td>Birchwood Kitchen</td>\n",
       "      <td>Smoked Salmon Salad</td>\n",
       "      <td>2211 W. North</td>\n",
       "    </tr>\n",
       "    <tr>\n",
       "      <th>8</th>\n",
       "      <td>9</td>\n",
       "      <td>Cemitas Puebla</td>\n",
       "      <td>Atomica Cemitas</td>\n",
       "      <td>3619 W. North</td>\n",
       "    </tr>\n",
       "    <tr>\n",
       "      <th>9</th>\n",
       "      <td>10</td>\n",
       "      <td>Nana</td>\n",
       "      <td>Grilled Laughing Bird Shrimp and Fried Po’ Boy</td>\n",
       "      <td>3267 S. Halsted</td>\n",
       "    </tr>\n",
       "    <tr>\n",
       "      <th>10</th>\n",
       "      <td>11</td>\n",
       "      <td>Lula Cafe</td>\n",
       "      <td>Ham and Raclette Panino</td>\n",
       "      <td>2537 N. Kedzie</td>\n",
       "    </tr>\n",
       "    <tr>\n",
       "      <th>11</th>\n",
       "      <td>12</td>\n",
       "      <td>Ricobene’s</td>\n",
       "      <td>Breaded Steak</td>\n",
       "      <td></td>\n",
       "    </tr>\n",
       "    <tr>\n",
       "      <th>12</th>\n",
       "      <td>13</td>\n",
       "      <td>Frog n Snail</td>\n",
       "      <td>The Hawkeye</td>\n",
       "      <td>3124 N.</td>\n",
       "    </tr>\n",
       "    <tr>\n",
       "      <th>13</th>\n",
       "      <td>14</td>\n",
       "      <td>Crosby’s Kitchen</td>\n",
       "      <td>Chicken Dip</td>\n",
       "      <td>3455 N. Southport</td>\n",
       "    </tr>\n",
       "    <tr>\n",
       "      <th>14</th>\n",
       "      <td>15</td>\n",
       "      <td>Longman &amp; Eagle</td>\n",
       "      <td>Wild Boar Sloppy Joe</td>\n",
       "      <td>2657 N. Kedzie</td>\n",
       "    </tr>\n",
       "    <tr>\n",
       "      <th>15</th>\n",
       "      <td>16</td>\n",
       "      <td>Bari</td>\n",
       "      <td>Meatball Sub</td>\n",
       "      <td>1120 W. Grand</td>\n",
       "    </tr>\n",
       "    <tr>\n",
       "      <th>16</th>\n",
       "      <td>17</td>\n",
       "      <td>Manny’s</td>\n",
       "      <td>Corned Beef</td>\n",
       "      <td>1141 S. Jefferson</td>\n",
       "    </tr>\n",
       "    <tr>\n",
       "      <th>17</th>\n",
       "      <td>18</td>\n",
       "      <td>Eggy’s</td>\n",
       "      <td>Turkey Club</td>\n",
       "      <td>333 E. Benton</td>\n",
       "    </tr>\n",
       "    <tr>\n",
       "      <th>18</th>\n",
       "      <td>19</td>\n",
       "      <td>Old Jerusalem</td>\n",
       "      <td>Falafel</td>\n",
       "      <td>1411 N. Wells</td>\n",
       "    </tr>\n",
       "    <tr>\n",
       "      <th>19</th>\n",
       "      <td>20</td>\n",
       "      <td>Mindy’s HotChocolate</td>\n",
       "      <td>Crab Cake</td>\n",
       "      <td>1747 N. Damen</td>\n",
       "    </tr>\n",
       "    <tr>\n",
       "      <th>20</th>\n",
       "      <td>21</td>\n",
       "      <td>Olga’s Delicatessen</td>\n",
       "      <td>Chicken Schnitzel</td>\n",
       "      <td>3209 W. Irving</td>\n",
       "    </tr>\n",
       "    <tr>\n",
       "      <th>21</th>\n",
       "      <td>22</td>\n",
       "      <td>Dawali Mediterranean Kitchen</td>\n",
       "      <td>Shawarma</td>\n",
       "      <td></td>\n",
       "    </tr>\n",
       "    <tr>\n",
       "      <th>22</th>\n",
       "      <td>23</td>\n",
       "      <td>Big Jones</td>\n",
       "      <td>Toasted Pimiento Cheese</td>\n",
       "      <td>5347 N. Clark</td>\n",
       "    </tr>\n",
       "    <tr>\n",
       "      <th>23</th>\n",
       "      <td>24</td>\n",
       "      <td>La Pane</td>\n",
       "      <td>Vegetarian Panino</td>\n",
       "      <td>2954 W. Irving Park</td>\n",
       "    </tr>\n",
       "    <tr>\n",
       "      <th>24</th>\n",
       "      <td>25</td>\n",
       "      <td>Pastoral</td>\n",
       "      <td>Cali Chèvre</td>\n",
       "      <td></td>\n",
       "    </tr>\n",
       "    <tr>\n",
       "      <th>25</th>\n",
       "      <td>26</td>\n",
       "      <td>Max’s Deli</td>\n",
       "      <td>Pastrami</td>\n",
       "      <td>191 Skokie Valley Rd., Highland</td>\n",
       "    </tr>\n",
       "    <tr>\n",
       "      <th>26</th>\n",
       "      <td>27</td>\n",
       "      <td>Lucky’s Sandwich Co.</td>\n",
       "      <td>The Fredo</td>\n",
       "      <td></td>\n",
       "    </tr>\n",
       "    <tr>\n",
       "      <th>27</th>\n",
       "      <td>28</td>\n",
       "      <td>City Provisions</td>\n",
       "      <td>Smoked Ham</td>\n",
       "      <td>1818 W. Wilson</td>\n",
       "    </tr>\n",
       "    <tr>\n",
       "      <th>28</th>\n",
       "      <td>29</td>\n",
       "      <td>Papa’s Cache Sabroso</td>\n",
       "      <td>Jibarito</td>\n",
       "      <td>2517 W. Division</td>\n",
       "    </tr>\n",
       "    <tr>\n",
       "      <th>29</th>\n",
       "      <td>30</td>\n",
       "      <td>Bavette’s Bar &amp; Boeuf</td>\n",
       "      <td>Shaved Prime Rib</td>\n",
       "      <td>218 W.</td>\n",
       "    </tr>\n",
       "    <tr>\n",
       "      <th>30</th>\n",
       "      <td>31</td>\n",
       "      <td>Hannah’s Bretzel</td>\n",
       "      <td>Serrano Ham and Manchego Cheese</td>\n",
       "      <td></td>\n",
       "    </tr>\n",
       "    <tr>\n",
       "      <th>31</th>\n",
       "      <td>32</td>\n",
       "      <td>La Fournette</td>\n",
       "      <td>Tuna Salad</td>\n",
       "      <td>1547 N. Wells</td>\n",
       "    </tr>\n",
       "    <tr>\n",
       "      <th>32</th>\n",
       "      <td>33</td>\n",
       "      <td>Paramount Room</td>\n",
       "      <td>Paramount Reuben</td>\n",
       "      <td>415 N. Milwaukee</td>\n",
       "    </tr>\n",
       "    <tr>\n",
       "      <th>33</th>\n",
       "      <td>34</td>\n",
       "      <td>Melt Sandwich Shoppe</td>\n",
       "      <td>The Istanbul</td>\n",
       "      <td>1840 N. Damen</td>\n",
       "    </tr>\n",
       "    <tr>\n",
       "      <th>34</th>\n",
       "      <td>35</td>\n",
       "      <td>Floriole Cafe &amp; Bakery</td>\n",
       "      <td>B.A.D.</td>\n",
       "      <td>1220 W. Webster</td>\n",
       "    </tr>\n",
       "    <tr>\n",
       "      <th>35</th>\n",
       "      <td>36</td>\n",
       "      <td>First Slice Pie Café</td>\n",
       "      <td>Duck Confit and Mozzarella</td>\n",
       "      <td>5357 N. Ashland</td>\n",
       "    </tr>\n",
       "    <tr>\n",
       "      <th>36</th>\n",
       "      <td>37</td>\n",
       "      <td>Troquet</td>\n",
       "      <td>Croque Monsieur</td>\n",
       "      <td>1834 W. Montrose</td>\n",
       "    </tr>\n",
       "    <tr>\n",
       "      <th>37</th>\n",
       "      <td>38</td>\n",
       "      <td>Grahamwich</td>\n",
       "      <td>Green Garbanzo</td>\n",
       "      <td>615 N. State</td>\n",
       "    </tr>\n",
       "    <tr>\n",
       "      <th>38</th>\n",
       "      <td>39</td>\n",
       "      <td>Saigon Sisters</td>\n",
       "      <td>The Hen House</td>\n",
       "      <td></td>\n",
       "    </tr>\n",
       "    <tr>\n",
       "      <th>39</th>\n",
       "      <td>40</td>\n",
       "      <td>Rosalia’s Deli</td>\n",
       "      <td>Tuscan Chicken</td>\n",
       "      <td>241 N. York Rd.,</td>\n",
       "    </tr>\n",
       "    <tr>\n",
       "      <th>40</th>\n",
       "      <td>41</td>\n",
       "      <td>Z&amp;H MarketCafe</td>\n",
       "      <td>The Marty</td>\n",
       "      <td>1323 E. 57th</td>\n",
       "    </tr>\n",
       "    <tr>\n",
       "      <th>41</th>\n",
       "      <td>42</td>\n",
       "      <td>Market House on the Square</td>\n",
       "      <td>Whitefish</td>\n",
       "      <td>655 Forest Ave., Lake</td>\n",
       "    </tr>\n",
       "    <tr>\n",
       "      <th>42</th>\n",
       "      <td>43</td>\n",
       "      <td>Elaine’s Coffee Call</td>\n",
       "      <td>Oat Bread, Pecan Butter, and Fruit Jam</td>\n",
       "      <td>Hotel Lincoln, 1816 N. Clark</td>\n",
       "    </tr>\n",
       "    <tr>\n",
       "      <th>43</th>\n",
       "      <td>44</td>\n",
       "      <td>Marion Street Cheese Market</td>\n",
       "      <td>Cauliflower Melt</td>\n",
       "      <td>100 S. Marion St., Oak</td>\n",
       "    </tr>\n",
       "    <tr>\n",
       "      <th>44</th>\n",
       "      <td>45</td>\n",
       "      <td>Cafecito</td>\n",
       "      <td>Cubana</td>\n",
       "      <td>26 E. Congress</td>\n",
       "    </tr>\n",
       "    <tr>\n",
       "      <th>45</th>\n",
       "      <td>46</td>\n",
       "      <td>Chickpea</td>\n",
       "      <td>Kufta</td>\n",
       "      <td>2018 W. Chicago</td>\n",
       "    </tr>\n",
       "    <tr>\n",
       "      <th>46</th>\n",
       "      <td>47</td>\n",
       "      <td>The Goddess and Grocer</td>\n",
       "      <td>Debbie’s Egg Salad</td>\n",
       "      <td>25 E. Delaware</td>\n",
       "    </tr>\n",
       "    <tr>\n",
       "      <th>47</th>\n",
       "      <td>48</td>\n",
       "      <td>Zenwich</td>\n",
       "      <td>Beef Curry</td>\n",
       "      <td>416 N. York St.,</td>\n",
       "    </tr>\n",
       "    <tr>\n",
       "      <th>48</th>\n",
       "      <td>49</td>\n",
       "      <td>Toni Patisserie</td>\n",
       "      <td>Le Végétarien</td>\n",
       "      <td>65 E. Washington</td>\n",
       "    </tr>\n",
       "    <tr>\n",
       "      <th>49</th>\n",
       "      <td>50</td>\n",
       "      <td>Phoebe’s Bakery</td>\n",
       "      <td>The Gatsby</td>\n",
       "      <td>3351 N.</td>\n",
       "    </tr>\n",
       "  </tbody>\n",
       "</table>\n",
       "</div>"
      ],
      "text/plain": [
       "    rank                             cafe  \\\n",
       "0      1                      Old Oak Tap   \n",
       "1      2                        Au Cheval   \n",
       "2      3                             Xoco   \n",
       "3      4                        Al’s Deli   \n",
       "4      5           Publican Quality Meats   \n",
       "5      6  Hendrickx Belgian Bread Crafter   \n",
       "6      7                           Acadia   \n",
       "7      8                Birchwood Kitchen   \n",
       "8      9                   Cemitas Puebla   \n",
       "9     10                             Nana   \n",
       "10    11                        Lula Cafe   \n",
       "11    12                       Ricobene’s   \n",
       "12    13                     Frog n Snail   \n",
       "13    14                 Crosby’s Kitchen   \n",
       "14    15                  Longman & Eagle   \n",
       "15    16                             Bari   \n",
       "16    17                          Manny’s   \n",
       "17    18                           Eggy’s   \n",
       "18    19                    Old Jerusalem   \n",
       "19    20             Mindy’s HotChocolate   \n",
       "20    21              Olga’s Delicatessen   \n",
       "21    22     Dawali Mediterranean Kitchen   \n",
       "22    23                        Big Jones   \n",
       "23    24                          La Pane   \n",
       "24    25                         Pastoral   \n",
       "25    26                       Max’s Deli   \n",
       "26    27             Lucky’s Sandwich Co.   \n",
       "27    28                  City Provisions   \n",
       "28    29             Papa’s Cache Sabroso   \n",
       "29    30            Bavette’s Bar & Boeuf   \n",
       "30    31                 Hannah’s Bretzel   \n",
       "31    32                     La Fournette   \n",
       "32    33                   Paramount Room   \n",
       "33    34             Melt Sandwich Shoppe   \n",
       "34    35           Floriole Cafe & Bakery   \n",
       "35    36             First Slice Pie Café   \n",
       "36    37                          Troquet   \n",
       "37    38                       Grahamwich   \n",
       "38    39                   Saigon Sisters   \n",
       "39    40                   Rosalia’s Deli   \n",
       "40    41                   Z&H MarketCafe   \n",
       "41    42       Market House on the Square   \n",
       "42    43             Elaine’s Coffee Call   \n",
       "43    44      Marion Street Cheese Market   \n",
       "44    45                         Cafecito   \n",
       "45    46                         Chickpea   \n",
       "46    47           The Goddess and Grocer   \n",
       "47    48                          Zenwich   \n",
       "48    49                  Toni Patisserie   \n",
       "49    50                  Phoebe’s Bakery   \n",
       "\n",
       "                                              menu  \\\n",
       "0                                              BLT   \n",
       "1                                    Fried Bologna   \n",
       "2                                Woodland Mushroom   \n",
       "3                                       Roast Beef   \n",
       "4                                             PB&L   \n",
       "5                      Belgian Chicken Curry Salad   \n",
       "6                                     Lobster Roll   \n",
       "7                              Smoked Salmon Salad   \n",
       "8                                  Atomica Cemitas   \n",
       "9   Grilled Laughing Bird Shrimp and Fried Po’ Boy   \n",
       "10                         Ham and Raclette Panino   \n",
       "11                                   Breaded Steak   \n",
       "12                                     The Hawkeye   \n",
       "13                                     Chicken Dip   \n",
       "14                            Wild Boar Sloppy Joe   \n",
       "15                                    Meatball Sub   \n",
       "16                                     Corned Beef   \n",
       "17                                     Turkey Club   \n",
       "18                                         Falafel   \n",
       "19                                       Crab Cake   \n",
       "20                               Chicken Schnitzel   \n",
       "21                                        Shawarma   \n",
       "22                         Toasted Pimiento Cheese   \n",
       "23                               Vegetarian Panino   \n",
       "24                                     Cali Chèvre   \n",
       "25                                        Pastrami   \n",
       "26                                       The Fredo   \n",
       "27                                      Smoked Ham   \n",
       "28                                        Jibarito   \n",
       "29                                Shaved Prime Rib   \n",
       "30                 Serrano Ham and Manchego Cheese   \n",
       "31                                      Tuna Salad   \n",
       "32                                Paramount Reuben   \n",
       "33                                    The Istanbul   \n",
       "34                                          B.A.D.   \n",
       "35                      Duck Confit and Mozzarella   \n",
       "36                                 Croque Monsieur   \n",
       "37                                  Green Garbanzo   \n",
       "38                                   The Hen House   \n",
       "39                                  Tuscan Chicken   \n",
       "40                                      The Marty    \n",
       "41                                       Whitefish   \n",
       "42          Oat Bread, Pecan Butter, and Fruit Jam   \n",
       "43                                Cauliflower Melt   \n",
       "44                                          Cubana   \n",
       "45                                           Kufta   \n",
       "46                              Debbie’s Egg Salad   \n",
       "47                                      Beef Curry   \n",
       "48                                   Le Végétarien   \n",
       "49                                      The Gatsby   \n",
       "\n",
       "                            address  \n",
       "0                   2109 W. Chicago  \n",
       "1                   800 W. Randolph  \n",
       "2                      445 N. Clark  \n",
       "3                    914 Noyes St.,  \n",
       "4                     825 W. Fulton  \n",
       "5                            100 E.  \n",
       "6                    1639 S. Wabash  \n",
       "7                     2211 W. North  \n",
       "8                     3619 W. North  \n",
       "9                   3267 S. Halsted  \n",
       "10                   2537 N. Kedzie  \n",
       "11                                   \n",
       "12                          3124 N.  \n",
       "13                3455 N. Southport  \n",
       "14                   2657 N. Kedzie  \n",
       "15                    1120 W. Grand  \n",
       "16                1141 S. Jefferson  \n",
       "17                    333 E. Benton  \n",
       "18                    1411 N. Wells  \n",
       "19                    1747 N. Damen  \n",
       "20                   3209 W. Irving  \n",
       "21                                   \n",
       "22                    5347 N. Clark  \n",
       "23              2954 W. Irving Park  \n",
       "24                                   \n",
       "25  191 Skokie Valley Rd., Highland  \n",
       "26                                   \n",
       "27                   1818 W. Wilson  \n",
       "28                 2517 W. Division  \n",
       "29                           218 W.  \n",
       "30                                   \n",
       "31                    1547 N. Wells  \n",
       "32                 415 N. Milwaukee  \n",
       "33                    1840 N. Damen  \n",
       "34                  1220 W. Webster  \n",
       "35                  5357 N. Ashland  \n",
       "36                 1834 W. Montrose  \n",
       "37                     615 N. State  \n",
       "38                                   \n",
       "39                 241 N. York Rd.,  \n",
       "40                     1323 E. 57th  \n",
       "41            655 Forest Ave., Lake  \n",
       "42     Hotel Lincoln, 1816 N. Clark  \n",
       "43           100 S. Marion St., Oak  \n",
       "44                   26 E. Congress  \n",
       "45                  2018 W. Chicago  \n",
       "46                   25 E. Delaware  \n",
       "47                 416 N. York St.,  \n",
       "48                 65 E. Washington  \n",
       "49                          3351 N.  "
      ]
     },
     "execution_count": 139,
     "metadata": {},
     "output_type": "execute_result"
    }
   ],
   "source": [
    "df"
   ]
  },
  {
   "cell_type": "code",
   "execution_count": 140,
   "metadata": {},
   "outputs": [
    {
     "data": {
      "text/html": [
       "<div>\n",
       "<style scoped>\n",
       "    .dataframe tbody tr th:only-of-type {\n",
       "        vertical-align: middle;\n",
       "    }\n",
       "\n",
       "    .dataframe tbody tr th {\n",
       "        vertical-align: top;\n",
       "    }\n",
       "\n",
       "    .dataframe thead th {\n",
       "        text-align: right;\n",
       "    }\n",
       "</style>\n",
       "<table border=\"1\" class=\"dataframe\">\n",
       "  <thead>\n",
       "    <tr style=\"text-align: right;\">\n",
       "      <th></th>\n",
       "      <th>cafe</th>\n",
       "      <th>menu</th>\n",
       "      <th>address</th>\n",
       "    </tr>\n",
       "    <tr>\n",
       "      <th>rank</th>\n",
       "      <th></th>\n",
       "      <th></th>\n",
       "      <th></th>\n",
       "    </tr>\n",
       "  </thead>\n",
       "  <tbody>\n",
       "    <tr>\n",
       "      <th>1</th>\n",
       "      <td>Old Oak Tap</td>\n",
       "      <td>BLT</td>\n",
       "      <td>2109 W. Chicago</td>\n",
       "    </tr>\n",
       "    <tr>\n",
       "      <th>2</th>\n",
       "      <td>Au Cheval</td>\n",
       "      <td>Fried Bologna</td>\n",
       "      <td>800 W. Randolph</td>\n",
       "    </tr>\n",
       "    <tr>\n",
       "      <th>3</th>\n",
       "      <td>Xoco</td>\n",
       "      <td>Woodland Mushroom</td>\n",
       "      <td>445 N. Clark</td>\n",
       "    </tr>\n",
       "    <tr>\n",
       "      <th>4</th>\n",
       "      <td>Al’s Deli</td>\n",
       "      <td>Roast Beef</td>\n",
       "      <td>914 Noyes St.,</td>\n",
       "    </tr>\n",
       "    <tr>\n",
       "      <th>5</th>\n",
       "      <td>Publican Quality Meats</td>\n",
       "      <td>PB&amp;L</td>\n",
       "      <td>825 W. Fulton</td>\n",
       "    </tr>\n",
       "  </tbody>\n",
       "</table>\n",
       "</div>"
      ],
      "text/plain": [
       "                        cafe               menu          address\n",
       "rank                                                            \n",
       "1                Old Oak Tap                BLT  2109 W. Chicago\n",
       "2                  Au Cheval      Fried Bologna  800 W. Randolph\n",
       "3                       Xoco  Woodland Mushroom     445 N. Clark\n",
       "4                  Al’s Deli         Roast Beef   914 Noyes St.,\n",
       "5     Publican Quality Meats               PB&L    825 W. Fulton"
      ]
     },
     "execution_count": 140,
     "metadata": {},
     "output_type": "execute_result"
    }
   ],
   "source": [
    "df.set_index('rank',inplace=True)\n",
    "df.head()"
   ]
  },
  {
   "cell_type": "code",
   "execution_count": 141,
   "metadata": {},
   "outputs": [],
   "source": [
    "df.to_csv('chicago2.csv',sep=',', encoding='utf-8')"
   ]
  },
  {
   "cell_type": "markdown",
   "metadata": {},
   "source": [
    "## 3. 맛집 위치를 지도에 표기하기"
   ]
  },
  {
   "cell_type": "code",
   "execution_count": 154,
   "metadata": {},
   "outputs": [],
   "source": [
    "import folium\n",
    "import googlemaps\n",
    "import pandas as pd"
   ]
  },
  {
   "cell_type": "code",
   "execution_count": 155,
   "metadata": {},
   "outputs": [],
   "source": [
    "key_fd = open('googlemapskey.txt', mode = 'r')\n",
    "gmaps_key = key_fd.read(100)\n",
    "key_fd.close()"
   ]
  },
  {
   "cell_type": "code",
   "execution_count": 156,
   "metadata": {},
   "outputs": [],
   "source": [
    "gmaps = googlemaps.Client(key=gmaps_key)"
   ]
  },
  {
   "cell_type": "code",
   "execution_count": 161,
   "metadata": {
    "scrolled": true
   },
   "outputs": [
    {
     "name": "stderr",
     "output_type": "stream",
     "text": [
      "C:\\ProgramData\\Anaconda3\\lib\\site-packages\\ipykernel_launcher.py:4: TqdmDeprecationWarning: This function will be removed in tqdm==5.0.0\n",
      "Please use `tqdm.notebook.tqdm` instead of `tqdm.tqdm_notebook`\n",
      "  after removing the cwd from sys.path.\n"
     ]
    },
    {
     "data": {
      "application/vnd.jupyter.widget-view+json": {
       "model_id": "f2edad199a2545e6ba486f0c4e442ae6",
       "version_major": 2,
       "version_minor": 0
      },
      "text/plain": [
       "HBox(children=(FloatProgress(value=0.0, max=50.0), HTML(value='')))"
      ]
     },
     "metadata": {},
     "output_type": "display_data"
    },
    {
     "name": "stdout",
     "output_type": "stream",
     "text": [
      "\n"
     ]
    }
   ],
   "source": [
    "lat = []\n",
    "lng = []\n",
    "\n",
    "for n in tqdm_notebook(df.index):\n",
    "    if df['address'][n] != 'Multipl':\n",
    "        target_name = df['address'][n]+', '+'Chicago'\n",
    "        gmaps_output = gmaps.geocode(target_name)\n",
    "        location_output = gmaps_output[0].get('geometry')\n",
    "        lat.append(location_output['location']['lat'])\n",
    "        lng.append(location_output['location']['lat'])\n",
    "    else:\n",
    "        lat.append(np.nan)\n",
    "        lng.append(np.nan)"
   ]
  },
  {
   "cell_type": "code",
   "execution_count": 163,
   "metadata": {},
   "outputs": [
    {
     "data": {
      "text/html": [
       "<div>\n",
       "<style scoped>\n",
       "    .dataframe tbody tr th:only-of-type {\n",
       "        vertical-align: middle;\n",
       "    }\n",
       "\n",
       "    .dataframe tbody tr th {\n",
       "        vertical-align: top;\n",
       "    }\n",
       "\n",
       "    .dataframe thead th {\n",
       "        text-align: right;\n",
       "    }\n",
       "</style>\n",
       "<table border=\"1\" class=\"dataframe\">\n",
       "  <thead>\n",
       "    <tr style=\"text-align: right;\">\n",
       "      <th></th>\n",
       "      <th>cafe</th>\n",
       "      <th>menu</th>\n",
       "      <th>address</th>\n",
       "      <th>lat</th>\n",
       "      <th>lng</th>\n",
       "    </tr>\n",
       "    <tr>\n",
       "      <th>rank</th>\n",
       "      <th></th>\n",
       "      <th></th>\n",
       "      <th></th>\n",
       "      <th></th>\n",
       "      <th></th>\n",
       "    </tr>\n",
       "  </thead>\n",
       "  <tbody>\n",
       "    <tr>\n",
       "      <th>1</th>\n",
       "      <td>Old Oak Tap</td>\n",
       "      <td>BLT</td>\n",
       "      <td>2109 W. Chicago</td>\n",
       "      <td>41.895605</td>\n",
       "      <td>41.895605</td>\n",
       "    </tr>\n",
       "    <tr>\n",
       "      <th>2</th>\n",
       "      <td>Au Cheval</td>\n",
       "      <td>Fried Bologna</td>\n",
       "      <td>800 W. Randolph</td>\n",
       "      <td>41.884658</td>\n",
       "      <td>41.884658</td>\n",
       "    </tr>\n",
       "    <tr>\n",
       "      <th>3</th>\n",
       "      <td>Xoco</td>\n",
       "      <td>Woodland Mushroom</td>\n",
       "      <td>445 N. Clark</td>\n",
       "      <td>41.890523</td>\n",
       "      <td>41.890523</td>\n",
       "    </tr>\n",
       "    <tr>\n",
       "      <th>4</th>\n",
       "      <td>Al’s Deli</td>\n",
       "      <td>Roast Beef</td>\n",
       "      <td>914 Noyes St.,</td>\n",
       "      <td>42.058914</td>\n",
       "      <td>42.058914</td>\n",
       "    </tr>\n",
       "    <tr>\n",
       "      <th>5</th>\n",
       "      <td>Publican Quality Meats</td>\n",
       "      <td>PB&amp;L</td>\n",
       "      <td>825 W. Fulton</td>\n",
       "      <td>41.886690</td>\n",
       "      <td>41.886690</td>\n",
       "    </tr>\n",
       "  </tbody>\n",
       "</table>\n",
       "</div>"
      ],
      "text/plain": [
       "                        cafe               menu          address        lat  \\\n",
       "rank                                                                          \n",
       "1                Old Oak Tap                BLT  2109 W. Chicago  41.895605   \n",
       "2                  Au Cheval      Fried Bologna  800 W. Randolph  41.884658   \n",
       "3                       Xoco  Woodland Mushroom     445 N. Clark  41.890523   \n",
       "4                  Al’s Deli         Roast Beef   914 Noyes St.,  42.058914   \n",
       "5     Publican Quality Meats               PB&L    825 W. Fulton  41.886690   \n",
       "\n",
       "            lng  \n",
       "rank             \n",
       "1     41.895605  \n",
       "2     41.884658  \n",
       "3     41.890523  \n",
       "4     42.058914  \n",
       "5     41.886690  "
      ]
     },
     "execution_count": 163,
     "metadata": {},
     "output_type": "execute_result"
    }
   ],
   "source": [
    "df['lat']=lat\n",
    "df['lng']=lng\n",
    "df.head()"
   ]
  },
  {
   "cell_type": "code",
   "execution_count": 165,
   "metadata": {},
   "outputs": [
    {
     "data": {
      "text/html": [
       "<div style=\"width:100%;\"><div style=\"position:relative;width:100%;height:0;padding-bottom:60%;\"><span style=\"color:#565656\">Make this Notebook Trusted to load map: File -> Trust Notebook</span><iframe src=\"about:blank\" style=\"position:absolute;width:100%;height:100%;left:0;top:0;border:none !important;\" data-html=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 onload=\"this.contentDocument.open();this.contentDocument.write(atob(this.getAttribute('data-html')));this.contentDocument.close();\" allowfullscreen webkitallowfullscreen mozallowfullscreen></iframe></div></div>"
      ],
      "text/plain": [
       "<folium.folium.Map at 0x24094467b08>"
      ]
     },
     "execution_count": 165,
     "metadata": {},
     "output_type": "execute_result"
    }
   ],
   "source": [
    "mapping = folium.Map(location=[df['lat'].mean(), df['lng'].mean()],\n",
    "                    zoom_start=11)\n",
    "folium.Marker([df['lat'].mean(), df['lng'].mean()],\n",
    "             popup='center').add_to(mapping)\n",
    "mapping"
   ]
  },
  {
   "cell_type": "code",
   "execution_count": 169,
   "metadata": {},
   "outputs": [
    {
     "data": {
      "text/html": [
       "<div style=\"width:100%;\"><div style=\"position:relative;width:100%;height:0;padding-bottom:60%;\"><span style=\"color:#565656\">Make this Notebook Trusted to load map: File -> Trust Notebook</span><iframe src=\"about:blank\" style=\"position:absolute;width:100%;height:100%;left:0;top:0;border:none !important;\" data-html=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 onload=\"this.contentDocument.open();this.contentDocument.write(atob(this.getAttribute('data-html')));this.contentDocument.close();\" allowfullscreen webkitallowfullscreen mozallowfullscreen></iframe></div></div>"
      ],
      "text/plain": [
       "<folium.folium.Map at 0x24093db3a08>"
      ]
     },
     "execution_count": 169,
     "metadata": {},
     "output_type": "execute_result"
    }
   ],
   "source": [
    "mapping = folium.Map(location=[df['lat'].mean(), df['lng'].mean()],\n",
    "                    zoom_start=11)\n",
    "\n",
    "for n in df.index:\n",
    "    if df['address'][n] != 'Multipl':\n",
    "        folium.Marker([df['lat'][n], df['lng'][n]],\n",
    "                     popup=df['cafe'][n]).add_to(mapping)\n",
    "mapping"
   ]
  },
  {
   "cell_type": "code",
   "execution_count": 174,
   "metadata": {},
   "outputs": [],
   "source": [
    "mapping.save('chicago.html')"
   ]
  },
  {
   "cell_type": "code",
   "execution_count": null,
   "metadata": {},
   "outputs": [],
   "source": []
  }
 ],
 "metadata": {
  "kernelspec": {
   "display_name": "Python 3",
   "language": "python",
   "name": "python3"
  },
  "language_info": {
   "codemirror_mode": {
    "name": "ipython",
    "version": 3
   },
   "file_extension": ".py",
   "mimetype": "text/x-python",
   "name": "python",
   "nbconvert_exporter": "python",
   "pygments_lexer": "ipython3",
   "version": "3.7.6"
  }
 },
 "nbformat": 4,
 "nbformat_minor": 4
}
