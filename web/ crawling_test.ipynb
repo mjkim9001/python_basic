{
 "cells": [
  {
   "cell_type": "code",
   "execution_count": 1,
   "metadata": {},
   "outputs": [],
   "source": [
    "import requests\n",
    "from bs4 import BeautifulSoup\n",
    "\n",
    "source = requests.get(\"https://www.naver.com/\").text\n",
    "soup = BeautifulSoup(source, \"html.parser\")\n",
    "hotKeys = soup.select(\"strong.rank\")\n",
    "\n",
    "index = 0\n",
    "for key in hotKeys:\n",
    "    index +=1\n",
    "    print(str(index) + \", \" + key.text)\n",
    "    if index >=20:\n",
    "        break"
   ]
  },
  {
   "cell_type": "code",
   "execution_count": null,
   "metadata": {},
   "outputs": [],
   "source": []
  }
 ],
 "metadata": {
  "kernelspec": {
   "display_name": "Python 3",
   "language": "python",
   "name": "python3"
  },
  "language_info": {
   "codemirror_mode": {
    "name": "ipython",
    "version": 3
   },
   "file_extension": ".py",
   "mimetype": "text/x-python",
   "name": "python",
   "nbconvert_exporter": "python",
   "pygments_lexer": "ipython3",
   "version": "3.7.6"
  }
 },
 "nbformat": 4,
 "nbformat_minor": 4
}
