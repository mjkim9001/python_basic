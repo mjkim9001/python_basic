{
 "cells": [
  {
   "cell_type": "markdown",
   "metadata": {},
   "source": [
    "# Chapter 05. 리스트"
   ]
  },
  {
   "cell_type": "code",
   "execution_count": 3,
   "metadata": {
    "scrolled": true
   },
   "outputs": [
    {
     "name": "stdout",
     "output_type": "stream",
     "text": [
      "['사과', '오렌지', '딸기', '포도', '감', '키위', '멜론', '수박']\n",
      "[5, 10.2, '탁구', True, [4, 5, 6]]\n",
      "[1, 3, 5, 7, 9]\n",
      "\n",
      "사과\n",
      "['오렌지', '딸기', '포도']\n",
      "['딸기', '포도', '감', '키위', '멜론', '수박']\n",
      "수박\n",
      "['감', '키위']\n",
      "['키위', '멜론', '수박']\n"
     ]
    }
   ],
   "source": [
    "# ex 5-1\n",
    "\n",
    "fruits = ['사과', '오렌지', '딸기', '포도', '감', '키위', '멜론', '수박']\n",
    "list1 = [5, 10.2, '탁구', True, [4,5,6]]\n",
    "numbers = list(range(1,10,2))\n",
    "\n",
    "print(fruits)\n",
    "print(list1)\n",
    "print(numbers)\n",
    "print()\n",
    "print(fruits[0])\n",
    "print(fruits[1:4])\n",
    "print(fruits[2:])\n",
    "print(fruits[-1])\n",
    "print(fruits[-4:-2])\n",
    "print(fruits[-3:])"
   ]
  },
  {
   "cell_type": "code",
   "execution_count": 4,
   "metadata": {},
   "outputs": [
    {
     "name": "stdout",
     "output_type": "stream",
     "text": [
      "['red', 'green', 'blue', 'yellow']\n",
      "['red', 'black', 'green', 'blue', 'yellow']\n",
      "['red', 'black', 'green', 'blue', 'yellow', 'purple', 'white']\n",
      "['red', 'black', 'green', 'blue', 'yellow', 'purple', 'white', 'purple', 'white']\n"
     ]
    }
   ],
   "source": [
    "# ex 5-2\n",
    "a = ['red', 'green', 'blue']\n",
    "a.append('yellow')\n",
    "print(a)\n",
    "\n",
    "a.insert(1, 'black')\n",
    "print(a)\n",
    "\n",
    "b=['purple', 'white']\n",
    "a.extend(b)\n",
    "print(a)\n",
    "\n",
    "c=a+b\n",
    "print(c)"
   ]
  },
  {
   "cell_type": "code",
   "execution_count": 7,
   "metadata": {},
   "outputs": [
    {
     "name": "stdout",
     "output_type": "stream",
     "text": [
      "2\n",
      "[10, 20, 40, 50, 60, 70, 80, 90, 100]\n",
      "[10, 20, 40, 60, 70, 80, 90, 100]\n",
      "[10, 20, 40, 60, 70, 80, 100]\n",
      "[]\n"
     ]
    }
   ],
   "source": [
    "a = [10,20,30,40,50,60,70,80,90,100]\n",
    "x=a.index(30)\n",
    "print(x)\n",
    "\n",
    "a.pop(x)\n",
    "print(a)\n",
    "\n",
    "del a[3]\n",
    "print(a)\n",
    "\n",
    "a.remove(90)\n",
    "print(a)\n",
    "\n",
    "a.clear()\n",
    "print(a)"
   ]
  },
  {
   "cell_type": "code",
   "execution_count": 19,
   "metadata": {},
   "outputs": [
    {
     "name": "stdout",
     "output_type": "stream",
     "text": [
      "가장 큰 수는 10 입니다\n"
     ]
    }
   ],
   "source": [
    "# 1\n",
    "\n",
    "data = [-12, 3, -9, 5, 8, -2, 0, -8, 3, 10]\n",
    "\n",
    "big_num = 0\n",
    "for i in range(len(data)):\n",
    "    for j in range(len(data)):\n",
    "        if data[i]<data[j]:\n",
    "            big_num=data[j]\n",
    "\n",
    "print('가장 큰 수는 %d 입니다' %big_num)\n",
    "    \n"
   ]
  },
  {
   "cell_type": "code",
   "execution_count": 21,
   "metadata": {},
   "outputs": [
    {
     "name": "stdout",
     "output_type": "stream",
     "text": [
      "합계 : 8 평균 : 1.60\n"
     ]
    }
   ],
   "source": [
    "# 2\n",
    "\n",
    "data = [-12, 3, -9, 5, 8, -2, 0, -8, 3, 10]\n",
    "\n",
    "n = 1\n",
    "sum =0\n",
    "avg =0\n",
    "\n",
    "while n<len(data):\n",
    "    sum+=data[n]\n",
    "    n+=2\n",
    "\n",
    "avg=sum/(len(data)/2)\n",
    "print('합계 : %d 평균 : %.2f' %(sum, avg))"
   ]
  },
  {
   "cell_type": "code",
   "execution_count": 25,
   "metadata": {},
   "outputs": [
    {
     "name": "stdout",
     "output_type": "stream",
     "text": [
      "[10, 8, 5, 3, 3, 0, -2, -8, -9, -12]\n"
     ]
    }
   ],
   "source": [
    "# 3\n",
    "\n",
    "data = [-12, 3, -9, 5, 8, -2, 0, -8, 3, 10]\n",
    "\n",
    "temp = 0\n",
    "for i in range(len(data)):\n",
    "    for j in range(len(data)):\n",
    "        if data[i]>data[j]:\n",
    "            temp=data[j]\n",
    "            data[j]=data[i]\n",
    "            data[i]=temp\n",
    "print(data)\n"
   ]
  },
  {
   "cell_type": "code",
   "execution_count": 26,
   "metadata": {},
   "outputs": [
    {
     "name": "stdout",
     "output_type": "stream",
     "text": [
      "[-12, 3, -9, 100, 5, 8, -2, 0, -8, 3, 10]\n"
     ]
    }
   ],
   "source": [
    "# 4\n",
    "\n",
    "data = [-12, 3, -9, 5, 8, -2, 0, -8, 3, 10]\n",
    "\n",
    "data.insert(3, 100)\n",
    "print(data)\n"
   ]
  },
  {
   "cell_type": "code",
   "execution_count": 27,
   "metadata": {},
   "outputs": [
    {
     "name": "stdout",
     "output_type": "stream",
     "text": [
      "[3, -9, 5, 8, -2, 0, -8, 3, 10]\n"
     ]
    }
   ],
   "source": [
    "# 5\n",
    "\n",
    "data = [-12, 3, -9, 5, 8, -2, 0, -8, 3, 10]\n",
    "\n",
    "data.remove(-12)\n",
    "print(data)"
   ]
  },
  {
   "cell_type": "code",
   "execution_count": 30,
   "metadata": {},
   "outputs": [
    {
     "name": "stdout",
     "output_type": "stream",
     "text": [
      "흑돌의 개수: 17 \n",
      "백돌의 개수: 16\n"
     ]
    }
   ],
   "source": [
    "# 6 \n",
    "stone = [[0, 0, 0, 0, 0, 0, 0, 0, 0 ],\\\n",
    "         [0, 1, 0, 1, 2, 1, 2, 1, 0 ],\\\n",
    "         [0, 2, 1, 1, 1, 2, 2, 0, 0 ],\\\n",
    "         [0, 0, 2, 2, 2, 1, 0, 2, 0 ],\\\n",
    "         [0, 0, 0, 0, 0, 1, 0, 2, 1 ],\\\n",
    "         [0, 0, 0, 2, 0, 1, 2, 1, 0 ],\\\n",
    "         [0, 0, 0, 2, 1, 0, 1, 1, 0 ],\\\n",
    "         [0, 0, 0, 1, 1, 0, 0, 0, 0 ],\\\n",
    "         [0, 0, 0, 0, 2, 2, 2, 0, 0 ]]\n",
    "black_count=0\n",
    "white_count=0\n",
    "for i in range (len(stone)) :\n",
    "    for j in range (len(stone)) :\n",
    "        if stone[i][j]==1:\n",
    "            black_count+=1\n",
    "        elif stone[i][j]==2:\n",
    "            white_count+=1\n",
    "\n",
    "print('흑돌의 개수: %d \\n백돌의 개수: %d' %(black_count, white_count))"
   ]
  },
  {
   "cell_type": "code",
   "execution_count": 41,
   "metadata": {},
   "outputs": [
    {
     "name": "stdout",
     "output_type": "stream",
     "text": [
      "X X X X X X X X X \n",
      "X ● X ● ○ ● ○ ● X \n",
      "X ○ ● ● ● ○ ○ X X \n",
      "X X ○ ○ ○ ● X ○ X \n",
      "X X X X X ● X ○ ● \n",
      "X X X ○ X ● ○ ● X \n",
      "X X X ○ ● X ● ● X \n",
      "X X X ● ● X X X X \n",
      "X X X X ○ ○ ○ X X \n"
     ]
    }
   ],
   "source": [
    "# 7\n",
    "stone = [[0, 0, 0, 0, 0, 0, 0, 0, 0 ],\\\n",
    "         [0, 1, 0, 1, 2, 1, 2, 1, 0 ],\\\n",
    "         [0, 2, 1, 1, 1, 2, 2, 0, 0 ],\\\n",
    "         [0, 0, 2, 2, 2, 1, 0, 2, 0 ],\\\n",
    "         [0, 0, 0, 0, 0, 1, 0, 2, 1 ],\\\n",
    "         [0, 0, 0, 2, 0, 1, 2, 1, 0 ],\\\n",
    "         [0, 0, 0, 2, 1, 0, 1, 1, 0 ],\\\n",
    "         [0, 0, 0, 1, 1, 0, 0, 0, 0 ],\\\n",
    "         [0, 0, 0, 0, 2, 2, 2, 0, 0 ]]\n",
    "\n",
    "black_count=0\n",
    "white_count=0\n",
    "for i in range (len(stone)) :\n",
    "    for j in range (len(stone)) :\n",
    "        if stone[i][j]==1:\n",
    "            stone[i][j] = '●'\n",
    "        elif stone[i][j]==2:\n",
    "            stone[i][j] = '○'\n",
    "        else:\n",
    "            stone[i][j] = 'X'\n",
    "        print(stone[i][j], end=' ')\n",
    "    print()"
   ]
  },
  {
   "cell_type": "code",
   "execution_count": 49,
   "metadata": {},
   "outputs": [
    {
     "name": "stdout",
     "output_type": "stream",
     "text": [
      "  01 02 03 04 05 06 07 08 09 \n",
      "01 X  X  X  X  X  X  X  X  X  \n",
      "02 X  ●  X  ●  ○  ●  ○  ●  X  \n",
      "03 X  ○  ●  ●  ●  ○  ○  X  X  \n",
      "04 X  X  ○  ○  ○  ●  X  ○  X  \n",
      "05 X  X  X  X  X  ●  X  ○  ●  \n",
      "06 X  X  X  ○  X  ●  ○  ●  X  \n",
      "07 X  X  X  ○  ●  X  ●  ●  X  \n",
      "08 X  X  X  ●  ●  X  X  X  X  \n",
      "09 X  X  X  X  ○  ○  ○  X  X  \n"
     ]
    }
   ],
   "source": [
    "# 8\n",
    "\n",
    "stone = [[0, 0, 0, 0, 0, 0, 0, 0, 0 ],\\\n",
    "         [0, 1, 0, 1, 2, 1, 2, 1, 0 ],\\\n",
    "         [0, 2, 1, 1, 1, 2, 2, 0, 0 ],\\\n",
    "         [0, 0, 2, 2, 2, 1, 0, 2, 0 ],\\\n",
    "         [0, 0, 0, 0, 0, 1, 0, 2, 1 ],\\\n",
    "         [0, 0, 0, 2, 0, 1, 2, 1, 0 ],\\\n",
    "         [0, 0, 0, 2, 1, 0, 1, 1, 0 ],\\\n",
    "         [0, 0, 0, 1, 1, 0, 0, 0, 0 ],\\\n",
    "         [0, 0, 0, 0, 2, 2, 2, 0, 0 ]]\n",
    "\n",
    "black_count=0\n",
    "white_count=0\n",
    "print(' '*2, end='')\n",
    "for i in range (len(stone)) :\n",
    "    print('%02d'%(i+1), end=' ')\n",
    "print()\n",
    "\n",
    "for i in range (len(stone)) :\n",
    "    print('%02d'%(i+1), end=' ')\n",
    "    for j in range (len(stone)) :\n",
    "        if stone[i][j]==1:\n",
    "            stone[i][j] = '●'\n",
    "        elif stone[i][j]==2:\n",
    "            stone[i][j] = '○'\n",
    "        else:\n",
    "            stone[i][j] = 'X'\n",
    "        print(stone[i][j], end='  ')\n",
    "    print()"
   ]
  },
  {
   "cell_type": "code",
   "execution_count": 50,
   "metadata": {},
   "outputs": [
    {
     "name": "stdout",
     "output_type": "stream",
     "text": [
      "X축의 좌표값을 입력하세요(1~9, 종료시 -1 입력) : 9\n",
      "Y축의 좌표값을 입력하세요(1~9, 종료시 -1 입력) : 5\n",
      "흑돌\n",
      "X축의 좌표값을 입력하세요(1~9, 종료시 -1 입력) : 7\n",
      "Y축의 좌표값을 입력하세요(1~9, 종료시 -1 입력) : 2\n",
      "백돌\n",
      "X축의 좌표값을 입력하세요(1~9, 종료시 -1 입력) : 4\n",
      "Y축의 좌표값을 입력하세요(1~9, 종료시 -1 입력) : 1\n",
      "돌없음\n",
      "X축의 좌표값을 입력하세요(1~9, 종료시 -1 입력) : -1\n",
      "종료\n"
     ]
    }
   ],
   "source": [
    "# 9\n",
    "\n",
    "stone = [[0, 0, 0, 0, 0, 0, 0, 0, 0 ],\\\n",
    "         [0, 1, 0, 1, 2, 1, 2, 1, 0 ],\\\n",
    "         [0, 2, 1, 1, 1, 2, 2, 0, 0 ],\\\n",
    "         [0, 0, 2, 2, 2, 1, 0, 2, 0 ],\\\n",
    "         [0, 0, 0, 0, 0, 1, 0, 2, 1 ],\\\n",
    "         [0, 0, 0, 2, 0, 1, 2, 1, 0 ],\\\n",
    "         [0, 0, 0, 2, 1, 0, 1, 1, 0 ],\\\n",
    "         [0, 0, 0, 1, 1, 0, 0, 0, 0 ],\\\n",
    "         [0, 0, 0, 0, 2, 2, 2, 0, 0 ]]\n",
    "while True:\n",
    "    \n",
    "    x = int(input('X축의 좌표값을 입력하세요(1~9, 종료시 -1 입력) : '))\n",
    "    if x ==-1:\n",
    "        break\n",
    "    y = int(input('Y축의 좌표값을 입력하세요(1~9, 종료시 -1 입력) : '))\n",
    "    if y ==-1:\n",
    "        break\n",
    "    if stone[y-1][x-1] ==1 :\n",
    "        print('흑돌')\n",
    "    elif stone[y-1][x-1] ==2 :\n",
    "        print('백돌')\n",
    "    else:\n",
    "        print('돌없음')\n",
    "print('종료')"
   ]
  },
  {
   "cell_type": "code",
   "execution_count": null,
   "metadata": {},
   "outputs": [],
   "source": []
  }
 ],
 "metadata": {
  "kernelspec": {
   "display_name": "Python 3",
   "language": "python",
   "name": "python3"
  },
  "language_info": {
   "codemirror_mode": {
    "name": "ipython",
    "version": 3
   },
   "file_extension": ".py",
   "mimetype": "text/x-python",
   "name": "python",
   "nbconvert_exporter": "python",
   "pygments_lexer": "ipython3",
   "version": "3.7.6"
  }
 },
 "nbformat": 4,
 "nbformat_minor": 4
}
