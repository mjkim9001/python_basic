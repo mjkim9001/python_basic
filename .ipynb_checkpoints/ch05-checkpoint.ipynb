{
 "cells": [
  {
   "cell_type": "markdown",
   "metadata": {},
   "source": [
    "# Chapter 05. 리스트"
   ]
  },
  {
   "cell_type": "code",
   "execution_count": 3,
   "metadata": {
    "scrolled": true
   },
   "outputs": [
    {
     "name": "stdout",
     "output_type": "stream",
     "text": [
      "['사과', '오렌지', '딸기', '포도', '감', '키위', '멜론', '수박']\n",
      "[5, 10.2, '탁구', True, [4, 5, 6]]\n",
      "[1, 3, 5, 7, 9]\n",
      "\n",
      "사과\n",
      "['오렌지', '딸기', '포도']\n",
      "['딸기', '포도', '감', '키위', '멜론', '수박']\n",
      "수박\n",
      "['감', '키위']\n",
      "['키위', '멜론', '수박']\n"
     ]
    }
   ],
   "source": [
    "# ex 5-1\n",
    "\n",
    "fruits = ['사과', '오렌지', '딸기', '포도', '감', '키위', '멜론', '수박']\n",
    "list1 = [5, 10.2, '탁구', True, [4,5,6]]\n",
    "numbers = list(range(1,10,2))\n",
    "\n",
    "print(fruits)\n",
    "print(list1)\n",
    "print(numbers)\n",
    "print()\n",
    "print(fruits[0])\n",
    "print(fruits[1:4])\n",
    "print(fruits[2:])\n",
    "print(fruits[-1])\n",
    "print(fruits[-4:-2])\n",
    "print(fruits[-3:])"
   ]
  },
  {
   "cell_type": "code",
   "execution_count": 4,
   "metadata": {},
   "outputs": [
    {
     "name": "stdout",
     "output_type": "stream",
     "text": [
      "['red', 'green', 'blue', 'yellow']\n",
      "['red', 'black', 'green', 'blue', 'yellow']\n",
      "['red', 'black', 'green', 'blue', 'yellow', 'purple', 'white']\n",
      "['red', 'black', 'green', 'blue', 'yellow', 'purple', 'white', 'purple', 'white']\n"
     ]
    }
   ],
   "source": [
    "# ex 5-2\n",
    "a = ['red', 'green', 'blue']\n",
    "a.append('yellow')\n",
    "print(a)\n",
    "\n",
    "a.insert(1, 'black')\n",
    "print(a)\n",
    "\n",
    "b=['purple', 'white']\n",
    "a.extend(b)\n",
    "print(a)\n",
    "\n",
    "c=a+b\n",
    "print(c)"
   ]
  },
  {
   "cell_type": "code",
   "execution_count": 7,
   "metadata": {},
   "outputs": [
    {
     "name": "stdout",
     "output_type": "stream",
     "text": [
      "2\n",
      "[10, 20, 40, 50, 60, 70, 80, 90, 100]\n",
      "[10, 20, 40, 60, 70, 80, 90, 100]\n",
      "[10, 20, 40, 60, 70, 80, 100]\n",
      "[]\n"
     ]
    }
   ],
   "source": [
    "a = [10,20,30,40,50,60,70,80,90,100]\n",
    "x=a.index(30)\n",
    "print(x)\n",
    "\n",
    "a.pop(x)\n",
    "print(a)\n",
    "\n",
    "del a[3]\n",
    "print(a)\n",
    "\n",
    "a.remove(90)\n",
    "print(a)\n",
    "\n",
    "a.clear()\n",
    "print(a)"
   ]
  }
 ],
 "metadata": {
  "kernelspec": {
   "display_name": "Python 3",
   "language": "python",
   "name": "python3"
  },
  "language_info": {
   "codemirror_mode": {
    "name": "ipython",
    "version": 3
   },
   "file_extension": ".py",
   "mimetype": "text/x-python",
   "name": "python",
   "nbconvert_exporter": "python",
   "pygments_lexer": "ipython3",
   "version": "3.7.6"
  }
 },
 "nbformat": 4,
 "nbformat_minor": 4
}
