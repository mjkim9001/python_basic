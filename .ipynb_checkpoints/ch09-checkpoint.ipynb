{
 "cells": [
  {
   "cell_type": "markdown",
   "metadata": {},
   "source": [
    "# Chapter 09 객체지향 프로그래밍"
   ]
  },
  {
   "cell_type": "code",
   "execution_count": 7,
   "metadata": {},
   "outputs": [
    {
     "name": "stdout",
     "output_type": "stream",
     "text": [
      "10 + 20 = 30\n",
      "100 + 200 = 300\n"
     ]
    }
   ],
   "source": [
    "# ex9-1\n",
    "class Calculator:\n",
    "    def set(self, x, y):\n",
    "        self.first = x\n",
    "        self.second = y\n",
    "        \n",
    "    def add(self):\n",
    "        result = self.first+self.second\n",
    "        return result\n",
    "    \n",
    "cal1 = Calculator()\n",
    "\n",
    "cal1.set(10,20)\n",
    "print('%d + %d = %d' %(cal1.first, cal1.second, cal1.add()))\n",
    "cal1.set(100,200)\n",
    "print('%d + %d = %d' %(cal1.first, cal1.second, cal1.add()))"
   ]
  },
  {
   "cell_type": "code",
   "execution_count": 9,
   "metadata": {},
   "outputs": [
    {
     "name": "stdout",
     "output_type": "stream",
     "text": [
      "이름: 홍이수\n",
      "나이: 24\n",
      "이름: 안지영\n",
      "나이: 20\n"
     ]
    }
   ],
   "source": [
    "# ex9-2\n",
    "class Member:\n",
    "    def __init__(self, name, age):\n",
    "        self.name = name\n",
    "        self.age = age\n",
    "        \n",
    "    def show_member(self):\n",
    "        print('이름: %s' %self.name)\n",
    "        print('나이: %d' %self.age)\n",
    "        \n",
    "mem1 = Member('홍이수', 24)\n",
    "mem1.show_member()\n",
    "mem2 = Member('안지영', 20)\n",
    "mem2.show_member()"
   ]
  },
  {
   "cell_type": "code",
   "execution_count": 10,
   "metadata": {},
   "outputs": [
    {
     "name": "stdout",
     "output_type": "stream",
     "text": [
      "110\n",
      "130\n"
     ]
    }
   ],
   "source": [
    "# ex9-3\n",
    "class MyClass:\n",
    "    number = 100\n",
    "    def inc_10(self):\n",
    "        MyClass.number +=10\n",
    "    \n",
    "    def inc_20(self):\n",
    "        MyClass.number +=20\n",
    "        \n",
    "obj1 = MyClass()\n",
    "obj1.inc_10()\n",
    "print(obj1.number)\n",
    "\n",
    "obj2 = MyClass()\n",
    "obj2.inc_20()\n",
    "print(obj2.number)"
   ]
  },
  {
   "cell_type": "code",
   "execution_count": 11,
   "metadata": {},
   "outputs": [
    {
     "name": "stdout",
     "output_type": "stream",
     "text": [
      "130\n",
      "230\n"
     ]
    }
   ],
   "source": [
    "# ex9-4\n",
    "class MyClass:\n",
    "    def __init__(self, number):\n",
    "        self.number = number\n",
    "    def inc_10(self):\n",
    "        self.number +=10\n",
    "    def inc_20(self):\n",
    "        self.number +=20\n",
    "        \n",
    "obj1 = MyClass(100)\n",
    "obj1.inc_10()\n",
    "obj1.inc_20()\n",
    "print(obj1.number)\n",
    "\n",
    "obj2 = MyClass(200)\n",
    "obj2.inc_10()\n",
    "obj2.inc_20()\n",
    "print(obj2.number)"
   ]
  },
  {
   "cell_type": "markdown",
   "metadata": {},
   "source": [
    "# 비공개 속성"
   ]
  },
  {
   "cell_type": "code",
   "execution_count": 34,
   "metadata": {},
   "outputs": [
    {
     "name": "stdout",
     "output_type": "stream",
     "text": [
      "마리아 24 대전 10000\n"
     ]
    }
   ],
   "source": [
    "#변수 앞에 __를 붇여서 비공개 속성을 만들 수 있다\n",
    "class Person:\n",
    "    def __init__(self, name, age, address, wallet):\n",
    "        self.name = name\n",
    "        self.age = age\n",
    "        self.address = address\n",
    "        self.__wallet = wallet\n",
    "        \n",
    "    def to_string(self):\n",
    "        print('%s %d %s %d' %(self.name, self.age, self.address, self.__wallet))\n",
    "\n",
    "maria = Person('마리아', 24, '대전', 10000)\n",
    "maria.name\n",
    "# maria.wallet 비공개 속성이라 이런식으로는 접근 불가(볼수 없음)\n",
    "maria.to_string()"
   ]
  },
  {
   "cell_type": "code",
   "execution_count": 17,
   "metadata": {},
   "outputs": [
    {
     "name": "stdout",
     "output_type": "stream",
     "text": [
      "반지름: 10\n",
      "원의 면적: 314.16\n",
      "원주의 길이: 62.83\n"
     ]
    }
   ],
   "source": [
    "# Q9-1\n",
    "\n",
    "import math\n",
    "class Circle:\n",
    "    def __init__(self, radius):\n",
    "        self.radius = radius\n",
    "    def get_area(self):\n",
    "        area = math.pi * self.radius * self.radius\n",
    "        return area\n",
    "    def get_circum(self):\n",
    "        circum = 2*math.pi*self.radius\n",
    "        return circum\n",
    "    \n",
    "cir = Circle(10)\n",
    "\n",
    "print('반지름: %d' %cir.radius)\n",
    "print('원의 면적: %.2f' %cir.get_area())\n",
    "print('원주의 길이: %.2f' %cir.get_circum())"
   ]
  },
  {
   "cell_type": "code",
   "execution_count": 40,
   "metadata": {},
   "outputs": [
    {
     "name": "stdout",
     "output_type": "stream",
     "text": [
      "3과목 합계와 평균\n",
      "이름: 김성윤\n",
      "국어: 85, 영어: 90, 수학: 83\n",
      "합계: 258, 평균: 86.0\n"
     ]
    }
   ],
   "source": [
    "# Q9-2\n",
    "class SumAvg:\n",
    "    title = '3과목 합계와 평균'\n",
    "    def __init__(self, name, kor, eng, math):\n",
    "        self.name = name\n",
    "        self.kor = kor\n",
    "        self.eng = eng\n",
    "        self.math = math\n",
    "        \n",
    "    def get_sum(self):\n",
    "        self.sum = self.kor + self.eng + self.math\n",
    "        return self.sum\n",
    "\n",
    "    def get_avg(self): \n",
    "        avg = self.sum/3\n",
    "        return avg\n",
    "    \n",
    "s1 = SumAvg('김성윤', 85,90,83)\n",
    "print(SumAvg.title)\n",
    "print('이름: %s' %s1.name)\n",
    "print('국어: %d, 영어: %d, 수학: %d' %(s1.kor, s1.eng, s1.math))\n",
    "print('합계: %d, 평균: %.1f' %(s1.get_sum(), s1.get_avg()))"
   ]
  },
  {
   "cell_type": "code",
   "execution_count": 1,
   "metadata": {},
   "outputs": [
    {
     "name": "stdout",
     "output_type": "stream",
     "text": [
      "첫번째 수를 입력하세요:10\n",
      "두번째 수를 입력하세요:5\n",
      "10 - 5 = 5\n",
      "10 / 5 = 2.0\n"
     ]
    }
   ],
   "source": [
    "# Q9-3\n",
    "class Calculator:\n",
    "    def __init__(self, num1, num2):\n",
    "        self.n1 = num1\n",
    "        self.n2 = num2\n",
    "        \n",
    "    def add(self):\n",
    "        return self.n1 + self.n2\n",
    "    \n",
    "    def sub(self):\n",
    "        return self.n1 - self.n2\n",
    "    \n",
    "    def mul(self):\n",
    "        return self.n1 * self.n2\n",
    "    \n",
    "    def div(self):\n",
    "        return self.n1 / self.n2\n",
    "    \n",
    "a = int(input('첫번째 수를 입력하세요:'))\n",
    "b = int(input('두번째 수를 입력하세요:'))\n",
    "cal1 = Calculator(a,b)\n",
    "print('%d - %d = %d' %(a,b,cal1.sub()))\n",
    "print('%d / %d = %.1f' %(a,b,cal1.div()))"
   ]
  },
  {
   "cell_type": "code",
   "execution_count": 23,
   "metadata": {},
   "outputs": [
    {
     "name": "stdout",
     "output_type": "stream",
     "text": [
      "성명: 김지혜 \n",
      "이메일: rubato@hanmail.net \n",
      "전화번호: 010-1234-5678\n",
      "\n",
      "성명: 김지혜 \n",
      "이메일: rubato@hanmail.net \n",
      "전화번호: 010-1234-5678\n"
     ]
    }
   ],
   "source": [
    "# Q9-4\n",
    "class Person:\n",
    "    def __init__(self, info):\n",
    "        self.info = info\n",
    "\n",
    "    def get_name(self):\n",
    "        return self.info[0]\n",
    "    def get_email(self):\n",
    "        return self.info[1]\n",
    "    def get_phonenumber(self):\n",
    "        return self.info[2]\n",
    "    def person_print(self):\n",
    "        print('성명: %s \\n이메일: %s \\n전화번호: %s' %(self.info[0], self.info[1], self.info[2]))\n",
    "        print()\n",
    "        \n",
    "info = ['김지혜', 'rubato@hanmail.net', '010-1234-5678']\n",
    "person = Person(info)\n",
    "\n",
    "person.person_print()\n",
    "\n",
    "\n",
    "print('성명: %s \\n이메일: %s \\n전화번호: %s' %(person.get_name(), person.get_email(), person.get_phonenumber()))\n"
   ]
  },
  {
   "cell_type": "code",
   "execution_count": 27,
   "metadata": {},
   "outputs": [
    {
     "name": "stdout",
     "output_type": "stream",
     "text": [
      "문자열을 입력하세요we are the champion!\n",
      "역순: !noipmahc eht era ew\n",
      "하이픈(-) 삽입: we-are-the-champion!\n"
     ]
    }
   ],
   "source": [
    "# Q9-5\n",
    "class EngSentence:\n",
    "    def __init__(self, sentence):\n",
    "        self.sentence = sentence\n",
    "        self.length = len(self.sentence)\n",
    "        \n",
    "    def reverse(self):\n",
    "        tmp=''\n",
    "        for i in range(self.length):\n",
    "            tmp +=(self.sentence[self.length-1-i])\n",
    "        return tmp\n",
    "    \n",
    "    def insert_hypen(self):\n",
    "        tmp=''\n",
    "        for i in range(self.length):\n",
    "            if self.sentence[i] == ' ':\n",
    "                tmp +='-'\n",
    "            else:\n",
    "                tmp += self.sentence[i]\n",
    "        return tmp\n",
    "\n",
    "a = input('문자열을 입력하세요')\n",
    "eng1 = EngSentence(a)\n",
    "print('역순: %s' %eng1.reverse())\n",
    "print('하이픈(-) 삽입: %s' %eng1.insert_hypen())"
   ]
  },
  {
   "cell_type": "markdown",
   "metadata": {},
   "source": [
    "# 상속(Inheritance)"
   ]
  },
  {
   "cell_type": "code",
   "execution_count": 41,
   "metadata": {},
   "outputs": [
    {
     "name": "stdout",
     "output_type": "stream",
     "text": [
      "공부하기\n",
      "안녕하세요\n"
     ]
    },
    {
     "data": {
      "text/plain": [
       "'maria'"
      ]
     },
     "execution_count": 41,
     "metadata": {},
     "output_type": "execute_result"
    }
   ],
   "source": [
    "class Person:\n",
    "    def __init__(self,name):\n",
    "        self.name = name\n",
    "    def greeting(self):\n",
    "        print('안녕하세요')\n",
    "        \n",
    "class Student(Person):    #class 클래스명(부모클래스명)\n",
    "    def study(self):\n",
    "        print('공부하기')\n",
    "\n",
    "james = Student('')\n",
    "james.study()\n",
    "james.greeting()  #부모의 함수까지 사용가능(자식이 부모의 것을 상속받음)\n",
    "\n",
    "maria = Student('maria')\n",
    "maria.name"
   ]
  },
  {
   "cell_type": "markdown",
   "metadata": {},
   "source": [
    "# 객체지향 고급"
   ]
  },
  {
   "cell_type": "code",
   "execution_count": 63,
   "metadata": {},
   "outputs": [
    {
     "name": "stdout",
     "output_type": "stream",
     "text": [
      "Static Method의 hello()\n",
      "안녕\n"
     ]
    }
   ],
   "source": [
    "# Static method\n",
    "class Person:\n",
    "    def greeting(self):\n",
    "        print('안녕')\n",
    "    \n",
    "    @staticmethod\n",
    "    def hello():\n",
    "        print('Static Method의 hello()')\n",
    "Person.hello()\n",
    "#Person.greeting() 사용 불가 -> 인스턴스 메소드이기 때문에 \n",
    "# ->객체를 생성시켜준 다음 사용해야한다.\n",
    "p = Person()\n",
    "p.greeting()"
   ]
  },
  {
   "cell_type": "code",
   "execution_count": 45,
   "metadata": {},
   "outputs": [
    {
     "name": "stdout",
     "output_type": "stream",
     "text": [
      "행복이\n",
      "멍멍~~~~\n"
     ]
    }
   ],
   "source": [
    "# ex9-5\n",
    "\n",
    "class Animal:\n",
    "    def __init__(self, name):\n",
    "        self.name = name\n",
    "    def print_name(self):\n",
    "        print(self.name)\n",
    "        \n",
    "class Dog(Animal):\n",
    "    def __init__(self, name, sound):\n",
    "        super().__init__(name)\n",
    "        self.sound=sound\n",
    "    def print_sound(self):\n",
    "        print(self.sound)\n",
    "        \n",
    "dog1 = Dog('행복이', '멍멍~~~~')\n",
    "dog1.print_name()\n",
    "dog1.print_sound()"
   ]
  },
  {
   "cell_type": "code",
   "execution_count": 79,
   "metadata": {},
   "outputs": [
    {
     "name": "stdout",
     "output_type": "stream",
     "text": [
      "이름: 홍지수, 나이: 20\n",
      "홍지수,20\n",
      "홍지수님의 학과: 소프트웨어공학과, 학번: 20215550001\n"
     ]
    }
   ],
   "source": [
    "# ex9-6\n",
    "\n",
    "class Person:\n",
    "    def __init__(self, name, age):\n",
    "        self.name = name\n",
    "        self.age = age\n",
    "        \n",
    "    def print_info(self):\n",
    "        print('이름: %s, 나이: %d' %(self.name, self.age))\n",
    "        \n",
    "    def get_info(self):\n",
    "        return self.name + ',' + str(self.age)\n",
    "    \n",
    "class Student(Person):\n",
    "    def __init__(self, name, age, department, id):\n",
    "        super().__init__(name, age) #부모의 속성을 사용하고 싶다면 super().__init__(속성명)\n",
    "        self.department = department\n",
    "        self.id = id\n",
    "        \n",
    "    def print_studentinfo(self):\n",
    "        name_age = super().get_info()\n",
    "        print(name_age)\n",
    "        print('%s님의 학과: %s, 학번: %s' %(self.name, self.department, self.id))\n",
    "\n",
    "\n",
    "x = Student('홍지수', 20, '소프트웨어공학과', '20215550001')\n",
    "x.print_info()\n",
    "x.print_studentinfo()"
   ]
  },
  {
   "cell_type": "markdown",
   "metadata": {},
   "source": [
    "# 다형성(Polymorphism) - Method Overriding"
   ]
  },
  {
   "cell_type": "code",
   "execution_count": 54,
   "metadata": {},
   "outputs": [
    {
     "name": "stdout",
     "output_type": "stream",
     "text": [
      "안녕하세요. 파이선 수업을 듣고 있는 학생입니다.\n"
     ]
    }
   ],
   "source": [
    "class Student2(Person):\n",
    "    def student(self):\n",
    "        print('공부하기')\n",
    "    def greeting(self):\n",
    "        print('안녕하세요. 파이선 수업을 듣고 있는 학생입니다.')\n",
    "        \n",
    "s1 = Student2('jane', 10)\n",
    "s1.greeting() # 위에 부모(Person)클래스에서 greeting함수가 있지만 \n",
    "              # 자식(Student2)클래스의 greeting을 실행시킨다 -> 메소드오버라이딩 \n",
    "    \n",
    "#Parent = 기반(base) / Child = 파생"
   ]
  },
  {
   "cell_type": "code",
   "execution_count": 66,
   "metadata": {},
   "outputs": [
    {
     "name": "stdout",
     "output_type": "stream",
     "text": [
      "반갑습니다. maria입니다.\n"
     ]
    }
   ],
   "source": [
    "class Person:\n",
    "    def __init__(self, name):\n",
    "        self.name = name\n",
    "    def greeting(self):\n",
    "        print('안녕하세요!')\n",
    "    def __str__(self):\n",
    "        return '반갑습니다. ' + self.name + '입니다.'\n",
    "    \n",
    "maria = Person('maria')\n",
    "print(maria)"
   ]
  },
  {
   "cell_type": "code",
   "execution_count": 68,
   "metadata": {},
   "outputs": [
    {
     "data": {
      "text/plain": [
       "False"
      ]
     },
     "execution_count": 68,
     "metadata": {},
     "output_type": "execute_result"
    }
   ],
   "source": [
    "# 객체 비교\n",
    "class Student:\n",
    "    def __init__(self, name, age):\n",
    "        self.name = name\n",
    "        self.age = age\n",
    "    def __eq__(self, other):\n",
    "        return self.name == other.name and self.age == other.age\n",
    "\n",
    "a = Student('홍길동', 25)\n",
    "b = Student('Maria', 25)\n",
    "c = Student('Maria', 23)\n",
    "d = Student('홍길동', 25)\n",
    "\n",
    "a == b   # 홍길동, 25와 Maria, 25가 같으냐 => False\n",
    "b == c   # Maria, 25와 Maria, 23이 같으냐 => False\n",
    "a == d   # 홍길동, 25와 홍길동 25가 같으냐 => True\n"
   ]
  },
  {
   "cell_type": "code",
   "execution_count": 60,
   "metadata": {},
   "outputs": [
    {
     "name": "stdout",
     "output_type": "stream",
     "text": [
      "abcde\n"
     ]
    }
   ],
   "source": [
    "#1\n",
    "class TestClass1:\n",
    "    def set(self, s):\n",
    "        self.strings = s\n",
    "#    def print_string(self):\n",
    "#        print(self.s)\n",
    "\n",
    "test1 = TestClass1()\n",
    "test1.set('abcde')\n",
    "#test1 = TestClass1('abcde')\n",
    "#test1.print_string()\n",
    "print('%s' %test1.strings)"
   ]
  },
  {
   "cell_type": "code",
   "execution_count": 70,
   "metadata": {},
   "outputs": [
    {
     "name": "stdout",
     "output_type": "stream",
     "text": [
      "이름: 홍길동 \n",
      "이메일: test@korea.com\n"
     ]
    }
   ],
   "source": [
    "#2\n",
    "class TestClass2:\n",
    "    def __init__(self, name, email):\n",
    "        self.name = name\n",
    "        self.email = email\n",
    "        \n",
    "t2 = TestClass2('홍길동', 'test@korea.com')\n",
    "print('이름: %s \\n이메일: %s' %(t2.name, t2.email))"
   ]
  },
  {
   "cell_type": "code",
   "execution_count": 69,
   "metadata": {},
   "outputs": [
    {
     "name": "stdout",
     "output_type": "stream",
     "text": [
      "이름: 홍길동 \n",
      "이메일: test@korea.com\n"
     ]
    }
   ],
   "source": [
    "#3\n",
    "class TestClass2:\n",
    "    def __init__(self, name, email):\n",
    "        self.name = name\n",
    "        self.email = email\n",
    "    def print_info(self):\n",
    "        print('이름: %s \\n이메일: %s' %(self.name, self.email))\n",
    "\n",
    "t2 = TestClass2('홍길동', 'test@korea.com')\n",
    "t2.print_info()"
   ]
  },
  {
   "cell_type": "code",
   "execution_count": 71,
   "metadata": {},
   "outputs": [
    {
     "name": "stdout",
     "output_type": "stream",
     "text": [
      "이름: 홍길동 \n",
      "전화번호: 010-1234-5678 \n",
      "주소: 성남시\n"
     ]
    }
   ],
   "source": [
    "#4\n",
    "class Member:\n",
    "    def __init__(self, name, phone, address):\n",
    "        self.name = name\n",
    "        self.phone = phone\n",
    "        self.address = address\n",
    "\n",
    "m = Member('홍길동', '010-1234-5678', '성남시')\n",
    "print('이름: %s \\n전화번호: %s \\n주소: %s' %(m.name, m.phone, m.address))"
   ]
  },
  {
   "cell_type": "code",
   "execution_count": 77,
   "metadata": {},
   "outputs": [
    {
     "name": "stdout",
     "output_type": "stream",
     "text": [
      "이름: 홍길동 \n",
      "전화번호: 010-1234-5678 \n",
      "주소: 성남시\n"
     ]
    }
   ],
   "source": [
    "#5\n",
    "class Member:\n",
    "    def __init__(self, dict):\n",
    "        self.dict = dict\n",
    "\n",
    "    def get_name(self):\n",
    "        return self.dict['name']\n",
    "    def get_phone(self):\n",
    "        return self.dict['phone']\n",
    "    def get_address(self):\n",
    "        return self.dict['address']\n",
    "\n",
    "dict = {'name':'홍길동', 'phone':'010-1234-5678', 'address':'성남시'}\n",
    "m = Member(dict)\n",
    "print('이름: %s \\n전화번호: %s \\n주소: %s' %(m.get_name(), m.get_phone(), m.get_address()))"
   ]
  },
  {
   "cell_type": "code",
   "execution_count": null,
   "metadata": {},
   "outputs": [],
   "source": [
    "#6\n",
    "\"\"\"\n",
    "-16행에 부모클래스의 속성을 사용하기 위해서는 super() 써야함\n",
    "-06,10,19 행에 메소드 (self)를 지정해줘야함\n",
    "\"\"\""
   ]
  },
  {
   "cell_type": "code",
   "execution_count": 88,
   "metadata": {},
   "outputs": [
    {
     "name": "stdout",
     "output_type": "stream",
     "text": [
      "저자: 홍길동\n",
      "유형: PDF\n"
     ]
    }
   ],
   "source": [
    "class Book:\n",
    "    def __init__(self, author):\n",
    "        self.author = author\n",
    "        \n",
    "    def getAuthorInfo(self):\n",
    "        string = '저자: %s' %self.author\n",
    "        return string\n",
    "\n",
    "class Ebook(Book):\n",
    "    def __init__(self, author, type):\n",
    "        super().__init__(author)\n",
    "        self.type = type\n",
    "        \n",
    "    def getTypeInfo(self):\n",
    "        string = '유형: %s' %self.type\n",
    "        return string\n",
    "\n",
    "book1 =Ebook('홍길동', 'PDF')\n",
    "\n",
    "print(book1.getAuthorInfo())\n",
    "print(book1.getTypeInfo())"
   ]
  },
  {
   "cell_type": "code",
   "execution_count": null,
   "metadata": {},
   "outputs": [],
   "source": []
  }
 ],
 "metadata": {
  "kernelspec": {
   "display_name": "Python 3",
   "language": "python",
   "name": "python3"
  },
  "language_info": {
   "codemirror_mode": {
    "name": "ipython",
    "version": 3
   },
   "file_extension": ".py",
   "mimetype": "text/x-python",
   "name": "python",
   "nbconvert_exporter": "python",
   "pygments_lexer": "ipython3",
   "version": "3.7.6"
  }
 },
 "nbformat": 4,
 "nbformat_minor": 4
}
