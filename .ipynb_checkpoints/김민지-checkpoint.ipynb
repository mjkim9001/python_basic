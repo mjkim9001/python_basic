{
 "cells": [
  {
   "cell_type": "markdown",
   "metadata": {},
   "source": [
    "# Chapter 06 연습문제"
   ]
  },
  {
   "cell_type": "code",
   "execution_count": 1,
   "metadata": {},
   "outputs": [
    {
     "name": "stdout",
     "output_type": "stream",
     "text": [
      "아이디 : kim99, 마일리지 : 12000점\n",
      "아이디 : lee66, 마일리지 : 11000점\n",
      "아이디 : han55, 마일리지 : 3000점\n",
      "아이디 : hone77, 마일리지 : 5000점\n",
      "아이디 : hwaong33, 마일리지 : 18000점\n"
     ]
    }
   ],
   "source": [
    "# 1\n",
    "\n",
    "m = {'kim99':12000,'lee66':11000,'han55':3000,'hone77':5000,\n",
    "     'hwaong33':18000}\n",
    "\n",
    "for i in m:\n",
    "    print('아이디 : %s, 마일리지 : %d점' %(i, m[i]))"
   ]
  },
  {
   "cell_type": "code",
   "execution_count": 2,
   "metadata": {},
   "outputs": [
    {
     "name": "stdout",
     "output_type": "stream",
     "text": [
      "han55님의 마일리지가 5000점으로 수정되었습니다\n"
     ]
    }
   ],
   "source": [
    "# 2\n",
    "m = {'kim99':12000,'lee66':11000,'han55':3000,'hone77':5000,\n",
    "     'hwaong33':18000}\n",
    "\n",
    "m.update(han55=5000)\n",
    "# m['han55']=5000\n",
    "\n",
    "for i in m:\n",
    "    if i =='han55':\n",
    "        print('%s님의 마일리지가 %d점으로 수정되었습니다' %(i, m[i]))\n"
   ]
  },
  {
   "cell_type": "code",
   "execution_count": 3,
   "metadata": {},
   "outputs": [
    {
     "name": "stdout",
     "output_type": "stream",
     "text": [
      "{'kim99': 12000, 'lee66': 11000, 'han55': 3000, 'hone77': 5000, 'hwaong33': 18000, 'jang88': 7000}\n",
      "jang88님의 마일리지 (7000점)가 추가되었습니다\n"
     ]
    }
   ],
   "source": [
    "# 3\n",
    "m = {'kim99':12000,'lee66':11000,'han55':3000,'hone77':5000,\n",
    "     'hwaong33':18000}\n",
    "\n",
    "m['jang88'] = 7000\n",
    "#m.setdefault('jang88',7000)\n",
    "print(m)\n",
    "for i in m:\n",
    "    if i =='jang88':\n",
    "        print('%s님의 마일리지 (%d점)가 추가되었습니다' %(i, m[i]))\n",
    "        "
   ]
  },
  {
   "cell_type": "code",
   "execution_count": 4,
   "metadata": {},
   "outputs": [
    {
     "name": "stdout",
     "output_type": "stream",
     "text": [
      "hwaong33님의 18000점이 가장 높은 점수입니다.\n"
     ]
    }
   ],
   "source": [
    "# 4\n",
    "m = {'kim99':12000,'lee66':11000,'han55':3000,'hone77':5000,'hwaong33':18000}\n",
    "\n",
    "biggest = m['kim99']\n",
    "\n",
    "for i in m:\n",
    "    if m[i] > biggest:\n",
    "        biggest = m[i]\n",
    "print('%s님의 %d점이 가장 높은 점수입니다.' %(i,biggest))\n",
    "    "
   ]
  },
  {
   "cell_type": "code",
   "execution_count": 5,
   "metadata": {},
   "outputs": [
    {
     "name": "stdout",
     "output_type": "stream",
     "text": [
      "----------------------------------------\n",
      "  월  화  수  목  금  토  일\n",
      "----------------------------------------\n",
      "25.5 28.3 33.2 32.1 17.3 35.3 33.3 \n",
      "----------------------------------------\n"
     ]
    }
   ],
   "source": [
    "# 5\n",
    "high_temp = {'월':25.5, '화':28.3, '수':33.2, '목':32.1, '금':17.3, '토':35.3, '일': 33.3}\n",
    "\n",
    "print('-'*40)\n",
    "for i in high_temp:\n",
    "    print('%3s' %i, end='')\n",
    "print()\n",
    "print('-'*40)\n",
    "for i in high_temp:\n",
    "    print('%.1f' %high_temp[i], end=' ')\n",
    "print()\n",
    "print('-'*40)\n",
    "    "
   ]
  },
  {
   "cell_type": "code",
   "execution_count": 6,
   "metadata": {},
   "outputs": [
    {
     "name": "stdout",
     "output_type": "stream",
     "text": [
      "가장 낮은 최고 기온 : 17.3도\n"
     ]
    }
   ],
   "source": [
    "# 6\n",
    "high_temp = {'월':25.5, '화':28.3, '수':33.2, '목':32.1, '금':17.3, '토':35.3, '일': 33.3}\n",
    "\n",
    "low = high_temp['월']\n",
    "for i in high_temp:\n",
    "    if i !='토' and i !='일':\n",
    "        if high_temp[i] < low:\n",
    "            low = high_temp[i]\n",
    "\n",
    "print('가장 낮은 최고 기온 : %.1f도' %low)\n",
    "    "
   ]
  },
  {
   "cell_type": "code",
   "execution_count": 7,
   "metadata": {},
   "outputs": [
    {
     "name": "stdout",
     "output_type": "stream",
     "text": [
      "기온이 30도 이상인 요일 :수 목 토 일 "
     ]
    }
   ],
   "source": [
    "# 7\n",
    "high_temp = {'월':25.5, '화':28.3, '수':33.2, '목':32.1, '금':17.3, '토':35.3, '일': 33.3}\n",
    "t_list = []\n",
    "\n",
    "for i in high_temp:\n",
    "    if high_temp[i] >= 30:\n",
    "        t_list.append(i)\n",
    "\n",
    "print('기온이 30도 이상인 요일 :', end='')\n",
    "for i in range(len(t_list)):\n",
    "    print ('%s '%t_list[i],end='')\n"
   ]
  },
  {
   "cell_type": "code",
   "execution_count": 8,
   "metadata": {},
   "outputs": [
    {
     "name": "stdout",
     "output_type": "stream",
     "text": [
      "일주일간 최고 기온의 평균 : 29.3도\n"
     ]
    }
   ],
   "source": [
    "# 8\n",
    "high_temp = {'월':25.5, '화':28.3, '수':33.2, '목':32.1, '금':17.3, '토':35.3, '일': 33.3}\n",
    "\n",
    "temp_avg =0\n",
    "temp_sum = 0\n",
    "for i in high_temp:\n",
    "    temp_sum +=high_temp[i]\n",
    "\n",
    "temp_avg = temp_sum/len(high_temp)\n",
    "print('일주일간 최고 기온의 평균 : %.1f도' %temp_avg)\n"
   ]
  },
  {
   "cell_type": "markdown",
   "metadata": {},
   "source": [
    "# Chapter 07 연습문제"
   ]
  },
  {
   "cell_type": "code",
   "execution_count": 9,
   "metadata": {
    "scrolled": true
   },
   "outputs": [
    {
     "data": {
      "text/plain": [
       "'\\n나. 20, 10\\n'"
      ]
     },
     "execution_count": 9,
     "metadata": {},
     "output_type": "execute_result"
    }
   ],
   "source": [
    "#1\n",
    "\"\"\"\n",
    "나. 20, 10\n",
    "\"\"\""
   ]
  },
  {
   "cell_type": "code",
   "execution_count": null,
   "metadata": {},
   "outputs": [],
   "source": [
    "#2\n",
    "\"\"\"\n",
    "다. 300,100,300\n",
    "\"\"\""
   ]
  },
  {
   "cell_type": "code",
   "execution_count": 10,
   "metadata": {},
   "outputs": [
    {
     "name": "stdout",
     "output_type": "stream",
     "text": [
      "n값을 입력해 주세요 : 20\n",
      "2 ~ 20까지의 정수 중 소수: 2 3 5 7 11 13 17 19 "
     ]
    }
   ],
   "source": [
    "#3\n",
    "def num(n):\n",
    "    result = []\n",
    "    for i in range(2, n+1):\n",
    "        p=True\n",
    "        for j in range(2, i):\n",
    "            if i%j==0:\n",
    "                p=False\n",
    "                break\n",
    "        if(p):\n",
    "            result.append(i)\n",
    "        \n",
    "    return result\n",
    "            \n",
    "\n",
    "n = int(input('n값을 입력해 주세요 : '))\n",
    "\n",
    "r = num(n)\n",
    "print ('2 ~ %d까지의 정수 중 소수: ' %n, end ='')\n",
    "for i in range(len(result)):\n",
    "    print ('%s '%result[i],end='')\n"
   ]
  },
  {
   "cell_type": "code",
   "execution_count": 11,
   "metadata": {},
   "outputs": [
    {
     "name": "stdout",
     "output_type": "stream",
     "text": [
      "문자열을 입력하세요: I happy\n"
     ]
    },
    {
     "data": {
      "text/plain": [
       "'yppah I'"
      ]
     },
     "execution_count": 11,
     "metadata": {},
     "output_type": "execute_result"
    }
   ],
   "source": [
    "#4\n",
    "\n",
    "def back(s):\n",
    "    b_string =''\n",
    "    index = len(s)\n",
    "    while index>0:\n",
    "        b_string = b_string + s[index-1]\n",
    "        index = index-1\n",
    "    return b_string\n",
    "        \n",
    "        \n",
    "sen = input('문자열을 입력하세요: ')\n",
    "back(sen)"
   ]
  },
  {
   "cell_type": "code",
   "execution_count": null,
   "metadata": {},
   "outputs": [],
   "source": [
    "#5\n",
    "[1, 4, 9, 16, 25]"
   ]
  },
  {
   "cell_type": "code",
   "execution_count": 12,
   "metadata": {},
   "outputs": [
    {
     "name": "stdout",
     "output_type": "stream",
     "text": [
      "첫 번째 수를 입력하세요: 8\n",
      "두 번재 수를 입력하세요: 20\n",
      "8과(와) 20의 최소공약수 : 40\n"
     ]
    }
   ],
   "source": [
    "#6\n",
    "def computeMinGong(x, y):\n",
    "    if x>y:\n",
    "        big = x\n",
    "    else:\n",
    "        big = y\n",
    "    \n",
    "    while True:\n",
    "        if((big%x==0) and (big%y==0)):\n",
    "            result = big\n",
    "            break\n",
    "        big= big + 1\n",
    "            \n",
    "    return result\n",
    "\n",
    "num1 = int(input(\"첫 번째 수를 입력하세요: \"))\n",
    "num2 = int(input(\"두 번재 수를 입력하세요: \"))\n",
    "\n",
    "min_gong = computeMinGong(num1, num2)\n",
    "\n",
    "print('%d과(와) %d의 최소공약수 : %d' %(num1, num2, min_gong))"
   ]
  },
  {
   "cell_type": "code",
   "execution_count": 3,
   "metadata": {},
   "outputs": [
    {
     "name": "stdout",
     "output_type": "stream",
     "text": [
      "비밀번호 : 12637893\n",
      "비밀번호 확인 : 4785263897\n",
      "비밀번호가 잘못되었습니다! 다시 입력해 주세요\n",
      "비밀번호 : A126456789\\\n",
      "비밀번호 확인 : e2345987\n",
      "비밀번호와 비밀번호 확인이 서로 다릅니다! 다시 입력해 주세요!\n",
      "비밀번호 : A123456789\n",
      "비밀번호 확인 : A123456789\n",
      "유효한 비밀번호입니다~~~\n"
     ]
    }
   ],
   "source": [
    "#7\n",
    "def val_pw(pw):\n",
    "    if len(pw)<10:\n",
    "        return False\n",
    "    c_num = False\n",
    "    c_upper = False\n",
    "    \n",
    "    for i in pw:\n",
    "        if i>='A' and i<='Z':\n",
    "            c_upper = True\n",
    "        if i>='0' and i<='9':\n",
    "            c_num = True\n",
    "    \n",
    "    return c_num and c_upper\n",
    "\n",
    "pw = input('비밀번호 : ')\n",
    "c_pw = input('비밀번호 확인 : ')\n",
    "\n",
    "while True:\n",
    "    if val_pw(pw) and pw == c_pw : \n",
    "        msg='유효한 비밀번호입니다~~~'\n",
    "        print(msg)\n",
    "        break\n",
    "    else:\n",
    "        if not val_pw(pw):\n",
    "            msg='비밀번호가 잘못되었습니다! 다시 입력해 주세요'\n",
    "        else:\n",
    "            msg='비밀번호와 비밀번호 확인이 서로 다릅니다! 다시 입력해 주세요!'\n",
    "    print(msg)\n",
    "    \n",
    "    pw = input('비밀번호 : ')\n",
    "    c_pw = input('비밀번호 확인 : ')\n",
    "    \n"
   ]
  },
  {
   "cell_type": "code",
   "execution_count": 8,
   "metadata": {},
   "outputs": [
    {
     "name": "stdout",
     "output_type": "stream",
     "text": [
      "[77, 36, 29, 11, 20, 6, 91, 33]\n",
      "정렬된 수:\n",
      "6 11 20 29 33 36 77 91 "
     ]
    }
   ],
   "source": [
    "#8\n",
    "\n",
    "numbers = [77,36,29,11,20,6,91,33]\n",
    "\n",
    "def num_sort(n):\n",
    "    temp=0\n",
    "    for i in range(len(n)):\n",
    "        for j in range(len(n)):\n",
    "            if n[i]<n[j]:\n",
    "                temp = n[i]\n",
    "                n[i] = n[j]\n",
    "                n[j] = temp\n",
    "            \n",
    "    return n\n",
    "\n",
    "print(numbers)\n",
    "result = num_sort(numbers)\n",
    "print ('정렬된 수:')\n",
    "for i in range(len(result)):\n",
    "    print ('%s '%result[i],end='')\n"
   ]
  },
  {
   "cell_type": "code",
   "execution_count": null,
   "metadata": {},
   "outputs": [],
   "source": []
  }
 ],
 "metadata": {
  "kernelspec": {
   "display_name": "Python 3",
   "language": "python",
   "name": "python3"
  },
  "language_info": {
   "codemirror_mode": {
    "name": "ipython",
    "version": 3
   },
   "file_extension": ".py",
   "mimetype": "text/x-python",
   "name": "python",
   "nbconvert_exporter": "python",
   "pygments_lexer": "ipython3",
   "version": "3.7.6"
  }
 },
 "nbformat": 4,
 "nbformat_minor": 4
}
