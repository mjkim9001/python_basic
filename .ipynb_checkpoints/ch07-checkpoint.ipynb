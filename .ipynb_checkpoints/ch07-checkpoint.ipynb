{
 "cells": [
  {
   "cell_type": "markdown",
   "metadata": {},
   "source": [
    "# Chapter 07 함수"
   ]
  },
  {
   "cell_type": "code",
   "execution_count": 4,
   "metadata": {},
   "outputs": [
    {
     "name": "stdout",
     "output_type": "stream",
     "text": [
      "안녕하세요.\n",
      "안녕하세요.\n"
     ]
    }
   ],
   "source": [
    "# ex 7-1\n",
    "def hello():\n",
    "    print('안녕하세요.')\n",
    "\n",
    "hello()\n",
    "hello()"
   ]
  },
  {
   "cell_type": "code",
   "execution_count": 3,
   "metadata": {},
   "outputs": [
    {
     "name": "stdout",
     "output_type": "stream",
     "text": [
      "7은(는) 홀수이다.\n",
      "16은(는) 짝수이다.\n"
     ]
    }
   ],
   "source": [
    "# ex 7-2\n",
    "def even_odd(num):\n",
    "    if num % 2== 0:\n",
    "        print('%d은(는) 짝수이다.' %num)\n",
    "    else:\n",
    "        print('%d은(는) 홀수이다.' %num)\n",
    "even_odd(7)\n",
    "even_odd(16)"
   ]
  },
  {
   "cell_type": "code",
   "execution_count": 5,
   "metadata": {},
   "outputs": [
    {
     "name": "stdout",
     "output_type": "stream",
     "text": [
      "김지영님은 빨강을 좋아하지 않습니다.\n",
      "홍채영님은 노랑을 조금 좋아합니다.\n",
      "진소진님은 파랑을 매우 좋아합니다.\n"
     ]
    }
   ],
   "source": [
    "# ex 7-3\n",
    "def favorate_color(name, color, amount):\n",
    "    if(amount ==1):\n",
    "        print('%s님은 %s을 좋아하지 않습니다.' %(name, color))\n",
    "    elif(amount ==2):\n",
    "        print('%s님은 %s을 조금 좋아합니다.' %(name, color))\n",
    "    else:\n",
    "        print('%s님은 %s을 매우 좋아합니다.' %(name, color))\n",
    "\n",
    "favorate_color('김지영', '빨강', 1)\n",
    "favorate_color('홍채영', '노랑', 2)\n",
    "favorate_color('진소진', '파랑', 3)"
   ]
  },
  {
   "cell_type": "code",
   "execution_count": 13,
   "metadata": {},
   "outputs": [
    {
     "name": "stdout",
     "output_type": "stream",
     "text": [
      "3과목의 평균 : 90.00\n",
      "4과목의 평균 : 81.75\n",
      "5과목의 평균 : 79.40\n",
      "4과목의 평균 : 83.75\n"
     ]
    }
   ],
   "source": [
    "# ex 7-4\n",
    "def average(*scores):\n",
    "    sum = 0\n",
    "    for i in range(len(scores)):\n",
    "        sum += scores[i]\n",
    "    avg = sum/len(scores)\n",
    "    print('%d과목의 평균 : %.2f' %(len(scores), avg))\n",
    "    \n",
    "average(80, 90, 100)\n",
    "average(75, 80, 94, 78)\n",
    "average(80,73, 76, 86, 82)\n",
    "\n",
    "#tuple unpacking\n",
    "y = (70, 80, 90, 95)\n",
    "average(*y)"
   ]
  },
  {
   "cell_type": "code",
   "execution_count": 10,
   "metadata": {},
   "outputs": [
    {
     "name": "stdout",
     "output_type": "stream",
     "text": [
      "메인:x= 10 , id= 140717985473200\n",
      "func() : x =  100 , id= 140717985476080\n",
      "메인:x= 10 , id= 140717985473200\n"
     ]
    }
   ],
   "source": [
    "# ex 7-5\n",
    "\n",
    "#서브 루틴: func()함수\n",
    "def func(x):\n",
    "    x = 100\n",
    "    print('func() : x = ', x, ', id=', id(x))\n",
    "#메인 루틴\n",
    "x = 10\n",
    "print('메인:x=',x,', id=', id(x))\n",
    "func(x)\n",
    "print('메인:x=',x,', id=',id(x))"
   ]
  },
  {
   "cell_type": "code",
   "execution_count": 11,
   "metadata": {},
   "outputs": [
    {
     "name": "stdout",
     "output_type": "stream",
     "text": [
      "메인:x= [1, 2, 3] , id= 2014104316424\n",
      "func() : x =  [100, 2, 3] , id= 2014104316424\n",
      "메인:x= [100, 2, 3] , id= 2014104316424\n"
     ]
    }
   ],
   "source": [
    "# ex 7-6\n",
    "#서브 루틴: func()함수\n",
    "def func(x):\n",
    "    x[0] = 100\n",
    "    print('func() : x = ', x, ', id=', id(x))\n",
    "#메인 루틴\n",
    "x = [1,2,3]\n",
    "print('메인:x=',x,', id=', id(x))\n",
    "func(x)\n",
    "print('메인:x=',x,', id=',id(x))"
   ]
  },
  {
   "cell_type": "code",
   "execution_count": 19,
   "metadata": {},
   "outputs": [
    {
     "name": "stdout",
     "output_type": "stream",
     "text": [
      "원의 반지름을 입력하세요:10\n",
      "반지름: 10, 원의 면적: 314.00\n",
      "원의 반지름을 입력하세요20\n",
      "반지름:20, 원의 면적: 1256.00\n"
     ]
    }
   ],
   "source": [
    "# ex 7-7\n",
    "def circle_area(r):\n",
    "    area = r*r*3.14\n",
    "    return area\n",
    "radius = int(input('원의 반지름을 입력하세요:'))\n",
    "result = circle_area(radius)\n",
    "print('반지름: %d, 원의 면적: %.2f' %(radius, result))\n",
    "\n",
    "radius = int(input('원의 반지름을 입력하세요'))\n",
    "result = circle_area(radius)\n",
    "print('반지름:%d, 원의 면적: %.2f' %(radius, result))"
   ]
  },
  {
   "cell_type": "code",
   "execution_count": 17,
   "metadata": {},
   "outputs": [
    {
     "name": "stdout",
     "output_type": "stream",
     "text": [
      "name: 홍길동\n",
      "age: 30\n",
      "address: 서울시 용산구 이촌동\n"
     ]
    }
   ],
   "source": [
    "#키워드형 가변인수\n",
    "def personal_info(**kwargs):\n",
    "    for kw, val in kwargs.items():\n",
    "        print(kw, ': ', val, sep='')\n",
    "\n",
    "x = {'name': '홍길동', 'age':30, 'address':'서울시 용산구 이촌동'}\n",
    "personal_info(**x)"
   ]
  },
  {
   "cell_type": "code",
   "execution_count": 22,
   "metadata": {},
   "outputs": [
    {
     "name": "stdout",
     "output_type": "stream",
     "text": [
      "1:2:3**********"
     ]
    }
   ],
   "source": [
    "# 위치형 가변인수 + 키워드형 가변인수\n",
    "def custom_print(*args, **kwargs):\n",
    "    print(*args, **kwargs)\n",
    "\n",
    "custom_print(1, 2, 3, sep=':', end='*'*10)"
   ]
  },
  {
   "cell_type": "code",
   "execution_count": 12,
   "metadata": {},
   "outputs": [
    {
     "name": "stdout",
     "output_type": "stream",
     "text": [
      "10~100의 정수 합계 : 5005\n",
      "100~1000의 정수 합계 : 495550\n",
      "1000~10000의 정수 합계 : 49505500\n"
     ]
    }
   ],
   "source": [
    "# Q7-1\n",
    "def sum(start, end):\n",
    "    sum = 0\n",
    "    for i in range(start, end+1):\n",
    "        sum+=i\n",
    "    print('%d~%d의 정수 합계 : %d' %(start, end, sum))\n",
    "\n",
    "sum(10, 100)\n",
    "sum(100, 1000)\n",
    "sum(1000, 10000)"
   ]
  },
  {
   "cell_type": "code",
   "execution_count": 14,
   "metadata": {},
   "outputs": [
    {
     "name": "stdout",
     "output_type": "stream",
     "text": [
      "시작 수를 입력하세요: 10\n",
      "끝 수를 입력하세요: 100\n",
      "합계를 구할 배수를 입력하세요:5\n",
      "10~100의 정수 중 5의 배수의 합: 1045\n"
     ]
    }
   ],
   "source": [
    "# Q7-2\n",
    "def sum_besu(start, end, n):\n",
    "    sum = 0\n",
    "    for i in range(start, end+1):\n",
    "        if i % n ==0:\n",
    "            sum+=i\n",
    "    print('%d~%d의 정수 중 %d의 배수의 합: %d' %(start, end, n, sum))\n",
    "\n",
    "start = int(input('시작 수를 입력하세요: ')) \n",
    "end = int(input('끝 수를 입력하세요: '))\n",
    "n = int(input('합계를 구할 배수를 입력하세요:'))\n",
    "sum_besu(start, end , n)\n",
    "\n"
   ]
  },
  {
   "cell_type": "code",
   "execution_count": 36,
   "metadata": {},
   "outputs": [
    {
     "name": "stdout",
     "output_type": "stream",
     "text": [
      "첫 번째 수를 입력하세요: 33\n",
      "두 번재 수를 입력하세요: 44\n",
      "33과(와) 44의 최대공약수 : 11\n"
     ]
    }
   ],
   "source": [
    "# Q7-3\n",
    "def computeMaxGong(x, y):\n",
    "    if x>y:\n",
    "        small = y\n",
    "    else:\n",
    "        small = x\n",
    "    \n",
    "    for i in range(1, small+1):\n",
    "        if((x%i==0) and (y%i==0)):\n",
    "            result = i \n",
    "    return result\n",
    "\n",
    "num1 = int(input(\"첫 번째 수를 입력하세요: \"))\n",
    "num2 = int(input(\"두 번재 수를 입력하세요: \"))\n",
    "\n",
    "max_gong = computeMaxGong(num1, num2)\n",
    "\n",
    "print('%d과(와) %d의 최대공약수 : %d' %(num1, num2, max_gong))"
   ]
  },
  {
   "cell_type": "code",
   "execution_count": 11,
   "metadata": {},
   "outputs": [
    {
     "name": "stdout",
     "output_type": "stream",
     "text": [
      "숫자를 입력하세요: 1000\n"
     ]
    },
    {
     "data": {
      "text/plain": [
       "[6, 28, 496]"
      ]
     },
     "execution_count": 11,
     "metadata": {},
     "output_type": "execute_result"
    }
   ],
   "source": [
    "# 완전수\n",
    "def perfect_num(n):\n",
    "    result=[]\n",
    "    \n",
    "    for i in range(1, n+1):\n",
    "        sum=0\n",
    "        for j in range(1, i):\n",
    "            if i%j==0:\n",
    "                sum+= j\n",
    "        if i ==sum:\n",
    "            result.append(i)\n",
    "    return result\n",
    "\n",
    "num = int(input(\"숫자를 입력하세요: \"))\n",
    "perfect_num(num)\n"
   ]
  },
  {
   "cell_type": "code",
   "execution_count": 34,
   "metadata": {},
   "outputs": [
    {
     "name": "stdout",
     "output_type": "stream",
     "text": [
      "10\n",
      "140717985473200\n",
      "10\n",
      "140717985473200\n"
     ]
    }
   ],
   "source": [
    "# ex7-10\n",
    "def func():\n",
    "    print(x)\n",
    "    print(id(x))\n",
    "\n",
    "x=10\n",
    "print(x)\n",
    "print(id(x))\n",
    "func()\n",
    "    "
   ]
  },
  {
   "cell_type": "code",
   "execution_count": 36,
   "metadata": {},
   "outputs": [
    {
     "name": "stdout",
     "output_type": "stream",
     "text": [
      "10\n",
      "140717985473200\n",
      "100\n",
      "140717985476080\n",
      "10\n",
      "140717985473200\n"
     ]
    }
   ],
   "source": [
    "# ex7-12\n",
    "def func():\n",
    "    x = 100\n",
    "    print(x)\n",
    "    print(id(x))\n",
    "    \n",
    "x=10\n",
    "print(x)\n",
    "print(id(x))\n",
    "\n",
    "func()\n",
    "\n",
    "print(x)\n",
    "print(id(x))\n"
   ]
  },
  {
   "cell_type": "code",
   "execution_count": 37,
   "metadata": {
    "scrolled": true
   },
   "outputs": [
    {
     "name": "stdout",
     "output_type": "stream",
     "text": [
      "10\n",
      "100\n",
      "140717985476080\n",
      "100\n",
      "140717985476080\n"
     ]
    }
   ],
   "source": [
    "# ex7-13\n",
    "def func():\n",
    "    global x\n",
    "    x=100\n",
    "    print(x)\n",
    "    print(id(x))\n",
    "    \n",
    "x=10\n",
    "print(x) #10\n",
    "func()\n",
    "print(x) #100\n",
    "print(id(x))"
   ]
  },
  {
   "cell_type": "markdown",
   "metadata": {},
   "source": [
    "# File 입출력"
   ]
  },
  {
   "cell_type": "code",
   "execution_count": 38,
   "metadata": {},
   "outputs": [
    {
     "name": "stdout",
     "output_type": "stream",
     "text": [
      "파일 쓰기 완료!\n"
     ]
    }
   ],
   "source": [
    "# ex 7-14\n",
    "file = open('smaple.txt','w',encoding='utf8')\n",
    "file.write('안녕하세요. 반값습니다')\n",
    "file.close()\n",
    "print('파일 쓰기 완료!')"
   ]
  },
  {
   "cell_type": "code",
   "execution_count": 39,
   "metadata": {},
   "outputs": [
    {
     "name": "stdout",
     "output_type": "stream",
     "text": [
      "김소영 82 80 93 97 93 88\n",
      "정예린 86 100 93 86 90 77\n",
      "이세영 91 88 99 79 92 68\n",
      "정수정 86 100 93 89 92 93\n",
      "박지수 80 100 95 89 90 84\n",
      "\n"
     ]
    }
   ],
   "source": [
    "#ex 7-15\n",
    "scores = ['김소영 82 80 93 97 93 88', '정예린 86 100 93 86 90 77', '이세영 91 88 99 79 92 68',\n",
    "         '정수정 86 100 93 89 92 93', '박지수 80 100 95 89 90 84']\n",
    "data=''\n",
    "for item in scores:\n",
    "    data += item+'\\n'\n",
    "    \n",
    "#화면출력하기\n",
    "print(data)\n",
    "    \n",
    "#파일(scores.txt)에 저장하기\n",
    "file = open('scores.txt', 'w', encoding='utf8')\n",
    "file.write(data)\n",
    "file.close()"
   ]
  },
  {
   "cell_type": "code",
   "execution_count": 40,
   "metadata": {},
   "outputs": [
    {
     "name": "stdout",
     "output_type": "stream",
     "text": [
      "scores.txt파일의 내용 : \n",
      "김소영 82 80 93 97 93 88\n",
      "정예린 86 100 93 86 90 77\n",
      "이세영 91 88 99 79 92 68\n",
      "정수정 86 100 93 89 92 93\n",
      "박지수 80 100 95 89 90 84\n"
     ]
    }
   ],
   "source": [
    "#ex 7-16\n",
    "file = open('scores.txt', 'r', encoding='utf8')\n",
    "lines = file.readlines() #라인단위로 읽어서 리스트로 만들어준다\n",
    "\n",
    "print('scores.txt파일의 내용 : ')\n",
    "for line in lines : \n",
    "    print(line, end='')\n",
    "    \n",
    "file.close()\n"
   ]
  },
  {
   "cell_type": "code",
   "execution_count": 1,
   "metadata": {},
   "outputs": [
    {
     "name": "stdout",
     "output_type": "stream",
     "text": [
      "오렌지에 맞는 영어 단어는?orange\n",
      "맞습니다!\n",
      "과자에 맞는 영어 단어는?rh\n",
      "틀렸습니다!\n",
      "어머니에 맞는 영어 단어는?mother\n",
      "맞습니다!\n",
      "형제에 맞는 영어 단어는?dsaf\n",
      "틀렸습니다!\n",
      "파이썬에 맞는 영어 단어는?python\n",
      "맞습니다!\n"
     ]
    }
   ],
   "source": [
    "#Q7-4\n",
    "def match_word(word, answer):\n",
    "    if word == answer:\n",
    "        msg = '맞습니다!'\n",
    "    else:\n",
    "        msg = '틀렸습니다!'\n",
    "    return msg\n",
    "\n",
    "eng_dict = {'orange':'오렌지', 'cookie':'과자', 'mother':'어머니', 'brother':'형제', 'python':'파이썬'}\n",
    "\n",
    "for key in eng_dict:\n",
    "    string = input('%s에 맞는 영어 단어는?' %eng_dict[key])\n",
    "    result = match_word(string, key)\n",
    "    print(result)\n",
    "        "
   ]
  },
  {
   "cell_type": "code",
   "execution_count": 4,
   "metadata": {},
   "outputs": [
    {
     "name": "stdout",
     "output_type": "stream",
     "text": [
      "첫번째 수를 입력하세요: 15\n",
      "두번째 수를 입력하세요: 54\n",
      "세번째 수를 입력하세요: 95\n",
      "15, 54, 95 중 가장 큰 수 : 95\n"
     ]
    }
   ],
   "source": [
    "#Q7-5\n",
    "def max_two(i, j):\n",
    "    if i>j:\n",
    "        return i\n",
    "    else:\n",
    "        return j\n",
    "    \n",
    "def max_three(x, y, z):\n",
    "    max1 = max_two(x,y)\n",
    "    max2 = max_two(y,z)\n",
    "    \n",
    "    if max1 > max2:\n",
    "        largest = max1\n",
    "    else:\n",
    "        largest = max2\n",
    "    return largest\n",
    "\n",
    "a = int(input('첫번째 수를 입력하세요: '))\n",
    "b = int(input('두번째 수를 입력하세요: '))\n",
    "c = int(input('세번째 수를 입력하세요: '))\n",
    "max_num = max_three(a,b,c)\n",
    "\n",
    "print('%d, %d, %d 중 가장 큰 수 : %d' %(a, b, c, max_num))"
   ]
  },
  {
   "cell_type": "code",
   "execution_count": 9,
   "metadata": {},
   "outputs": [
    {
     "name": "stdout",
     "output_type": "stream",
     "text": [
      "--------------------------------------------------\n",
      "김소영\n",
      "합계:445, 평균:89.00\n",
      "--------------------------------------------------\n",
      "정예린\n",
      "합계:455, 평균:91.00\n",
      "--------------------------------------------------\n",
      "이세영\n",
      "합계:449, 평균:89.80\n",
      "--------------------------------------------------\n",
      "정수정\n",
      "합계:460, 평균:92.00\n",
      "--------------------------------------------------\n",
      "박지수\n",
      "합계:454, 평균:90.80\n",
      "--------------------------------------------------\n"
     ]
    }
   ],
   "source": [
    "# Q7-6\n",
    "\n",
    "file = open('scores.txt', 'r', encoding='utf8')\n",
    "lines = file.readlines()\n",
    "file.close()\n",
    "print('-'*50)\n",
    "\n",
    "for line in lines:\n",
    "    student = line.split()\n",
    "    i = 0\n",
    "    sum = 0\n",
    "    \n",
    "    while i<len(lines)+1:\n",
    "        if i==0:\n",
    "            print(student[i])\n",
    "        else:\n",
    "            sum +=int(student[i])\n",
    "        i+=1\n",
    "    print('합계:%d, 평균:%.2f' %(sum, sum/5))\n",
    "    print('-'*50)"
   ]
  },
  {
   "cell_type": "code",
   "execution_count": null,
   "metadata": {},
   "outputs": [],
   "source": [
    "#1\n",
    "\"\"\"\n",
    "나. 20, 10\n",
    "\"\"\""
   ]
  },
  {
   "cell_type": "code",
   "execution_count": null,
   "metadata": {},
   "outputs": [],
   "source": [
    "#2\n",
    "\"\"\"\n",
    "다. 300,100,300\n",
    "\"\"\""
   ]
  },
  {
   "cell_type": "code",
   "execution_count": 19,
   "metadata": {},
   "outputs": [
    {
     "name": "stdout",
     "output_type": "stream",
     "text": [
      "n값을 입력해 주세요 : 20\n",
      "2 ~ 20까지의 정수 중 소수: [2, 3, 5, 7, 11, 13, 17, 19]\n"
     ]
    }
   ],
   "source": [
    "#3\n",
    "def num(n):\n",
    "    result = []\n",
    "    for i in range(2, n+1):\n",
    "        p=True\n",
    "        for j in range(2, i):\n",
    "            if i%j==0:\n",
    "                p=False\n",
    "                break\n",
    "        if(p):\n",
    "            result.append(i)\n",
    "        \n",
    "    return result\n",
    "            \n",
    "\n",
    "n = int(input('n값을 입력해 주세요 : '))\n",
    "\n",
    "result = num(n)\n",
    "\n",
    "print('2 ~ %d까지의 정수 중 소수:' %n, result)\n",
    "\n",
    "\n"
   ]
  },
  {
   "cell_type": "code",
   "execution_count": 34,
   "metadata": {},
   "outputs": [
    {
     "name": "stdout",
     "output_type": "stream",
     "text": [
      "문자열을 입력하세요: dsfse\n"
     ]
    },
    {
     "data": {
      "text/plain": [
       "'esfsd'"
      ]
     },
     "execution_count": 34,
     "metadata": {},
     "output_type": "execute_result"
    }
   ],
   "source": [
    "#4\n",
    "\n",
    "def back(s):\n",
    "    b_string =''\n",
    "    index = len(s)\n",
    "    while index>0:\n",
    "        b_string = b_string + s[index-1]\n",
    "        index = index-1\n",
    "    return b_string\n",
    "        \n",
    "        \n",
    "sen = input('문자열을 입력하세요: ')\n",
    "back(sen)\n",
    "\n",
    "\n",
    "        "
   ]
  },
  {
   "cell_type": "code",
   "execution_count": null,
   "metadata": {},
   "outputs": [],
   "source": [
    "#5\n",
    "[1, 4, 9, 16, 25]"
   ]
  },
  {
   "cell_type": "code",
   "execution_count": 38,
   "metadata": {},
   "outputs": [
    {
     "name": "stdout",
     "output_type": "stream",
     "text": [
      "첫 번째 수를 입력하세요: 8\n",
      "두 번재 수를 입력하세요: 20\n",
      "8과(와) 20의 최소공약수 : 40\n"
     ]
    }
   ],
   "source": [
    "#6\n",
    "def computeMinGong(x, y):\n",
    "    if x>y:\n",
    "        big = x\n",
    "    else:\n",
    "        big = y\n",
    "    \n",
    "    while True:\n",
    "        if((big%x==0) and (big%y==0)):\n",
    "            result = big\n",
    "            break\n",
    "        big= big + 1\n",
    "            \n",
    "    return result\n",
    "\n",
    "num1 = int(input(\"첫 번째 수를 입력하세요: \"))\n",
    "num2 = int(input(\"두 번재 수를 입력하세요: \"))\n",
    "\n",
    "min_gong = computeMinGong(num1, num2)\n",
    "\n",
    "print('%d과(와) %d의 최소공약수 : %d' %(num1, num2, min_gong))"
   ]
  },
  {
   "cell_type": "code",
   "execution_count": null,
   "metadata": {},
   "outputs": [
    {
     "name": "stdout",
     "output_type": "stream",
     "text": [
      "비밀번호 : A123456789\n"
     ]
    }
   ],
   "source": [
    "#7\n",
    "def val_pw(pw):\n",
    "    if len(pw)<10:\n",
    "        return False\n",
    "    c_num = False\n",
    "    c_upper = False\n",
    "    \n",
    "    #capital = 'ABCDEFGHIJKLMNOPQRSTUVXYZ'\n",
    "    #'a' in capital\n",
    "    #word = 'word'\n",
    "    #for c in word:\n",
    "    #    print(c in capital, end=' ')\n",
    "    #    print(c>'A' and c<'Z', end =' ')\n",
    "    #알파벳은 아스키코드로 모두 숫자값도 가지고 있다\n",
    "    \n",
    "    for i in pw:\n",
    "        if i>='A' and i<='Z':\n",
    "            c_upper = True\n",
    "        if i>='0' and i<='9':\n",
    "            c_num = True\n",
    "    \n",
    "    return c_num and c_upper\n",
    "\n",
    "pw = input('비밀번호 : ')\n",
    "c_pw = input('비밀번호 확인 : ')\n",
    "\n",
    "while True:\n",
    "    if val_pw(pw) and pw == c_pw : \n",
    "        msg='유효한 비밀번호입니다~~~'\n",
    "        print(msg)\n",
    "        break\n",
    "    else:\n",
    "        if not val_pw(pw):\n",
    "            msg='비밀번호가 잘못되었습니다! 다시 입력해 주세요'\n",
    "        else:\n",
    "            msg='비밀번호와 비밀번호 확인이 서로 다릅니다! 다시 입력해 주세요!'\n",
    "    print(msg)\n",
    "    \n",
    "    pw = input('비밀번호 : ')\n",
    "    c_pw = input('비밀번호 확인 : ')\n"
   ]
  },
  {
   "cell_type": "code",
   "execution_count": 1,
   "metadata": {},
   "outputs": [
    {
     "name": "stdout",
     "output_type": "stream",
     "text": [
      "[77, 36, 29, 11, 20, 6, 91, 33]\n",
      "6 11 20 29 33 36 77 91 "
     ]
    }
   ],
   "source": [
    "#8\n",
    "\n",
    "numbers = [77,36,29,11,20,6,91,33]\n",
    "\n",
    "def num_sort(n):\n",
    "    temp=0\n",
    "    for i in range(len(n)):\n",
    "        for j in range(len(n)):\n",
    "            if n[i]<n[j]:\n",
    "                temp = n[i]\n",
    "                n[i] = n[j]\n",
    "                n[j] = temp\n",
    "            \n",
    "    return n\n",
    "print(numbers)\n",
    "result = num_sort(numbers)\n",
    "print ('정렬된 수:')\n",
    "for i in range(len(result)):\n",
    "    print ('%s '%result[i],end='')\n"
   ]
  },
  {
   "cell_type": "code",
   "execution_count": null,
   "metadata": {},
   "outputs": [],
   "source": []
  }
 ],
 "metadata": {
  "kernelspec": {
   "display_name": "Python 3",
   "language": "python",
   "name": "python3"
  },
  "language_info": {
   "codemirror_mode": {
    "name": "ipython",
    "version": 3
   },
   "file_extension": ".py",
   "mimetype": "text/x-python",
   "name": "python",
   "nbconvert_exporter": "python",
   "pygments_lexer": "ipython3",
   "version": "3.7.6"
  }
 },
 "nbformat": 4,
 "nbformat_minor": 4
}
