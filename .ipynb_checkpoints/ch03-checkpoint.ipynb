{
 "cells": [
  {
   "cell_type": "markdown",
   "metadata": {},
   "source": [
    "# Chapter 03. 조건문"
   ]
  },
  {
   "cell_type": "code",
   "execution_count": 5,
   "metadata": {},
   "outputs": [
    {
     "name": "stdout",
     "output_type": "stream",
     "text": [
      "숫자를 입력하세요:0\n",
      "0\n"
     ]
    }
   ],
   "source": [
    "# 예제 3-1\n",
    "x = int(input('숫자를 입력하세요:'))\n",
    "\n",
    "if x>0 :\n",
    "    print('양수!')\n",
    "else : \n",
    "    if x<0 :\n",
    "        print('음수!')\n",
    "    else :\n",
    "        print('0')"
   ]
  },
  {
   "cell_type": "code",
   "execution_count": 16,
   "metadata": {},
   "outputs": [
    {
     "name": "stdout",
     "output_type": "stream",
     "text": [
      "필기성적을 입력하세요: 75\n",
      "실기성적을 입력하세요: 95\n",
      "불합격!\n"
     ]
    }
   ],
   "source": [
    "# 예제 3-4\n",
    "score1 = int(input('필기성적을 입력하세요: '))\n",
    "score2 = int(input('실기성적을 입력하세요: '))\n",
    "\n",
    "if score1 >= 80 and score2 >= 80 :\n",
    "    print('합격!')\n",
    "else : \n",
    "    print('불합격!')"
   ]
  },
  {
   "cell_type": "code",
   "execution_count": 23,
   "metadata": {},
   "outputs": [
    {
     "name": "stdout",
     "output_type": "stream",
     "text": [
      "이름을 입력하세요 :\n",
      "이름이 입력되지 않았습니다.\n"
     ]
    }
   ],
   "source": [
    "# 예제 3-6\n",
    "name = input('이름을 입력하세요 :')\n",
    "\n",
    "if not name :\n",
    "    print('이름이 입력되지 않았습니다.')\n",
    "else : \n",
    "    print('이름:%s'%name)"
   ]
  },
  {
   "cell_type": "code",
   "execution_count": 34,
   "metadata": {},
   "outputs": [
    {
     "name": "stdout",
     "output_type": "stream",
     "text": [
      "나이를 입력하세요:54\n",
      "입장료: 3000원\n"
     ]
    }
   ],
   "source": [
    "# 예제 3-8\n",
    "age = int(input('나이를 입력하세요:'))\n",
    "pay = '3000원'\n",
    "\n",
    "if age >= 64 or age <7:\n",
    "    pay = '무료'\n",
    "    \n",
    "print('입장료: %s' %pay)"
   ]
  },
  {
   "cell_type": "code",
   "execution_count": 37,
   "metadata": {
    "scrolled": true
   },
   "outputs": [
    {
     "name": "stdout",
     "output_type": "stream",
     "text": [
      "나이를 입력하세요:8\n",
      "입장료: 1500\n"
     ]
    }
   ],
   "source": [
    "age = int(input('나이를 입력하세요:'))\n",
    "\n",
    "if age >= 64 or age <7:\n",
    "    pay = '무료'\n",
    "elif age <=18:\n",
    "    pay = 1500\n",
    "else:\n",
    "    pay =3000\n",
    "    \n",
    "print('입장료: %s' %pay)"
   ]
  },
  {
   "cell_type": "code",
   "execution_count": 39,
   "metadata": {},
   "outputs": [
    {
     "name": "stdout",
     "output_type": "stream",
     "text": [
      "점수를 입력하세요:90\n",
      "성적: 90\n",
      "등급: A\n"
     ]
    }
   ],
   "source": [
    "# 예제 3-10\n",
    "score = int(input('점수를 입력하세요:'))\n",
    "\n",
    "if score >=90:\n",
    "    grade = 'A'\n",
    "elif score >=80:\n",
    "    grade = 'B'\n",
    "elif score >=70:\n",
    "    grade = 'C'\n",
    "elif score >=60:\n",
    "    grade = 'D'\n",
    "else:\n",
    "    grade = 'F'\n",
    "    \n",
    "print('성적: %d' %score)\n",
    "print('등급: %s' %grade)\n"
   ]
  },
  {
   "cell_type": "code",
   "execution_count": 1,
   "metadata": {},
   "outputs": [
    {
     "name": "stdout",
     "output_type": "stream",
     "text": [
      "현재년을 입력해 주세요:2020\n",
      "현재월을 입력해 주세요:5\n",
      "현재일을 입력해 주세요:29\n",
      "출생년을 입력해 주세요:1993\n",
      "출생월을 입력해 주세요:4\n",
      "출생일을 입력해 주세요:7\n",
      "------------------------------\n",
      "오늘 날짜 : 2020년 5월 29일\n",
      "생년 월일 : 1993년 4월 7일\n",
      "------------------------------\n",
      "만 나이 : 27세\n",
      "------------------------------\n"
     ]
    }
   ],
   "source": [
    "# 예제 3-11\n",
    "now_year=int(input(\"현재년을 입력해 주세요:\"))\n",
    "now_month=int(input(\"현재월을 입력해 주세요:\"))\n",
    "now_day=int(input(\"현재일을 입력해 주세요:\"))\n",
    "\n",
    "birth_year=int(input(\"출생년을 입력해 주세요:\"))\n",
    "birth_month=int(input(\"출생월을 입력해 주세요:\"))\n",
    "birth_day=int(input(\"출생일을 입력해 주세요:\"))\n",
    "\n",
    "if birth_month<now_month:\n",
    "    age = now_year-birth_year\n",
    "elif birth_month == now_month:\n",
    "    if birth_day < now_day :\n",
    "        age = now_year - birth_year\n",
    "    else :\n",
    "        age = now_year - birth_year -1\n",
    "else :\n",
    "    age = now_year-birth_year-1\n",
    "    \n",
    "\n",
    "print('-'*30)\n",
    "\n",
    "print('오늘 날짜 : %d년 %d월 %d일' %(now_year, now_month, now_day))\n",
    "print('생년 월일 : %d년 %d월 %d일' %(birth_year, birth_month, birth_day))\n",
    "print('-'*30)\n",
    "print('만 나이 : %d세' %age)\n",
    "print('-'*30)"
   ]
  },
  {
   "cell_type": "code",
   "execution_count": 36,
   "metadata": {},
   "outputs": [
    {
     "name": "stdout",
     "output_type": "stream",
     "text": [
      "월을 입력하세요: 4\n",
      "4는 봄입니다.\n"
     ]
    }
   ],
   "source": [
    "# Q3-1\n",
    "month = int(input('월을 입력하세요: '))\n",
    "\n",
    "if month>=3 and month<=5 :\n",
    "    season = '봄'\n",
    "elif month>=6 and month<=8 :\n",
    "    season = '여름'\n",
    "elif month>=9 and month<=11 : \n",
    "    season = '가을'\n",
    "else : \n",
    "    season = '겨울'\n",
    "\n",
    "print('%d는 %s입니다.' %(month, season))\n",
    "    "
   ]
  },
  {
   "cell_type": "code",
   "execution_count": 20,
   "metadata": {},
   "outputs": [
    {
     "name": "stdout",
     "output_type": "stream",
     "text": [
      "좌석 종류를 입력해 주세요(1:일반실, 2:특실):1\n",
      "일반실입니다\n"
     ]
    }
   ],
   "source": [
    "# Q3-2\n",
    "seat = input('좌석 종류를 입력해 주세요(1:일반실, 2:특실):')\n",
    "if seat == '1' :\n",
    "    print('일반실입니다')\n",
    "else :\n",
    "    print('특실입니다')"
   ]
  },
  {
   "cell_type": "code",
   "execution_count": 26,
   "metadata": {},
   "outputs": [
    {
     "name": "stdout",
     "output_type": "stream",
     "text": [
      "숫자를 입력하세요:15\n",
      "15 은(는) 5의 배수입니다\n"
     ]
    }
   ],
   "source": [
    "# Q3-3\n",
    "num = int(input('숫자를 입력하세요:'))\n",
    "\n",
    "if num%4 == 0 and num%5 == 0:\n",
    "    result = '은(는) 4의 배수면서 5의 배수이다.'\n",
    "elif num%4 == 0:\n",
    "    result = '은(는) 4의 배수입니다.'\n",
    "elif num%5 == 0:\n",
    "    result = '은(는) 5의 배수입니다'\n",
    "else :\n",
    "    result = '은(는) 4의 배수도 5의 배수도 아니다.'\n",
    "    \n",
    "print(num, result)"
   ]
  },
  {
   "cell_type": "code",
   "execution_count": 32,
   "metadata": {},
   "outputs": [
    {
     "name": "stdout",
     "output_type": "stream",
     "text": [
      "영어 알파벳을 입력하세요:w\n",
      "w는 자음입니다\n"
     ]
    }
   ],
   "source": [
    "# Q3-3\n",
    "al = input('영어 알파벳을 입력하세요:')\n",
    "al_up = al.upper()\n",
    "\n",
    "if al_up == 'A' or al_up =='E' or al_up =='I'or al_up =='O'or al_up == 'U':\n",
    "    print('%s는 모음입니다' %al)\n",
    "else:\n",
    "    print('%s는 자음입니다' %al)"
   ]
  },
  {
   "cell_type": "code",
   "execution_count": 5,
   "metadata": {},
   "outputs": [
    {
     "name": "stdout",
     "output_type": "stream",
     "text": [
      "키를 입력해 주세요: 160\n",
      "몸무게를 입력해 주세요: 50\n",
      "------------------------------\n",
      "키 : 160 cm\n",
      "몸무게 : 50 kg\n",
      "딱 보기 좋습니다.\n",
      "------------------------------\n"
     ]
    }
   ],
   "source": [
    "# Q3-5\n",
    "height = int(input('키를 입력해 주세요: '))\n",
    "weight = int(input('몸무게를 입력해 주세요: '))\n",
    "\n",
    "a = (height - 100) *0.9\n",
    "\n",
    "print('-'*30)\n",
    "print('키 : %d cm' %height)\n",
    "print('몸무게 : %d kg' %weight)\n",
    "if weight < a:\n",
    "    print('딱 보기 좋습니다.')\n",
    "else:\n",
    "    print('표준(또는) 마른 체형입니다.')\n",
    "print('-'*30)"
   ]
  },
  {
   "cell_type": "code",
   "execution_count": 14,
   "metadata": {},
   "outputs": [
    {
     "name": "stdout",
     "output_type": "stream",
     "text": [
      "물건 구매가를 입력하세요: 60000\n",
      "구매가 : 60000원 \n",
      "할인율 : 7.5% \n",
      "할인 금액 : 4500원 \n",
      "지불 금액 : 55500원\n"
     ]
    }
   ],
   "source": [
    "# Q3-6\n",
    "price = int(input('물건 구매가를 입력하세요: '))\n",
    "\n",
    "if price>=10000 and price<50000:\n",
    "    rate = 5\n",
    "elif price>=50000 and price<300000:\n",
    "    rate = 7.5\n",
    "elif price>=300000:\n",
    "    rate = 10\n",
    "else:\n",
    "    rate = 0\n",
    "    \n",
    "discount = price * rate / 100\n",
    "pay = price-discount\n",
    "\n",
    "print('구매가 : %d원 \\n할인율 : %.1f%% \\n할인 금액 : %d원 \\n지불 금액 : %d원'\n",
    "    %(price, rate, discount, pay))"
   ]
  },
  {
   "cell_type": "code",
   "execution_count": 16,
   "metadata": {},
   "outputs": [
    {
     "name": "stdout",
     "output_type": "stream",
     "text": [
      "첫번째 정수를 입력하세요20\n",
      "두번째 정수를 입력하세요46\n",
      "세번째 정수를 입력하세요85\n",
      "입력된 세 수 20 46 85 중 가장 큰 수는 85 입니다\n"
     ]
    }
   ],
   "source": [
    "# Q3-7\n",
    "num1 = int(input('첫번째 정수를 입력하세요'))\n",
    "num2 = int(input('두번째 정수를 입력하세요'))\n",
    "num3 = int(input('세번째 정수를 입력하세요'))\n",
    "\n",
    "if num1 > num2 and num1 > num3:\n",
    "    largest = num1;\n",
    "elif num2 > num1 and num2 > num3:\n",
    "    largest = num2;\n",
    "else:\n",
    "    largest = num3\n",
    "\n",
    "print('입력된 세 수 %d %d %d 중 가장 큰 수는 %d 입니다' %(num1, num2, num3, largest))"
   ]
  },
  {
   "cell_type": "code",
   "execution_count": 4,
   "metadata": {},
   "outputs": [
    {
     "name": "stdout",
     "output_type": "stream",
     "text": [
      "서비스 만족도 : \n",
      " 1: 매우만족 \n",
      " 2: 만족 \n",
      " 3: 불만족\n",
      "서비스 만족도를 입력해주세요(예:1 또는 2 또는 3):2\n",
      "음식값을 입력해 주세요(예:8000) : 9000\n",
      "서비스 만족도 : 만족, 팁 : 900원\n"
     ]
    }
   ],
   "source": [
    "# Q3-8\n",
    "print('서비스 만족도 : \\n 1: 매우만족 \\n 2: 만족 \\n 3: 불만족')\n",
    "service_sati = int(input('서비스 만족도를 입력해주세요(예:1 또는 2 또는 3):'))\n",
    "food_price = int(input('음식값을 입력해 주세요(예:8000) : '))\n",
    "\n",
    "if service_sati == 1:\n",
    "    tip = food_price*0.2\n",
    "    sati = '매우만족'\n",
    "elif service_sati == 2:\n",
    "    tip = food_price*0.1\n",
    "    sati = '만족'\n",
    "else:\n",
    "    tip = food_price*0.05\n",
    "    sati = '불만족'\n",
    "\n",
    "print('서비스 만족도 : %s, 팁 : %d원' %(sati, tip))\n"
   ]
  },
  {
   "cell_type": "code",
   "execution_count": null,
   "metadata": {},
   "outputs": [],
   "source": []
  }
 ],
 "metadata": {
  "kernelspec": {
   "display_name": "Python 3",
   "language": "python",
   "name": "python3"
  }
 },
 "nbformat": 4,
 "nbformat_minor": 4
}
