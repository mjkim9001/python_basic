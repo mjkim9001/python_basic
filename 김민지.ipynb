{
 "cells": [
  {
   "cell_type": "code",
   "execution_count": 187,
   "metadata": {
    "scrolled": true
   },
   "outputs": [
    {
     "name": "stdout",
     "output_type": "stream",
     "text": [
      "    *       *\n",
      "   ***     ***\n",
      "  *****   *****\n",
      " ******* *******\n"
     ]
    }
   ],
   "source": [
    "#1\n",
    "\n",
    "for i in range(1,5):\n",
    "    for j in range(1, 5-i+1):\n",
    "        print('', end=' ')\n",
    "    for j in range(2*i-1):\n",
    "        print('*', end='')\n",
    "    for j in range(1, 5-i):\n",
    "        print('', end=' ')\n",
    "    for j in range(1, 5-i+1):\n",
    "        print('', end=' ')\n",
    "    for j in range(2*i-1):\n",
    "        print('*', end='')\n",
    "    print()\n"
   ]
  },
  {
   "cell_type": "code",
   "execution_count": 185,
   "metadata": {
    "scrolled": true
   },
   "outputs": [
    {
     "data": {
      "text/plain": [
       "[['.', '.', '.', '*', '.', '.'],\n",
       " ['*', '.', '*', '.', '*', '.'],\n",
       " ['.', '*', '.', '.', '.', '.'],\n",
       " ['.', '*', '.', '.', '.', '.'],\n",
       " ['.', '.', '.', '*', '.', '.'],\n",
       " ['*', '.', '.', '*', '.', '.']]"
      ]
     },
     "execution_count": 185,
     "metadata": {},
     "output_type": "execute_result"
    }
   ],
   "source": [
    "#2\n",
    "import random\n",
    "\n",
    "def create_mine(n):\n",
    "    mn = [[random.choice(['.','.','.','.','*']) for x in range(n)] for y in range(n)]\n",
    "    return mn\n",
    "\n",
    "mn = create_mine(6)\n",
    "mn\n"
   ]
  },
  {
   "cell_type": "code",
   "execution_count": 186,
   "metadata": {
    "scrolled": true
   },
   "outputs": [
    {
     "name": "stdout",
     "output_type": "stream",
     "text": [
      "1 2 2 * 2 1 \n",
      "* 3 * 3 * 1 \n",
      "3 * 3 2 1 1 \n",
      "2 * 3 1 1 0 \n",
      "2 2 3 * 2 0 \n",
      "* 1 2 * 2 0 \n"
     ]
    }
   ],
   "source": [
    "length = len(create_mine(6))\n",
    "for i in range(length) :\n",
    "    for j in range(length) :\n",
    "        if mn[i][j]=='.':\n",
    "            count = 0\n",
    "            for x in range(i - 1, i + 2):      \n",
    "                for y in range(j - 1, j + 2):\n",
    "                    if x < 0 or y < 0 or x >=length  or y >= length:\n",
    "                        continue\n",
    "                    elif mn[x][y] == \"*\":\n",
    "                        count += 1\n",
    "            print(count, sep='', end='')\n",
    "        elif mn[i][j]=='*':\n",
    "            count =0\n",
    "            print(mn[i][j], sep='', end='')\n",
    "        print(end=' ')\n",
    "    print()"
   ]
  },
  {
   "cell_type": "code",
   "execution_count": 170,
   "metadata": {},
   "outputs": [],
   "source": [
    "#3\n",
    "import matplotlib as mpl\n",
    "import matplotlib.pyplot as plt\n",
    "import numpy as np\n",
    "from math import pi\n",
    "%matplotlib inline\n",
    "\n",
    "mpl.rcParams['axes.unicode_minus'] = False\n",
    "mpl.rc('font', family = 'Malgun Gothic')"
   ]
  },
  {
   "cell_type": "code",
   "execution_count": 171,
   "metadata": {},
   "outputs": [
    {
     "data": {
      "image/png": "[encoded data removed]",
      "text/plain": [
       "<Figure size 432x288 with 1 Axes>"
      ]
     },
     "metadata": {
      "needs_background": "light"
     },
     "output_type": "display_data"
    }
   ],
   "source": [
    "x = np.arange(-2.0*pi, 2.0*pi, 0.1) # -5.0부터 5.0까지 0.1 간격 생성\n",
    "y = np.tanh(x)\n",
    "\n",
    "plt.plot(x, y)\n",
    "plt.plot([0,0],[1.0,-1.0], ':')\n",
    "plt.axhline(y=0, color='orange', linestyle='--')\n",
    "plt.title('Tanh Function')\n",
    "plt.show()"
   ]
  },
  {
   "cell_type": "code",
   "execution_count": 172,
   "metadata": {},
   "outputs": [],
   "source": [
    "#4\n",
    "import requests\n",
    "from bs4 import BeautifulSoup\n",
    "from urllib.request import urlopen\n",
    "import urllib.request\n",
    "import pandas as pd\n",
    "from urllib.parse import urljoin"
   ]
  },
  {
   "cell_type": "code",
   "execution_count": 173,
   "metadata": {},
   "outputs": [],
   "source": [
    "hdr = { 'User-Agent' : 'Mozilla/5.0' }\n",
    "url = 'https://www.melon.com/chart/month/index.htm#params%5Bidx%5D=1&params%5BrankMonth%5D=202005&params%5BisFirstDate%5D=false&params%5BisLastDate%5D=true'\n",
    "req = urllib.request.Request(url, headers=hdr)\n",
    "html = urlopen(req).read()\n",
    "soup = BeautifulSoup(html, 'html.parser')"
   ]
  },
  {
   "cell_type": "code",
   "execution_count": 174,
   "metadata": {},
   "outputs": [],
   "source": [
    "lis = soup.find_all(class_='lst50')"
   ]
  },
  {
   "cell_type": "code",
   "execution_count": 175,
   "metadata": {},
   "outputs": [
    {
     "data": {
      "text/plain": [
       "'에잇(Prod.&Feat. SUGA of BTS)'"
      ]
     },
     "execution_count": 175,
     "metadata": {},
     "output_type": "execute_result"
    }
   ],
   "source": [
    "song = soup.find(class_='ellipsis rank01')\n",
    "singer = soup.find(class_='ellipsis rank02').find_all('a')\n",
    "album = soup.find(class_='ellipsis rank03').find_all('a')\n",
    "song.find('a').get_text()"
   ]
  },
  {
   "cell_type": "code",
   "execution_count": 176,
   "metadata": {},
   "outputs": [],
   "source": [
    "songs = []\n",
    "singers = []\n",
    "albums = []\n",
    "ranks = []\n",
    "last_ranks = []\n",
    "\n",
    "\n",
    "for li in lis[:10]:\n",
    "    songs.append(li.find(class_='ellipsis rank01').find('a').get_text())\n",
    "    singers.append(li.find(class_='ellipsis rank02').find('a').get_text())\n",
    "    albums.append(li.find(class_='ellipsis rank03').find('a').get_text())\n",
    "    tmp_rank = li.find(class_='rank_wrap').find_all('span')[1].string\n",
    "    if tmp_rank =='단계 상승':\n",
    "        add = int(li.find(class_='up').string)\n",
    "        rank = int(li.find(class_='rank').string)\n",
    "        last_ranks.append(rank+add)\n",
    "    elif tmp_rank =='단계 하락':\n",
    "        add = int(li.find(class_='down').string)\n",
    "        rank = int(li.find(class_='rank').string)\n",
    "        last_ranks.append(rank-add)\n",
    "    elif tmp_rank =='순위 동일':\n",
    "        rank = int(li.find(class_='rank').string)\n",
    "        last_ranks.append(rank)\n",
    "    else:\n",
    "        last_ranks.append('New')\n",
    "    ranks.append(li.find(class_='rank').string)"
   ]
  },
  {
   "cell_type": "code",
   "execution_count": 177,
   "metadata": {},
   "outputs": [
    {
     "data": {
      "text/html": [
       "<div>\n",
       "<style scoped>\n",
       "    .dataframe tbody tr th:only-of-type {\n",
       "        vertical-align: middle;\n",
       "    }\n",
       "\n",
       "    .dataframe tbody tr th {\n",
       "        vertical-align: top;\n",
       "    }\n",
       "\n",
       "    .dataframe thead th {\n",
       "        text-align: right;\n",
       "    }\n",
       "</style>\n",
       "<table border=\"1\" class=\"dataframe\">\n",
       "  <thead>\n",
       "    <tr style=\"text-align: right;\">\n",
       "      <th></th>\n",
       "      <th>제목</th>\n",
       "      <th>가수</th>\n",
       "      <th>앨범</th>\n",
       "      <th>전월순위</th>\n",
       "    </tr>\n",
       "    <tr>\n",
       "      <th>순위</th>\n",
       "      <th></th>\n",
       "      <th></th>\n",
       "      <th></th>\n",
       "      <th></th>\n",
       "    </tr>\n",
       "  </thead>\n",
       "  <tbody>\n",
       "    <tr>\n",
       "      <th>1</th>\n",
       "      <td>에잇(Prod.&amp;Feat. SUGA of BTS)</td>\n",
       "      <td>아이유</td>\n",
       "      <td>에잇</td>\n",
       "      <td>New</td>\n",
       "    </tr>\n",
       "    <tr>\n",
       "      <th>2</th>\n",
       "      <td>아로하</td>\n",
       "      <td>조정석</td>\n",
       "      <td>슬기로운 의사생활 OST Part 3</td>\n",
       "      <td>2</td>\n",
       "    </tr>\n",
       "    <tr>\n",
       "      <th>3</th>\n",
       "      <td>살짝 설렜어 (Nonstop)</td>\n",
       "      <td>오마이걸</td>\n",
       "      <td>NONSTOP</td>\n",
       "      <td>New</td>\n",
       "    </tr>\n",
       "    <tr>\n",
       "      <th>4</th>\n",
       "      <td>나비와 고양이 (feat.백현 (BAEKHYUN))</td>\n",
       "      <td>볼빨간사춘기</td>\n",
       "      <td>사춘기집Ⅱ 꽃 본 나비</td>\n",
       "      <td>New</td>\n",
       "    </tr>\n",
       "    <tr>\n",
       "      <th>5</th>\n",
       "      <td>시작</td>\n",
       "      <td>가호 (Gaho)</td>\n",
       "      <td>이태원 클라쓰 OST Part.2</td>\n",
       "      <td>3</td>\n",
       "    </tr>\n",
       "    <tr>\n",
       "      <th>6</th>\n",
       "      <td>처음처럼</td>\n",
       "      <td>엠씨더맥스 (M.C the MAX)</td>\n",
       "      <td>CEREMONIA</td>\n",
       "      <td>1</td>\n",
       "    </tr>\n",
       "    <tr>\n",
       "      <th>7</th>\n",
       "      <td>덤더럼(Dumhdurum)</td>\n",
       "      <td>Apink (에이핑크)</td>\n",
       "      <td>LOOK</td>\n",
       "      <td>11</td>\n",
       "    </tr>\n",
       "    <tr>\n",
       "      <th>8</th>\n",
       "      <td>좋은 사람 있으면 소개시켜줘</td>\n",
       "      <td>조이 (JOY)</td>\n",
       "      <td>슬기로운 의사생활 OST Part 2</td>\n",
       "      <td>16</td>\n",
       "    </tr>\n",
       "    <tr>\n",
       "      <th>9</th>\n",
       "      <td>흔들리는 꽃들 속에서 네 샴푸향이 느껴진거야</td>\n",
       "      <td>장범준</td>\n",
       "      <td>멜로가 체질 OST Part 3</td>\n",
       "      <td>4</td>\n",
       "    </tr>\n",
       "    <tr>\n",
       "      <th>10</th>\n",
       "      <td>Happy</td>\n",
       "      <td>태연 (TAEYEON)</td>\n",
       "      <td>Happy</td>\n",
       "      <td>New</td>\n",
       "    </tr>\n",
       "  </tbody>\n",
       "</table>\n",
       "</div>"
      ],
      "text/plain": [
       "                              제목                   가수                    앨범  \\\n",
       "순위                                                                            \n",
       "1    에잇(Prod.&Feat. SUGA of BTS)                  아이유                    에잇   \n",
       "2                            아로하                  조정석  슬기로운 의사생활 OST Part 3   \n",
       "3               살짝 설렜어 (Nonstop)                 오마이걸               NONSTOP   \n",
       "4   나비와 고양이 (feat.백현 (BAEKHYUN))               볼빨간사춘기          사춘기집Ⅱ 꽃 본 나비   \n",
       "5                             시작            가호 (Gaho)    이태원 클라쓰 OST Part.2   \n",
       "6                           처음처럼  엠씨더맥스 (M.C the MAX)             CEREMONIA   \n",
       "7                 덤더럼(Dumhdurum)         Apink (에이핑크)                  LOOK   \n",
       "8                좋은 사람 있으면 소개시켜줘             조이 (JOY)  슬기로운 의사생활 OST Part 2   \n",
       "9       흔들리는 꽃들 속에서 네 샴푸향이 느껴진거야                  장범준     멜로가 체질 OST Part 3   \n",
       "10                         Happy         태연 (TAEYEON)                 Happy   \n",
       "\n",
       "   전월순위  \n",
       "순위       \n",
       "1   New  \n",
       "2     2  \n",
       "3   New  \n",
       "4   New  \n",
       "5     3  \n",
       "6     1  \n",
       "7    11  \n",
       "8    16  \n",
       "9     4  \n",
       "10  New  "
      ]
     },
     "execution_count": 177,
     "metadata": {},
     "output_type": "execute_result"
    }
   ],
   "source": [
    "import pandas as pd\n",
    "df = pd.DataFrame({'순위':ranks,'제목':songs,'가수':singers,'앨범':albums,'전월순위':last_ranks})\n",
    "df1 = df.set_index('순위')\n",
    "df1"
   ]
  },
  {
   "cell_type": "code",
   "execution_count": null,
   "metadata": {},
   "outputs": [],
   "source": []
  }
 ],
 "metadata": {
  "kernelspec": {
   "display_name": "Python 3",
   "language": "python",
   "name": "python3"
  },
  "language_info": {
   "codemirror_mode": {
    "name": "ipython",
    "version": 3
   },
   "file_extension": ".py",
   "mimetype": "text/x-python",
   "name": "python",
   "nbconvert_exporter": "python",
   "pygments_lexer": "ipython3",
   "version": "3.7.6"
  }
 },
 "nbformat": 4,
 "nbformat_minor": 4
}
