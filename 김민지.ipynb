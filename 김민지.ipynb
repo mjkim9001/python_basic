{
 "cells": [
  {
   "cell_type": "markdown",
   "metadata": {},
   "source": [
    "# Chapter 02. 연습문제"
   ]
  },
  {
   "cell_type": "code",
   "execution_count": 1,
   "metadata": {},
   "outputs": [
    {
     "data": {
      "text/plain": [
       "'\\n(1) 숫자: 정수나 실수형의 데이터/ int, float\\n(2) 문자열: 하나 또는 다수의 문자로 구성된 데이터 형/ 문자열은 \\'\\' 나 \"\" 사이에 입력\\n'"
      ]
     },
     "execution_count": 1,
     "metadata": {},
     "output_type": "execute_result"
    }
   ],
   "source": [
    "# 1\n",
    "\"\"\"\n",
    "(1) 숫자: 정수나 실수형의 데이터/ int, float\n",
    "(2) 문자열: 하나 또는 다수의 문자로 구성된 데이터 형/ 문자열은 '' 나 \"\" 사이에 입력\n",
    "\"\"\""
   ]
  },
  {
   "cell_type": "code",
   "execution_count": null,
   "metadata": {},
   "outputs": [],
   "source": [
    "# 2\n",
    "\"\"\"\n",
    "실행 결과 = -72\n",
    "\"\"\""
   ]
  },
  {
   "cell_type": "code",
   "execution_count": 2,
   "metadata": {},
   "outputs": [
    {
     "name": "stdout",
     "output_type": "stream",
     "text": [
      "반지름을 입력하세요:10\n",
      "반지름: 10 cm\n",
      "원의 둘레: 62.80 cm\n",
      "원의 면적: 314.00 cm2\n"
     ]
    }
   ],
   "source": [
    "# 3\n",
    "rad = int(input('반지름을 입력하세요:'))\n",
    "cir = rad * 3.14 * 2\n",
    "area = rad * rad * 3.14\n",
    "print('반지름: %d cm\\n원의 둘레: %.2f cm\\n원의 면적: %.2f cm2'%(rad, cir, area))"
   ]
  },
  {
   "cell_type": "code",
   "execution_count": 3,
   "metadata": {},
   "outputs": [
    {
     "name": "stdout",
     "output_type": "stream",
     "text": [
      "책 값을 입력하세요 : 15000\n",
      "할인율을 입력하세요(%) : 15\n",
      "배송료를 입력하세요 : 3000\n",
      "결제 금액 : 15750원\n"
     ]
    }
   ],
   "source": [
    "# 4\n",
    "book_price = int(input('책 값을 입력하세요 : '))\n",
    "book_discount_rate =  int(input('할인율을 입력하세요(%) : '))\n",
    "delivery_fee = int(input('배송료를 입력하세요 : '))\n",
    "pay = book_price - (book_price * book_discount_rate / 100) + delivery_fee\n",
    "print('결제 금액 : %d원'%pay)"
   ]
  },
  {
   "cell_type": "code",
   "execution_count": 4,
   "metadata": {},
   "outputs": [
    {
     "name": "stdout",
     "output_type": "stream",
     "text": [
      "이름을 입력하세요 : 김민지\n",
      "현재년을 입력하세요 : 2020\n",
      "탄생년을 입력하세요 : 1993\n",
      "김민지님의 나이는 28세 입니다!\n"
     ]
    }
   ],
   "source": [
    "# 5\n",
    "name = input('이름을 입력하세요 : ')\n",
    "this_year = int(input('현재년을 입력하세요 : '))\n",
    "birth_year = int(input('탄생년을 입력하세요 : '))\n",
    "age = this_year - birth_year +1\n",
    "print('%s님의 나이는 %d세 입니다!' %(name, age))"
   ]
  },
  {
   "cell_type": "code",
   "execution_count": 1,
   "metadata": {},
   "outputs": [
    {
     "name": "stdout",
     "output_type": "stream",
     "text": [
      "연을 입력하세요 : 2020\n",
      "월을 입력하세요 : 5\n",
      "일을 입력하세요 : 29\n",
      "2020-05-29\n"
     ]
    }
   ],
   "source": [
    "#6\n",
    "year = int(input('연을 입력하세요 : '))\n",
    "month = int(input('월을 입력하세요 : '))\n",
    "day = int(input('일을 입력하세요 : '))\n",
    "\n",
    "print('%d-%02d-%02d' %(year, month, day))"
   ]
  },
  {
   "cell_type": "markdown",
   "metadata": {},
   "source": [
    "# Chapter 03. 연습문제"
   ]
  },
  {
   "cell_type": "code",
   "execution_count": null,
   "metadata": {},
   "outputs": [],
   "source": [
    "#1\n",
    "\"\"\"\n",
    "False False False\n",
    "True  False False\n",
    "True  False True\n",
    "\"\"\""
   ]
  },
  {
   "cell_type": "code",
   "execution_count": null,
   "metadata": {},
   "outputs": [],
   "source": [
    "#2\n",
    "\"\"\"\n",
    "False True\n",
    "True  False\n",
    "False True\n",
    "\"\"\""
   ]
  },
  {
   "cell_type": "code",
   "execution_count": null,
   "metadata": {},
   "outputs": [],
   "source": [
    "#3\n",
    "\"\"\"\n",
    "실행결과 = 4\n",
    "\"\"\""
   ]
  },
  {
   "cell_type": "code",
   "execution_count": 17,
   "metadata": {},
   "outputs": [
    {
     "name": "stdout",
     "output_type": "stream",
     "text": [
      "단위를 입력하세요(1:섭씨, 2:화씨): 2\n",
      "온도를 입력하세요: 80\n",
      "물의 섭씨 온도: 26.67, 상태 : 액체\n"
     ]
    }
   ],
   "source": [
    "#4\n",
    "unit = input('단위를 입력하세요(1:섭씨, 2:화씨): ')\n",
    "temp = int(input('온도를 입력하세요: '))\n",
    "\n",
    "if unit == '2':\n",
    "    c = (temp - 32) * 5 / 9\n",
    "    temp = c\n",
    "else:\n",
    "    f = temp * 1.8 + 32\n",
    "    temp = f\n",
    "\n",
    "if temp <100:\n",
    "    stat = '액체'\n",
    "elif temp <0:\n",
    "    stat = '고체'\n",
    "else:\n",
    "    stat = '기체'\n",
    "\n",
    "print('물의 섭씨 온도: %.2f, 상태 : %s' %(temp, stat))"
   ]
  },
  {
   "cell_type": "code",
   "execution_count": 13,
   "metadata": {},
   "outputs": [
    {
     "name": "stdout",
     "output_type": "stream",
     "text": [
      "아이디를 입력하세요: mk\n",
      "회원 레벨을 입력해 주세요: 5\n",
      "일부 콘텐츠 이용 가능\n"
     ]
    }
   ],
   "source": [
    "#5\n",
    "\n",
    "id = input('아이디를 입력하세요: ')\n",
    "if id != 'admin':\n",
    "    level = int(input('회원 레벨을 입력해 주세요: '))\n",
    "    if level>=2 and level<=7:\n",
    "        print('일부 콘텐츠 이용 가능')\n",
    "    else:\n",
    "        print('콘텐츠 이용 불가')\n",
    "else:\n",
    "    print('모든 콘텐츠 이용 가능')"
   ]
  },
  {
   "cell_type": "code",
   "execution_count": 5,
   "metadata": {},
   "outputs": [
    {
     "name": "stdout",
     "output_type": "stream",
     "text": [
      "나이를 입력하세요: 6\n",
      "입장료는 1000원 입니다\n"
     ]
    }
   ],
   "source": [
    "#6\n",
    "age = int(input('나이를 입력하세요: '))\n",
    "pay = 2000\n",
    "\n",
    "if age <=10:\n",
    "    pay -=1000;\n",
    "elif age >=65:\n",
    "    pay = 0;\n",
    "\n",
    "print('입장료는 %d원 입니다' %pay)\n"
   ]
  },
  {
   "cell_type": "code",
   "execution_count": 8,
   "metadata": {},
   "outputs": [
    {
     "name": "stdout",
     "output_type": "stream",
     "text": [
      "영어점수를 입력하세요: 85\n",
      "수학점수를 입력하세요: 75\n",
      "재시험 기회제공\n"
     ]
    }
   ],
   "source": [
    "#7\n",
    "eng_grade = int(input('영어점수를 입력하세요: '))\n",
    "math_grade = int(input('수학점수를 입력하세요: '))\n",
    "\n",
    "if eng_grade>=80 and math_grade>=80:\n",
    "    result = '합격'\n",
    "elif eng_grade<80 and math_grade<80:\n",
    "    result = '불합격'\n",
    "elif eng_grade>=80 or math_grade>=80:\n",
    "    result = '재시험 기회제공'\n",
    "\n",
    "print(result)"
   ]
  }
 ],
 "metadata": {
  "kernelspec": {
   "display_name": "Python 3",
   "language": "python",
   "name": "python3"
  },
  "language_info": {
   "codemirror_mode": {
    "name": "ipython",
    "version": 3
   },
   "file_extension": ".py",
   "mimetype": "text/x-python",
   "name": "python",
   "nbconvert_exporter": "python",
   "pygments_lexer": "ipython3",
   "version": "3.7.6"
  }
 },
 "nbformat": 4,
 "nbformat_minor": 4
}
