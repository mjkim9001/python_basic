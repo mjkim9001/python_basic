{
 "cells": [
  {
   "cell_type": "markdown",
   "metadata": {},
   "source": [
    "# Chapter 02. 파이썬의 기본 문법"
   ]
  },
  {
   "cell_type": "code",
   "execution_count": 1,
   "metadata": {},
   "outputs": [
    {
     "name": "stdout",
     "output_type": "stream",
     "text": [
      "50\n"
     ]
    }
   ],
   "source": [
    "# 예제 2-1\n",
    "a=20\n",
    "b=30\n",
    "c=a+b\n",
    "print(c)"
   ]
  },
  {
   "cell_type": "code",
   "execution_count": 2,
   "metadata": {
    "scrolled": true
   },
   "outputs": [
    {
     "name": "stdout",
     "output_type": "stream",
     "text": [
      "20 Mac 30 70 홍길동 1997 20.3\n"
     ]
    }
   ],
   "source": [
    "# 예제 2-2\n",
    "x=20\n",
    "Computer = 'Mac'\n",
    "Age = 30\n",
    "my_score = 70\n",
    "_name = '홍길동'\n",
    "myBirthYear = 1997\n",
    "date2 = 20.3\n",
    "\n",
    "print(x, Computer, Age, my_score, _name, myBirthYear, date2)"
   ]
  },
  {
   "cell_type": "code",
   "execution_count": 4,
   "metadata": {},
   "outputs": [
    {
     "name": "stdout",
     "output_type": "stream",
     "text": [
      "20 Mac 30 70 홍길동 1997 20.3\n"
     ]
    }
   ],
   "source": [
    "# 예제 2-2\n",
    "x=20\n",
    "computer = 'Mac'\n",
    "age = 30\n",
    "my_score = 70\n",
    "_name = '홍길동'\n",
    "my_birth_year = 1997\n",
    "date2 = 20.3\n",
    "\n",
    "print(x, computer, age, my_score, _name, my_birth_year, date2)"
   ]
  },
  {
   "cell_type": "code",
   "execution_count": 9,
   "metadata": {
    "scrolled": true
   },
   "outputs": [
    {
     "name": "stdout",
     "output_type": "stream",
     "text": [
      "30\n",
      "<class 'int'>\n"
     ]
    }
   ],
   "source": [
    "# 예제2-4\n",
    "x=30\n",
    "print(x)\n",
    "print(type(x))"
   ]
  },
  {
   "cell_type": "code",
   "execution_count": 10,
   "metadata": {},
   "outputs": [
    {
     "name": "stdout",
     "output_type": "stream",
     "text": [
      "3.3764 3.0\n",
      "<class 'float'> <class 'float'>\n"
     ]
    }
   ],
   "source": [
    "# 예제 2-5\n",
    "x=3.3764\n",
    "y=6/2\n",
    "print(x,y)\n",
    "print(type(x), type(y))"
   ]
  },
  {
   "cell_type": "code",
   "execution_count": 2,
   "metadata": {
    "scrolled": true
   },
   "outputs": [
    {
     "name": "stdout",
     "output_type": "stream",
     "text": [
      "숫자입력30\n",
      "<class 'str'>\n",
      "30\n",
      "<class 'int'>\n",
      "30\n",
      "<class 'str'>\n"
     ]
    }
   ],
   "source": [
    "# 예제 2-7\n",
    "test = input('숫자입력')\n",
    "print(type(test))\n",
    "\n",
    "a = 30     #0001 1110\n",
    "print(a)\n",
    "print(type(a))\n",
    "\n",
    "b = '30'    #ASCII \n",
    "print(b)\n",
    "print(type(b))"
   ]
  },
  {
   "cell_type": "code",
   "execution_count": 5,
   "metadata": {},
   "outputs": [
    {
     "name": "stdout",
     "output_type": "stream",
     "text": [
      "I am happy!\n",
      "I\n",
      "I a\n",
      "happy!\n",
      "!\n",
      "py!\n",
      "pp\n"
     ]
    }
   ],
   "source": [
    "# 예제 2-8\n",
    "x = 'I am happy!'\n",
    "print(x)\n",
    "print(x[0])\n",
    "print(x[0:3])\n",
    "print(x[5:])\n",
    "print(x[-1])\n",
    "print(x[-3:])\n",
    "print(x[-4:-2])"
   ]
  },
  {
   "cell_type": "code",
   "execution_count": 10,
   "metadata": {},
   "outputs": [
    {
     "name": "stdout",
     "output_type": "stream",
     "text": [
      "나는\n",
      "행복합니다\n",
      ".\n",
      "행복\n"
     ]
    }
   ],
   "source": [
    "y='나는 행복합니다.'\n",
    "print(y[:2])\n",
    "print(y[3:-1])\n",
    "print(y[-1])\n",
    "\n",
    "start = 3\n",
    "print(y[start:start+2])"
   ]
  },
  {
   "cell_type": "code",
   "execution_count": 12,
   "metadata": {},
   "outputs": [
    {
     "name": "stdout",
     "output_type": "stream",
     "text": [
      "강아지 happy happy\n"
     ]
    }
   ],
   "source": [
    "z='내 강아지 이름은 happy예요.'\n",
    "print(z[2:5], z[10:15], z[-8:-3])"
   ]
  },
  {
   "cell_type": "code",
   "execution_count": 21,
   "metadata": {},
   "outputs": [
    {
     "name": "stdout",
     "output_type": "stream",
     "text": [
      "True\n",
      "False\n",
      "False\n",
      "<class 'bool'>\n"
     ]
    }
   ],
   "source": [
    "# 예제 2-9\n",
    "a = True\n",
    "b = False\n",
    "print(a)\n",
    "print(b)\n",
    "\n",
    "c = 10 > 20\n",
    "print(c)\n",
    "\n",
    "print(type(a))"
   ]
  },
  {
   "cell_type": "code",
   "execution_count": 42,
   "metadata": {},
   "outputs": [
    {
     "name": "stdout",
     "output_type": "stream",
     "text": [
      "15\n"
     ]
    }
   ],
   "source": [
    "# 예제 2-16\n",
    "a = '쥐 구멍에 볕 들 날 있다.'\n",
    "\n",
    "b = len(a)\n",
    "\n",
    "print(b)"
   ]
  },
  {
   "cell_type": "code",
   "execution_count": 54,
   "metadata": {},
   "outputs": [
    {
     "name": "stdout",
     "output_type": "stream",
     "text": [
      "영어 점수 : 80점\n"
     ]
    }
   ],
   "source": [
    "# 예제 2-19\n",
    "eng = 80\n",
    "result = '영어 점수 : ' + str(eng) + '점'\n",
    "print(result)"
   ]
  },
  {
   "cell_type": "code",
   "execution_count": 48,
   "metadata": {},
   "outputs": [
    {
     "name": "stdout",
     "output_type": "stream",
     "text": [
      "2020-03-05\n"
     ]
    }
   ],
   "source": [
    "# 예제 2-22\n",
    "year = 2020\n",
    "month = 3\n",
    "day = 5\n",
    "\n",
    "a = '%d-%02d-%02d'%(year, month, day)\n",
    "print(a)\n"
   ]
  },
  {
   "cell_type": "code",
   "execution_count": 53,
   "metadata": {},
   "outputs": [
    {
     "name": "stdout",
     "output_type": "stream",
     "text": [
      "이름:황예린\n",
      "나이:18세\n",
      "나이:1.2\n"
     ]
    }
   ],
   "source": [
    "# 예제 2-24\n",
    "name = '황예린'\n",
    "age = 18\n",
    "eyesight = 1.2\n",
    "\n",
    "a = '이름:{}'.format(name)\n",
    "b = '나이:{}세'.format(age)\n",
    "c = '나이:{}'.format(eyesight)\n",
    "\n",
    "print(a)\n",
    "print(b)\n",
    "print(c)\n"
   ]
  },
  {
   "cell_type": "code",
   "execution_count": 55,
   "metadata": {},
   "outputs": [
    {
     "data": {
      "text/plain": [
       "1"
      ]
     },
     "execution_count": 55,
     "metadata": {},
     "output_type": "execute_result"
    }
   ],
   "source": [
    "x='I am happy!'\n",
    "x.count('am')"
   ]
  },
  {
   "cell_type": "code",
   "execution_count": 57,
   "metadata": {},
   "outputs": [
    {
     "data": {
      "text/plain": [
       "5"
      ]
     },
     "execution_count": 57,
     "metadata": {},
     "output_type": "execute_result"
    }
   ],
   "source": [
    "x.find('happy')"
   ]
  },
  {
   "cell_type": "code",
   "execution_count": 58,
   "metadata": {},
   "outputs": [
    {
     "data": {
      "text/plain": [
       "'I AM HAPPY!'"
      ]
     },
     "execution_count": 58,
     "metadata": {},
     "output_type": "execute_result"
    }
   ],
   "source": [
    "x.upper()"
   ]
  },
  {
   "cell_type": "code",
   "execution_count": 59,
   "metadata": {},
   "outputs": [
    {
     "data": {
      "text/plain": [
       "'i am happy!'"
      ]
     },
     "execution_count": 59,
     "metadata": {},
     "output_type": "execute_result"
    }
   ],
   "source": [
    "x.lower()"
   ]
  },
  {
   "cell_type": "code",
   "execution_count": 60,
   "metadata": {},
   "outputs": [
    {
     "data": {
      "text/plain": [
       "'I was happy!'"
      ]
     },
     "execution_count": 60,
     "metadata": {},
     "output_type": "execute_result"
    }
   ],
   "source": [
    "x.replace('am','was')"
   ]
  },
  {
   "cell_type": "code",
   "execution_count": 62,
   "metadata": {
    "scrolled": true
   },
   "outputs": [
    {
     "data": {
      "text/plain": [
       "['I', 'am', 'happy!']"
      ]
     },
     "execution_count": 62,
     "metadata": {},
     "output_type": "execute_result"
    }
   ],
   "source": [
    "x.split(' ')"
   ]
  },
  {
   "cell_type": "code",
   "execution_count": 64,
   "metadata": {},
   "outputs": [
    {
     "data": {
      "text/plain": [
       "False"
      ]
     },
     "execution_count": 64,
     "metadata": {},
     "output_type": "execute_result"
    }
   ],
   "source": [
    "x.isspace()"
   ]
  },
  {
   "cell_type": "code",
   "execution_count": 1,
   "metadata": {},
   "outputs": [
    {
     "name": "stdout",
     "output_type": "stream",
     "text": [
      "두 과목 점수 : 80, 87\n",
      "합계 : 167, 평균 : 83.50\n"
     ]
    }
   ],
   "source": [
    "# 예제 2-27\n",
    "score1 = 80\n",
    "score2 = 87\n",
    "\n",
    "sum = score1 + score2\n",
    "avg = sum/2\n",
    "\n",
    "print('두 과목 점수 : %d, %d' %(score1, score2))\n",
    "print('합계 : %d, 평균 : %.2f' %(sum, avg))"
   ]
  },
  {
   "cell_type": "code",
   "execution_count": 4,
   "metadata": {},
   "outputs": [
    {
     "name": "stdout",
     "output_type": "stream",
     "text": [
      "오늘은\n",
      "2020 5 29\n",
      "입니다\n"
     ]
    }
   ],
   "source": [
    "# sep, end\n",
    "print('오늘은')\n",
    "year=2020\n",
    "month=5\n",
    "day=29\n",
    "print(year, month, day)\n",
    "print('입니다')"
   ]
  },
  {
   "cell_type": "code",
   "execution_count": 5,
   "metadata": {},
   "outputs": [
    {
     "name": "stdout",
     "output_type": "stream",
     "text": [
      "오늘은 2020/5/29 입니다\n"
     ]
    }
   ],
   "source": [
    "# 오늘은 2020/5/29입니다\n",
    "print('오늘은', end=' ')\n",
    "print(year, month, day, sep='/', end=' ')\n",
    "print('입니다')\n"
   ]
  },
  {
   "cell_type": "code",
   "execution_count": 16,
   "metadata": {},
   "outputs": [
    {
     "name": "stdout",
     "output_type": "stream",
     "text": [
      "이름을 입력하세요 : 김미닞\n",
      "김미닞님 반갑습니다.\n"
     ]
    }
   ],
   "source": [
    "# 예제 2-31\n",
    "name = input('이름을 입력하세요 : ')\n",
    "\n",
    "print('%s님 반갑습니다.' %name)"
   ]
  },
  {
   "cell_type": "code",
   "execution_count": 20,
   "metadata": {},
   "outputs": [
    {
     "name": "stdout",
     "output_type": "stream",
     "text": [
      "첫번째 숫자를 입력하세요 : 579\n",
      "두번째 숫자를 입력하세요 : 253\n",
      "832\n"
     ]
    }
   ],
   "source": [
    "# 예제 2-33\n",
    "a = input('첫번째 숫자를 입력하세요 : ')\n",
    "b = input('두번째 숫자를 입력하세요 : ')\n",
    "\n",
    "\"\"\"\n",
    "or\n",
    "a = int(input('첫번째 숫자를 입력하세요 :'))\n",
    "b = int(input('두번째 숫자를 입력하세요 :'))\n",
    "\"\"\"\n",
    "\n",
    "c = int(a) + int(b)\n",
    "\n",
    "print(c)"
   ]
  },
  {
   "cell_type": "code",
   "execution_count": 3,
   "metadata": {},
   "outputs": [
    {
     "name": "stdout",
     "output_type": "stream",
     "text": [
      "삼각형의 밑변 길이: 10\n",
      "삼각형의 높이: 3\n",
      "삼각형의 면적: 15.0\n"
     ]
    }
   ],
   "source": [
    "# Q 2-1\n",
    "width = 10\n",
    "height =3\n",
    "area = width*height/2\n",
    "print('삼각형의 밑변 길이:', width)\n",
    "print('삼각형의 높이:', height)\n",
    "print('삼각형의 면적:', area)"
   ]
  },
  {
   "cell_type": "code",
   "execution_count": 17,
   "metadata": {},
   "outputs": [
    {
     "name": "stdout",
     "output_type": "stream",
     "text": [
      "물건가격: 800 원\n",
      "구매개수: 3 개\n",
      "지불금액: 5000 원\n",
      "거스름돈: 2600 원\n"
     ]
    }
   ],
   "source": [
    "# Q 2-2\n",
    "price = 800\n",
    "buy = 3\n",
    "pay = 5000\n",
    "change = pay - price * buy\n",
    "print('물건가격: %d 원' %price)\n",
    "print('구매개수:', buy,'개')\n",
    "print('지불금액:', pay,'원')\n",
    "print('거스름돈:',change,'원')"
   ]
  },
  {
   "cell_type": "code",
   "execution_count": 51,
   "metadata": {},
   "outputs": [
    {
     "name": "stdout",
     "output_type": "stream",
     "text": [
      "성: 홍\n",
      "이름: 길동\n",
      "{}.format(name)의 나이:{}.format(age)세, 키: {}.format(height) cm\n",
      "홍길동의 나이:30세, 키: 171.50 cm\n"
     ]
    }
   ],
   "source": [
    "# Q 2-4\n",
    "name='홍길동'\n",
    "age=30\n",
    "height=171.50\n",
    "\n",
    "print('성:', name[0])\n",
    "print('이름:',name[1:])\n",
    "print('%s의 나이:%d세, 키: %.2f cm'%(name, age, height))"
   ]
  },
  {
   "cell_type": "code",
   "execution_count": 29,
   "metadata": {},
   "outputs": [
    {
     "name": "stdout",
     "output_type": "stream",
     "text": [
      "학생 이름을 입력하세요:aaa\n",
      "국어 성적을 입력하세요:20\n",
      "영어 성적을 입력하세요:30\n",
      "수학 성적을 입력하세요:40\n",
      "이름:aaa, 국어:20, 영어:30, 수학:40, 평균:30.0\n"
     ]
    }
   ],
   "source": [
    "# Q 2-5\n",
    "name = input('학생 이름을 입력하세요:')\n",
    "kor = int(input('국어 성적을 입력하세요:'))\n",
    "eng = int(input('영어 성적을 입력하세요:'))\n",
    "math = int(input('수학 성적을 입력하세요:'))\n",
    "sum = kor+eng+math\n",
    "avg = sum/3\n",
    "print('이름:%s, 국어:%d, 영어:%d, 수학:%d, 평균:%.1f'\n",
    "     %(name, kor, eng, math, avg))"
   ]
  },
  {
   "cell_type": "code",
   "execution_count": 40,
   "metadata": {},
   "outputs": [
    {
     "name": "stdout",
     "output_type": "stream",
     "text": [
      "반지름을 입력하세요:10\n",
      "반지름: 10 cm\n",
      "원의 둘레: 62.80 cm\n",
      "원의 면적: 314.00 cm2\n"
     ]
    }
   ],
   "source": [
    "# 연습문제 3\n",
    "rad = int(input('반지름을 입력하세요:'))\n",
    "cir = rad * 3.14 * 2\n",
    "area = rad * rad * 3.14\n",
    "print('반지름: %d cm\\n원의 둘레: %.2f cm\\n원의 면적: %.2f cm2'%(rad, cir, area))"
   ]
  },
  {
   "cell_type": "code",
   "execution_count": 71,
   "metadata": {},
   "outputs": [
    {
     "name": "stdout",
     "output_type": "stream",
     "text": [
      "책 값을 입력하세요 : 10000\n",
      "할인율을 입력하세요(%) : 10\n",
      "배송료를 입력하세요 : 2000\n",
      "결제 금액 : 11000원\n"
     ]
    }
   ],
   "source": [
    "# 연습문제 4\n",
    "book_price = int(input('책 값을 입력하세요 : '))\n",
    "book_discount_rate =  int(input('할인율을 입력하세요(%) : '))\n",
    "delivery_fee = int(input('배송료를 입력하세요 : '))\n",
    "pay = book_price - (book_price * book_discount_rate / 100) + delivery_fee\n",
    "print('결제 금액 : %d원'%pay)"
   ]
  },
  {
   "cell_type": "code",
   "execution_count": 70,
   "metadata": {},
   "outputs": [
    {
     "name": "stdout",
     "output_type": "stream",
     "text": [
      "이름을 입력하세요 : 안\n",
      "현재년을 입력하세요 : 20\n",
      "탄생년을 입력하세요 : 19\n",
      "안님의 나이는 2세 입니다!\n"
     ]
    }
   ],
   "source": [
    "# 연습문제 5\n",
    "name = input('이름을 입력하세요 : ')\n",
    "this_year = int(input('현재년을 입력하세요 : '))\n",
    "birth_year = int(input('탄생년을 입력하세요 : '))\n",
    "age = this_year - birth_year +1\n",
    "print('%s님의 나이는 %d세 입니다!' %(name, age))"
   ]
  },
  {
   "cell_type": "code",
   "execution_count": 19,
   "metadata": {},
   "outputs": [
    {
     "name": "stdout",
     "output_type": "stream",
     "text": [
      "연을 입력하세요 : 2020\n",
      "월을 입력하세요 : 5\n",
      "일을 입력하세요 : 29\n",
      "2020-05-29\n"
     ]
    }
   ],
   "source": [
    "# 연습문제 6\n",
    "year = int(input('연을 입력하세요 : '))\n",
    "month = int(input('월을 입력하세요 : '))\n",
    "day = int(input('일을 입력하세요 : '))\n",
    "\n",
    "print('%d-%02d-%02d' %(year, month, day))"
   ]
  },
  {
   "cell_type": "code",
   "execution_count": null,
   "metadata": {},
   "outputs": [],
   "source": []
  }
 ],
 "metadata": {
  "kernelspec": {
   "display_name": "Python 3",
   "language": "python",
   "name": "python3"
  },
  "language_info": {
   "codemirror_mode": {
    "name": "ipython",
    "version": 3
   },
   "file_extension": ".py",
   "mimetype": "text/x-python",
   "name": "python",
   "nbconvert_exporter": "python",
   "pygments_lexer": "ipython3",
   "version": "3.7.6"
  }
 },
 "nbformat": 4,
 "nbformat_minor": 4
}
