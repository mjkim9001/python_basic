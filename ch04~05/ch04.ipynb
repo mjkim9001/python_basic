{
 "cells": [
  {
   "cell_type": "markdown",
   "metadata": {},
   "source": [
    "# Chapter 04. 반복문"
   ]
  },
  {
   "cell_type": "code",
   "execution_count": 3,
   "metadata": {},
   "outputs": [
    {
     "name": "stdout",
     "output_type": "stream",
     "text": [
      "안녕하세요.\n",
      "안녕하세요.\n",
      "안녕하세요.\n",
      "안녕하세요.\n",
      "안녕하세요.\n"
     ]
    }
   ],
   "source": [
    "# ex 4-1\n",
    "for x in range(5):\n",
    "    print('안녕하세요.')"
   ]
  },
  {
   "cell_type": "code",
   "execution_count": 4,
   "metadata": {},
   "outputs": [
    {
     "name": "stdout",
     "output_type": "stream",
     "text": [
      "안녕하세요.\n",
      "안녕하세요.\n",
      "안녕하세요.\n",
      "안녕하세요.\n",
      "안녕하세요.\n"
     ]
    }
   ],
   "source": [
    "# ex 4-2\n",
    "x = 0\n",
    "while x<5:\n",
    "    print('안녕하세요.')\n",
    "    x+=1"
   ]
  },
  {
   "cell_type": "code",
   "execution_count": 5,
   "metadata": {},
   "outputs": [
    {
     "name": "stdout",
     "output_type": "stream",
     "text": [
      "i의 값 : 1, 합계: 1\n",
      "i의 값 : 2, 합계: 3\n",
      "i의 값 : 3, 합계: 6\n",
      "i의 값 : 4, 합계: 10\n",
      "i의 값 : 5, 합계: 15\n",
      "i의 값 : 6, 합계: 21\n",
      "i의 값 : 7, 합계: 28\n",
      "i의 값 : 8, 합계: 36\n",
      "i의 값 : 9, 합계: 45\n",
      "i의 값 : 10, 합계: 55\n"
     ]
    }
   ],
   "source": [
    "# ex4-3\n",
    "sum = 0\n",
    "\n",
    "for i in range(1,11):\n",
    "    sum +=i\n",
    "    print('i의 값 : %d, 합계: %d' %(i,sum))"
   ]
  },
  {
   "cell_type": "code",
   "execution_count": 19,
   "metadata": {},
   "outputs": [
    {
     "name": "stdout",
     "output_type": "stream",
     "text": [
      "0123456789\n",
      "12345678910\n",
      "13579\n",
      "2018161412108642"
     ]
    }
   ],
   "source": [
    "# ex4-4\n",
    "for i in range(10):\n",
    "    print(i, end='')\n",
    "print()\n",
    "\n",
    "for i in range(1,11):\n",
    "    print(i, end='')\n",
    "print()\n",
    "\n",
    "for i in range(1,10, 2):\n",
    "    print(i, end='')\n",
    "print()\n",
    "\n",
    "for i in range(20,0,-2):\n",
    "    print(i,end='')"
   ]
  },
  {
   "cell_type": "code",
   "execution_count": 13,
   "metadata": {},
   "outputs": [
    {
     "name": "stdout",
     "output_type": "stream",
     "text": [
      "3 6 9 12 15 18 21 24 27 30 33 36 39 42 45 48 51 54 57 60 63 66 69 72 75 78 81 84 87 90 93 96 99 \n",
      " --------------------------------------------------\n",
      "1~100에서 3의 배수의 합계:1683\n"
     ]
    }
   ],
   "source": [
    "# ex4-5\n",
    "sum =0\n",
    "for i in range(1, 101):\n",
    "    if i%3==0:\n",
    "        print('%d ' %i, end='')\n",
    "        sum+=i\n",
    "print('\\n','-'*50)\n",
    "print('1~100에서 3의 배수의 합계:%d' %sum)"
   ]
  },
  {
   "cell_type": "code",
   "execution_count": 35,
   "metadata": {},
   "outputs": [
    {
     "name": "stdout",
     "output_type": "stream",
     "text": [
      "영어 문장을 입력하세요:hello!\n",
      "h\n",
      "e\n",
      "l\n",
      "l\n",
      "o\n",
      "!\n"
     ]
    }
   ],
   "source": [
    "# ex4-6\n",
    "word = input('영어 문장을 입력하세요:')\n",
    "\n",
    "for x in word:\n",
    "    print(x)"
   ]
  },
  {
   "cell_type": "code",
   "execution_count": 42,
   "metadata": {},
   "outputs": [
    {
     "name": "stdout",
     "output_type": "stream",
     "text": [
      "------------------------------\n",
      "섭씨 화씨\n",
      "------------------------------\n",
      "-20 -4.0\n",
      "-15 5.0\n",
      "-10 14.0\n",
      " -5 23.0\n",
      "  0 32.0\n",
      "  5 41.0\n",
      " 10 50.0\n",
      " 15 59.0\n",
      " 20 68.0\n",
      " 25 77.0\n",
      " 30 86.0\n",
      "------------------------------\n"
     ]
    }
   ],
   "source": [
    "# ex4-7\n",
    "print('-'*30)\n",
    "print('섭씨 화씨')\n",
    "print('-'*30)\n",
    "\n",
    "for c in range(-20, 31, 5):\n",
    "    f = c*9.0/5.0+32.0\n",
    "    print('%3d %2.1f' %(c,f))\n",
    "    \n",
    "print('-'*30)"
   ]
  },
  {
   "cell_type": "code",
   "execution_count": 7,
   "metadata": {},
   "outputs": [
    {
     "name": "stdout",
     "output_type": "stream",
     "text": [
      "--------------------------------------------------\n",
      "2 x 1 = 2\n",
      "2 x 2 = 4\n",
      "2 x 3 = 6\n",
      "2 x 4 = 8\n",
      "2 x 5 = 10\n",
      "2 x 6 = 12\n",
      "2 x 7 = 14\n",
      "2 x 8 = 16\n",
      "2 x 9 = 18\n",
      "--------------------------------------------------\n",
      "3 x 1 = 3\n",
      "3 x 2 = 6\n",
      "3 x 3 = 9\n",
      "3 x 4 = 12\n",
      "3 x 5 = 15\n",
      "3 x 6 = 18\n",
      "3 x 7 = 21\n",
      "3 x 8 = 24\n",
      "3 x 9 = 27\n",
      "--------------------------------------------------\n",
      "4 x 1 = 4\n",
      "4 x 2 = 8\n",
      "4 x 3 = 12\n",
      "4 x 4 = 16\n",
      "4 x 5 = 20\n",
      "4 x 6 = 24\n",
      "4 x 7 = 28\n",
      "4 x 8 = 32\n",
      "4 x 9 = 36\n",
      "--------------------------------------------------\n",
      "5 x 1 = 5\n",
      "5 x 2 = 10\n",
      "5 x 3 = 15\n",
      "5 x 4 = 20\n",
      "5 x 5 = 25\n",
      "5 x 6 = 30\n",
      "5 x 7 = 35\n",
      "5 x 8 = 40\n",
      "5 x 9 = 45\n",
      "--------------------------------------------------\n",
      "6 x 1 = 6\n",
      "6 x 2 = 12\n",
      "6 x 3 = 18\n",
      "6 x 4 = 24\n",
      "6 x 5 = 30\n",
      "6 x 6 = 36\n",
      "6 x 7 = 42\n",
      "6 x 8 = 48\n",
      "6 x 9 = 54\n",
      "--------------------------------------------------\n",
      "7 x 1 = 7\n",
      "7 x 2 = 14\n",
      "7 x 3 = 21\n",
      "7 x 4 = 28\n",
      "7 x 5 = 35\n",
      "7 x 6 = 42\n",
      "7 x 7 = 49\n",
      "7 x 8 = 56\n",
      "7 x 9 = 63\n",
      "--------------------------------------------------\n",
      "8 x 1 = 8\n",
      "8 x 2 = 16\n",
      "8 x 3 = 24\n",
      "8 x 4 = 32\n",
      "8 x 5 = 40\n",
      "8 x 6 = 48\n",
      "8 x 7 = 56\n",
      "8 x 8 = 64\n",
      "8 x 9 = 72\n",
      "--------------------------------------------------\n",
      "9 x 1 = 9\n",
      "9 x 2 = 18\n",
      "9 x 3 = 27\n",
      "9 x 4 = 36\n",
      "9 x 5 = 45\n",
      "9 x 6 = 54\n",
      "9 x 7 = 63\n",
      "9 x 8 = 72\n",
      "9 x 9 = 81\n",
      "--------------------------------------------------\n"
     ]
    }
   ],
   "source": [
    "# ex4-9\n",
    "print('-'*50)\n",
    "\n",
    "for a in range(2,10):\n",
    "    for b in range(1,10):\n",
    "        c=a*b\n",
    "        print('%d x %d = %d' %(a,b,c))\n",
    "    print('-'*50)"
   ]
  },
  {
   "cell_type": "code",
   "execution_count": 5,
   "metadata": {},
   "outputs": [
    {
     "name": "stdout",
     "output_type": "stream",
     "text": [
      "시작 수를 입력하세요: 100\n",
      "끝 수를 입력하세요: 200\n",
      "100에서 200까지 5의 배수가 아닌 수의 합계 : 12000\n"
     ]
    }
   ],
   "source": [
    "# Q4-1\n",
    "start_num = int(input('시작 수를 입력하세요: '))\n",
    "end_num = int(input('끝 수를 입력하세요: '))\n",
    "result = 0\n",
    "for i in range (start_num, end_num+1):\n",
    "    if i % 5 != 0:\n",
    "        result += i\n",
    "\n",
    "print('%d에서 %d까지 5의 배수가 아닌 수의 합계 : %d' %(start_num, end_num, result))"
   ]
  },
  {
   "cell_type": "code",
   "execution_count": 10,
   "metadata": {},
   "outputs": [
    {
     "name": "stdout",
     "output_type": "stream",
     "text": [
      "하이픈(-)을 포함한 휴대폰 번호를 입력하세요: 010-2851-9001\n",
      "01028519001"
     ]
    }
   ],
   "source": [
    "# Q4-2\n",
    "phone_number = input('하이픈(-)을 포함한 휴대폰 번호를 입력하세요: ')\n",
    "\n",
    "for i in phone_number:\n",
    "    if i != '-':\n",
    "        print('%s' %i, end='')\n",
    "    "
   ]
  },
  {
   "cell_type": "code",
   "execution_count": 2,
   "metadata": {},
   "outputs": [
    {
     "name": "stdout",
     "output_type": "stream",
     "text": [
      "하이픈(-)을 뺀 11자리 휴대폰 번호를 입력하시오01028519001\n",
      "010-2851-9001\n"
     ]
    }
   ],
   "source": [
    "# Q4-3\n",
    "number = input('하이픈(-)을 뺀 11자리 휴대폰 번호를 입력하시오')\n",
    "\n",
    "phone_number='';\n",
    "for i in range(0, len(number)):\n",
    "    if i==2:\n",
    "        phone_number = phone_number + (number[2] +'-')\n",
    "    elif i==6:\n",
    "        phone_number = phone_number + (number[6] + '-')\n",
    "    else:\n",
    "        phone_number = phone_number + number[i]\n",
    "        \n",
    "print(phone_number)"
   ]
  },
  {
   "cell_type": "code",
   "execution_count": 10,
   "metadata": {},
   "outputs": [
    {
     "name": "stdout",
     "output_type": "stream",
     "text": [
      "--------------------------------------------------\n",
      "센티미터(cm) 인치(inch) 피트(ft) 야드(yd)\n",
      "--------------------------------------------------\n",
      "     10        3.9        0.3        0.1\n",
      "     20        7.9        0.7        0.2\n",
      "     30       11.8        1.0        0.3\n",
      "     40       15.7        1.3        0.4\n",
      "     50       19.7        1.6        0.5\n",
      "     60       23.6        2.0        0.7\n",
      "     70       27.6        2.3        0.8\n",
      "     80       31.5        2.6        0.9\n",
      "     90       35.4        3.0        1.0\n",
      "    100       39.4        3.3        1.1\n",
      "    110       43.3        3.6        1.2\n",
      "    120       47.2        3.9        1.3\n",
      "    130       51.2        4.3        1.4\n",
      "    140       55.1        4.6        1.5\n",
      "    150       59.1        4.9        1.6\n",
      "    160       63.0        5.2        1.7\n",
      "    170       66.9        5.6        1.9\n",
      "    180       70.9        5.9        2.0\n",
      "    190       74.8        6.2        2.1\n",
      "    200       78.7        6.6        2.2\n",
      "--------------------------------------------------\n"
     ]
    }
   ],
   "source": [
    "# Q4-4\n",
    "print('-'*50)\n",
    "print('센티미터(cm) 인치(inch) 피트(ft) 야드(yd)')\n",
    "print('-'*50)\n",
    "\n",
    "for cm in range(10, 201, 10) :\n",
    "    inch = cm*0.393701\n",
    "    ft = cm*0.032808\n",
    "    yd = cm*0.010936\n",
    "    print('%7d %10.1f %10.1f %10.1f' %(cm, inch, ft, yd))\n",
    "\n",
    "print('-'*50)"
   ]
  },
  {
   "cell_type": "code",
   "execution_count": 12,
   "metadata": {},
   "outputs": [
    {
     "name": "stdout",
     "output_type": "stream",
     "text": [
      "--------------------------------------------------\n",
      "킬로그램(kg) 파운드(lb) 온스(oz)\n",
      "--------------------------------------------------\n",
      "      10       22.0      352.7\n",
      "      15       33.1      529.1\n",
      "      20       44.1      705.5\n",
      "      25       55.1      881.8\n",
      "      30       66.1     1058.2\n",
      "      35       77.2     1234.6\n",
      "      40       88.2     1411.0\n",
      "      45       99.2     1587.3\n",
      "      50      110.2     1763.7\n",
      "      55      121.3     1940.1\n",
      "      60      132.3     2116.4\n",
      "      65      143.3     2292.8\n",
      "      70      154.3     2469.2\n",
      "      75      165.3     2645.5\n",
      "      80      176.4     2821.9\n",
      "      85      187.4     2998.3\n",
      "      90      198.4     3174.7\n",
      "      95      209.4     3351.0\n",
      "     100      220.5     3527.4\n",
      "--------------------------------------------------\n"
     ]
    }
   ],
   "source": [
    "# Q4-5\n",
    "print('-'*50)\n",
    "print('킬로그램(kg) 파운드(lb) 온스(oz)')\n",
    "print('-'*50)\n",
    "\n",
    "for kg in range(10, 101, 5):\n",
    "    lb = kg*2.204626\n",
    "    oz = kg*35.273962\n",
    "    print('%8d %10.1f %10.1f' %(kg, lb, oz))\n",
    "print('-'*50)"
   ]
  },
  {
   "cell_type": "code",
   "execution_count": 18,
   "metadata": {},
   "outputs": [
    {
     "name": "stdout",
     "output_type": "stream",
     "text": [
      "*\n",
      "**\n",
      "***\n",
      "****\n",
      "*****\n",
      "******\n",
      "*******\n",
      "********\n",
      "*********\n",
      "**********\n"
     ]
    }
   ],
   "source": [
    "# Q4-7\n",
    "\n",
    "for i in range(1,11):\n",
    "    for j in range(1, i+1):\n",
    "        print('*', end='')\n",
    "    print()\n",
    "    "
   ]
  },
  {
   "cell_type": "code",
   "execution_count": 14,
   "metadata": {},
   "outputs": [
    {
     "name": "stdout",
     "output_type": "stream",
     "text": [
      "*\n",
      "**\n",
      "***\n",
      "****\n",
      "*****\n"
     ]
    }
   ],
   "source": [
    "for i in range(1, 6):\n",
    "    for k in range(1, i+1):\n",
    "        print('*', end='')\n",
    "    print()"
   ]
  },
  {
   "cell_type": "code",
   "execution_count": null,
   "metadata": {},
   "outputs": [],
   "source": [
    "# 다이아몬드\n",
    "for i in range(1, 6):\n",
    "    for k in range(1, i+1):\n",
    "        print('*', end='')\n",
    "    print()"
   ]
  },
  {
   "cell_type": "code",
   "execution_count": 21,
   "metadata": {},
   "outputs": [
    {
     "name": "stdout",
     "output_type": "stream",
     "text": [
      "1\n",
      "2\n",
      "3\n",
      "4\n",
      "5\n",
      "6\n",
      "7\n",
      "8\n",
      "9\n",
      "10\n"
     ]
    }
   ],
   "source": [
    "# Q4-12\n",
    "for i in range(1,1001):\n",
    "    print(i)\n",
    "    \n",
    "    if i==10:\n",
    "        break"
   ]
  },
  {
   "cell_type": "code",
   "execution_count": 1,
   "metadata": {},
   "outputs": [
    {
     "name": "stdout",
     "output_type": "stream",
     "text": [
      "989 46\n"
     ]
    }
   ],
   "source": [
    "# 합이 1000에 가장 가까운 경우는 1에서부터 얼마까지 더한 경우인가?\n",
    "\n",
    "sum =0\n",
    "count = 1\n",
    "while True:\n",
    "    if sum>1000:\n",
    "        break\n",
    "    sum+=count\n",
    "    count+=1\n",
    "print(sum-count, count)"
   ]
  },
  {
   "cell_type": "code",
   "execution_count": 19,
   "metadata": {},
   "outputs": [
    {
     "name": "stdout",
     "output_type": "stream",
     "text": [
      "1 3 5 7 9 "
     ]
    }
   ],
   "source": [
    "# continue\n",
    "for i in range(10):\n",
    "    if i%2 ==0:\n",
    "        continue\n",
    "    print(i, end=' ')"
   ]
  },
  {
   "cell_type": "code",
   "execution_count": 22,
   "metadata": {},
   "outputs": [
    {
     "name": "stdout",
     "output_type": "stream",
     "text": [
      "         *\n",
      "        **\n",
      "       ***\n",
      "      ****\n",
      "     *****\n",
      "    ******\n",
      "   *******\n",
      "  ********\n",
      " *********\n",
      "**********\n"
     ]
    }
   ],
   "source": [
    "# Q4-8\n",
    "\n",
    "for i in range(1,11):\n",
    "    for j in range(1, 10-i+1):\n",
    "        print('', end=' ')\n",
    "    for k in range(1, i+1):\n",
    "        print('*', end='')\n",
    "    print()"
   ]
  },
  {
   "cell_type": "code",
   "execution_count": 1,
   "metadata": {
    "scrolled": true
   },
   "outputs": [
    {
     "name": "stdout",
     "output_type": "stream",
     "text": [
      "------------------------------\n",
      "섭씨 화씨\n",
      "------------------------------\n",
      "-20 -4.0\n",
      "-19 -2.2\n",
      "-18 -0.4\n",
      "-17 1.4\n",
      "-16 3.2\n",
      "-15 5.0\n",
      "-14 6.8\n",
      "-13 8.6\n",
      "-12 10.4\n",
      "-11 12.2\n",
      "-10 14.0\n",
      " -9 15.8\n",
      " -8 17.6\n",
      " -7 19.4\n",
      " -6 21.2\n",
      " -5 23.0\n",
      " -4 24.8\n",
      " -3 26.6\n",
      " -2 28.4\n",
      " -1 30.2\n",
      "  0 32.0\n",
      "  1 33.8\n",
      "  2 35.6\n",
      "  3 37.4\n",
      "  4 39.2\n",
      "  5 41.0\n",
      "  6 42.8\n",
      "  7 44.6\n",
      "  8 46.4\n",
      "  9 48.2\n",
      " 10 50.0\n",
      " 11 51.8\n",
      " 12 53.6\n",
      " 13 55.4\n",
      " 14 57.2\n",
      " 15 59.0\n",
      " 16 60.8\n",
      " 17 62.6\n",
      " 18 64.4\n",
      " 19 66.2\n",
      " 20 68.0\n",
      " 21 69.8\n",
      " 22 71.6\n",
      " 23 73.4\n",
      " 24 75.2\n",
      " 25 77.0\n",
      " 26 78.8\n",
      " 27 80.6\n",
      " 28 82.4\n",
      " 29 84.2\n",
      " 30 86.0\n",
      " 31 87.8\n",
      " 32 89.6\n",
      " 33 91.4\n",
      " 34 93.2\n",
      " 35 95.0\n",
      " 36 96.8\n",
      " 37 98.6\n",
      " 38 100.4\n",
      " 39 102.2\n",
      " 40 104.0\n",
      "------------------------------\n"
     ]
    }
   ],
   "source": [
    "# Q4-9\n",
    "\n",
    "print('-'*30)\n",
    "print('섭씨 화씨')\n",
    "print('-'*30)\n",
    "\n",
    "c=-20\n",
    "while c<41:\n",
    "    f = c*9.0/5.0+32.0\n",
    "    print('%3d %2.1f' %(c,f))\n",
    "    c+=1\n",
    "    \n",
    "print('-'*30)\n",
    "\n",
    "\n"
   ]
  },
  {
   "cell_type": "code",
   "execution_count": 9,
   "metadata": {},
   "outputs": [
    {
     "name": "stdout",
     "output_type": "stream",
     "text": [
      "200 202 203 205 206 208 209 211 \n",
      "212 214 215 217 218 220 221 223 \n",
      "224 226 227 229 230 232 233 235 \n",
      "236 238 239 241 242 244 245 247 \n",
      "248 250 251 253 254 256 257 259 \n",
      "260 262 263 265 266 268 269 271 \n",
      "272 274 275 277 278 280 281 283 \n",
      "284 286 287 289 290 292 293 295 \n",
      "296 298 299 301 302 304 305 307 \n",
      "308 310 311 313 314 316 317 319 \n",
      "320 322 323 325 326 328 329 331 \n",
      "332 334 335 337 338 340 341 343 \n",
      "344 346 347 349 350 352 353 355 \n",
      "356 358 359 361 362 364 365 367 \n",
      "368 370 371 373 374 376 377 379 \n",
      "380 382 383 385 386 388 389 391 \n",
      "392 394 395 397 398 400 401 403 \n",
      "404 406 407 409 410 412 413 415 \n",
      "416 418 419 421 422 424 425 427 \n",
      "428 430 431 433 434 436 437 439 \n",
      "440 442 443 445 446 448 449 451 \n",
      "452 454 455 457 458 460 461 463 \n",
      "464 466 467 469 470 472 473 475 \n",
      "476 478 479 481 482 484 485 487 \n",
      "488 490 491 493 494 496 497 499 \n",
      "500 502 503 505 506 508 509 511 \n",
      "512 514 515 517 518 520 521 523 \n",
      "524 526 527 529 530 532 533 535 \n",
      "536 538 539 541 542 544 545 547 \n",
      "548 550 551 553 554 556 557 559 \n",
      "560 562 563 565 566 568 569 571 \n",
      "572 574 575 577 578 580 581 583 \n",
      "584 586 587 589 590 592 593 595 \n",
      "596 598 599 "
     ]
    }
   ],
   "source": [
    "# Q4-10\n",
    "i=200\n",
    "count=0\n",
    "while i<601:\n",
    "    if i%3!=0:\n",
    "        print('%d '%i, end='')\n",
    "        count +=1\n",
    "        if count%8==0:\n",
    "            print()\n",
    "    i+=1\n"
   ]
  },
  {
   "cell_type": "code",
   "execution_count": 21,
   "metadata": {},
   "outputs": [
    {
     "name": "stdout",
     "output_type": "stream",
     "text": [
      "문장을 입력해 주세요 : 쥐 구멍에 볕 들 날 있다.\n",
      ".다있-날-들-볕-에멍구-쥐"
     ]
    }
   ],
   "source": [
    "# Q4-11\n",
    "sent = input('문장을 입력해 주세요 : ')\n",
    "\n",
    "i = len(sent) - 1\n",
    "\n",
    "while i>=0:\n",
    "    if sent[i] ==' ':\n",
    "        print('-', end='')\n",
    "    else:\n",
    "        print('%s' %sent[i], end='')\n",
    "    i-=1\n"
   ]
  },
  {
   "cell_type": "code",
   "execution_count": 26,
   "metadata": {},
   "outputs": [
    {
     "name": "stdout",
     "output_type": "stream",
     "text": [
      "* * * * * * * * * * \n",
      "* * * * * * * * * * \n",
      "* * * * * * * * * * \n",
      "* * * * * * * * * * \n",
      "* * * * * * * * * * \n"
     ]
    }
   ],
   "source": [
    "# 1\n",
    "for i in range(1,6):\n",
    "    for j in range(1,11):\n",
    "        print('*', end=' ')\n",
    "    print()\n",
    "        "
   ]
  },
  {
   "cell_type": "code",
   "execution_count": 5,
   "metadata": {},
   "outputs": [
    {
     "name": "stdout",
     "output_type": "stream",
     "text": [
      "* * * * * * * * * * \n",
      "\n",
      "\n",
      "\n",
      "\n"
     ]
    }
   ],
   "source": [
    "# 2\n",
    "i=0\n",
    "j=0\n",
    "while i<5:\n",
    "    #for j in range(1,11):\n",
    "    while j<10:\n",
    "        print('*', end=' ')\n",
    "        j+=1\n",
    "    i+=1\n",
    "    print()"
   ]
  },
  {
   "cell_type": "code",
   "execution_count": 11,
   "metadata": {
    "scrolled": true
   },
   "outputs": [
    {
     "name": "stdout",
     "output_type": "stream",
     "text": [
      "6 6 6 6 6 6 \n",
      "5 5 5 5 5 \n",
      "4 4 4 4 \n",
      "3 3 3 \n",
      "2 2 \n",
      "1 \n"
     ]
    }
   ],
   "source": [
    "# 3\n",
    "\n",
    "for num in range(6,0,-1):\n",
    "    for num2 in range(1, num+1):\n",
    "        print(num, end=' ')\n",
    "    #print(str(num)*num, end=' ')\n",
    "    print()\n",
    "    "
   ]
  },
  {
   "cell_type": "code",
   "execution_count": 13,
   "metadata": {},
   "outputs": [
    {
     "name": "stdout",
     "output_type": "stream",
     "text": [
      "0 \n",
      "0 1 \n",
      "0 1 2 \n",
      "0 1 2 3 \n",
      "0 1 2 3 4 \n",
      "0 1 2 3 4 5 \n"
     ]
    }
   ],
   "source": [
    "# 4\n",
    "\n",
    "for num in range(0,6):\n",
    "    for num2 in range(0, num+1):\n",
    "        print(num2, end=' ')\n",
    "    print()"
   ]
  },
  {
   "cell_type": "code",
   "execution_count": 10,
   "metadata": {},
   "outputs": [
    {
     "name": "stdout",
     "output_type": "stream",
     "text": [
      "********\n",
      "*      *\n",
      "*      *\n",
      "*      *\n",
      "*      *\n",
      "*      *\n",
      "*      *\n",
      "********\n"
     ]
    }
   ],
   "source": [
    "#5\n",
    "a = 8\n",
    "for i in range(a):\n",
    "    if i==0 or i==7:\n",
    "        for j in range(a):\n",
    "            print('*', end='')\n",
    "    else:\n",
    "        print('*', end='')\n",
    "        for j in range(a-2):\n",
    "            print(' ', end='')\n",
    "        print('*', end='')\n",
    "    print()\n"
   ]
  },
  {
   "cell_type": "code",
   "execution_count": 17,
   "metadata": {},
   "outputs": [
    {
     "name": "stdout",
     "output_type": "stream",
     "text": [
      "1 + 3 + 5 + 7 + 9 + 11 + 13 + 15 + 17 + 19 + 21 + 23 + 25 + 27 + 29 + 31 + 33 + 35 + 37 + 39 + 41 + 43 + 45 + 47 + 49 + 51 + 53 + 55 + 57 + 59 + 61 + 63 + 65 + 67 + 69 + 71 + 73 + 75 + 77 + 79 + 81 + 83 + 85 + 87 + 89 + 91 + 93 + 95 + 97 + 99 +  = 2500\n"
     ]
    }
   ],
   "source": [
    "#6\n",
    "sum=0\n",
    "for i in range(1, 101, 2):\n",
    "    sum+=i\n",
    "    print(i,end=' + ')\n",
    "print(' = %d' %sum)"
   ]
  },
  {
   "cell_type": "code",
   "execution_count": 27,
   "metadata": {},
   "outputs": [
    {
     "name": "stdout",
     "output_type": "stream",
     "text": [
      "N의 값을 입력하세요 : 12\n",
      "N의 값 : 12 합계 : 744010475682\n"
     ]
    }
   ],
   "source": [
    "#7\n",
    "num = int(input('N의 값을 입력하세요 : '))\n",
    "\n",
    "sum =0\n",
    "for i in range(1, num+1):\n",
    "    if i%2==0:\n",
    "        sum+=i**(i-1)\n",
    "print('N의 값 : %d' %num, end=' ')\n",
    "print('합계 : %d' %sum)\n"
   ]
  },
  {
   "cell_type": "code",
   "execution_count": 46,
   "metadata": {},
   "outputs": [
    {
     "name": "stdout",
     "output_type": "stream",
     "text": [
      "N의 값을 입력하세요 : 200\n",
      "2 3 5 7 11 13 17 19 23 29 31 37 41 43 47 53 59 61 67 71 73 79 83 89 97 101 103 107 109 113 127 131 137 139 149 151 157 163 167 173 179 181 191 193 197 199 "
     ]
    }
   ],
   "source": [
    "#8\n",
    "num = int(input('N의 값을 입력하세요 : '))\n",
    "for i in range(2, num+1):\n",
    "    p =True\n",
    "    for j in range(2, i):\n",
    "        if i%j==0:\n",
    "            p=False\n",
    "            break\n",
    "    if(p):\n",
    "        print(i, end=' ')\n",
    "            \n",
    "    "
   ]
  },
  {
   "cell_type": "code",
   "execution_count": 33,
   "metadata": {},
   "outputs": [
    {
     "name": "stdout",
     "output_type": "stream",
     "text": [
      "------------------------------\n",
      "달러($) 원화(원) 유로(€)\n",
      "------------------------------\n",
      "   10    10800     8.1\n",
      "   20    21600    16.2\n",
      "   30    32400    24.3\n",
      "   40    43200    32.4\n",
      "   50    54000    40.5\n",
      "   60    64800    48.6\n",
      "   70    75600    56.7\n",
      "   80    86400    64.8\n",
      "   90    97200    72.9\n",
      "  100   108000    81.0\n",
      "------------------------------\n"
     ]
    }
   ],
   "source": [
    "#9\n",
    "\n",
    "print('-'*30)\n",
    "print('달러($) 원화(원) 유로(€)')\n",
    "print('-'*30)\n",
    "\n",
    "d = 10\n",
    "while d<101:\n",
    "    w = d*1080\n",
    "    u = d*0.81\n",
    "    print('%5d %8d %7.1f' %(d, w, u))\n",
    "    d+=10\n",
    "print('-'*30)"
   ]
  },
  {
   "cell_type": "code",
   "execution_count": 41,
   "metadata": {},
   "outputs": [
    {
     "name": "stdout",
     "output_type": "stream",
     "text": [
      "------------------------------\n",
      "cm    mm     m     inch\n",
      "------------------------------\n",
      " 1    10    0.01    0.39\n",
      " 3    30    0.03    1.18\n",
      " 5    50    0.05    1.97\n",
      " 7    70    0.07    2.76\n",
      " 9    90    0.09    3.54\n",
      "11   110    0.11    4.33\n",
      "13   130    0.13    5.12\n",
      "15   150    0.15    5.91\n",
      "17   170    0.17    6.69\n",
      "19   190    0.19    7.48\n",
      "21   210    0.21    8.27\n",
      "23   230    0.23    9.06\n",
      "25   250    0.25    9.84\n",
      "27   270    0.27   10.63\n",
      "29   290    0.29   11.42\n",
      "31   310    0.31   12.20\n",
      "33   330    0.33   12.99\n",
      "35   350    0.35   13.78\n",
      "37   370    0.37   14.57\n",
      "39   390    0.39   15.35\n",
      "41   410    0.41   16.14\n",
      "43   430    0.43   16.93\n",
      "45   450    0.45   17.72\n",
      "47   470    0.47   18.50\n",
      "49   490    0.49   19.29\n",
      "51   510    0.51   20.08\n",
      "53   530    0.53   20.87\n",
      "55   550    0.55   21.65\n",
      "57   570    0.57   22.44\n",
      "59   590    0.59   23.23\n",
      "61   610    0.61   24.02\n",
      "63   630    0.63   24.80\n",
      "65   650    0.65   25.59\n",
      "67   670    0.67   26.38\n",
      "69   690    0.69   27.17\n",
      "71   710    0.71   27.95\n",
      "73   730    0.73   28.74\n",
      "75   750    0.75   29.53\n",
      "77   770    0.77   30.31\n",
      "79   790    0.79   31.10\n",
      "81   810    0.81   31.89\n",
      "83   830    0.83   32.68\n",
      "85   850    0.85   33.46\n",
      "87   870    0.87   34.25\n",
      "89   890    0.89   35.04\n",
      "91   910    0.91   35.83\n",
      "93   930    0.93   36.61\n",
      "95   950    0.95   37.40\n",
      "97   970    0.97   38.19\n",
      "99   990    0.99   38.98\n",
      "------------------------------\n"
     ]
    }
   ],
   "source": [
    "#10\n",
    "print('-'*30)\n",
    "print('cm    mm     m     inch')\n",
    "print('-'*30)\n",
    "\n",
    "cm = 1\n",
    "while cm<100:\n",
    "    mm = cm*10\n",
    "    m = cm*0.01\n",
    "    inch = cm*0.3937\n",
    "    print('%2d %5d %7.2f %7.2f' %(cm, mm, m, inch))\n",
    "    cm+=2\n",
    "print('-'*30)"
   ]
  }
 ],
 "metadata": {
  "kernelspec": {
   "display_name": "Python 3",
   "language": "python",
   "name": "python3"
  },
  "language_info": {
   "codemirror_mode": {
    "name": "ipython",
    "version": 3
   },
   "file_extension": ".py",
   "mimetype": "text/x-python",
   "name": "python",
   "nbconvert_exporter": "python",
   "pygments_lexer": "ipython3",
   "version": "3.7.6"
  }
 },
 "nbformat": 4,
 "nbformat_minor": 4
}
