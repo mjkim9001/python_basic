{
 "cells": [
  {
   "cell_type": "markdown",
   "metadata": {},
   "source": [
    "# Chapter 05. 리스트"
   ]
  },
  {
   "cell_type": "code",
   "execution_count": 3,
   "metadata": {
    "scrolled": true
   },
   "outputs": [
    {
     "name": "stdout",
     "output_type": "stream",
     "text": [
      "['사과', '오렌지', '딸기', '포도', '감', '키위', '멜론', '수박']\n",
      "[5, 10.2, '탁구', True, [4, 5, 6]]\n",
      "[1, 3, 5, 7, 9]\n",
      "\n",
      "사과\n",
      "['오렌지', '딸기', '포도']\n",
      "['딸기', '포도', '감', '키위', '멜론', '수박']\n",
      "수박\n",
      "['감', '키위']\n",
      "['키위', '멜론', '수박']\n"
     ]
    }
   ],
   "source": [
    "# ex 5-1\n",
    "\n",
    "fruits = ['사과', '오렌지', '딸기', '포도', '감', '키위', '멜론', '수박']\n",
    "list1 = [5, 10.2, '탁구', True, [4,5,6]]\n",
    "numbers = list(range(1,10,2))\n",
    "\n",
    "print(fruits)\n",
    "print(list1)\n",
    "print(numbers)\n",
    "print()\n",
    "print(fruits[0])\n",
    "print(fruits[1:4])\n",
    "print(fruits[2:])\n",
    "print(fruits[-1])\n",
    "print(fruits[-4:-2])\n",
    "print(fruits[-3:])"
   ]
  },
  {
   "cell_type": "code",
   "execution_count": 4,
   "metadata": {},
   "outputs": [
    {
     "name": "stdout",
     "output_type": "stream",
     "text": [
      "['red', 'green', 'blue', 'yellow']\n",
      "['red', 'black', 'green', 'blue', 'yellow']\n",
      "['red', 'black', 'green', 'blue', 'yellow', 'purple', 'white']\n",
      "['red', 'black', 'green', 'blue', 'yellow', 'purple', 'white', 'purple', 'white']\n"
     ]
    }
   ],
   "source": [
    "# ex 5-2\n",
    "a = ['red', 'green', 'blue']\n",
    "a.append('yellow')\n",
    "print(a)\n",
    "\n",
    "a.insert(1, 'black')\n",
    "print(a)\n",
    "\n",
    "b=['purple', 'white']\n",
    "a.extend(b)\n",
    "print(a)\n",
    "\n",
    "c=a+b\n",
    "print(c)"
   ]
  },
  {
   "cell_type": "code",
   "execution_count": 7,
   "metadata": {},
   "outputs": [
    {
     "name": "stdout",
     "output_type": "stream",
     "text": [
      "2\n",
      "[10, 20, 40, 50, 60, 70, 80, 90, 100]\n",
      "[10, 20, 40, 60, 70, 80, 90, 100]\n",
      "[10, 20, 40, 60, 70, 80, 100]\n",
      "[]\n"
     ]
    }
   ],
   "source": [
    "# ex 5-3\n",
    "a = [10,20,30,40,50,60,70,80,90,100]\n",
    "x=a.index(30)\n",
    "print(x)\n",
    "\n",
    "a.pop(x)\n",
    "print(a)\n",
    "\n",
    "del a[3]\n",
    "print(a)\n",
    "\n",
    "a.remove(90)\n",
    "print(a)\n",
    "\n",
    "a.clear()\n",
    "print(a)"
   ]
  },
  {
   "cell_type": "code",
   "execution_count": 3,
   "metadata": {},
   "outputs": [
    {
     "name": "stdout",
     "output_type": "stream",
     "text": [
      "3\n"
     ]
    }
   ],
   "source": [
    "# ex 5-4\n",
    "list1 = ['a', 'bb', 'c', 'd', 'aaa', 'c', 'ddd', 'aaa', 'b', 'cc', 'd', 'aaa']\n",
    "length = list1.count('aaa')\n",
    "\n",
    "print(length)"
   ]
  },
  {
   "cell_type": "code",
   "execution_count": 4,
   "metadata": {},
   "outputs": [
    {
     "name": "stdout",
     "output_type": "stream",
     "text": [
      "[-7, 1, 3, 5, 8, 9, 11, 13]\n",
      "[13, 11, 9, 8, 5, 3, 1, -7]\n"
     ]
    }
   ],
   "source": [
    "# ex 5-5\n",
    "list2 = [-7, 1, 5, 8, 3, 9, 11, 13]\n",
    "list2.sort()\n",
    "print(list2)\n",
    "\n",
    "list2.sort(reverse=True)\n",
    "print(list2)"
   ]
  },
  {
   "cell_type": "code",
   "execution_count": 7,
   "metadata": {},
   "outputs": [
    {
     "name": "stdout",
     "output_type": "stream",
     "text": [
      "red\n",
      "white\n",
      "['green', 'blue', 'black']\n"
     ]
    }
   ],
   "source": [
    "# Q5-1\n",
    "color = ['red', 'green', 'blue', 'black', 'white']\n",
    "\n",
    "print(color[0])\n",
    "print(color[4])\n",
    "print(color[1:4])"
   ]
  },
  {
   "cell_type": "code",
   "execution_count": 8,
   "metadata": {},
   "outputs": [
    {
     "name": "stdout",
     "output_type": "stream",
     "text": [
      "[1, 3, 5, 7, 9, 11, 13, 15, 17, 19]\n"
     ]
    }
   ],
   "source": [
    "# Q5-2\n",
    "num = list(range(1, 20, 2))\n",
    "print(num)"
   ]
  },
  {
   "cell_type": "code",
   "execution_count": 9,
   "metadata": {},
   "outputs": [
    {
     "name": "stdout",
     "output_type": "stream",
     "text": [
      "사과\n",
      "바나나\n",
      "파인애플\n",
      "배\n",
      "키위\n"
     ]
    }
   ],
   "source": [
    "# Q5-3\n",
    "mylist = ['사과', '바나나', '파인애플', '배']\n",
    "mylist.append('키위')\n",
    "\n",
    "for a in mylist:\n",
    "    print(a)"
   ]
  },
  {
   "cell_type": "code",
   "execution_count": 10,
   "metadata": {},
   "outputs": [
    {
     "name": "stdout",
     "output_type": "stream",
     "text": [
      "['사과', '파인애플', '포도', '오렌지', '배']\n"
     ]
    }
   ],
   "source": [
    "# Q5-4\n",
    "mylist = ['사과', '바나나', '파인애플','포도', '오렌지', '배']\n",
    "\n",
    "mylist.remove('바나나')\n",
    "print(mylist)"
   ]
  },
  {
   "cell_type": "code",
   "execution_count": 11,
   "metadata": {},
   "outputs": [
    {
     "name": "stdout",
     "output_type": "stream",
     "text": [
      "['kim', 24, 'kim@naver.com', 'lee', 35, 'lee@hanmail.net']\n"
     ]
    }
   ],
   "source": [
    "# Q5-5\n",
    "person1 = ['kim', 24, 'kim@naver.com']\n",
    "person2 = ['lee', 35, 'lee@hanmail.net']\n",
    "\n",
    "person = person1+person2\n",
    "print(person)"
   ]
  },
  {
   "cell_type": "code",
   "execution_count": 12,
   "metadata": {},
   "outputs": [
    {
     "name": "stdout",
     "output_type": "stream",
     "text": [
      "apple\n",
      "orange\n",
      "banana\n"
     ]
    }
   ],
   "source": [
    "# ex 5-6\n",
    "fruits = ['apple','orange', 'banana']\n",
    "\n",
    "for fruit in fruits:\n",
    "    print(fruit)"
   ]
  },
  {
   "cell_type": "code",
   "execution_count": 13,
   "metadata": {},
   "outputs": [
    {
     "name": "stdout",
     "output_type": "stream",
     "text": [
      "총점: 666, 평균: 83.25\n"
     ]
    }
   ],
   "source": [
    "# ex 5-7\n",
    "scores = [88, 75, 90, 95, 77, 69, 80, 92]\n",
    "\n",
    "sum =0\n",
    "for score in scores : \n",
    "    sum +=score\n",
    "    \n",
    "avg = sum/len(scores)\n",
    "\n",
    "print('총점: %d, 평균: %.2f' %(sum, avg))"
   ]
  },
  {
   "cell_type": "code",
   "execution_count": 14,
   "metadata": {},
   "outputs": [
    {
     "name": "stdout",
     "output_type": "stream",
     "text": [
      "토끼\n",
      "거북이\n",
      "사자\n",
      "호랑이\n"
     ]
    }
   ],
   "source": [
    "# ex 5-8\n",
    "animals = ['토끼', '거북이', '사자', '호랑이']\n",
    "\n",
    "i = 0\n",
    "while i<len(animals):\n",
    "    print(animals[i])\n",
    "    \n",
    "    i+=1"
   ]
  },
  {
   "cell_type": "code",
   "execution_count": 2,
   "metadata": {},
   "outputs": [
    {
     "name": "stdout",
     "output_type": "stream",
     "text": [
      "수 : 3명\n",
      "우 : 6명\n",
      "미 : 3명\n",
      "양 : 4명\n",
      "가 : 4명\n"
     ]
    }
   ],
   "source": [
    "# Q5-6\n",
    "s = [64, 89, 100, 85, 77, 58, 79, 67, 96, 87, 87, 36, 82, 98, 84, 76, 63, 69, 53, 22]\n",
    "\n",
    "count_su = 0\n",
    "count_woo = 0\n",
    "count_mi = 0\n",
    "count_yang = 0\n",
    "count_ga = 0\n",
    "\n",
    "i=0\n",
    "while i<len(s):\n",
    "    if s[i] >=90 and s[i] <=100:\n",
    "        count_su +=1\n",
    "    if s[i]>=80 and s[i] <=89:\n",
    "        count_woo+=1\n",
    "    if s[i]>=70 and s[i] <=79:\n",
    "        count_mi+=1\n",
    "    if s[i]>=60 and s[i] <=69:\n",
    "        count_yang+=1\n",
    "    if s[i]>=0 and s[i] <=59:\n",
    "        count_ga+=1\n",
    "    i+=1       \n",
    "        \n",
    "\n",
    "print('수 : %d명' %count_su)\n",
    "print('우 : %d명' %count_woo)\n",
    "print('미 : %d명' %count_mi)\n",
    "print('양 : %d명' %count_yang)\n",
    "print('가 : %d명' %count_ga)"
   ]
  },
  {
   "cell_type": "code",
   "execution_count": 1,
   "metadata": {},
   "outputs": [
    {
     "name": "stdout",
     "output_type": "stream",
     "text": [
      "tr_in에서 밑줄(_)안에 들어갈 알파벳은?a\n",
      "정답!\n",
      "b_s에서 밑줄(_)안에 들어갈 알파벳은?u\n",
      "정답!\n",
      "_axi에서 밑줄(_)안에 들어갈 알파벳은?e\n",
      "틀렸습니다!\n",
      "air_lane에서 밑줄(_)안에 들어갈 알파벳은?p\n",
      "정답!\n"
     ]
    }
   ],
   "source": [
    "# Q5-7\n",
    "questions = ['tr_in', 'b_s', '_axi', 'air_lane']\n",
    "answers = ['a', 'u', 't', 'p']\n",
    "for i in range(len(questions)):\n",
    "    q='%s에서 밑줄(_)안에 들어갈 알파벳은?' %questions[i]\n",
    "    ans = input(q)\n",
    "    if ans == answers[i]:\n",
    "        print('정답!')\n",
    "    else:\n",
    "        print('틀렸습니다!')"
   ]
  },
  {
   "cell_type": "code",
   "execution_count": 2,
   "metadata": {},
   "outputs": [
    {
     "name": "stdout",
     "output_type": "stream",
     "text": [
      "[10, 20, 30]\n",
      "[40, 50, 60]\n",
      "20\n",
      "30\n",
      "40\n",
      "50\n",
      "60\n"
     ]
    }
   ],
   "source": [
    "# ex 5-9\n",
    "numbers = [[10,20,30], [40, 50, 60]]\n",
    "\n",
    "print(numbers[0])\n",
    "print(numbers[1])\n",
    "print(numbers[0][1])\n",
    "print(numbers[0][2])\n",
    "print(numbers[1][0])\n",
    "print(numbers[1][1])\n",
    "print(numbers[1][2])\n"
   ]
  },
  {
   "cell_type": "code",
   "execution_count": 3,
   "metadata": {},
   "outputs": [
    {
     "name": "stdout",
     "output_type": "stream",
     "text": [
      "1번째 학생의 합계 : 260, 평균 : 86.67\n",
      "2번째 학생의 합계 : 258, 평균 : 86.00\n",
      "3번째 학생의 합계 : 254, 평균 : 84.67\n",
      "4번째 학생의 합계 : 254, 평균 : 84.67\n",
      "5번째 학생의 합계 : 257, 평균 : 85.67\n",
      "6번째 학생의 합계 : 236, 평균 : 78.67\n",
      "7번째 학생의 합계 : 248, 평균 : 82.67\n",
      "8번째 학생의 합계 : 258, 평균 : 86.00\n"
     ]
    }
   ],
   "source": [
    "# ex 5-10\n",
    "scores = [[96,84,80], [96,86,76],[76,95,83],[89,96,69],[90,76,91],[82,66,88],[83,86,79],[85,90,83]]\n",
    "\n",
    "for i in range(len(scores)):\n",
    "    sum=0\n",
    "    for j in range(len(scores[i])):\n",
    "        sum +=scores[i][j]\n",
    "    \n",
    "    avg = sum/len(scores[i])\n",
    "    \n",
    "    print('%d번째 학생의 합계 : %d, 평균 : %.2f' %(i+1, sum, avg))\n",
    "    "
   ]
  },
  {
   "cell_type": "code",
   "execution_count": 4,
   "metadata": {},
   "outputs": [
    {
     "name": "stdout",
     "output_type": "stream",
     "text": [
      "1번째 학생의 합계 : 260, 평균 : 86.67\n",
      "2번째 학생의 합계 : 258, 평균 : 86.00\n",
      "3번째 학생의 합계 : 254, 평균 : 84.67\n",
      "4번째 학생의 합계 : 254, 평균 : 84.67\n",
      "5번째 학생의 합계 : 257, 평균 : 85.67\n",
      "6번째 학생의 합계 : 236, 평균 : 78.67\n",
      "7번째 학생의 합계 : 248, 평균 : 82.67\n",
      "8번째 학생의 합계 : 258, 평균 : 86.00\n"
     ]
    }
   ],
   "source": [
    "# Q5-8\n",
    "i=0\n",
    "while i < len(scores):\n",
    "    sum = 0\n",
    "    j=0\n",
    "    while j<len(scores[i]):\n",
    "        sum+=scores[i][j]\n",
    "        j+=1\n",
    "    avg = sum/len(scores[i])\n",
    "    print('%d번째 학생의 합계 : %d, 평균 : %.2f' %(i+1, sum, avg))\n",
    "    i+=1"
   ]
  },
  {
   "cell_type": "code",
   "execution_count": 1,
   "metadata": {},
   "outputs": [
    {
     "name": "stdout",
     "output_type": "stream",
     "text": [
      "성적을 입력하세요(종료시 -1 입력): 45\n",
      "성적을 입력하세요(종료시 -1 입력): 56\n",
      "성적을 입력하세요(종료시 -1 입력): 23\n",
      "성적을 입력하세요(종료시 -1 입력): 45\n",
      "성적을 입력하세요(종료시 -1 입력): -1\n",
      "합계: 169, 평균: 42.25\n"
     ]
    }
   ],
   "source": [
    "# Q5-9\n",
    "scores = []\n",
    "while True:\n",
    "    score = int(input('성적을 입력하세요(종료시 -1 입력): '))\n",
    "    if score == -1:\n",
    "        break\n",
    "    else:\n",
    "        scores.append(score)\n",
    "    sum = 0\n",
    "    \n",
    "    for i in range(0, len(scores)):\n",
    "        sum+=scores[i]\n",
    "    avg = sum/len(scores)\n",
    "    \n",
    "print('합계: %d, 평균: %.2f' %(sum, avg))"
   ]
  },
  {
   "cell_type": "code",
   "execution_count": 5,
   "metadata": {},
   "outputs": [
    {
     "name": "stdout",
     "output_type": "stream",
     "text": [
      "  □  □  □  □  □  □  □  □\n",
      "  □  □  □  □  □  □  □  □\n",
      "  □  □  □  □  □  □  □  □\n",
      "  ■  ■  ■  □  □  □  □  ■\n",
      "  □  □  □  □  □  ■  □  □\n",
      "  □  ■  □  □  □  ■  □  ■\n",
      "  □  □  □  □  □  □  ■  □\n",
      "  ■  □  ■  □  □  □  □  □\n",
      "\n",
      "※ 예약 가능: ■, 예약 불가능: □\n"
     ]
    }
   ],
   "source": [
    "# Q5-10\n",
    "seats = [[0, 0, 0, 0, 0, 0, 0, 0, 0 ],\\\n",
    "         [0, 0, 0, 0, 0, 0, 0, 0, 0 ],\\\n",
    "         [0, 0, 0, 0, 0, 0, 0, 0, 0 ],\\\n",
    "         [1, 1, 1, 0, 0, 0, 0, 1, 0 ],\\\n",
    "         [0, 0, 0, 0, 0, 1, 0, 0, 0 ],\\\n",
    "         [0, 1, 0, 0, 0, 1, 0, 1, 0 ],\\\n",
    "         [0, 0, 0, 0, 0, 0, 1, 0, 0 ],\\\n",
    "         [1, 0, 1, 0, 0, 0, 0, 0, 1 ]]\n",
    "\n",
    "for i in range(len(seats)):\n",
    "    for j in range(len(seats)):\n",
    "        if seats[i][j] == 0:\n",
    "            print('%3s'%'□', end='')\n",
    "        else:\n",
    "            print('%3s'%'■', end='')\n",
    "    print()\n",
    "    \n",
    "print('\\n※ 예약 가능: ■, 예약 불가능: □')\n"
   ]
  },
  {
   "cell_type": "code",
   "execution_count": 6,
   "metadata": {
    "scrolled": true
   },
   "outputs": [
    {
     "name": "stdout",
     "output_type": "stream",
     "text": [
      "가장 큰 수는 10 입니다\n"
     ]
    }
   ],
   "source": [
    "# 1\n",
    "\n",
    "data = [-12, 3, -9, 5, 8, -2, 0, -8, 3, 10]\n",
    "\n",
    "big_num = 0\n",
    "for i in range(len(data)):\n",
    "    for j in range(len(data)):\n",
    "        if data[i]<data[j]:\n",
    "            big_num=data[j]\n",
    "\n",
    "print('가장 큰 수는 %d 입니다' %big_num)\n",
    "    \n"
   ]
  },
  {
   "cell_type": "code",
   "execution_count": 21,
   "metadata": {},
   "outputs": [
    {
     "name": "stdout",
     "output_type": "stream",
     "text": [
      "합계 : 8 평균 : 1.60\n"
     ]
    }
   ],
   "source": [
    "# 2\n",
    "\n",
    "data = [-12, 3, -9, 5, 8, -2, 0, -8, 3, 10]\n",
    "\n",
    "n = 1\n",
    "sum =0\n",
    "avg =0\n",
    "\n",
    "while n<len(data):\n",
    "    sum+=data[n]\n",
    "    n+=2\n",
    "\n",
    "avg=sum/(len(data)/2)\n",
    "print('합계 : %d 평균 : %.2f' %(sum, avg))"
   ]
  },
  {
   "cell_type": "code",
   "execution_count": 25,
   "metadata": {},
   "outputs": [
    {
     "name": "stdout",
     "output_type": "stream",
     "text": [
      "[10, 8, 5, 3, 3, 0, -2, -8, -9, -12]\n"
     ]
    }
   ],
   "source": [
    "# 3\n",
    "\n",
    "data = [-12, 3, -9, 5, 8, -2, 0, -8, 3, 10]\n",
    "\n",
    "temp = 0\n",
    "for i in range(len(data)):\n",
    "    for j in range(len(data)):\n",
    "        if data[i]>data[j]:\n",
    "            temp=data[j]\n",
    "            data[j]=data[i]\n",
    "            data[i]=temp\n",
    "print(data)\n"
   ]
  },
  {
   "cell_type": "code",
   "execution_count": 26,
   "metadata": {},
   "outputs": [
    {
     "name": "stdout",
     "output_type": "stream",
     "text": [
      "[-12, 3, -9, 100, 5, 8, -2, 0, -8, 3, 10]\n"
     ]
    }
   ],
   "source": [
    "# 4\n",
    "\n",
    "data = [-12, 3, -9, 5, 8, -2, 0, -8, 3, 10]\n",
    "\n",
    "data.insert(3, 100)\n",
    "print(data)\n"
   ]
  },
  {
   "cell_type": "code",
   "execution_count": 27,
   "metadata": {},
   "outputs": [
    {
     "name": "stdout",
     "output_type": "stream",
     "text": [
      "[3, -9, 5, 8, -2, 0, -8, 3, 10]\n"
     ]
    }
   ],
   "source": [
    "# 5\n",
    "\n",
    "data = [-12, 3, -9, 5, 8, -2, 0, -8, 3, 10]\n",
    "\n",
    "data.remove(-12)\n",
    "print(data)"
   ]
  },
  {
   "cell_type": "code",
   "execution_count": 30,
   "metadata": {},
   "outputs": [
    {
     "name": "stdout",
     "output_type": "stream",
     "text": [
      "흑돌의 개수: 17 \n",
      "백돌의 개수: 16\n"
     ]
    }
   ],
   "source": [
    "# 6 \n",
    "stone = [[0, 0, 0, 0, 0, 0, 0, 0, 0 ],\\\n",
    "         [0, 1, 0, 1, 2, 1, 2, 1, 0 ],\\\n",
    "         [0, 2, 1, 1, 1, 2, 2, 0, 0 ],\\\n",
    "         [0, 0, 2, 2, 2, 1, 0, 2, 0 ],\\\n",
    "         [0, 0, 0, 0, 0, 1, 0, 2, 1 ],\\\n",
    "         [0, 0, 0, 2, 0, 1, 2, 1, 0 ],\\\n",
    "         [0, 0, 0, 2, 1, 0, 1, 1, 0 ],\\\n",
    "         [0, 0, 0, 1, 1, 0, 0, 0, 0 ],\\\n",
    "         [0, 0, 0, 0, 2, 2, 2, 0, 0 ]]\n",
    "black_count=0\n",
    "white_count=0\n",
    "for i in range (len(stone)) :\n",
    "    for j in range (len(stone)) :\n",
    "        if stone[i][j]==1:\n",
    "            black_count+=1\n",
    "        elif stone[i][j]==2:\n",
    "            white_count+=1\n",
    "\n",
    "print('흑돌의 개수: %d \\n백돌의 개수: %d' %(black_count, white_count))"
   ]
  },
  {
   "cell_type": "code",
   "execution_count": 41,
   "metadata": {},
   "outputs": [
    {
     "name": "stdout",
     "output_type": "stream",
     "text": [
      "X X X X X X X X X \n",
      "X ● X ● ○ ● ○ ● X \n",
      "X ○ ● ● ● ○ ○ X X \n",
      "X X ○ ○ ○ ● X ○ X \n",
      "X X X X X ● X ○ ● \n",
      "X X X ○ X ● ○ ● X \n",
      "X X X ○ ● X ● ● X \n",
      "X X X ● ● X X X X \n",
      "X X X X ○ ○ ○ X X \n"
     ]
    }
   ],
   "source": [
    "# 7\n",
    "stone = [[0, 0, 0, 0, 0, 0, 0, 0, 0 ],\\\n",
    "         [0, 1, 0, 1, 2, 1, 2, 1, 0 ],\\\n",
    "         [0, 2, 1, 1, 1, 2, 2, 0, 0 ],\\\n",
    "         [0, 0, 2, 2, 2, 1, 0, 2, 0 ],\\\n",
    "         [0, 0, 0, 0, 0, 1, 0, 2, 1 ],\\\n",
    "         [0, 0, 0, 2, 0, 1, 2, 1, 0 ],\\\n",
    "         [0, 0, 0, 2, 1, 0, 1, 1, 0 ],\\\n",
    "         [0, 0, 0, 1, 1, 0, 0, 0, 0 ],\\\n",
    "         [0, 0, 0, 0, 2, 2, 2, 0, 0 ]]\n",
    "\n",
    "black_count=0\n",
    "white_count=0\n",
    "for i in range (len(stone)) :\n",
    "    for j in range (len(stone)) :\n",
    "        if stone[i][j]==1:\n",
    "            stone[i][j] = '●'\n",
    "        elif stone[i][j]==2:\n",
    "            stone[i][j] = '○'\n",
    "        else:\n",
    "            stone[i][j] = 'X'\n",
    "        print(stone[i][j], end=' ')\n",
    "    print()"
   ]
  },
  {
   "cell_type": "code",
   "execution_count": 49,
   "metadata": {},
   "outputs": [
    {
     "name": "stdout",
     "output_type": "stream",
     "text": [
      "  01 02 03 04 05 06 07 08 09 \n",
      "01 X  X  X  X  X  X  X  X  X  \n",
      "02 X  ●  X  ●  ○  ●  ○  ●  X  \n",
      "03 X  ○  ●  ●  ●  ○  ○  X  X  \n",
      "04 X  X  ○  ○  ○  ●  X  ○  X  \n",
      "05 X  X  X  X  X  ●  X  ○  ●  \n",
      "06 X  X  X  ○  X  ●  ○  ●  X  \n",
      "07 X  X  X  ○  ●  X  ●  ●  X  \n",
      "08 X  X  X  ●  ●  X  X  X  X  \n",
      "09 X  X  X  X  ○  ○  ○  X  X  \n"
     ]
    }
   ],
   "source": [
    "# 8\n",
    "\n",
    "stone = [[0, 0, 0, 0, 0, 0, 0, 0, 0 ],\\\n",
    "         [0, 1, 0, 1, 2, 1, 2, 1, 0 ],\\\n",
    "         [0, 2, 1, 1, 1, 2, 2, 0, 0 ],\\\n",
    "         [0, 0, 2, 2, 2, 1, 0, 2, 0 ],\\\n",
    "         [0, 0, 0, 0, 0, 1, 0, 2, 1 ],\\\n",
    "         [0, 0, 0, 2, 0, 1, 2, 1, 0 ],\\\n",
    "         [0, 0, 0, 2, 1, 0, 1, 1, 0 ],\\\n",
    "         [0, 0, 0, 1, 1, 0, 0, 0, 0 ],\\\n",
    "         [0, 0, 0, 0, 2, 2, 2, 0, 0 ]]\n",
    "\n",
    "black_count=0\n",
    "white_count=0\n",
    "print(' '*2, end='')\n",
    "for i in range (len(stone)) :\n",
    "    print('%02d'%(i+1), end=' ')\n",
    "print()\n",
    "\n",
    "for i in range (len(stone)) :\n",
    "    print('%02d'%(i+1), end=' ')\n",
    "    for j in range (len(stone)) :\n",
    "        if stone[i][j]==1:\n",
    "            stone[i][j] = '●'\n",
    "        elif stone[i][j]==2:\n",
    "            stone[i][j] = '○'\n",
    "        else:\n",
    "            stone[i][j] = 'X'\n",
    "        print(stone[i][j], end='  ')\n",
    "    print()"
   ]
  },
  {
   "cell_type": "code",
   "execution_count": 50,
   "metadata": {},
   "outputs": [
    {
     "name": "stdout",
     "output_type": "stream",
     "text": [
      "X축의 좌표값을 입력하세요(1~9, 종료시 -1 입력) : 9\n",
      "Y축의 좌표값을 입력하세요(1~9, 종료시 -1 입력) : 5\n",
      "흑돌\n",
      "X축의 좌표값을 입력하세요(1~9, 종료시 -1 입력) : 7\n",
      "Y축의 좌표값을 입력하세요(1~9, 종료시 -1 입력) : 2\n",
      "백돌\n",
      "X축의 좌표값을 입력하세요(1~9, 종료시 -1 입력) : 4\n",
      "Y축의 좌표값을 입력하세요(1~9, 종료시 -1 입력) : 1\n",
      "돌없음\n",
      "X축의 좌표값을 입력하세요(1~9, 종료시 -1 입력) : -1\n",
      "종료\n"
     ]
    }
   ],
   "source": [
    "# 9\n",
    "\n",
    "stone = [[0, 0, 0, 0, 0, 0, 0, 0, 0 ],\\\n",
    "         [0, 1, 0, 1, 2, 1, 2, 1, 0 ],\\\n",
    "         [0, 2, 1, 1, 1, 2, 2, 0, 0 ],\\\n",
    "         [0, 0, 2, 2, 2, 1, 0, 2, 0 ],\\\n",
    "         [0, 0, 0, 0, 0, 1, 0, 2, 1 ],\\\n",
    "         [0, 0, 0, 2, 0, 1, 2, 1, 0 ],\\\n",
    "         [0, 0, 0, 2, 1, 0, 1, 1, 0 ],\\\n",
    "         [0, 0, 0, 1, 1, 0, 0, 0, 0 ],\\\n",
    "         [0, 0, 0, 0, 2, 2, 2, 0, 0 ]]\n",
    "while True:\n",
    "    \n",
    "    x = int(input('X축의 좌표값을 입력하세요(1~9, 종료시 -1 입력) : '))\n",
    "    if x ==-1:\n",
    "        break\n",
    "    y = int(input('Y축의 좌표값을 입력하세요(1~9, 종료시 -1 입력) : '))\n",
    "    if y ==-1:\n",
    "        break\n",
    "    if stone[y-1][x-1] ==1 :\n",
    "        print('흑돌')\n",
    "    elif stone[y-1][x-1] ==2 :\n",
    "        print('백돌')\n",
    "    else:\n",
    "        print('돌없음')\n",
    "print('종료')"
   ]
  },
  {
   "cell_type": "code",
   "execution_count": null,
   "metadata": {},
   "outputs": [],
   "source": []
  }
 ],
 "metadata": {
  "kernelspec": {
   "display_name": "Python 3",
   "language": "python",
   "name": "python3"
  },
  "language_info": {
   "codemirror_mode": {
    "name": "ipython",
    "version": 3
   },
   "file_extension": ".py",
   "mimetype": "text/x-python",
   "name": "python",
   "nbconvert_exporter": "python",
   "pygments_lexer": "ipython3",
   "version": "3.7.6"
  }
 },
 "nbformat": 4,
 "nbformat_minor": 4
}
