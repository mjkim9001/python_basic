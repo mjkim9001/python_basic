{
 "cells": [
  {
   "cell_type": "code",
   "execution_count": 6,
   "metadata": {},
   "outputs": [],
   "source": [
    "import requests\n",
    "from bs4 import BeautifulSoup\n",
    "from urllib.request import urlopen\n",
    "import pandas as pd"
   ]
  },
  {
   "cell_type": "code",
   "execution_count": 2,
   "metadata": {},
   "outputs": [],
   "source": [
    "url = \"https://www.siksinhot.com/taste?upHpAreaId=17&hpAreaId=660\"\n",
    "\n",
    "html = urlopen(url)\n",
    "soup = BeautifulSoup(html, 'html.parser')"
   ]
  },
  {
   "cell_type": "code",
   "execution_count": 3,
   "metadata": {},
   "outputs": [
    {
     "data": {
      "text/plain": [
       "[<div class=\"cnt\" data-reactid=\"178\"><em class=\"score\" data-reactid=\"179\">4.0</em><div class=\"box_tit\" data-reactid=\"180\"><strong class=\"store\" data-reactid=\"181\">상당집</strong><div class=\"ico_right\" data-reactid=\"182\"></div></div><ul data-reactid=\"183\"><li data-reactid=\"184\">청주-중앙/북문로/남문로</li></ul><p data-reactid=\"185\"><!-- react-text: 186 -->두부전골 대<!-- /react-text --><!-- react-text: 187 -->, 파전<!-- /react-text --><!-- react-text: 188 -->, 비지장안주<!-- /react-text --><!-- react-text: 189 -->, 두부두루치기<!-- /react-text --><!-- react-text: 190 -->, 청국장<!-- /react-text --></p><ul class=\"state_ul\" data-reactid=\"191\"><li class=\"ico_st01\" data-reactid=\"192\"><p data-reactid=\"193\">12749</p></li><li class=\"ico_st02\" data-reactid=\"194\"><p data-reactid=\"195\">45</p></li><li class=\"ico_st03\" data-reactid=\"196\"><p data-reactid=\"197\">138</p></li></ul></div>,\n",
       " <div class=\"cnt\" data-reactid=\"205\"><em class=\"score\" data-reactid=\"206\">4.0</em><div class=\"box_tit\" data-reactid=\"207\"><strong class=\"store\" data-reactid=\"208\">당조중화요리</strong><div class=\"ico_right\" data-reactid=\"209\"></div></div><ul data-reactid=\"210\"><li data-reactid=\"211\">청주-중앙/북문로/남문로</li></ul><p data-reactid=\"212\"><!-- react-text: 213 -->짜장면<!-- /react-text --><!-- react-text: 214 -->, 우동<!-- /react-text --><!-- react-text: 215 -->, 간짜장<!-- /react-text --><!-- react-text: 216 -->, 짬뽕<!-- /react-text --><!-- react-text: 217 -->, 탕수육<!-- /react-text --><!-- react-text: 218 -->, 잡채밥<!-- /react-text --></p><ul class=\"state_ul\" data-reactid=\"219\"><li class=\"ico_st01\" data-reactid=\"220\"><p data-reactid=\"221\">12073</p></li><li class=\"ico_st02\" data-reactid=\"222\"><p data-reactid=\"223\">35</p></li><li class=\"ico_st03\" data-reactid=\"224\"><p data-reactid=\"225\">101</p></li></ul></div>,\n",
       " <div class=\"cnt\" data-reactid=\"233\"><em class=\"score\" data-reactid=\"234\">3.5</em><div class=\"box_tit\" data-reactid=\"235\"><strong class=\"store\" data-reactid=\"236\">중앙모밀</strong><div class=\"ico_right\" data-reactid=\"237\"></div></div><ul data-reactid=\"238\"><li data-reactid=\"239\">청주-중앙/북문로/남문로</li></ul><p data-reactid=\"240\"><!-- react-text: 241 -->모밀국수<!-- /react-text --><!-- react-text: 242 -->, 모밀우동<!-- /react-text --><!-- react-text: 243 -->, 모밀짜장<!-- /react-text --></p><ul class=\"state_ul\" data-reactid=\"244\"><li class=\"ico_st01\" data-reactid=\"245\"><p data-reactid=\"246\">11293</p></li><li class=\"ico_st02\" data-reactid=\"247\"><p data-reactid=\"248\">37</p></li><li class=\"ico_st03\" data-reactid=\"249\"><p data-reactid=\"250\">127</p></li></ul></div>,\n",
       " <div class=\"cnt\" data-reactid=\"258\"><em class=\"score\" data-reactid=\"259\">3.5</em><div class=\"box_tit\" data-reactid=\"260\"><strong class=\"store\" data-reactid=\"261\">서문우동</strong><div class=\"ico_right\" data-reactid=\"262\"></div></div><ul data-reactid=\"263\"><li data-reactid=\"264\">청주-중앙/북문로/남문로</li></ul><p data-reactid=\"265\"><!-- react-text: 266 -->서문우동<!-- /react-text --><!-- react-text: 267 -->, 옛날짜장면<!-- /react-text --><!-- react-text: 268 -->, 쫄면<!-- /react-text --><!-- react-text: 269 -->, 찹쌀떡<!-- /react-text --><!-- react-text: 270 -->, 영양밤빵<!-- /react-text --></p><ul class=\"state_ul\" data-reactid=\"271\"><li class=\"ico_st01\" data-reactid=\"272\"><p data-reactid=\"273\">9332</p></li><li class=\"ico_st02\" data-reactid=\"274\"><p data-reactid=\"275\">29</p></li><li class=\"ico_st03\" data-reactid=\"276\"><p data-reactid=\"277\">114</p></li></ul></div>,\n",
       " <div class=\"cnt\" data-reactid=\"285\"><em class=\"score\" data-reactid=\"286\">4.1</em><div class=\"box_tit\" data-reactid=\"287\"><strong class=\"store\" data-reactid=\"288\">경주집버섯찌개</strong><div class=\"ico_right\" data-reactid=\"289\"></div></div><ul data-reactid=\"290\"><li data-reactid=\"291\">청주-중앙/북문로/남문로</li></ul><p data-reactid=\"292\"><!-- react-text: 293 -->버섯찌개<!-- /react-text --></p><ul class=\"state_ul\" data-reactid=\"294\"><li class=\"ico_st01\" data-reactid=\"295\"><p data-reactid=\"296\">8719</p></li><li class=\"ico_st02\" data-reactid=\"297\"><p data-reactid=\"298\">20</p></li><li class=\"ico_st03\" data-reactid=\"299\"><p data-reactid=\"300\">92</p></li></ul></div>,\n",
       " <div class=\"cnt\" data-reactid=\"308\"><em class=\"score\" data-reactid=\"309\">3.9</em><div class=\"box_tit\" data-reactid=\"310\"><strong class=\"store\" data-reactid=\"311\">코끼리만두</strong><div class=\"ico_right\" data-reactid=\"312\"></div></div><ul data-reactid=\"313\"><li data-reactid=\"314\">청주-중앙/북문로/남문로</li></ul><p data-reactid=\"315\"><!-- react-text: 316 -->고추만두국<!-- /react-text --><!-- react-text: 317 -->, 고추떡만두국<!-- /react-text --><!-- react-text: 318 -->, 고기떡만두국<!-- /react-text --><!-- react-text: 319 -->, 쫄면<!-- /react-text --><!-- react-text: 320 -->, 고기만두<!-- /react-text --></p><ul class=\"state_ul\" data-reactid=\"321\"><li class=\"ico_st01\" data-reactid=\"322\"><p data-reactid=\"323\">8121</p></li><li class=\"ico_st02\" data-reactid=\"324\"><p data-reactid=\"325\">25</p></li><li class=\"ico_st03\" data-reactid=\"326\"><p data-reactid=\"327\">92</p></li></ul></div>,\n",
       " <div class=\"cnt\" data-reactid=\"335\"><em class=\"score\" data-reactid=\"336\">4.1</em><div class=\"box_tit\" data-reactid=\"337\"><strong class=\"store\" data-reactid=\"338\">풀문</strong><div class=\"ico_right\" data-reactid=\"339\"><span class=\"ico_sty01\" data-reactid=\"340\"><em data-reactid=\"341\">주차</em></span></div></div><ul data-reactid=\"342\"><li data-reactid=\"343\">청주-중앙/북문로/남문로</li></ul><p data-reactid=\"344\"><!-- react-text: 345 -->세계최초 치즈빙수<!-- /react-text --><!-- react-text: 346 -->, 로스팅 아메리카노<!-- /react-text --><!-- react-text: 347 -->, 로네펠트 홍차<!-- /react-text --><!-- react-text: 348 -->, 카페라떼<!-- /react-text --><!-- react-text: 349 -->, 디저트 케이크<!-- /react-text --></p><ul class=\"state_ul\" data-reactid=\"350\"><li class=\"ico_st01\" data-reactid=\"351\"><p data-reactid=\"352\">7725</p></li><li class=\"ico_st02\" data-reactid=\"353\"><p data-reactid=\"354\">24</p></li><li class=\"ico_st03\" data-reactid=\"355\"><p data-reactid=\"356\">76</p></li></ul></div>,\n",
       " <div class=\"cnt\" data-reactid=\"364\"><em class=\"score\" data-reactid=\"365\">4.1</em><div class=\"box_tit\" data-reactid=\"366\"><strong class=\"store\" data-reactid=\"367\">백로식당본점</strong><div class=\"ico_right\" data-reactid=\"368\"><span class=\"ico_sty01\" data-reactid=\"369\"><em data-reactid=\"370\">주차</em></span></div></div><ul data-reactid=\"371\"><li data-reactid=\"372\">청주-중앙/북문로/남문로</li></ul><p data-reactid=\"373\"><!-- react-text: 374 -->양념불고기<!-- /react-text --></p><ul class=\"state_ul\" data-reactid=\"375\"><li class=\"ico_st01\" data-reactid=\"376\"><p data-reactid=\"377\">7465</p></li><li class=\"ico_st02\" data-reactid=\"378\"><p data-reactid=\"379\">16</p></li><li class=\"ico_st03\" data-reactid=\"380\"><p data-reactid=\"381\">102</p></li></ul></div>,\n",
       " <div class=\"cnt\" data-reactid=\"389\"><em class=\"score\" data-reactid=\"390\">3.7</em><div class=\"box_tit\" data-reactid=\"391\"><strong class=\"store\" data-reactid=\"392\">소영칼국수</strong><div class=\"ico_right\" data-reactid=\"393\"></div></div><ul data-reactid=\"394\"><li data-reactid=\"395\">청주-중앙/북문로/남문로</li></ul><p data-reactid=\"396\"><!-- react-text: 397 -->칼국수<!-- /react-text --><!-- react-text: 398 -->, 설렁탕<!-- /react-text --><!-- react-text: 399 -->, 두부<!-- /react-text --></p><ul class=\"state_ul\" data-reactid=\"400\"><li class=\"ico_st01\" data-reactid=\"401\"><p data-reactid=\"402\">5043</p></li><li class=\"ico_st02\" data-reactid=\"403\"><p data-reactid=\"404\">17</p></li><li class=\"ico_st03\" data-reactid=\"405\"><p data-reactid=\"406\">96</p></li></ul></div>,\n",
       " <div class=\"cnt\" data-reactid=\"414\"><em class=\"score\" data-reactid=\"415\">4.0</em><div class=\"box_tit\" data-reactid=\"416\"><strong class=\"store\" data-reactid=\"417\">육거리족발</strong><div class=\"ico_right\" data-reactid=\"418\"></div></div><ul data-reactid=\"419\"><li data-reactid=\"420\">청주-중앙/북문로/남문로</li></ul><p data-reactid=\"421\"><!-- react-text: 422 -->꼬마족발<!-- /react-text --><!-- react-text: 423 -->, 꼬마왕족발<!-- /react-text --><!-- react-text: 424 -->, 꼬마 머릿고기<!-- /react-text --></p><ul class=\"state_ul\" data-reactid=\"425\"><li class=\"ico_st01\" data-reactid=\"426\"><p data-reactid=\"427\">4888</p></li><li class=\"ico_st02\" data-reactid=\"428\"><p data-reactid=\"429\">11</p></li><li class=\"ico_st03\" data-reactid=\"430\"><p data-reactid=\"431\">13</p></li></ul></div>,\n",
       " <div class=\"cnt\" data-reactid=\"439\"><em class=\"score\" data-reactid=\"440\">4.1</em><div class=\"box_tit\" data-reactid=\"441\"><strong class=\"store\" data-reactid=\"442\">괴강매운탕전문점</strong><div class=\"ico_right\" data-reactid=\"443\"><span class=\"ico_sty01\" data-reactid=\"444\"><em data-reactid=\"445\">주차</em></span></div></div><ul data-reactid=\"446\"><li data-reactid=\"447\">청주-중앙/북문로/남문로</li></ul><p data-reactid=\"448\"><!-- react-text: 449 -->섞어 매운탕(소~대)<!-- /react-text --><!-- react-text: 450 -->, 메기 매운탕(소~대)<!-- /react-text --><!-- react-text: 451 -->, 미꾸라지 매운탕(소~대)<!-- /react-text --><!-- react-text: 452 -->, 새뱅이 매운탕(소~대)<!-- /react-text --><!-- react-text: 453 -->, 빠가사리<!-- /react-text --></p><ul class=\"state_ul\" data-reactid=\"454\"><li class=\"ico_st01\" data-reactid=\"455\"><p data-reactid=\"456\">4296</p></li><li class=\"ico_st02\" data-reactid=\"457\"><p data-reactid=\"458\">7</p></li><li class=\"ico_st03\" data-reactid=\"459\"><p data-reactid=\"460\">20</p></li></ul></div>,\n",
       " <div class=\"cnt\" data-reactid=\"468\"><em class=\"score\" data-reactid=\"469\">3.5</em><div class=\"box_tit\" data-reactid=\"470\"><strong class=\"store\" data-reactid=\"471\">신미만두</strong><div class=\"ico_right\" data-reactid=\"472\"></div></div><ul data-reactid=\"473\"><li data-reactid=\"474\">청주-중앙/북문로/남문로</li></ul><p data-reactid=\"475\"><!-- react-text: 476 -->볶음만두<!-- /react-text --><!-- react-text: 477 -->, 물만두<!-- /react-text --><!-- react-text: 478 -->, 가락국수<!-- /react-text --></p><ul class=\"state_ul\" data-reactid=\"479\"><li class=\"ico_st01\" data-reactid=\"480\"><p data-reactid=\"481\">7041</p></li><li class=\"ico_st02\" data-reactid=\"482\"><p data-reactid=\"483\">25</p></li><li class=\"ico_st03\" data-reactid=\"484\"><p data-reactid=\"485\">82</p></li></ul></div>,\n",
       " <div class=\"cnt\" data-reactid=\"494\"><em class=\"score\" data-reactid=\"495\">4.0</em><div class=\"box_tit\" data-reactid=\"496\"><strong class=\"store\" data-reactid=\"497\">공원당</strong><div class=\"ico_right\" data-reactid=\"498\"><span class=\"ico_sty01\" data-reactid=\"499\"><em data-reactid=\"500\">주차</em></span></div></div><ul data-reactid=\"501\"><li data-reactid=\"502\">청주-중앙/북문로/남문로</li></ul><p data-reactid=\"503\"><!-- react-text: 504 -->왕새우까스<!-- /react-text --><!-- react-text: 505 -->, 왕새우정식<!-- /react-text --><!-- react-text: 506 -->, 코돈부르<!-- /react-text --><!-- react-text: 507 -->, 카레돈까스<!-- /react-text --><!-- react-text: 508 -->, 오로시까스<!-- /react-text --><!-- react-text: 509 -->, 생선까스<!-- /react-text --></p><ul class=\"state_ul\" data-reactid=\"510\"><li class=\"ico_st01\" data-reactid=\"511\"><p data-reactid=\"512\">6594</p></li><li class=\"ico_st02\" data-reactid=\"513\"><p data-reactid=\"514\">23</p></li><li class=\"ico_st03\" data-reactid=\"515\"><p data-reactid=\"516\">107</p></li></ul></div>,\n",
       " <div class=\"cnt\" data-reactid=\"524\"><em class=\"score\" data-reactid=\"525\">3.8</em><div class=\"box_tit\" data-reactid=\"526\"><strong class=\"store\" data-reactid=\"527\">고추만두국집</strong><div class=\"ico_right\" data-reactid=\"528\"></div></div><ul data-reactid=\"529\"><li data-reactid=\"530\">청주-중앙/북문로/남문로</li></ul><p data-reactid=\"531\"><!-- react-text: 532 -->고추만두국<!-- /react-text --><!-- react-text: 533 -->, 치즈고추만두국<!-- /react-text --><!-- react-text: 534 -->, 떡만두국<!-- /react-text --><!-- react-text: 535 -->, 떡국<!-- /react-text --><!-- react-text: 536 -->, 튀김고추만두<!-- /react-text --></p><ul class=\"state_ul\" data-reactid=\"537\"><li class=\"ico_st01\" data-reactid=\"538\"><p data-reactid=\"539\">6492</p></li><li class=\"ico_st02\" data-reactid=\"540\"><p data-reactid=\"541\">28</p></li><li class=\"ico_st03\" data-reactid=\"542\"><p data-reactid=\"543\">74</p></li></ul></div>,\n",
       " <div class=\"cnt\" data-reactid=\"551\"><em class=\"score\" data-reactid=\"552\">3.5</em><div class=\"box_tit\" data-reactid=\"553\"><strong class=\"store\" data-reactid=\"554\">극동반점</strong><div class=\"ico_right\" data-reactid=\"555\"><span class=\"ico_sty01\" data-reactid=\"556\"><em data-reactid=\"557\">주차</em></span></div></div><ul data-reactid=\"558\"><li data-reactid=\"559\">청주-중앙/북문로/남문로</li></ul><p data-reactid=\"560\"><!-- react-text: 561 -->자장면<!-- /react-text --><!-- react-text: 562 -->, 짬뽕<!-- /react-text --><!-- react-text: 563 -->, 탕수육<!-- /react-text --></p><ul class=\"state_ul\" data-reactid=\"564\"><li class=\"ico_st01\" data-reactid=\"565\"><p data-reactid=\"566\">6260</p></li><li class=\"ico_st02\" data-reactid=\"567\"><p data-reactid=\"568\">13</p></li><li class=\"ico_st03\" data-reactid=\"569\"><p data-reactid=\"570\">97</p></li></ul></div>,\n",
       " <div class=\"cnt\" data-reactid=\"578\"><em class=\"score\" data-reactid=\"579\">3.8</em><div class=\"box_tit\" data-reactid=\"580\"><strong class=\"store\" data-reactid=\"581\">성안골</strong><div class=\"ico_right\" data-reactid=\"582\"></div></div><ul data-reactid=\"583\"><li data-reactid=\"584\">청주-중앙/북문로/남문로</li></ul><p data-reactid=\"585\"><!-- react-text: 586 -->영양돌솥정식<!-- /react-text --><!-- react-text: 587 -->, 어린이돈까스<!-- /react-text --><!-- react-text: 588 -->, 불고기<!-- /react-text --><!-- react-text: 589 -->, 더덕구이<!-- /react-text --><!-- react-text: 590 -->, 코다리구이<!-- /react-text --></p><ul class=\"state_ul\" data-reactid=\"591\"><li class=\"ico_st01\" data-reactid=\"592\"><p data-reactid=\"593\">6258</p></li><li class=\"ico_st02\" data-reactid=\"594\"><p data-reactid=\"595\">15</p></li><li class=\"ico_st03\" data-reactid=\"596\"><p data-reactid=\"597\">79</p></li></ul></div>,\n",
       " <div class=\"cnt\" data-reactid=\"605\"><em class=\"score\" data-reactid=\"606\">3.8</em><div class=\"box_tit\" data-reactid=\"607\"><strong class=\"store\" data-reactid=\"608\">황할머니갈비찌개</strong><div class=\"ico_right\" data-reactid=\"609\"></div></div><ul data-reactid=\"610\"><li data-reactid=\"611\">청주-중앙/북문로/남문로</li></ul><p data-reactid=\"612\"><!-- react-text: 613 -->궁중 갈비찜(소)<!-- /react-text --><!-- react-text: 614 -->, 얼큰한갈비찌개(소)<!-- /react-text --><!-- react-text: 615 -->, 매콤갈비찜(소)<!-- /react-text --><!-- react-text: 616 -->, 영양갈비탕<!-- /react-text --></p><ul class=\"state_ul\" data-reactid=\"617\"><li class=\"ico_st01\" data-reactid=\"618\"><p data-reactid=\"619\">5383</p></li><li class=\"ico_st02\" data-reactid=\"620\"><p data-reactid=\"621\">12</p></li><li class=\"ico_st03\" data-reactid=\"622\"><p data-reactid=\"623\">90</p></li></ul></div>,\n",
       " <div class=\"cnt\" data-reactid=\"632\"><em class=\"score\" data-reactid=\"633\">4.7</em><div class=\"box_tit\" data-reactid=\"634\"><strong class=\"store\" data-reactid=\"635\">남주동해장국</strong><div class=\"ico_right\" data-reactid=\"636\"></div></div><ul data-reactid=\"637\"><li data-reactid=\"638\">청주-중앙/북문로/남문로</li></ul><p data-reactid=\"639\"><!-- react-text: 640 -->해장국(특)<!-- /react-text --><!-- react-text: 641 -->, 소고기해장국<!-- /react-text --><!-- react-text: 642 -->, 선지해장국<!-- /react-text --><!-- react-text: 643 -->, 우거지해장국<!-- /react-text --><!-- react-text: 644 -->, 수육<!-- /react-text --><!-- react-text: 645 -->, 맥주<!-- /react-text --><!-- react-text: 646 -->, 소주<!-- /react-text --><!-- react-text: 647 -->, 막걸리<!-- /react-text --></p><ul class=\"state_ul\" data-reactid=\"648\"><li class=\"ico_st01\" data-reactid=\"649\"><p data-reactid=\"650\">4349</p></li><li class=\"ico_st02\" data-reactid=\"651\"><p data-reactid=\"652\">13</p></li><li class=\"ico_st03\" data-reactid=\"653\"><p data-reactid=\"654\">13</p></li></ul></div>,\n",
       " <div class=\"cnt\" data-reactid=\"662\"><em class=\"score\" data-reactid=\"663\">3.9</em><div class=\"box_tit\" data-reactid=\"664\"><strong class=\"store\" data-reactid=\"665\">짱이네</strong><div class=\"ico_right\" data-reactid=\"666\"></div></div><ul data-reactid=\"667\"><li data-reactid=\"668\">청주-중앙/북문로/남문로</li></ul><p data-reactid=\"669\"><!-- react-text: 670 -->칡물냉면<!-- /react-text --><!-- react-text: 671 -->, 칡비빔냉면<!-- /react-text --><!-- react-text: 672 -->, 매콤돈가스<!-- /react-text --><!-- react-text: 673 -->, 매운돈가스<!-- /react-text --><!-- react-text: 674 -->, 칡불냉면<!-- /react-text --></p><ul class=\"state_ul\" data-reactid=\"675\"><li class=\"ico_st01\" data-reactid=\"676\"><p data-reactid=\"677\">3619</p></li><li class=\"ico_st02\" data-reactid=\"678\"><p data-reactid=\"679\">12</p></li><li class=\"ico_st03\" data-reactid=\"680\"><p data-reactid=\"681\">81</p></li></ul></div>,\n",
       " <div class=\"cnt\" data-reactid=\"689\"><em class=\"score2\" data-reactid=\"690\">평가중</em><div class=\"box_tit\" data-reactid=\"691\"><strong class=\"store\" data-reactid=\"692\">안셈</strong><div class=\"ico_right\" data-reactid=\"693\"></div></div><ul data-reactid=\"694\"><li data-reactid=\"695\">청주-중앙/북문로/남문로</li></ul><p data-reactid=\"696\"><!-- react-text: 697 -->안셈식빵<!-- /react-text --><!-- react-text: 698 -->, 사워도우빵<!-- /react-text --><!-- react-text: 699 -->, 팥버터<!-- /react-text --><!-- react-text: 700 -->, 소금빵<!-- /react-text --><!-- react-text: 701 -->, 통밀팥버터<!-- /react-text --></p><ul class=\"state_ul\" data-reactid=\"702\"><li class=\"ico_st01\" data-reactid=\"703\"><p data-reactid=\"704\">3435</p></li><li class=\"ico_st02\" data-reactid=\"705\"><p data-reactid=\"706\">1</p></li><li class=\"ico_st03\" data-reactid=\"707\"><p data-reactid=\"708\">4</p></li></ul></div>,\n",
       " <div class=\"cnt\" data-reactid=\"716\"><em class=\"score\" data-reactid=\"717\">4.5</em><div class=\"box_tit\" data-reactid=\"718\"><strong class=\"store\" data-reactid=\"719\">대우장식당</strong><div class=\"ico_right\" data-reactid=\"720\"></div></div><ul data-reactid=\"721\"><li data-reactid=\"722\">청주-중앙/북문로/남문로</li></ul><p data-reactid=\"723\"><!-- react-text: 724 -->닭백숙, 엄나무백숙, 삼백초백숙 (각)<!-- /react-text --><!-- react-text: 725 -->, 오리 백숙<!-- /react-text --></p><ul class=\"state_ul\" data-reactid=\"726\"><li class=\"ico_st01\" data-reactid=\"727\"><p data-reactid=\"728\">2861</p></li><li class=\"ico_st02\" data-reactid=\"729\"><p data-reactid=\"730\">9</p></li><li class=\"ico_st03\" data-reactid=\"731\"><p data-reactid=\"732\">5</p></li></ul></div>,\n",
       " <div class=\"cnt\" data-reactid=\"740\"><em class=\"score\" data-reactid=\"741\">3.8</em><div class=\"box_tit\" data-reactid=\"742\"><strong class=\"store\" data-reactid=\"743\">자매상회 </strong><div class=\"ico_right\" data-reactid=\"744\"></div></div><ul data-reactid=\"745\"><li data-reactid=\"746\">청주-중앙/북문로/남문로</li></ul><p data-reactid=\"747\"><!-- react-text: 748 -->마카롱<!-- /react-text --></p><ul class=\"state_ul\" data-reactid=\"749\"><li class=\"ico_st01\" data-reactid=\"750\"><p data-reactid=\"751\">2562</p></li><li class=\"ico_st02\" data-reactid=\"752\"><p data-reactid=\"753\">3</p></li><li class=\"ico_st03\" data-reactid=\"754\"><p data-reactid=\"755\">3</p></li></ul></div>,\n",
       " <div class=\"cnt\" data-reactid=\"763\"><em class=\"score\" data-reactid=\"764\">3.5</em><div class=\"box_tit\" data-reactid=\"765\"><strong class=\"store\" data-reactid=\"766\">홍두꺼비식당</strong><div class=\"ico_right\" data-reactid=\"767\"></div></div><ul data-reactid=\"768\"><li data-reactid=\"769\">청주-중앙/북문로/남문로</li></ul><p data-reactid=\"770\"><!-- react-text: 771 -->양푼등갈비(1인)<!-- /react-text --><!-- react-text: 772 -->, 곤드레밥(1인)<!-- /react-text --></p><ul class=\"state_ul\" data-reactid=\"773\"><li class=\"ico_st01\" data-reactid=\"774\"><p data-reactid=\"775\">2508</p></li><li class=\"ico_st02\" data-reactid=\"776\"><p data-reactid=\"777\">6</p></li><li class=\"ico_st03\" data-reactid=\"778\"><p data-reactid=\"779\">10</p></li></ul></div>,\n",
       " <div class=\"cnt\" data-reactid=\"787\"><em class=\"score\" data-reactid=\"788\">3.6</em><div class=\"box_tit\" data-reactid=\"789\"><strong class=\"store\" data-reactid=\"790\">시어링룸</strong><div class=\"ico_right\" data-reactid=\"791\"></div></div><ul data-reactid=\"792\"><li data-reactid=\"793\">청주-중앙/북문로/남문로</li></ul><p data-reactid=\"794\"></p><ul class=\"state_ul\" data-reactid=\"795\"><li class=\"ico_st01\" data-reactid=\"796\"><p data-reactid=\"797\">2202</p></li><li class=\"ico_st02\" data-reactid=\"798\"><p data-reactid=\"799\">1</p></li><li class=\"ico_st03\" data-reactid=\"800\"><p data-reactid=\"801\">2</p></li></ul></div>,\n",
       " <div class=\"cnt\" data-reactid=\"809\"><em class=\"score\" data-reactid=\"810\">4.0</em><div class=\"box_tit\" data-reactid=\"811\"><strong class=\"store\" data-reactid=\"812\">소문난부부떡볶이</strong><div class=\"ico_right\" data-reactid=\"813\"></div></div><ul data-reactid=\"814\"><li data-reactid=\"815\">청주-중앙/북문로/남문로</li></ul><p data-reactid=\"816\"><!-- react-text: 817 -->어묵포함 떡볶이 소<!-- /react-text --><!-- react-text: 818 -->, 김말이 튀김<!-- /react-text --><!-- react-text: 819 -->, 삼진 어묵탕<!-- /react-text --><!-- react-text: 820 -->, 삼진 꼬치 어묵 3개<!-- /react-text --><!-- react-text: 821 -->, 음료수<!-- /react-text --></p><ul class=\"state_ul\" data-reactid=\"822\"><li class=\"ico_st01\" data-reactid=\"823\"><p data-reactid=\"824\">1775</p></li><li class=\"ico_st02\" data-reactid=\"825\"><p data-reactid=\"826\">2</p></li><li class=\"ico_st03\" data-reactid=\"827\"><p data-reactid=\"828\">4</p></li></ul></div>,\n",
       " <div class=\"cnt\" data-reactid=\"836\"><em class=\"score2\" data-reactid=\"837\">평가중</em><div class=\"box_tit\" data-reactid=\"838\"><strong class=\"store\" data-reactid=\"839\">옥수찐빵만두</strong><div class=\"ico_right\" data-reactid=\"840\"></div></div><ul data-reactid=\"841\"><li data-reactid=\"842\">청주-중앙/북문로/남문로</li></ul><p data-reactid=\"843\"><!-- react-text: 844 -->찐빵<!-- /react-text --><!-- react-text: 845 -->, 야채만두<!-- /react-text --><!-- react-text: 846 -->, 고기만두<!-- /react-text --><!-- react-text: 847 -->, 김치만두<!-- /react-text --></p><ul class=\"state_ul\" data-reactid=\"848\"><li class=\"ico_st01\" data-reactid=\"849\"><p data-reactid=\"850\">1509</p></li><li class=\"ico_st02\" data-reactid=\"851\"><p data-reactid=\"852\">2</p></li><li class=\"ico_st03\" data-reactid=\"853\"><p data-reactid=\"854\">5</p></li></ul></div>,\n",
       " <div class=\"cnt\" data-reactid=\"862\"><em class=\"score2\" data-reactid=\"863\">평가중</em><div class=\"box_tit\" data-reactid=\"864\"><strong class=\"store\" data-reactid=\"865\">043BAO</strong><div class=\"ico_right\" data-reactid=\"866\"></div></div><ul data-reactid=\"867\"><li data-reactid=\"868\">청주-중앙/북문로/남문로</li></ul><p data-reactid=\"869\"><!-- react-text: 870 -->동파육 바오<!-- /react-text --><!-- react-text: 871 -->, 쉬림프 바오<!-- /react-text --><!-- react-text: 872 -->, 아이스크림 바오<!-- /react-text --><!-- react-text: 873 -->, 멘보샤<!-- /react-text --><!-- react-text: 874 -->, 우육미엔<!-- /react-text --></p><ul class=\"state_ul\" data-reactid=\"875\"><li class=\"ico_st01\" data-reactid=\"876\"><p data-reactid=\"877\">900</p></li><li class=\"ico_st02\" data-reactid=\"878\"><p data-reactid=\"879\">1</p></li><li class=\"ico_st03\" data-reactid=\"880\"><p data-reactid=\"881\">4</p></li></ul></div>,\n",
       " <div class=\"cnt\" data-reactid=\"887\"><em class=\"score\" data-reactid=\"888\">3.0</em><div class=\"box_tit\" data-reactid=\"889\"><strong class=\"store\" data-reactid=\"890\">자연밥상 한식뷔페</strong><div class=\"ico_right\" data-reactid=\"891\"></div></div><ul data-reactid=\"892\"><li data-reactid=\"893\">청주-중앙/북문로/남문로</li></ul><p data-reactid=\"894\"><!-- react-text: 895 -->평일점심 (11:30~15:00)<!-- /react-text --><!-- react-text: 896 -->, 평일저녁 (17:30~21:30)<!-- /react-text --><!-- react-text: 897 -->, 주말공휴일<!-- /react-text --><!-- react-text: 898 -->, 초등학생(1월1일 기준)<!-- /react-text --><!-- react-text: 899 -->, 36개월이상<!-- /react-text --></p><ul class=\"state_ul\" data-reactid=\"900\"><li class=\"ico_st01\" data-reactid=\"901\"><p data-reactid=\"902\">7733</p></li><li class=\"ico_st02\" data-reactid=\"903\"><p data-reactid=\"904\">6</p></li><li class=\"ico_st03\" data-reactid=\"905\"><p data-reactid=\"906\">92</p></li></ul></div>,\n",
       " <div class=\"cnt\" data-reactid=\"912\"><em class=\"score\" data-reactid=\"913\">3.0</em><div class=\"box_tit\" data-reactid=\"914\"><strong class=\"store\" data-reactid=\"915\">새가덕순대</strong><div class=\"ico_right\" data-reactid=\"916\"></div></div><ul data-reactid=\"917\"><li data-reactid=\"918\">청주-중앙/북문로/남문로</li></ul><p data-reactid=\"919\"><!-- react-text: 920 -->순대<!-- /react-text --><!-- react-text: 921 -->, 곱창볶음/찌개<!-- /react-text --><!-- react-text: 922 -->, 국밥<!-- /react-text --><!-- react-text: 923 -->, 순대국<!-- /react-text --><!-- react-text: 924 -->, 편육<!-- /react-text --></p><ul class=\"state_ul\" data-reactid=\"925\"><li class=\"ico_st01\" data-reactid=\"926\"><p data-reactid=\"927\">5714</p></li><li class=\"ico_st02\" data-reactid=\"928\"><p data-reactid=\"929\">8</p></li><li class=\"ico_st03\" data-reactid=\"930\"><p data-reactid=\"931\">74</p></li></ul></div>,\n",
       " <div class=\"cnt\" data-reactid=\"937\"><em class=\"score\" data-reactid=\"938\">3.5</em><div class=\"box_tit\" data-reactid=\"939\"><strong class=\"store\" data-reactid=\"940\">육거리춘천닭갈비</strong><div class=\"ico_right\" data-reactid=\"941\"></div></div><ul data-reactid=\"942\"><li data-reactid=\"943\">청주-중앙/북문로/남문로</li></ul><p data-reactid=\"944\"><!-- react-text: 945 -->닭갈비<!-- /react-text --></p><ul class=\"state_ul\" data-reactid=\"946\"><li class=\"ico_st01\" data-reactid=\"947\"><p data-reactid=\"948\">5391</p></li><li class=\"ico_st02\" data-reactid=\"949\"><p data-reactid=\"950\">13</p></li><li class=\"ico_st03\" data-reactid=\"951\"><p data-reactid=\"952\">55</p></li></ul></div>,\n",
       " <div class=\"cnt\" data-reactid=\"969\"><div class=\"tema_store\" data-reactid=\"970\"><span data-reactid=\"971\">굽고! 찌고! 끓여도 맛있는 만두 맛집 BEST 5</span></div><em class=\"score\" data-reactid=\"972\">3.9</em><div class=\"box_tit\" data-reactid=\"973\"><strong class=\"store\" data-reactid=\"974\">코끼리만두</strong><div class=\"ico_right\" data-reactid=\"975\"></div></div><ul data-reactid=\"976\"><li data-reactid=\"977\">청주-중앙/북문로/남문로</li></ul><p data-reactid=\"978\"><!-- react-text: 979 -->고추만두국<!-- /react-text --><!-- react-text: 980 -->, 고추떡만두국<!-- /react-text --><!-- react-text: 981 -->, 고기떡만두국<!-- /react-text --><!-- react-text: 982 -->, 쫄면<!-- /react-text --><!-- react-text: 983 -->, 고기만두<!-- /react-text --></p><ul class=\"state_ul\" data-reactid=\"984\"><li class=\"ico_st01\" data-reactid=\"985\"><p data-reactid=\"986\">8121</p></li><li class=\"ico_st02\" data-reactid=\"987\"><p data-reactid=\"988\">25</p></li><li class=\"ico_st03\" data-reactid=\"989\"><p data-reactid=\"990\">92</p></li></ul></div>,\n",
       " <div class=\"cnt\" data-reactid=\"999\"><div class=\"tema_store\" data-reactid=\"1000\"><span data-reactid=\"1001\">추억과 역사가 살아 숨 쉬는, 2019 백년가게 맛지도</span></div><em class=\"score\" data-reactid=\"1002\">4.0</em><div class=\"box_tit\" data-reactid=\"1003\"><strong class=\"store\" data-reactid=\"1004\">공원당</strong><div class=\"ico_right\" data-reactid=\"1005\"><span class=\"ico_sty01\" data-reactid=\"1006\"><em data-reactid=\"1007\">주차</em></span></div></div><ul data-reactid=\"1008\"><li data-reactid=\"1009\">청주-중앙/북문로/남문로</li></ul><p data-reactid=\"1010\"><!-- react-text: 1011 -->왕새우까스<!-- /react-text --><!-- react-text: 1012 -->, 왕새우정식<!-- /react-text --><!-- react-text: 1013 -->, 코돈부르<!-- /react-text --><!-- react-text: 1014 -->, 카레돈까스<!-- /react-text --><!-- react-text: 1015 -->, 오로시까스<!-- /react-text --><!-- react-text: 1016 -->, 생선까스<!-- /react-text --></p><ul class=\"state_ul\" data-reactid=\"1017\"><li class=\"ico_st01\" data-reactid=\"1018\"><p data-reactid=\"1019\">6594</p></li><li class=\"ico_st02\" data-reactid=\"1020\"><p data-reactid=\"1021\">23</p></li><li class=\"ico_st03\" data-reactid=\"1022\"><p data-reactid=\"1023\">107</p></li></ul></div>,\n",
       " <div class=\"cnt\" data-reactid=\"1031\"><div class=\"tema_store\" data-reactid=\"1032\"><span data-reactid=\"1033\">만두</span></div><em class=\"score\" data-reactid=\"1034\">3.8</em><div class=\"box_tit\" data-reactid=\"1035\"><strong class=\"store\" data-reactid=\"1036\">고추만두국집</strong><div class=\"ico_right\" data-reactid=\"1037\"></div></div><ul data-reactid=\"1038\"><li data-reactid=\"1039\">청주-중앙/북문로/남문로</li></ul><p data-reactid=\"1040\"><!-- react-text: 1041 -->고추만두국<!-- /react-text --><!-- react-text: 1042 -->, 치즈고추만두국<!-- /react-text --><!-- react-text: 1043 -->, 떡만두국<!-- /react-text --><!-- react-text: 1044 -->, 떡국<!-- /react-text --><!-- react-text: 1045 -->, 튀김고추만두<!-- /react-text --></p><ul class=\"state_ul\" data-reactid=\"1046\"><li class=\"ico_st01\" data-reactid=\"1047\"><p data-reactid=\"1048\">6492</p></li><li class=\"ico_st02\" data-reactid=\"1049\"><p data-reactid=\"1050\">28</p></li><li class=\"ico_st03\" data-reactid=\"1051\"><p data-reactid=\"1052\">74</p></li></ul></div>,\n",
       " <div class=\"cnt\" data-reactid=\"1065\"><div class=\"name_data\" data-reactid=\"1066\"><a data-reactid=\"1067\" href=\"#\"><strong data-reactid=\"1068\">알로에봉봉</strong></a></div><div class=\"score_story\" data-reactid=\"1069\"><div class=\"newStarBox\" data-reactid=\"1070\"><div class=\"newStar\" data-reactid=\"1071\"><div class=\"bg\" data-reactid=\"1072\" style=\"width:80%;\"></div></div><span data-reactid=\"1073\"><strong data-reactid=\"1074\">4.0</strong></span></div><p data-reactid=\"1075\">시원한 모밀집이에요</p></div><ul data-reactid=\"1076\"></ul><div class=\"store_area_menu\" data-reactid=\"1077\"><strong data-reactid=\"1078\"><a data-reactid=\"1079\" href=\"/P/212204\">중앙모밀</a></strong><span data-reactid=\"1080\"><!-- react-text: 1081 -->충북<!-- /react-text --><!-- react-text: 1082 -->, <!-- /react-text --><!-- react-text: 1083 -->청주-중앙/북문로/남문로<!-- /react-text --></span><em data-reactid=\"1084\">한식</em></div></div>,\n",
       " <div class=\"cnt\" data-reactid=\"1089\"><div class=\"name_data\" data-reactid=\"1090\"><a data-reactid=\"1091\" href=\"#\"><strong data-reactid=\"1092\">Pesto</strong></a></div><div class=\"score_story\" data-reactid=\"1093\"><div class=\"newStarBox\" data-reactid=\"1094\"><div class=\"newStar\" data-reactid=\"1095\"><div class=\"bg\" data-reactid=\"1096\" style=\"width:60%;\"></div></div><span data-reactid=\"1097\"><strong data-reactid=\"1098\">3.0</strong></span></div><p data-reactid=\"1099\">짜장면 소스는 조금 묽은편이고, 간짜장도 소스가 살짝 묽은편입니다. 맛은 그럭저럭 괜찮고 딱히 실패하는 메뉴는 없습니다. 기본은 합니다만 단지 짜장면의 경우 단가를 위해서인지 고기대신 라면에 들어가는 유사고기가 들어가있습니다.</p></div><ul data-reactid=\"1100\"></ul><div class=\"store_area_menu\" data-reactid=\"1101\"><strong data-reactid=\"1102\"><a data-reactid=\"1103\" href=\"/P/891602\">중문대반점</a></strong><span data-reactid=\"1104\"><!-- react-text: 1105 -->충북<!-- /react-text --><!-- react-text: 1106 -->, <!-- /react-text --><!-- react-text: 1107 -->청주-중앙/북문로/남문로<!-- /react-text --></span><em data-reactid=\"1108\">일식/중식/세계음식</em></div></div>,\n",
       " <div class=\"cnt\" data-reactid=\"1113\"><div class=\"name_data\" data-reactid=\"1114\"><a data-reactid=\"1115\" href=\"#\"><strong data-reactid=\"1116\">Pesto</strong></a></div><div class=\"score_story\" data-reactid=\"1117\"><div class=\"newStarBox\" data-reactid=\"1118\"><div class=\"newStar\" data-reactid=\"1119\"><div class=\"bg\" data-reactid=\"1120\" style=\"width:80%;\"></div></div><span data-reactid=\"1121\"><strong data-reactid=\"1122\">4.0</strong></span></div><p data-reactid=\"1123\">무난한 맛과 무난한 양이 마음에 드는 곳입니다. 치즈돈까스에는 치즈가 듬뿍 들어가 비주얼도 좋고 맛도 괜찮았습니다</p></div><ul data-reactid=\"1124\"></ul><div class=\"store_area_menu\" data-reactid=\"1125\"><strong data-reactid=\"1126\"><a data-reactid=\"1127\" href=\"/P/415813\">고가네왕돈까스만두</a></strong><span data-reactid=\"1128\"><!-- react-text: 1129 -->충북<!-- /react-text --><!-- react-text: 1130 -->, <!-- /react-text --><!-- react-text: 1131 -->청주-중앙/북문로/남문로<!-- /react-text --></span><em data-reactid=\"1132\">한식</em></div></div>,\n",
       " <div class=\"cnt\" data-reactid=\"1137\"><div class=\"name_data\" data-reactid=\"1138\"><a data-reactid=\"1139\" href=\"#\"><strong data-reactid=\"1140\">식신미래</strong></a></div><div class=\"score_story\" data-reactid=\"1141\"><div class=\"newStarBox\" data-reactid=\"1142\"><div class=\"newStar\" data-reactid=\"1143\"><div class=\"bg\" data-reactid=\"1144\" style=\"width:80%;\"></div></div><span data-reactid=\"1145\"><strong data-reactid=\"1146\">4.0</strong></span></div><p data-reactid=\"1147\">바로 만들어 나와 먹을만하고요. 주인 아저씨는 무표정 하십니다. 불친절함은 맛집의 조건이랄까요?</p></div><ul data-reactid=\"1148\"></ul><div class=\"store_area_menu\" data-reactid=\"1149\"><strong data-reactid=\"1150\"><a data-reactid=\"1151\" href=\"/P/212204\">중앙모밀</a></strong><span data-reactid=\"1152\"><!-- react-text: 1153 -->충북<!-- /react-text --><!-- react-text: 1154 -->, <!-- /react-text --><!-- react-text: 1155 -->청주-중앙/북문로/남문로<!-- /react-text --></span><em data-reactid=\"1156\">한식</em></div></div>,\n",
       " <div class=\"cnt\" data-reactid=\"1161\"><div class=\"name_data\" data-reactid=\"1162\"><a data-reactid=\"1163\" href=\"#\"><strong data-reactid=\"1164\">빨간점무늬</strong></a></div><div class=\"score_story\" data-reactid=\"1165\"><div class=\"newStarBox\" data-reactid=\"1166\"><div class=\"newStar\" data-reactid=\"1167\"><div class=\"bg\" data-reactid=\"1168\" style=\"width:60%;\"></div></div><span data-reactid=\"1169\"><strong data-reactid=\"1170\">3.0</strong></span></div><p data-reactid=\"1171\">금천동 스벅 옆에 있는 오봉상회. 새로 생긴 삼겹살집이라 두말 않고 방문했다. 큰 간판이 엄청 눈에 띄는데 내부에 써져있는 '인생은 고기서 고기다'라는 말도 맘에 들었음ㅋㅋㅋ 생삼겹살 주문했는데 확실한 건 누린내가 없는데 풍미는 더 진하다는 것. 햄에 찍혀 있는 돼지 그림도 넘나 취저였음ㅋㅋ 냉면 시켜서 육쌈냉면처럼 먹었더니 1인 2인분 해치움.</p></div><ul data-reactid=\"1172\"></ul><div class=\"store_area_menu\" data-reactid=\"1173\"><strong data-reactid=\"1174\"><a data-reactid=\"1175\" href=\"/P/1140676\">오봉상회</a></strong><span data-reactid=\"1176\"><!-- react-text: 1177 -->충북<!-- /react-text --><!-- react-text: 1178 -->, <!-- /react-text --><!-- react-text: 1179 -->청주-중앙/북문로/남문로<!-- /react-text --></span><em data-reactid=\"1180\">고기/구이류</em></div></div>]"
      ]
     },
     "execution_count": 3,
     "metadata": {},
     "output_type": "execute_result"
    }
   ],
   "source": [
    "re_list = soup.find_all(class_='cnt')\n",
    "re_list"
   ]
  },
  {
   "cell_type": "code",
   "execution_count": 133,
   "metadata": {},
   "outputs": [],
   "source": [
    "#name = re_list.find(class_='store')\n",
    "#menu = re_list.find('p').get_text()\n",
    "#score = re_list.find(class_='score')\n",
    "#score"
   ]
  },
  {
   "cell_type": "code",
   "execution_count": 134,
   "metadata": {},
   "outputs": [],
   "source": [
    "#score = re_list.find_all(class_='score')\n",
    "#score"
   ]
  },
  {
   "cell_type": "code",
   "execution_count": 137,
   "metadata": {},
   "outputs": [],
   "source": [
    "#menu.split(',')"
   ]
  },
  {
   "cell_type": "code",
   "execution_count": 29,
   "metadata": {},
   "outputs": [],
   "source": [
    "store =[]\n",
    "menus = [] \n",
    "scores = []\n",
    "\n",
    "for result in re_list[:19]:\n",
    "    store.append(result.find(class_=\"store\").get_text())\n",
    "    tmp_str=result.find('p').get_text()\n",
    "    menus.append(tmp_str.split(' ')[0][:-1])\n",
    "    if result.find(class_=\"score\") == False:\n",
    "        scores.append(result.find(class_='score').get_text())\n",
    "    else:\n",
    "        scores='평가중'\n",
    "   "
   ]
  },
  {
   "cell_type": "code",
   "execution_count": 30,
   "metadata": {
    "scrolled": false
   },
   "outputs": [
    {
     "name": "stdout",
     "output_type": "stream",
     "text": [
      "['상당집', '당조중화요리', '중앙모밀', '서문우동', '경주집버섯찌개', '코끼리만두', '풀문', '백로식당본점', '소영칼국수', '육거리족발', '괴강매운탕전문점', '신미만두', '공원당', '고추만두국집', '극동반점', '성안골', '황할머니갈비찌개', '남주동해장국', '짱이네']\n",
      "19 19 3\n",
      "['두부전', '짜장면', '모밀국수', '서문우동', '버섯찌', '고추만두국', '세계최', '양념불고', '칼국수', '꼬마족발', '섞', '볶음만두', '왕새우까스', '고추만두국', '자장면', '영양돌솥정식', '궁', '해장국(특)', '칡물냉면']\n",
      "평가중\n"
     ]
    }
   ],
   "source": [
    "print(store)\n",
    "print(len(store),len(menus),len(scores))\n",
    "print(menus)\n",
    "print(scores)"
   ]
  },
  {
   "cell_type": "code",
   "execution_count": 21,
   "metadata": {},
   "outputs": [
    {
     "data": {
      "text/html": [
       "<div>\n",
       "<style scoped>\n",
       "    .dataframe tbody tr th:only-of-type {\n",
       "        vertical-align: middle;\n",
       "    }\n",
       "\n",
       "    .dataframe tbody tr th {\n",
       "        vertical-align: top;\n",
       "    }\n",
       "\n",
       "    .dataframe thead th {\n",
       "        text-align: right;\n",
       "    }\n",
       "</style>\n",
       "<table border=\"1\" class=\"dataframe\">\n",
       "  <thead>\n",
       "    <tr style=\"text-align: right;\">\n",
       "      <th></th>\n",
       "      <th>Store</th>\n",
       "      <th>Menu</th>\n",
       "      <th>Score</th>\n",
       "    </tr>\n",
       "  </thead>\n",
       "  <tbody>\n",
       "    <tr>\n",
       "      <th>0</th>\n",
       "      <td>상당집</td>\n",
       "      <td>두부전</td>\n",
       "      <td>4.0</td>\n",
       "    </tr>\n",
       "    <tr>\n",
       "      <th>1</th>\n",
       "      <td>당조중화요리</td>\n",
       "      <td>짜장면</td>\n",
       "      <td>4.0</td>\n",
       "    </tr>\n",
       "    <tr>\n",
       "      <th>2</th>\n",
       "      <td>중앙모밀</td>\n",
       "      <td>모밀국수</td>\n",
       "      <td>3.5</td>\n",
       "    </tr>\n",
       "    <tr>\n",
       "      <th>3</th>\n",
       "      <td>서문우동</td>\n",
       "      <td>서문우동</td>\n",
       "      <td>3.5</td>\n",
       "    </tr>\n",
       "    <tr>\n",
       "      <th>4</th>\n",
       "      <td>경주집버섯찌개</td>\n",
       "      <td>버섯찌</td>\n",
       "      <td>4.1</td>\n",
       "    </tr>\n",
       "    <tr>\n",
       "      <th>5</th>\n",
       "      <td>코끼리만두</td>\n",
       "      <td>고추만두국</td>\n",
       "      <td>3.9</td>\n",
       "    </tr>\n",
       "    <tr>\n",
       "      <th>6</th>\n",
       "      <td>풀문</td>\n",
       "      <td>세계최</td>\n",
       "      <td>4.1</td>\n",
       "    </tr>\n",
       "    <tr>\n",
       "      <th>7</th>\n",
       "      <td>백로식당본점</td>\n",
       "      <td>양념불고</td>\n",
       "      <td>4.1</td>\n",
       "    </tr>\n",
       "    <tr>\n",
       "      <th>8</th>\n",
       "      <td>소영칼국수</td>\n",
       "      <td>칼국수</td>\n",
       "      <td>3.7</td>\n",
       "    </tr>\n",
       "    <tr>\n",
       "      <th>9</th>\n",
       "      <td>육거리족발</td>\n",
       "      <td>꼬마족발</td>\n",
       "      <td>4.0</td>\n",
       "    </tr>\n",
       "    <tr>\n",
       "      <th>10</th>\n",
       "      <td>괴강매운탕전문점</td>\n",
       "      <td>섞</td>\n",
       "      <td>4.1</td>\n",
       "    </tr>\n",
       "    <tr>\n",
       "      <th>11</th>\n",
       "      <td>신미만두</td>\n",
       "      <td>볶음만두</td>\n",
       "      <td>3.5</td>\n",
       "    </tr>\n",
       "    <tr>\n",
       "      <th>12</th>\n",
       "      <td>공원당</td>\n",
       "      <td>왕새우까스</td>\n",
       "      <td>4.0</td>\n",
       "    </tr>\n",
       "    <tr>\n",
       "      <th>13</th>\n",
       "      <td>고추만두국집</td>\n",
       "      <td>고추만두국</td>\n",
       "      <td>3.8</td>\n",
       "    </tr>\n",
       "    <tr>\n",
       "      <th>14</th>\n",
       "      <td>극동반점</td>\n",
       "      <td>자장면</td>\n",
       "      <td>3.5</td>\n",
       "    </tr>\n",
       "    <tr>\n",
       "      <th>15</th>\n",
       "      <td>성안골</td>\n",
       "      <td>영양돌솥정식</td>\n",
       "      <td>3.8</td>\n",
       "    </tr>\n",
       "    <tr>\n",
       "      <th>16</th>\n",
       "      <td>황할머니갈비찌개</td>\n",
       "      <td>궁</td>\n",
       "      <td>3.8</td>\n",
       "    </tr>\n",
       "    <tr>\n",
       "      <th>17</th>\n",
       "      <td>남주동해장국</td>\n",
       "      <td>해장국(특)</td>\n",
       "      <td>4.7</td>\n",
       "    </tr>\n",
       "    <tr>\n",
       "      <th>18</th>\n",
       "      <td>짱이네</td>\n",
       "      <td>칡물냉면</td>\n",
       "      <td>3.9</td>\n",
       "    </tr>\n",
       "  </tbody>\n",
       "</table>\n",
       "</div>"
      ],
      "text/plain": [
       "       Store    Menu Score\n",
       "0        상당집     두부전   4.0\n",
       "1     당조중화요리     짜장면   4.0\n",
       "2       중앙모밀    모밀국수   3.5\n",
       "3       서문우동    서문우동   3.5\n",
       "4    경주집버섯찌개     버섯찌   4.1\n",
       "5      코끼리만두   고추만두국   3.9\n",
       "6         풀문     세계최   4.1\n",
       "7     백로식당본점    양념불고   4.1\n",
       "8      소영칼국수     칼국수   3.7\n",
       "9      육거리족발    꼬마족발   4.0\n",
       "10  괴강매운탕전문점       섞   4.1\n",
       "11      신미만두    볶음만두   3.5\n",
       "12       공원당   왕새우까스   4.0\n",
       "13    고추만두국집   고추만두국   3.8\n",
       "14      극동반점     자장면   3.5\n",
       "15       성안골  영양돌솥정식   3.8\n",
       "16  황할머니갈비찌개       궁   3.8\n",
       "17    남주동해장국  해장국(특)   4.7\n",
       "18       짱이네    칡물냉면   3.9"
      ]
     },
     "execution_count": 21,
     "metadata": {},
     "output_type": "execute_result"
    }
   ],
   "source": [
    "df = pd.DataFrame({'Store':store, 'Menu':menus,'Score':scores})\n",
    "df"
   ]
  },
  {
   "cell_type": "code",
   "execution_count": null,
   "metadata": {},
   "outputs": [],
   "source": []
  },
  {
   "cell_type": "code",
   "execution_count": null,
   "metadata": {},
   "outputs": [],
   "source": []
  }
 ],
 "metadata": {
  "kernelspec": {
   "display_name": "Python 3",
   "language": "python",
   "name": "python3"
  },
  "language_info": {
   "codemirror_mode": {
    "name": "ipython",
    "version": 3
   },
   "file_extension": ".py",
   "mimetype": "text/x-python",
   "name": "python",
   "nbconvert_exporter": "python",
   "pygments_lexer": "ipython3",
   "version": "3.7.6"
  }
 },
 "nbformat": 4,
 "nbformat_minor": 4
}
