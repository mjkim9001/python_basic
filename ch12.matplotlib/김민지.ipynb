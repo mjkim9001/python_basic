{
 "cells": [
  {
   "cell_type": "code",
   "execution_count": 1,
   "metadata": {},
   "outputs": [],
   "source": [
    "# 한글 폰트 사용(Matplotlib사용 전 기본 설정해주기)\n",
    "import matplotlib as mpl\n",
    "import matplotlib.pyplot as plt\n",
    "import numpy as np\n",
    "%matplotlib inline\n",
    "\n",
    "mpl.rcParams['axes.unicode_minus'] = False\n",
    "mpl.rc('font', family = 'Malgun Gothic')\n",
    "font1 = {'size':18, 'color':'green'}"
   ]
  },
  {
   "cell_type": "code",
   "execution_count": 32,
   "metadata": {
    "scrolled": false
   },
   "outputs": [
    {
     "data": {
      "image/png": "[encoded data removed]",
      "text/plain": [
       "<Figure size 432x288 with 1 Axes>"
      ]
     },
     "metadata": {
      "needs_background": "light"
     },
     "output_type": "display_data"
    }
   ],
   "source": [
    "#1\n",
    "import csv\n",
    "\n",
    "f = open('cafe_2year.csv', 'r', encoding='utf-8')\n",
    "lines = csv.reader(f)\n",
    "\n",
    "header = next(lines)\n",
    "\n",
    "list_data=[]\n",
    "\n",
    "for line in lines:\n",
    "    list_data.append(line[:])\n",
    "\n",
    "length = len(list_data)\n",
    "\n",
    "data = np.zeros((length, 2), dtype = 'int32')\n",
    "        \n",
    "x = []\n",
    "y = []\n",
    "\n",
    "for i in range(2, length, 3):\n",
    "    x.append(list_data[i][0])\n",
    "    y.append(list_data[i][1])\n",
    "\n",
    "plt.bar(x, y)\n",
    "plt.title('전국의 월별 카페수')\n",
    "\n",
    "\n",
    "\n",
    "plt.xlabel('년월')\n",
    "plt.ylabel('카페수')\n",
    "    \n",
    "\n",
    "\n",
    "f.close()"
   ]
  },
  {
   "cell_type": "code",
   "execution_count": 33,
   "metadata": {},
   "outputs": [
    {
     "name": "stdout",
     "output_type": "stream",
     "text": [
      "지역 병원명 일반의 수 인턴 수 레지던트 수 \n",
      "서울  162    1196    4757    9375    \n",
      "부산  58    197    785    2211    \n",
      "대구  27    215    712    1436    \n",
      "인천  47    138    444    1518    \n",
      "대전  25    142    425    1006    \n",
      "광주  16    102    356    1006    \n",
      "울산  19    23    104    467    \n"
     ]
    }
   ],
   "source": [
    "#2\n",
    "import csv\n",
    "\n",
    "f = open('doctor_2019.csv', 'r', encoding='utf-8')\n",
    "lines = csv.reader(f)\n",
    "\n",
    "header = next(lines)\n",
    "\n",
    "\n",
    "list_data=[]\n",
    "#doc=[]\n",
    "doc =np.zeros((7, 5))\n",
    "\n",
    "#doc = np.array(7, 5)\n",
    "area = ['서울', '부산', '대구', '인천', '대전', '광주', '울산']\n",
    "\n",
    "for line in lines:\n",
    "        if line[0] =='서울':\n",
    "            doc[0][0] +=int(line[2])\n",
    "            doc[0][1] +=int(line[3])\n",
    "            doc[0][2] +=int(line[4])\n",
    "            doc[0][3] +=int(line[5])\n",
    "          \n",
    "        #doc[0][0] = '서울'\n",
    "        \n",
    "        if line[0] =='부산':\n",
    "            doc[1][0] +=int(line[2])\n",
    "            doc[1][1] +=int(line[3])\n",
    "            doc[1][2] +=int(line[4])\n",
    "            doc[1][3] +=int(line[5])\n",
    "        \n",
    "        if line[0] =='대구':\n",
    "            doc[2][0] +=int(line[2])\n",
    "            doc[2][1] +=int(line[3])\n",
    "            doc[2][2] +=int(line[4])\n",
    "            doc[2][3] +=int(line[5])\n",
    "            \n",
    "        if line[0] =='인천':\n",
    "            doc[3][0] +=int(line[2])\n",
    "            doc[3][1] +=int(line[3])\n",
    "            doc[3][2] +=int(line[4])\n",
    "            doc[3][3] +=int(line[5])\n",
    "            \n",
    "        if line[0] =='대전':\n",
    "            doc[4][0] +=int(line[2])\n",
    "            doc[4][1] +=int(line[3])\n",
    "            doc[4][2] +=int(line[4])\n",
    "            doc[4][3] +=int(line[5])\n",
    "            \n",
    "        if line[0] =='광주':\n",
    "            doc[5][0] +=int(line[2])\n",
    "            doc[5][1] +=int(line[3])\n",
    "            doc[5][2] +=int(line[4])\n",
    "            doc[5][3] +=int(line[5])\n",
    "            \n",
    "        if line[0] =='울산':\n",
    "            doc[6][0] +=int(line[2])\n",
    "            doc[6][1] +=int(line[3])\n",
    "            doc[6][2] +=int(line[4])\n",
    "            doc[6][3] +=int(line[5])\n",
    "            \n",
    "for i in range(0,5):\n",
    "    print(header[i], end=' ')\n",
    "print()\n",
    "\n",
    "for i in range(7):\n",
    "    print('%s' %area[i], end ='  ')\n",
    "    for j in range(4):\n",
    "        print('%d' %doc[i][j], end ='    ')\n",
    "    print()\n",
    "\n",
    "f.close()"
   ]
  },
  {
   "cell_type": "code",
   "execution_count": 4,
   "metadata": {},
   "outputs": [
    {
     "name": "stdout",
     "output_type": "stream",
     "text": [
      "파일 쓰기 완료\n"
     ]
    }
   ],
   "source": [
    "#3\n",
    "import csv\n",
    "\n",
    "f1 = open('doctor_2019.csv', 'r', encoding='utf-8')\n",
    "f2 = open('doctor2.csv', 'w', encoding='utf-8')\n",
    "lines = csv.reader(f1)\n",
    "wr = csv.writer(f2)\n",
    "\n",
    "wr.writerow(['지역', '일반의 수', '인턴 수', '레지던트 수', '전문의 수'])\n",
    "\n",
    "\n",
    "#header = next(lines)\n",
    "\n",
    "list_data=[]\n",
    "#doc =np.zeros((7, 5))\n",
    "\n",
    "area = ['서울', '부산', '대구', '인천', '대전', '광주', '울산']\n",
    "    \n",
    "for i in range(7):\n",
    "    wr.writerow([area[i], doc[i][0], doc[i][1], doc[i][2], doc[i][3]])\n",
    "\n",
    "print('파일 쓰기 완료')\n",
    "f1.close()\n",
    "f2.close()\n",
    "\n"
   ]
  },
  {
   "cell_type": "code",
   "execution_count": 34,
   "metadata": {},
   "outputs": [
    {
     "data": {
      "image/png": "[encoded data removed]",
      "text/plain": [
       "<Figure size 432x288 with 1 Axes>"
      ]
     },
     "metadata": {
      "needs_background": "light"
     },
     "output_type": "display_data"
    }
   ],
   "source": [
    "#4\n",
    "import csv\n",
    "\n",
    "f = open('doctor2.csv', 'r', encoding='utf-8')\n",
    "lines = csv.reader(f)\n",
    "    \n",
    "\n",
    "header = next(lines)\n",
    "\n",
    "list_data=[]\n",
    "\n",
    "for line in lines:\n",
    "    list_data.append(line[:])\n",
    "\n",
    "\n",
    "length = len(list_data)\n",
    "\n",
    "xdata = []\n",
    "ydata = []\n",
    "\n",
    "for i in range(1,15,2):\n",
    "    xdata.append(list_data[i][0])\n",
    "    ydata.append(float(list_data[i][4]))\n",
    "\n",
    "\n",
    "plt.scatter(xdata, ydata)\n",
    "plt.ylabel('의사 수')\n",
    "plt.xlabel('시')\n",
    "#plt.ylim(0,10000,2000)\n",
    "#plt.yticks([2000,4000,6000,8000,10000])\n",
    "plt.title('서울 및 광역시 종합병원 전문의 수', fontdict = font1 )\n",
    "\n",
    "plt.show()\n",
    "\n",
    "f.close()"
   ]
  },
  {
   "cell_type": "code",
   "execution_count": 35,
   "metadata": {},
   "outputs": [
    {
     "data": {
      "image/png": "[encoded data removed]",
      "text/plain": [
       "<Figure size 432x288 with 1 Axes>"
      ]
     },
     "metadata": {
      "needs_background": "light"
     },
     "output_type": "display_data"
    }
   ],
   "source": [
    "#5\n",
    "import csv\n",
    "\n",
    "f = open('doctor2.csv', 'r', encoding='utf-8')\n",
    "lines = csv.reader(f)\n",
    "    \n",
    "\n",
    "header = next(lines)\n",
    "\n",
    "xdata= []\n",
    "ydata1= []\n",
    "ydata2= []\n",
    "ydata3= []\n",
    "ydata4= []\n",
    "\n",
    "list_data=[]\n",
    "\n",
    "for line in lines:\n",
    "    list_data.append(line[:])\n",
    "\n",
    "\n",
    "length = len(list_data)\n",
    "\n",
    "for i in range(1,15,2):\n",
    "    xdata.append(list_data[i][0])\n",
    "    ydata1.append(float(list_data[i][1]))\n",
    "    ydata2.append(float(list_data[i][2]))\n",
    "    ydata3.append(float(list_data[i][3]))\n",
    "    ydata4.append(float(list_data[i][4]))\n",
    "\n",
    "plt.plot(xdata, ydata1, 'ro-')\n",
    "plt.plot(xdata, ydata2, 'bx--')\n",
    "plt.plot(xdata, ydata3, 'ys:')\n",
    "plt.plot(xdata, ydata4, 'md-.')\n",
    "#plt.ylim(0,100)\n",
    "#plt.yticks(list(range(0,100,20)))\n",
    "\n",
    "plt.title('서울 및 광역시 종합병원 의사 수', fontdict = font1 )\n",
    "\n",
    "plt.show()\n",
    "\n",
    "f.close()"
   ]
  },
  {
   "cell_type": "code",
   "execution_count": 36,
   "metadata": {},
   "outputs": [
    {
     "data": {
      "image/png": "[encoded data removed]",
      "text/plain": [
       "<Figure size 432x288 with 1 Axes>"
      ]
     },
     "metadata": {},
     "output_type": "display_data"
    }
   ],
   "source": [
    "#6\n",
    "import csv\n",
    "\n",
    "f = open('doctor2.csv', 'r', encoding='utf-8')\n",
    "lines = csv.reader(f)\n",
    "    \n",
    "\n",
    "header = next(lines)\n",
    "\n",
    "xdata= []\n",
    "ydata1= []\n",
    "ydata2= []\n",
    "ydata3= []\n",
    "ydata4= []\n",
    "\n",
    "list_data=[]\n",
    "\n",
    "for line in lines:\n",
    "    list_data.append(line[:])\n",
    "\n",
    "\n",
    "length = len(list_data)\n",
    "portion = [list_data[1][1], list_data[1][2], list_data[1][3], list_data[1][4]]\n",
    "docs = ['일반의', '인턴', '레지던트','전문의']\n",
    "\n",
    "xdata.append(list_data[1][0])\n",
    "ydata1.append(list_data[1][1])\n",
    "ydata2.append(list_data[1][2])\n",
    "ydata3.append(list_data[1][3])\n",
    "ydata4.append(list_data[1][4])\n",
    "\n",
    "plt.pie(portion, explode = (0,0.1,0,0), labels=docs, autopct='%1.1f%%', shadow = True, startangle =90) \n",
    "plt.title('서울 종합병원 의사 유형별 분포', fontdict = font1 )\n",
    "#plt.ylim(0,100)\n",
    "#plt.yticks(list(range(0,100,20)))\n",
    "\n",
    "plt.show()\n",
    "\n",
    "f.close()"
   ]
  },
  {
   "cell_type": "code",
   "execution_count": null,
   "metadata": {},
   "outputs": [],
   "source": []
  }
 ],
 "metadata": {
  "kernelspec": {
   "display_name": "Python 3",
   "language": "python",
   "name": "python3"
  },
  "language_info": {
   "codemirror_mode": {
    "name": "ipython",
    "version": 3
   },
   "file_extension": ".py",
   "mimetype": "text/x-python",
   "name": "python",
   "nbconvert_exporter": "python",
   "pygments_lexer": "ipython3",
   "version": "3.7.6"
  }
 },
 "nbformat": 4,
 "nbformat_minor": 4
}
