{
 "cells": [
  {
   "cell_type": "markdown",
   "metadata": {},
   "source": [
    "# Chapter 08 모듈과 패키지"
   ]
  },
  {
   "cell_type": "code",
   "execution_count": 3,
   "metadata": {},
   "outputs": [
    {
     "ename": "ModuleNotFoundError",
     "evalue": "No module named 'greet'",
     "output_type": "error",
     "traceback": [
      "\u001b[1;31m---------------------------------------------------------------------------\u001b[0m",
      "\u001b[1;31mModuleNotFoundError\u001b[0m                       Traceback (most recent call last)",
      "\u001b[1;32m<ipython-input-3-22402a2d29aa>\u001b[0m in \u001b[0;36m<module>\u001b[1;34m\u001b[0m\n\u001b[1;32m----> 1\u001b[1;33m \u001b[1;32mimport\u001b[0m \u001b[0mgreet\u001b[0m\u001b[1;33m\u001b[0m\u001b[1;33m\u001b[0m\u001b[0m\n\u001b[0m\u001b[0;32m      2\u001b[0m \u001b[1;33m\u001b[0m\u001b[0m\n\u001b[0;32m      3\u001b[0m \u001b[0mprint\u001b[0m\u001b[1;33m(\u001b[0m\u001b[0mgreet\u001b[0m\u001b[1;33m.\u001b[0m\u001b[0mhello1\u001b[0m\u001b[1;33m(\u001b[0m\u001b[1;34m'안지수'\u001b[0m\u001b[1;33m)\u001b[0m\u001b[1;33m)\u001b[0m\u001b[1;33m\u001b[0m\u001b[1;33m\u001b[0m\u001b[0m\n\u001b[0;32m      4\u001b[0m \u001b[0mprint\u001b[0m\u001b[1;33m(\u001b[0m\u001b[0mgreet\u001b[0m\u001b[1;33m.\u001b[0m\u001b[0mhello2\u001b[0m\u001b[1;33m(\u001b[0m\u001b[1;34m'홍지영'\u001b[0m\u001b[1;33m)\u001b[0m\u001b[1;33m)\u001b[0m\u001b[1;33m\u001b[0m\u001b[1;33m\u001b[0m\u001b[0m\n\u001b[0;32m      5\u001b[0m \u001b[0mprint\u001b[0m\u001b[1;33m(\u001b[0m\u001b[0mgreet\u001b[0m\u001b[1;33m.\u001b[0m\u001b[0mhello3\u001b[0m\u001b[1;33m(\u001b[0m\u001b[1;34m'황예림'\u001b[0m\u001b[1;33m)\u001b[0m\u001b[1;33m)\u001b[0m\u001b[1;33m\u001b[0m\u001b[1;33m\u001b[0m\u001b[0m\n",
      "\u001b[1;31mModuleNotFoundError\u001b[0m: No module named 'greet'"
     ]
    }
   ],
   "source": [
    "import greet\n",
    "\n",
    "print(greet.hello1('안지수'))\n",
    "print(greet.hello2('홍지영'))\n",
    "print(greet.hello3('황예림'))"
   ]
  },
  {
   "cell_type": "code",
   "execution_count": 7,
   "metadata": {},
   "outputs": [
    {
     "ename": "ModuleNotFoundError",
     "evalue": "No module named 'greet'",
     "output_type": "error",
     "traceback": [
      "\u001b[1;31m---------------------------------------------------------------------------\u001b[0m",
      "\u001b[1;31mModuleNotFoundError\u001b[0m                       Traceback (most recent call last)",
      "\u001b[1;32m<ipython-input-7-e925bb2b087d>\u001b[0m in \u001b[0;36m<module>\u001b[1;34m\u001b[0m\n\u001b[1;32m----> 1\u001b[1;33m \u001b[1;32mimport\u001b[0m \u001b[0mgreet\u001b[0m\u001b[1;33m\u001b[0m\u001b[1;33m\u001b[0m\u001b[0m\n\u001b[0m\u001b[0;32m      2\u001b[0m \u001b[1;32mimport\u001b[0m \u001b[0mmath\u001b[0m\u001b[1;33m\u001b[0m\u001b[1;33m\u001b[0m\u001b[0m\n\u001b[0;32m      3\u001b[0m \u001b[0mprint\u001b[0m\u001b[1;33m(\u001b[0m\u001b[0mgreet\u001b[0m\u001b[1;33m.\u001b[0m\u001b[0mhello1\u001b[0m\u001b[1;33m(\u001b[0m\u001b[1;34m'김영진'\u001b[0m\u001b[1;33m)\u001b[0m\u001b[1;33m)\u001b[0m\u001b[1;33m\u001b[0m\u001b[1;33m\u001b[0m\u001b[0m\n\u001b[0;32m      4\u001b[0m \u001b[0mprint\u001b[0m\u001b[1;33m(\u001b[0m\u001b[0mmath\u001b[0m\u001b[1;33m.\u001b[0m\u001b[0msqrt\u001b[0m\u001b[1;33m(\u001b[0m\u001b[1;36m100\u001b[0m\u001b[1;33m)\u001b[0m\u001b[1;33m)\u001b[0m\u001b[1;33m\u001b[0m\u001b[1;33m\u001b[0m\u001b[0m\n\u001b[0;32m      5\u001b[0m \u001b[1;33m\u001b[0m\u001b[0m\n",
      "\u001b[1;31mModuleNotFoundError\u001b[0m: No module named 'greet'"
     ]
    }
   ],
   "source": [
    "import greet\n",
    "import math\n",
    "print(greet.hello1('김영진'))\n",
    "print(math.sqrt(100))\n",
    "\n",
    "import greet as gr\n",
    "import math as m\n",
    "print(gr.hello2('박소정'))\n",
    "print(m.sqrt(100))\n",
    "\n",
    "from greet import hello3\n",
    "from math import sqrt\n",
    "print(hello3('한은정'))\n",
    "print(sqrt(100))\n",
    "\n",
    "from greet import *\n",
    "from math import *\n",
    "print(hello2('한은정'))\n",
    "print(sqrt(100), sin(1))"
   ]
  },
  {
   "cell_type": "code",
   "execution_count": 13,
   "metadata": {},
   "outputs": [
    {
     "name": "stdout",
     "output_type": "stream",
     "text": [
      "floor(7.7): 7\n",
      "ceil(10.1): 11\n",
      "rount(8.6): 9\n",
      "5의 팩토리얼: 120\n"
     ]
    }
   ],
   "source": [
    "# ex8-4\n",
    "import math\n",
    "\n",
    "print('floor(7.7): %d' %math.floor(7.7))\n",
    "print('ceil(10.1): %d' %math.ceil(10.1))\n",
    "print('rount(8.6): %d' %round(8.6))\n",
    "\n",
    "print('5의 팩토리얼: %d' %math.factorial(5))"
   ]
  },
  {
   "cell_type": "code",
   "execution_count": 30,
   "metadata": {},
   "outputs": [
    {
     "name": "stdout",
     "output_type": "stream",
     "text": [
      "1,1,2,3,5,8,13,21,34,55,89,144,233,377,610,987,1597,2584,4181,"
     ]
    }
   ],
   "source": [
    "# 함수의 재귀적 호출(Recursive call)\n",
    "#n!= n-(n-1)!\n",
    "\n",
    "def facto(n):\n",
    "    if n ==0:\n",
    "        return 1\n",
    "    return n*facto(n-1)\n",
    "\n",
    "facto(4)\n",
    "\n",
    "def fibo(n):\n",
    "    if n==1 or n==2:\n",
    "        return 1\n",
    "    return fibo(n-1) + fibo(n-2)\n",
    "\n",
    "for i in range(1,20):\n",
    "    print(fibo(i), end=',')\n"
   ]
  },
  {
   "cell_type": "code",
   "execution_count": 16,
   "metadata": {},
   "outputs": [
    {
     "name": "stdout",
     "output_type": "stream",
     "text": [
      "sin(pi/2): 1.00\n",
      "cos(pi): -1.00\n",
      "tan(pi*2): -0.00\n",
      "2의4승: 16\n",
      "49의 제곱근: 7\n",
      "log10(100): 2.00\n"
     ]
    }
   ],
   "source": [
    "# ex8-5\n",
    "import math as m\n",
    "\n",
    "print('sin(pi/2): %.2f' %m.sin(m.pi/2))\n",
    "print('cos(pi): %.2f' %m.cos(m.pi))\n",
    "print('tan(pi*2): %.2f' %m.tan(m.pi*2))\n",
    "\n",
    "print('2의4승: %d' %m.pow(2,4))\n",
    "print('49의 제곱근: %d' %m.sqrt(49))\n",
    "print('log10(100): %.2f' %m.log10(100))"
   ]
  },
  {
   "cell_type": "code",
   "execution_count": 2,
   "metadata": {},
   "outputs": [
    {
     "name": "stdout",
     "output_type": "stream",
     "text": [
      "3.141592653589793\n"
     ]
    }
   ],
   "source": [
    "from math import pi\n",
    "print(pi)"
   ]
  },
  {
   "cell_type": "code",
   "execution_count": 17,
   "metadata": {},
   "outputs": [
    {
     "name": "stdout",
     "output_type": "stream",
     "text": [
      "0.03136788502940058\n",
      "0.011414366310302682\n",
      "0.04371874222039951\n"
     ]
    }
   ],
   "source": [
    "# ex8-6\n",
    "import random\n",
    "\n",
    "for i in range(3):\n",
    "    print(random.random())"
   ]
  },
  {
   "cell_type": "code",
   "execution_count": 7,
   "metadata": {},
   "outputs": [
    {
     "name": "stdout",
     "output_type": "stream",
     "text": [
      "0.1456692551041303\n",
      "0.45492700451402135\n",
      "0.7707838056590222\n"
     ]
    }
   ],
   "source": [
    "random.seed(100) # 똑같은 랜덤 값을 준다\n",
    "\n",
    "for i in range(3):\n",
    "    print(random.random())"
   ]
  },
  {
   "cell_type": "code",
   "execution_count": 23,
   "metadata": {},
   "outputs": [
    {
     "name": "stdout",
     "output_type": "stream",
     "text": [
      "3\n",
      "9\n",
      "1\n",
      "9\n",
      "9\n"
     ]
    }
   ],
   "source": [
    "# ex8-7\n",
    "import random\n",
    "\n",
    "for i in range(5):\n",
    "    print(random.randrange(1,11,2))"
   ]
  },
  {
   "cell_type": "code",
   "execution_count": 24,
   "metadata": {},
   "outputs": [
    {
     "name": "stdout",
     "output_type": "stream",
     "text": [
      "6\n",
      "4\n",
      "3\n",
      "3\n",
      "1\n"
     ]
    }
   ],
   "source": [
    "# ex8-8\n",
    "import random\n",
    "\n",
    "for i in range(5):\n",
    "    print(random.randint(1,6))"
   ]
  },
  {
   "cell_type": "code",
   "execution_count": 25,
   "metadata": {},
   "outputs": [
    {
     "name": "stdout",
     "output_type": "stream",
     "text": [
      "보\n",
      "보\n",
      "바위\n",
      "보\n",
      "보\n"
     ]
    }
   ],
   "source": [
    "# ex8-9\n",
    "import random\n",
    "\n",
    "toss = ['가위', '바위', '보']\n",
    "\n",
    "for i in range(5):\n",
    "    print(random.choice(toss))"
   ]
  },
  {
   "cell_type": "code",
   "execution_count": 31,
   "metadata": {},
   "outputs": [
    {
     "name": "stdout",
     "output_type": "stream",
     "text": [
      "['사과', '바나나', '오렌지']\n",
      "['바나나', '사과', '오렌지']\n",
      "['바나나', '오렌지', '사과']\n"
     ]
    }
   ],
   "source": [
    "# ex8-10\n",
    "import random\n",
    "\n",
    "fruits = ['사과', '바나나', '오렌지']\n",
    "\n",
    "for i in range(3):\n",
    "    random.shuffle(fruits)\n",
    "    print(fruits)"
   ]
  },
  {
   "cell_type": "code",
   "execution_count": 32,
   "metadata": {},
   "outputs": [
    {
     "name": "stdout",
     "output_type": "stream",
     "text": [
      "------------------------------\n",
      "주사위 던지기: 1번째\n",
      "나: 2\n",
      "컴퓨터: 6\n",
      "컴퓨터의 승리!\n",
      "계속하려면 y를 입력하세요!y\n",
      "------------------------------\n",
      "주사위 던지기: 2번째\n",
      "나: 2\n",
      "컴퓨터: 2\n",
      "무승부!\n",
      "계속하려면 y를 입력하세요!a\n"
     ]
    }
   ],
   "source": [
    "# ex8-11\n",
    "import random\n",
    "\n",
    "again = 'y'\n",
    "count = 1\n",
    "\n",
    "while again =='y':\n",
    "    print('-'*30)\n",
    "    print('주사위 던지기: %d번째' %count)\n",
    "    me = random.randint(1,6)\n",
    "    computer = random.randint(1,6)\n",
    "    print('나: %d' %me)\n",
    "    print('컴퓨터: %d' %computer)\n",
    "    \n",
    "    if me >computer:\n",
    "        print('나의 승리!')\n",
    "    elif me == computer:\n",
    "        print('무승부!')\n",
    "    else:\n",
    "        print('컴퓨터의 승리!')\n",
    "    \n",
    "    count = count+1\n",
    "    again = input('계속하려면 y를 입력하세요!')"
   ]
  },
  {
   "cell_type": "code",
   "execution_count": 1,
   "metadata": {},
   "outputs": [
    {
     "name": "stdout",
     "output_type": "stream",
     "text": [
      "==============================\n",
      "가위 바위 보 게임\n",
      "==============================\n",
      "나: 보\n",
      "당신: 가위\n",
      "당신의 승리입니다\n",
      "------------------------------\n",
      "계속하려면 y를 입력하세요!y\n",
      "\n",
      "나: 보\n",
      "당신: 바위\n",
      "나의 승리입니다!\n",
      "------------------------------\n",
      "계속하려면 y를 입력하세요!a\n",
      "\n"
     ]
    }
   ],
   "source": [
    "# ex8-12\n",
    "import random\n",
    "\n",
    "def who_win(x,y):\n",
    "    if x=='가위':\n",
    "        if y=='가위':\n",
    "            msg = '무승부입니다!'\n",
    "        elif y=='바위':\n",
    "            msg = '당신의 승리입니다'\n",
    "        else:\n",
    "            msg = '나의 승리입니다!'\n",
    "    elif x=='바위':\n",
    "        if y=='바위':\n",
    "            msg = '무승부입니다!'\n",
    "        elif y=='보':\n",
    "            msg = '당신의 승리입니다'\n",
    "        else:\n",
    "            msg = '나의 승리입니다!'\n",
    "    else:\n",
    "        if y=='보':\n",
    "            msg = '무승부입니다!'\n",
    "        elif y=='가위':\n",
    "            msg = '당신의 승리입니다'\n",
    "        else:\n",
    "            msg = '나의 승리입니다!'\n",
    "    return msg\n",
    "\n",
    "print('='*30)\n",
    "print('가위 바위 보 게임')\n",
    "print('='*30)\n",
    "\n",
    "toss = ['가위', '바위', '보']\n",
    "again = 'y'\n",
    "\n",
    "while again =='y':\n",
    "    me = random.choice(toss)\n",
    "    you = random.choice(toss)\n",
    "    \n",
    "    result = who_win(me, you)\n",
    "    \n",
    "    print('나: %s' %me)\n",
    "    print('당신: %s' %you)\n",
    "    print(result)\n",
    "    print('-'*30)\n",
    "    \n",
    "    again = input('계속하려면 y를 입력하세요!')\n",
    "    print()"
   ]
  },
  {
   "cell_type": "code",
   "execution_count": 5,
   "metadata": {},
   "outputs": [
    {
     "name": "stdout",
     "output_type": "stream",
     "text": [
      "년: 2020\n",
      "월: 6\n",
      "일: 3\n",
      "시: 9\n",
      "분: 37\n",
      "초: 54\n",
      "2020/06/03 09:37:54\n",
      "20-06-03 AM 09:37\n",
      "20-06-03 AM 09:37\n"
     ]
    }
   ],
   "source": [
    "# ex8-13\n",
    "from datetime import datetime\n",
    "today = datetime.now()\n",
    "\n",
    "print('년: %s' %today.year)\n",
    "print('월: %s' %today.month)\n",
    "print('일: %s' %today.day)\n",
    "print('시: %s' %today.hour)\n",
    "print('분: %s' %today.minute)\n",
    "print('초: %s' %today.second)\n",
    "\n",
    "print(today.strftime('%Y/%m/%d %H:%M:%S'))\n",
    "print(today.strftime('%y-%m-%d %p %I:%M'))\n",
    "print(today.strftime('%y-%m-%d %p %H:%M'))"
   ]
  },
  {
   "cell_type": "code",
   "execution_count": null,
   "metadata": {},
   "outputs": [],
   "source": [
    "#1\n",
    "\"\"\"\n",
    "가. inc_10\n",
    "\"\"\""
   ]
  },
  {
   "cell_type": "code",
   "execution_count": null,
   "metadata": {},
   "outputs": [],
   "source": [
    "#2\n",
    "\"\"\"\n",
    "가.138\n",
    "\"\"\""
   ]
  },
  {
   "cell_type": "code",
   "execution_count": null,
   "metadata": {},
   "outputs": [],
   "source": [
    "#3\n",
    "\"\"\"\n",
    "35\n",
    "\"\"\""
   ]
  },
  {
   "cell_type": "code",
   "execution_count": null,
   "metadata": {},
   "outputs": [],
   "source": [
    "#4\n",
    "\"\"\"\n",
    "다. shuffle()\n",
    "\"\"\""
   ]
  },
  {
   "cell_type": "code",
   "execution_count": null,
   "metadata": {},
   "outputs": [],
   "source": [
    "#5\n",
    "\"\"\"\n",
    "라. %p\n",
    "\"\"\""
   ]
  },
  {
   "cell_type": "code",
   "execution_count": 2,
   "metadata": {},
   "outputs": [
    {
     "name": "stdout",
     "output_type": "stream",
     "text": [
      "나:5\n",
      "당신:3\n",
      "나의 승리!\n",
      "계속하려면 y를 입력하세요!y\n",
      "나:4\n",
      "당신:5\n",
      "당신의 승리!\n",
      "계속하려면 y를 입력하세요!y\n",
      "나:1\n",
      "당신:5\n",
      "당신의 승리!\n",
      "계속하려면 y를 입력하세요!y\n",
      "나:6\n",
      "당신:2\n",
      "나의 승리!\n",
      "계속하려면 y를 입력하세요!a\n"
     ]
    }
   ],
   "source": [
    "#6\n",
    "import random\n",
    "\n",
    "again = 'y'\n",
    "count = 0\n",
    "\n",
    "def who_win(x,y):\n",
    "    if x > y:\n",
    "        msg = '나의 승리!'\n",
    "    elif x < y:\n",
    "         msg = '당신의 승리!'\n",
    "    else:\n",
    "        msg = '무승부!'\n",
    "        \n",
    "    return msg\n",
    "    \n",
    "\n",
    "while again =='y':\n",
    "    me = random.randint(1,6)\n",
    "    you = random.randint(1,6)\n",
    "    \n",
    "    result = who_win(me, you)\n",
    "    \n",
    "    print('나:%d' %me)\n",
    "    print('당신:%d' %you)\n",
    "    print(result)\n",
    "    \n",
    "    again = input('계속하려면 y를 입력하세요!')\n",
    "    \n",
    "\n"
   ]
  },
  {
   "cell_type": "code",
   "execution_count": null,
   "metadata": {},
   "outputs": [],
   "source": []
  }
 ],
 "metadata": {
  "kernelspec": {
   "display_name": "Python 3",
   "language": "python",
   "name": "python3"
  },
  "language_info": {
   "codemirror_mode": {
    "name": "ipython",
    "version": 3
   },
   "file_extension": ".py",
   "mimetype": "text/x-python",
   "name": "python",
   "nbconvert_exporter": "python",
   "pygments_lexer": "ipython3",
   "version": "3.7.6"
  }
 },
 "nbformat": 4,
 "nbformat_minor": 4
}
