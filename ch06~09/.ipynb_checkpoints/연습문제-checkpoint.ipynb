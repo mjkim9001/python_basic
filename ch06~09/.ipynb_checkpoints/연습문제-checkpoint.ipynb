{
 "cells": [
  {
   "cell_type": "markdown",
   "metadata": {},
   "source": [
    "# 조건문"
   ]
  },
  {
   "cell_type": "code",
   "execution_count": 3,
   "metadata": {},
   "outputs": [
    {
     "name": "stdout",
     "output_type": "stream",
     "text": [
      "연도를 입력하시오1900\n",
      "윤년이 아닙니다.\n"
     ]
    }
   ],
   "source": [
    "# 윤년 확인하기\n",
    "year = int(input('연도를 입력하시오'))\n",
    "\n",
    "if (year %4 ==0 and year %100 !=0) or year %400==0:\n",
    "    msg = '윤년입니다'\n",
    "    \n",
    "else:\n",
    "    msg = '윤년이 아닙니다.'\n",
    "    \n",
    "print(msg)"
   ]
  },
  {
   "cell_type": "code",
   "execution_count": 10,
   "metadata": {},
   "outputs": [
    {
     "name": "stdout",
     "output_type": "stream",
     "text": [
      "알람시간을 입력하시오: 6\n",
      "분을 입력하시오: 30\n",
      "원래 알람시간: 6시 30분\n",
      "변경된 알람시간: 5시 15분\n"
     ]
    }
   ],
   "source": [
    "#45분 일찍 알람맞추기\n",
    "a_hour = int(input('알람시간을 입력하시오: '))\n",
    "a_min = int(input('분을 입력하시오: '))\n",
    "\n",
    "# hour, min = map(int, input('알람 시각> ' ).split()) \n",
    "\n",
    "early_hour=a_hour\n",
    "early_min = a_min + 45\n",
    "\n",
    "if early_min >=60:\n",
    "    early_hour-=1\n",
    "    early_min-=60\n",
    "    \n",
    "print('원래 알람시간: %d시 %d분' %(a_hour, a_min))\n",
    "print('변경된 알람시간: %d시 %d분' %(early_hour, early_min))"
   ]
  },
  {
   "cell_type": "code",
   "execution_count": 22,
   "metadata": {},
   "outputs": [
    {
     "name": "stdout",
     "output_type": "stream",
     "text": [
      "첫 번째 정수를 입력하시오: 50\n",
      "두 번째 정수를 입력하시오: 2\n",
      "세 번째 정수를 입력하시오: 3\n",
      "두 번째로 큰 정수는 3입니다\n"
     ]
    }
   ],
   "source": [
    "#세 정수 중 두번재로 큰 정수 출력\n",
    "a = int(input('첫 번째 정수를 입력하시오: '))\n",
    "b = int(input('두 번째 정수를 입력하시오: '))\n",
    "c = int(input('세 번째 정수를 입력하시오: '))\n",
    "\n",
    "second =0\n",
    "if a > b and a > c:\n",
    "    if b>c:\n",
    "        second = b\n",
    "    else:\n",
    "        second = c\n",
    "elif b > a and b > c:\n",
    "    if a>c:\n",
    "        second = a\n",
    "    else:\n",
    "        second = c\n",
    "else:\n",
    "    if b>a:\n",
    "        second = b\n",
    "    else:\n",
    "        second = a\n",
    "\n",
    "print('두 번째로 큰 정수는 %d입니다' %second)"
   ]
  },
  {
   "cell_type": "code",
   "execution_count": 28,
   "metadata": {},
   "outputs": [
    {
     "ename": "TypeError",
     "evalue": "'<' not supported between instances of 'int' and 'str'",
     "output_type": "error",
     "traceback": [
      "\u001b[1;31m---------------------------------------------------------------------------\u001b[0m",
      "\u001b[1;31mTypeError\u001b[0m                                 Traceback (most recent call last)",
      "\u001b[1;32m<ipython-input-28-1a425142108b>\u001b[0m in \u001b[0;36m<module>\u001b[1;34m\u001b[0m\n\u001b[0;32m      3\u001b[0m \u001b[0mabc_list\u001b[0m\u001b[1;33m.\u001b[0m\u001b[0mappend\u001b[0m\u001b[1;33m(\u001b[0m\u001b[0mb\u001b[0m\u001b[1;33m)\u001b[0m\u001b[1;33m\u001b[0m\u001b[1;33m\u001b[0m\u001b[0m\n\u001b[0;32m      4\u001b[0m \u001b[0mabc_list\u001b[0m\u001b[1;33m.\u001b[0m\u001b[0mappend\u001b[0m\u001b[1;33m(\u001b[0m\u001b[0mc\u001b[0m\u001b[1;33m)\u001b[0m\u001b[1;33m\u001b[0m\u001b[1;33m\u001b[0m\u001b[0m\n\u001b[1;32m----> 5\u001b[1;33m \u001b[0mabc_list\u001b[0m\u001b[1;33m.\u001b[0m\u001b[0msort\u001b[0m\u001b[1;33m(\u001b[0m\u001b[1;33m)\u001b[0m\u001b[1;33m\u001b[0m\u001b[1;33m\u001b[0m\u001b[0m\n\u001b[0m\u001b[0;32m      6\u001b[0m \u001b[0mprint\u001b[0m\u001b[1;33m(\u001b[0m\u001b[0mabc_list\u001b[0m\u001b[1;33m[\u001b[0m\u001b[1;36m1\u001b[0m\u001b[1;33m]\u001b[0m\u001b[1;33m)\u001b[0m\u001b[1;33m\u001b[0m\u001b[1;33m\u001b[0m\u001b[0m\n",
      "\u001b[1;31mTypeError\u001b[0m: '<' not supported between instances of 'int' and 'str'"
     ]
    }
   ],
   "source": [
    "abc_list = []\n",
    "abc_list.append(a)\n",
    "abc_list.append(b)\n",
    "abc_list.append(c)\n",
    "abc_list.sort()\n",
    "print(abc_list[1])"
   ]
  },
  {
   "cell_type": "code",
   "execution_count": 37,
   "metadata": {},
   "outputs": [
    {
     "name": "stdout",
     "output_type": "stream",
     "text": [
      "첫 번째 정수를 입력하시오: 56\n",
      "두 번째 정수를 입력하시오: 7\n",
      "세 번째 정수를 입력하시오: 9\n",
      "피타고라스 수가 아닙니다\n"
     ]
    }
   ],
   "source": [
    "#피타고라스 수 구하기\n",
    "a = int(input('첫 번째 정수를 입력하시오: '))\n",
    "b = int(input('두 번째 정수를 입력하시오: '))\n",
    "c = int(input('세 번째 정수를 입력하시오: '))\n",
    "\n",
    "if a < b < c and a + b > c:\n",
    "    if a**2 + b**2 == c**2:\n",
    "        print('피타고라스 수입니다')\n",
    "    else:\n",
    "        print('피타고라스 수가 아닙니다')\n",
    "else:\n",
    "    print('피타고라스 수가 아닙니다')"
   ]
  },
  {
   "cell_type": "code",
   "execution_count": 3,
   "metadata": {},
   "outputs": [
    {
     "name": "stdout",
     "output_type": "stream",
     "text": [
      "200 375 425\n"
     ]
    }
   ],
   "source": [
    "#피타고라스 수 구하기\n",
    "\n",
    "for i in range(1, 333):\n",
    "    for j in range(i+1, 500):\n",
    "        k = 1000-i-j\n",
    "        if i**2 + j**2 == k**2 and i + j >k and i+j+k == 1000:\n",
    "            print(i, j, k)\n"
   ]
  },
  {
   "cell_type": "code",
   "execution_count": 30,
   "metadata": {},
   "outputs": [
    {
     "name": "stdout",
     "output_type": "stream",
     "text": [
      "200 375 425 1000\n",
      "40000 140625 180625\n"
     ]
    }
   ],
   "source": [
    "#답\n",
    "outer_break = False\n",
    "for a in range(1, 333):\n",
    "    if outer_break:\n",
    "        break\n",
    "    for b in range(a+1, 500):\n",
    "        c=1000-a-b\n",
    "        if c < b:\n",
    "            continue\n",
    "        if a**2 + b**2 ==c**2:\n",
    "            print(a, b, c, a+b+c)\n",
    "            print(a**2, b**2, c**2)\n",
    "            outer_break = True\n",
    "            break\n",
    "                "
   ]
  },
  {
   "cell_type": "markdown",
   "metadata": {},
   "source": [
    "# 반복문"
   ]
  },
  {
   "cell_type": "code",
   "execution_count": 15,
   "metadata": {},
   "outputs": [
    {
     "name": "stdout",
     "output_type": "stream",
     "text": [
      "테스트 케이스의 개수를 입력하시오: 5\n",
      "첫 번째 정수를 입력하시오(a>0): 2\n",
      "두 번째 정수를 입력하시오(b<10): 1\n",
      "Case #1: 2 + 1 = 3\n",
      "\n",
      "첫 번째 정수를 입력하시오(a>0): 2\n",
      "두 번째 정수를 입력하시오(b<10): 5\n",
      "Case #2: 2 + 5 = 7\n",
      "\n",
      "첫 번째 정수를 입력하시오(a>0): 4\n",
      "두 번째 정수를 입력하시오(b<10): 5\n",
      "Case #3: 4 + 5 = 9\n",
      "\n",
      "첫 번째 정수를 입력하시오(a>0): 1\n",
      "두 번째 정수를 입력하시오(b<10): \n"
     ]
    },
    {
     "ename": "ValueError",
     "evalue": "invalid literal for int() with base 10: ''",
     "output_type": "error",
     "traceback": [
      "\u001b[1;31m---------------------------------------------------------------------------\u001b[0m",
      "\u001b[1;31mValueError\u001b[0m                                Traceback (most recent call last)",
      "\u001b[1;32m<ipython-input-15-ade389182c61>\u001b[0m in \u001b[0;36m<module>\u001b[1;34m\u001b[0m\n\u001b[0;32m      6\u001b[0m \u001b[1;32mwhile\u001b[0m \u001b[0mx\u001b[0m\u001b[1;33m>\u001b[0m\u001b[0mcount\u001b[0m\u001b[1;33m:\u001b[0m\u001b[1;33m\u001b[0m\u001b[1;33m\u001b[0m\u001b[0m\n\u001b[0;32m      7\u001b[0m     \u001b[0ma\u001b[0m \u001b[1;33m=\u001b[0m \u001b[0mint\u001b[0m\u001b[1;33m(\u001b[0m\u001b[0minput\u001b[0m\u001b[1;33m(\u001b[0m\u001b[1;34m'첫 번째 정수를 입력하시오(a>0): '\u001b[0m\u001b[1;33m)\u001b[0m\u001b[1;33m)\u001b[0m\u001b[1;33m\u001b[0m\u001b[1;33m\u001b[0m\u001b[0m\n\u001b[1;32m----> 8\u001b[1;33m     \u001b[0mb\u001b[0m \u001b[1;33m=\u001b[0m \u001b[0mint\u001b[0m\u001b[1;33m(\u001b[0m\u001b[0minput\u001b[0m\u001b[1;33m(\u001b[0m\u001b[1;34m'두 번째 정수를 입력하시오(b<10): '\u001b[0m\u001b[1;33m)\u001b[0m\u001b[1;33m)\u001b[0m\u001b[1;33m\u001b[0m\u001b[1;33m\u001b[0m\u001b[0m\n\u001b[0m\u001b[0;32m      9\u001b[0m     \u001b[1;32mif\u001b[0m \u001b[0ma\u001b[0m \u001b[1;33m<\u001b[0m \u001b[1;36m0\u001b[0m \u001b[1;32mor\u001b[0m \u001b[0mb\u001b[0m \u001b[1;33m>\u001b[0m\u001b[1;36m10\u001b[0m\u001b[1;33m:\u001b[0m\u001b[1;33m\u001b[0m\u001b[1;33m\u001b[0m\u001b[0m\n\u001b[0;32m     10\u001b[0m         \u001b[0mprint\u001b[0m\u001b[1;33m(\u001b[0m\u001b[1;34m'다시 입력하시오'\u001b[0m\u001b[1;33m)\u001b[0m\u001b[1;33m\u001b[0m\u001b[1;33m\u001b[0m\u001b[0m\n",
      "\u001b[1;31mValueError\u001b[0m: invalid literal for int() with base 10: ''"
     ]
    }
   ],
   "source": [
    "#A+B 출력\n",
    "\n",
    "x=int(input('테스트 케이스의 개수를 입력하시오: '))\n",
    "count=0\n",
    "\n",
    "while x>count:\n",
    "    a = int(input('첫 번째 정수를 입력하시오(a>0): '))\n",
    "    b = int(input('두 번째 정수를 입력하시오(b<10): '))\n",
    "    if a < 0 or b >10:\n",
    "        print('다시 입력하시오')\n",
    "        print()\n",
    "    else:\n",
    "        sum = a+b\n",
    "        count+=1\n",
    "        print('Case #%d: %d + %d = %d' %(count, a, b, sum))\n",
    "        print()\n"
   ]
  },
  {
   "cell_type": "code",
   "execution_count": 13,
   "metadata": {},
   "outputs": [
    {
     "name": "stdout",
     "output_type": "stream",
     "text": [
      "5이상 9이하의 홀수를 입력하시오: 5\n",
      "  *\n",
      " ***\n",
      "*****\n",
      " ***\n",
      "  *\n"
     ]
    }
   ],
   "source": [
    "# 별그리기\n",
    "while True:\n",
    "    n = int(input('5이상 9이하의 홀수를 입력하시오: '))\n",
    "    if n < 5 or n > 9 or n % 2 == 0:\n",
    "        print('다시 입력하시오')\n",
    "    else:\n",
    "        a = int(n/2)+1\n",
    "        for i in range(1, 2*a):\n",
    "            if i<=a:\n",
    "                for j in range(a-i):\n",
    "                    print(' ', end ='')\n",
    "                for j in range(2*i-1):\n",
    "                    print('*', end='')\n",
    "                print()\n",
    "            else:\n",
    "                for j in range(i-a):\n",
    "                    print(' ', end ='')\n",
    "                for j in range((2*a-i)*2-1):\n",
    "                    print('*', end='')\n",
    "                print()\n",
    "        break"
   ]
  },
  {
   "cell_type": "code",
   "execution_count": 32,
   "metadata": {},
   "outputs": [
    {
     "name": "stdout",
     "output_type": "stream",
     "text": [
      "5이상 9이하의 홀수>5\n",
      "    *\n",
      "   ***\n",
      "  *****\n",
      " *******\n",
      "*********\n",
      " *******\n",
      "  *****\n",
      "   ***\n",
      "    *\n"
     ]
    }
   ],
   "source": [
    "#2-2\n",
    "n = int(input('5이상 9이하의 홀수>'))\n",
    "height = int(n+1 / 2)\n",
    "for i in range(1, height+1):\n",
    "    for k in range(height-i):\n",
    "        print(' ', end='')\n",
    "    for k in range(i*2-1):\n",
    "        print('*', end='')\n",
    "    print()\n",
    "\n",
    "for i in (range(height-1, 0, -1)):\n",
    "    for k in range(i, height):\n",
    "        print(' ', end='')\n",
    "    for k in range(i*2-1):\n",
    "        print('*', end='')\n",
    "    print()"
   ]
  },
  {
   "cell_type": "code",
   "execution_count": 34,
   "metadata": {},
   "outputs": [
    {
     "name": "stdout",
     "output_type": "stream",
     "text": [
      "3660\n"
     ]
    }
   ],
   "source": [
    "# 하루동안 3이 표시되는 시간은 총 몇 초?\n",
    "total = 0\n",
    "for hour in range(24):\n",
    "    if hour % 10 == 3:\n",
    "        total += 60 * 60\n",
    "    else:\n",
    "        for min in range(60):\n",
    "            if min // 10 ==3:\n",
    "                total +=60\n",
    "            elif min % 10==3:\n",
    "                total =+ 60\n",
    "print(total)"
   ]
  },
  {
   "cell_type": "code",
   "execution_count": 35,
   "metadata": {},
   "outputs": [
    {
     "name": "stdout",
     "output_type": "stream",
     "text": [
      "29700\n"
     ]
    }
   ],
   "source": [
    "total = 0\n",
    "\n",
    "for hour in range(24):\n",
    "    for min in range(60):\n",
    "        time = str(hour) +str(min)\n",
    "        if '3' in time:\n",
    "            total +=60\n",
    "print(total)"
   ]
  },
  {
   "cell_type": "code",
   "execution_count": 50,
   "metadata": {},
   "outputs": [
    {
     "ename": "TypeError",
     "evalue": "list indices must be integers or slices, not float",
     "output_type": "error",
     "traceback": [
      "\u001b[1;31m---------------------------------------------------------------------------\u001b[0m",
      "\u001b[1;31mTypeError\u001b[0m                                 Traceback (most recent call last)",
      "\u001b[1;32m<ipython-input-50-a06f6d33fc39>\u001b[0m in \u001b[0;36m<module>\u001b[1;34m\u001b[0m\n\u001b[0;32m      6\u001b[0m \u001b[1;33m\u001b[0m\u001b[0m\n\u001b[0;32m      7\u001b[0m \u001b[1;32mfor\u001b[0m \u001b[0mi\u001b[0m \u001b[1;32min\u001b[0m \u001b[0mrange\u001b[0m\u001b[1;33m(\u001b[0m\u001b[1;36m10\u001b[0m\u001b[1;33m,\u001b[0m \u001b[1;36m100\u001b[0m\u001b[1;33m)\u001b[0m\u001b[1;33m:\u001b[0m\u001b[1;33m\u001b[0m\u001b[1;33m\u001b[0m\u001b[0m\n\u001b[1;32m----> 8\u001b[1;33m     \u001b[0mcounts\u001b[0m\u001b[1;33m[\u001b[0m\u001b[0mi\u001b[0m \u001b[1;33m/\u001b[0m \u001b[1;36m10\u001b[0m\u001b[1;33m]\u001b[0m\u001b[1;33m+=\u001b[0m\u001b[1;36m1\u001b[0m\u001b[1;33m\u001b[0m\u001b[1;33m\u001b[0m\u001b[0m\n\u001b[0m\u001b[0;32m      9\u001b[0m     \u001b[0mcounts\u001b[0m\u001b[1;33m[\u001b[0m\u001b[0mi\u001b[0m\u001b[1;33m%\u001b[0m \u001b[1;36m10\u001b[0m \u001b[1;33m]\u001b[0m \u001b[1;33m+=\u001b[0m\u001b[1;36m1\u001b[0m\u001b[1;33m\u001b[0m\u001b[1;33m\u001b[0m\u001b[0m\n\u001b[0;32m     10\u001b[0m \u001b[1;32mfor\u001b[0m \u001b[0mi\u001b[0m \u001b[1;32min\u001b[0m \u001b[0mrange\u001b[0m\u001b[1;33m(\u001b[0m\u001b[1;36m100\u001b[0m\u001b[1;33m,\u001b[0m \u001b[1;36m1000\u001b[0m\u001b[1;33m)\u001b[0m\u001b[1;33m:\u001b[0m\u001b[1;33m\u001b[0m\u001b[1;33m\u001b[0m\u001b[0m\n",
      "\u001b[1;31mTypeError\u001b[0m: list indices must be integers or slices, not float"
     ]
    }
   ],
   "source": [
    "# 1~1000에서  각 숫자의 개수를 구하시오\n",
    "counts = [0] *10\n",
    "\n",
    "for i in range(1,10):\n",
    "    counts[i] =+ 1\n",
    "\n",
    "for i in range(10, 100):\n",
    "    counts[i / 10]+=1\n",
    "    counts[i% 10 ] +=1\n",
    "for i in range(100, 1000):\n",
    "    counts[i / 10]+=1\n",
    "    counts[(i%100)//10]+=1\n",
    "    counts[i% 10 ] +=1\n",
    "for i in range(1000, 1001):\n",
    "    counts[i / 10]+=1\n",
    "    counts[(i%1000)/100]+=1\n",
    "    counts[(i%100)/10]+=1\n",
    "    counts[i% 10 ] +=1\n",
    "\n",
    "print(counts)\n"
   ]
  },
  {
   "cell_type": "code",
   "execution_count": 7,
   "metadata": {},
   "outputs": [
    {
     "name": "stdout",
     "output_type": "stream",
     "text": [
      "숫자를 입력하세요: 1000\n"
     ]
    }
   ],
   "source": [
    "# 완전수를 구하시오\n",
    "n = int(input(\"숫자를 입력하세요: \"))\n",
    "\n",
    "result=[]\n",
    "count = 0\n",
    "while count>n:\n",
    "    for i in range(1, n+1):\n",
    "        sum=0\n",
    "        for j in range(1, i):\n",
    "            if i%j==0:\n",
    "                sum+= j\n",
    "        if i ==sum:\n",
    "            \n"
   ]
  },
  {
   "cell_type": "code",
   "execution_count": 18,
   "metadata": {},
   "outputs": [
    {
     "name": "stdout",
     "output_type": "stream",
     "text": [
      "숫자를 입력하세요: 10\n",
      "합의 제곱과 제곱의 합의 차이는 2640 입니다\n"
     ]
    }
   ],
   "source": [
    "# 합의 제곱과 제곱의 합의 차이\n",
    "n = int(input(\"숫자를 입력하세요: \"))\n",
    "def sum1(n):\n",
    "    sum =0\n",
    "    for i in range(1, n+1):\n",
    "        sum+=i**2\n",
    "    return sum\n",
    "\n",
    "def sum2(n):\n",
    "    sum = 0\n",
    "    for i in range(1, n+1):\n",
    "        sum+=i\n",
    "    result = sum**2\n",
    "    return result\n",
    "\n",
    "print('합의 제곱과 제곱의 합의 차이는 %d 입니다' %(sum2(n)-sum1(n)))"
   ]
  },
  {
   "cell_type": "markdown",
   "metadata": {},
   "source": [
    "# 문자열 및 파일"
   ]
  },
  {
   "cell_type": "code",
   "execution_count": 38,
   "metadata": {},
   "outputs": [
    {
     "name": "stdout",
     "output_type": "stream",
     "text": [
      "906609 913 993\n"
     ]
    }
   ],
   "source": [
    "#가장 큰 대칭수\n",
    "\n",
    "def palind(a):\n",
    "    \n",
    "    for i in range(len(a)//2):\n",
    "        if a[i] != a[-1-i]:\n",
    "            return False\n",
    "    return True\n",
    "\n",
    "max_num =0\n",
    "for i in range(100, 1000):\n",
    "    for k in range(i, 1000):\n",
    "        if palind(str(i*k)):\n",
    "            if i*k > max_num:\n",
    "                max_num = i*k\n",
    "                max_a=i\n",
    "                max_b=k\n",
    "print(max_num, max_a, max_b)"
   ]
  },
  {
   "cell_type": "code",
   "execution_count": 43,
   "metadata": {},
   "outputs": [
    {
     "name": "stdout",
     "output_type": "stream",
     "text": [
      "암호화할 문자열과 n값>sfe 2\n",
      "[NM\n"
     ]
    }
   ],
   "source": [
    "# 시저 암호\n",
    "plain, n = input('암호화할 문자열과 n값>').split()\n",
    "plain = [c for c in plain]\n",
    "n = int(n)\n",
    "\n",
    "LETTER_A = ord('A')\n",
    "LETTER_Z = ord('Z')\n",
    "cypher = []\n",
    "for letter in plain:\n",
    "    if ord(letter) + n > LETTER_Z:\n",
    "        cypher.append(chr(LETTER_A + ord(letter) + n - LETTER_Z -1))\n",
    "    else:\n",
    "        cyphter.append(chr(ord(letter) + n))\n",
    "print(''.join(cypher))"
   ]
  },
  {
   "cell_type": "code",
   "execution_count": 46,
   "metadata": {},
   "outputs": [
    {
     "name": "stdout",
     "output_type": "stream",
     "text": [
      "찾고자하는 문자열과 파일명hello ch08greet.py\n",
      "  1: def hello1(name):\n",
      "  5: def hello2(name):\n",
      "  9: def hello3(name):\n"
     ]
    }
   ],
   "source": [
    "# grep 만들기\n",
    "word, filename = input('찾고자하는 문자열과 파일명').split()\n",
    "\n",
    "line_no = 1\n",
    "with open(filename, 'r', encoding='UTF-8') as file:\n",
    "    for line in file:\n",
    "        if line.find(word) >=0:\n",
    "            print('%3d:' % line_no, line, end='')\n",
    "        line_no +=1"
   ]
  },
  {
   "cell_type": "code",
   "execution_count": null,
   "metadata": {},
   "outputs": [],
   "source": [
    "# 파일에서 읽어온 단어 개수 세기\n",
    "filename = input('파일 이름>')\n",
    "words_dict = dict()\n",
    "\n",
    "with open(filename, 'r', encoding='UTF-8') as file:\n",
    "    for line in file:\n",
    "        linewords = line.replace('(', ' ').replace(')', ' ')\\\n",
    "        .replace(',',' ').replace(','.' ').split()\n",
    "    \n",
    "    for word in :\n",
    "        if count ===0:\n",
    "            \n",
    "        \n",
    "print('총 단어수 =', len(words_dict))\n",
    "\n"
   ]
  },
  {
   "cell_type": "code",
   "execution_count": null,
   "metadata": {},
   "outputs": [],
   "source": [
    "# 5\n",
    "import os\n",
    "import shutil\n",
    "import random as rd\n",
    "PATH = 'c:/Tamp/Exerceise_3-5'\n",
    "os.mkdir(PATH)\n",
    "os.chdir(PATH)\n",
    "FOR "
   ]
  },
  {
   "cell_type": "code",
   "execution_count": null,
   "metadata": {},
   "outputs": [],
   "source": [
    "# Binary파일을 16진수 값으로 출력하기\n"
   ]
  }
 ],
 "metadata": {
  "kernelspec": {
   "display_name": "Python 3",
   "language": "python",
   "name": "python3"
  },
  "language_info": {
   "codemirror_mode": {
    "name": "ipython",
    "version": 3
   },
   "file_extension": ".py",
   "mimetype": "text/x-python",
   "name": "python",
   "nbconvert_exporter": "python",
   "pygments_lexer": "ipython3",
   "version": "3.7.6"
  }
 },
 "nbformat": 4,
 "nbformat_minor": 4
}
