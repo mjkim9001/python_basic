{
 "cells": [
  {
   "cell_type": "markdown",
   "metadata": {},
   "source": [
    "# Chapter 06 튜플과 딕셔너리"
   ]
  },
  {
   "cell_type": "code",
   "execution_count": 7,
   "metadata": {},
   "outputs": [
    {
     "name": "stdout",
     "output_type": "stream",
     "text": [
      "('coffee', 'milk', 'tea', 'cider')\n",
      "coffee\n",
      "tea\n",
      "('coffee', 'milk', 'tea')\n"
     ]
    }
   ],
   "source": [
    "# ex 6-1\n",
    "menu = ('coffee', 'milk', 'tea', 'cider')\n",
    "\n",
    "print(menu)\n",
    "print(menu[0])\n",
    "print(menu[2])\n",
    "print(menu[0:3])\n",
    "\n",
    "#menu[1] = 'cola' -> 불가능(read only니까)"
   ]
  },
  {
   "cell_type": "code",
   "execution_count": 8,
   "metadata": {},
   "outputs": [
    {
     "name": "stdout",
     "output_type": "stream",
     "text": [
      "('apple', 'banana', 'cherry', 'orange', 'melon', 'strawberry')\n",
      "6\n",
      "apple\n",
      "banana\n",
      "cherry\n"
     ]
    }
   ],
   "source": [
    "# ex 6-2\n",
    "tuple1 = ('apple', 'banana', 'cherry')\n",
    "tuple2 = ('orange', 'melon', 'strawberry')\n",
    "tuple3 = tuple1 + tuple2\n",
    "print(tuple3)\n",
    "print(len(tuple3))\n",
    "for x in tuple1:\n",
    "    print(x)\n",
    "\n",
    "del tuple1 #튜플 전체 삭제는 가능"
   ]
  },
  {
   "cell_type": "code",
   "execution_count": 6,
   "metadata": {},
   "outputs": [
    {
     "name": "stdout",
     "output_type": "stream",
     "text": [
      "구구단표\n",
      "------------------------------\n",
      "2단\n",
      "2 x 1 = 2\n",
      "2 x 2 = 4\n",
      "2 x 3 = 6\n",
      "2 x 4 = 8\n",
      "2 x 5 = 10\n",
      "2 x 6 = 12\n",
      "2 x 7 = 14\n",
      "2 x 8 = 16\n",
      "2 x 9 = 18\n",
      "------------------------------\n",
      "3단\n",
      "3 x 1 = 3\n",
      "3 x 2 = 6\n",
      "3 x 3 = 9\n",
      "3 x 4 = 12\n",
      "3 x 5 = 15\n",
      "3 x 6 = 18\n",
      "3 x 7 = 21\n",
      "3 x 8 = 24\n",
      "3 x 9 = 27\n",
      "------------------------------\n",
      "4단\n",
      "4 x 1 = 4\n",
      "4 x 2 = 8\n",
      "4 x 3 = 12\n",
      "4 x 4 = 16\n",
      "4 x 5 = 20\n",
      "4 x 6 = 24\n",
      "4 x 7 = 28\n",
      "4 x 8 = 32\n",
      "4 x 9 = 36\n",
      "------------------------------\n",
      "5단\n",
      "5 x 1 = 5\n",
      "5 x 2 = 10\n",
      "5 x 3 = 15\n",
      "5 x 4 = 20\n",
      "5 x 5 = 25\n",
      "5 x 6 = 30\n",
      "5 x 7 = 35\n",
      "5 x 8 = 40\n",
      "5 x 9 = 45\n",
      "------------------------------\n",
      "6단\n",
      "6 x 1 = 6\n",
      "6 x 2 = 12\n",
      "6 x 3 = 18\n",
      "6 x 4 = 24\n",
      "6 x 5 = 30\n",
      "6 x 6 = 36\n",
      "6 x 7 = 42\n",
      "6 x 8 = 48\n",
      "6 x 9 = 54\n",
      "------------------------------\n",
      "7단\n",
      "7 x 1 = 7\n",
      "7 x 2 = 14\n",
      "7 x 3 = 21\n",
      "7 x 4 = 28\n",
      "7 x 5 = 35\n",
      "7 x 6 = 42\n",
      "7 x 7 = 49\n",
      "7 x 8 = 56\n",
      "7 x 9 = 63\n",
      "------------------------------\n",
      "8단\n",
      "8 x 1 = 8\n",
      "8 x 2 = 16\n",
      "8 x 3 = 24\n",
      "8 x 4 = 32\n",
      "8 x 5 = 40\n",
      "8 x 6 = 48\n",
      "8 x 7 = 56\n",
      "8 x 8 = 64\n",
      "8 x 9 = 72\n",
      "------------------------------\n",
      "9단\n",
      "9 x 1 = 9\n",
      "9 x 2 = 18\n",
      "9 x 3 = 27\n",
      "9 x 4 = 36\n",
      "9 x 5 = 45\n",
      "9 x 6 = 54\n",
      "9 x 7 = 63\n",
      "9 x 8 = 72\n",
      "9 x 9 = 81\n",
      "------------------------------\n"
     ]
    }
   ],
   "source": [
    "# Q6-1\n",
    "print('구구단표')\n",
    "print('-'*30)\n",
    "n = (2, 3, 4, 5, 6, 7, 8, 9)\n",
    "for x in n :\n",
    "    print('%d단' %(x))\n",
    "    for i in range(1,10):\n",
    "        print('%d x %d = %d' %(x, i, x*i))\n",
    "    print('-'*30)\n"
   ]
  },
  {
   "cell_type": "code",
   "execution_count": 9,
   "metadata": {},
   "outputs": [
    {
     "name": "stdout",
     "output_type": "stream",
     "text": [
      "관리자 아이디를 입력하세요:admin\n",
      "관리자 비밀번호를 입력하세요:12345\n",
      "관리자입니다.\n"
     ]
    }
   ],
   "source": [
    "# Q6-2\n",
    "\n",
    "admin = ('admin', '12345')\n",
    "admin_id = input('관리자 아이디를 입력하세요:')\n",
    "admin_pw = input('관리자 비밀번호를 입력하세요:')\n",
    "\n",
    "if admin_id == admin[0] and admin_pw == admin[1]:\n",
    "    print('관리자입니다.')\n",
    "else:\n",
    "    print('아이디 또는 비밀번호가 잘못 입력되었습니다')\n"
   ]
  },
  {
   "cell_type": "code",
   "execution_count": 12,
   "metadata": {},
   "outputs": [
    {
     "name": "stdout",
     "output_type": "stream",
     "text": [
      "(1, 3, 5, 7, 9)\n",
      "(1, 4, 9, 16, 25)\n",
      "(1, 9, 25, 49, 81)\n"
     ]
    }
   ],
   "source": [
    "# tuple 만들기\n",
    "#num = (1, 3, 5, 7, 9)\n",
    "\n",
    "odds = tuple(range(1,10,2))\n",
    "print(odds)\n",
    "\n",
    "# 표현식 **\n",
    "squares = tuple(i*i for i in range(1,6))\n",
    "print(squares)\n",
    "\n",
    "odd_squares = tuple(i*i for i in range(1, 10) if i % 2 == 1)\n",
    "print(odd_squares)\n"
   ]
  },
  {
   "cell_type": "code",
   "execution_count": 18,
   "metadata": {},
   "outputs": [
    {
     "data": {
      "text/plain": [
       "True"
      ]
     },
     "execution_count": 18,
     "metadata": {},
     "output_type": "execute_result"
    }
   ],
   "source": [
    "# 시퀀스 객체 특정 값이 있는지 확인\n",
    "# 값 in 시퀀스객체\n",
    "# 값 not in 시퀀스 객체\n",
    "\n",
    "a = [0, 10, 20, 30, 40, 50, 60, 70, 80, 90]\n",
    "30 not in a\n",
    "1 in range (10)"
   ]
  },
  {
   "cell_type": "code",
   "execution_count": 25,
   "metadata": {},
   "outputs": [
    {
     "name": "stdout",
     "output_type": "stream",
     "text": [
      "[0, 10, 20, 30, 9, 8, 7, 6]\n",
      "(1, 2, 3, 4, 5, 6)\n"
     ]
    },
    {
     "data": {
      "text/plain": [
       "'Python3'"
      ]
     },
     "execution_count": 25,
     "metadata": {},
     "output_type": "execute_result"
    }
   ],
   "source": [
    "# 시퀀스 객체 연결\n",
    "a = [0, 10, 20, 30]\n",
    "b = [9, 8, 7, 6]\n",
    "\n",
    "print(a+b)\n",
    "print((1,2,3)+(4,5,6))\n",
    "\n",
    "'Python' +str(3)"
   ]
  },
  {
   "cell_type": "code",
   "execution_count": 31,
   "metadata": {},
   "outputs": [
    {
     "name": "stdout",
     "output_type": "stream",
     "text": [
      "[1, 2, 3, 1, 2, 3, 1, 2, 3]\n",
      "[1, 2, 3, 1, 2, 3, 1, 2, 3]\n",
      "(1, 2, 3, 1, 2, 3, 1, 2, 3)\n",
      "python python python \n"
     ]
    }
   ],
   "source": [
    "# 시퀀스 객체 반복하기\n",
    "print([1,2,3]*3)\n",
    "print(3*[1,2,3])\n",
    "\n",
    "print((1,2,3)*3)\n",
    "print('python '*3)"
   ]
  },
  {
   "cell_type": "code",
   "execution_count": 42,
   "metadata": {},
   "outputs": [
    {
     "name": "stdout",
     "output_type": "stream",
     "text": [
      "(11, 55, 99)\n"
     ]
    }
   ],
   "source": [
    "a = (11, 22, 33, 44, 55, 66, 77, 88, 99)\n",
    "print(a[0:9:4])"
   ]
  },
  {
   "cell_type": "markdown",
   "metadata": {},
   "source": [
    "# Dictionary"
   ]
  },
  {
   "cell_type": "code",
   "execution_count": 13,
   "metadata": {},
   "outputs": [
    {
     "name": "stdout",
     "output_type": "stream",
     "text": [
      "{'name': '안지영', 'age': 30, 'email': 'jiyong@korea.com'}\n",
      "안지영\n",
      "30\n",
      "jiyong@korea.com\n",
      "길이:3\n"
     ]
    }
   ],
   "source": [
    "# ex 6-3\n",
    "\n",
    "members = {'name':'안지영', 'age':30, 'email': 'jiyong@korea.com'}\n",
    "\n",
    "print(members)\n",
    "print(members['name'])\n",
    "print(members['age'])\n",
    "print(members['email'])\n",
    "\n",
    "print('길이:%d' %len(members))\n"
   ]
  },
  {
   "cell_type": "code",
   "execution_count": 34,
   "metadata": {},
   "outputs": [
    {
     "name": "stdout",
     "output_type": "stream",
     "text": [
      "{'kor': 95, 'eng': 85, 'math': 90, 'science': 80}\n",
      "70\n",
      "{'kor': 70, 'eng': 85, 'math': 90, 'science': 80, 'music': 100}\n",
      "{'kor': 70, 'eng': 85, 'math': 90, 'music': 100}\n",
      "이름 : 안진영\n",
      "국어 : 70\n",
      "영어 : 85\n",
      "수학 : 90\n"
     ]
    }
   ],
   "source": [
    "# ex6-4\n",
    "name = '안진영'\n",
    "scores = {'kor':95,'eng':85, 'math':90, 'science':80}\n",
    "print(scores)\n",
    "\n",
    "scores['kor']=70\n",
    "print(scores['kor'])\n",
    "\n",
    "scores['music'] = 100\n",
    "print(scores)\n",
    "\n",
    "del scores['science']\n",
    "print(scores)\n",
    "\n",
    "print('이름 : %s' %name)\n",
    "print('국어 : %d' %scores['kor'])\n",
    "print('영어 : %d' %scores['eng'])\n",
    "print('수학 : %d' %scores['math'])"
   ]
  },
  {
   "cell_type": "code",
   "execution_count": 35,
   "metadata": {},
   "outputs": [
    {
     "name": "stdout",
     "output_type": "stream",
     "text": [
      "{'갤럭시 노트8': 2017, '갤럭시 s9': 2018, '갤럭시 노트10': 2019, '갤럭시 s20': 2020}\n",
      "갤럭시 노트8 => 2017\n",
      "갤럭시 s9 => 2018\n",
      "갤럭시 노트10 => 2019\n",
      "갤럭시 s20 => 2020\n",
      "4\n"
     ]
    }
   ],
   "source": [
    "# ex 6-5\n",
    "phones = {'갤럭시 노트8':2017, '갤럭시 s9': 2018, '갤럭시 노트10': 2019, '갤럭시 s20': 2020}\n",
    "print(phones)\n",
    "\n",
    "for key in phones:\n",
    "    print('%s => %s'%(key, phones[key]))\n",
    "    \n",
    "print(len(phones))"
   ]
  },
  {
   "cell_type": "code",
   "execution_count": 57,
   "metadata": {},
   "outputs": [
    {
     "name": "stdout",
     "output_type": "stream",
     "text": [
      "500\n",
      "{'health': 490, 'mana': 334, 'melee': 500, 'armor': 18.72}\n",
      "{'health': 490, 'mana': 334, 'melee': 500, 'armor': 18.72}\n"
     ]
    }
   ],
   "source": [
    "# 키값이 중복이 된다면?\n",
    "lux = {'health':490, 'health':500}\n",
    "print(lux['health'])\n",
    "\n",
    "#뒤에 있는 값으로 출력된다\n",
    "\n",
    "#빈 딕셔너리 만들기\n",
    "dict()\n",
    "\n",
    "#딕셔너리 생성\n",
    "lux = {'health': 490, 'mana': 334, 'melee': 500, 'armor': 18.72}\n",
    "lux1 = dict(health = 490, mana = 334, melee = 500, armor = 18.72)\n",
    "print(lux1)\n",
    "print(lux)"
   ]
  },
  {
   "cell_type": "code",
   "execution_count": 77,
   "metadata": {},
   "outputs": [
    {
     "data": {
      "text/plain": [
       "{'cherry', 'grape', 'orange', 'pineapple', 'strawberry'}"
      ]
     },
     "execution_count": 77,
     "metadata": {},
     "output_type": "execute_result"
    }
   ],
   "source": [
    "# 집합(set)\n",
    "fruits = {'orange','strawberry', 'grape', 'orange', 'pineapple', 'cherry'}\n",
    "fruits\n",
    "#집어넣은 순서와 상관없이 알아서 sorting을 한다\n",
    "#중복이 되면 중복을 없애고 나타낸다"
   ]
  },
  {
   "cell_type": "code",
   "execution_count": 85,
   "metadata": {},
   "outputs": [
    {
     "name": "stdout",
     "output_type": "stream",
     "text": [
      "합계: 269, 평균: 89.67\n"
     ]
    }
   ],
   "source": [
    "# Q6-3\n",
    "scores = {'김예진':90, '박영진':95, '김소희':84}\n",
    "sum=0\n",
    "avg=0\n",
    "for i in scores:\n",
    "    sum+=scores[i]\n",
    "avg = sum/len(scores)\n",
    "\n",
    "print('합계: %d, 평균: %.2f' %(sum, avg))"
   ]
  },
  {
   "cell_type": "code",
   "execution_count": 90,
   "metadata": {},
   "outputs": [
    {
     "name": "stdout",
     "output_type": "stream",
     "text": [
      "관리자 아이디를 입력하세요:admin\n",
      "관리자 비밀번호를 입력하세요:12345\n",
      "관리자입니다.\n"
     ]
    }
   ],
   "source": [
    "# Q6-4\n",
    "\n",
    "admin = {'id':'admin', 'pw':'12345'}\n",
    "admin_id = input('관리자 아이디를 입력하세요:')\n",
    "admin_pw = input('관리자 비밀번호를 입력하세요:')\n",
    "\n",
    "if admin_id == admin['id'] and admin_pw == admin['pw']:\n",
    "    print('관리자입니다.')\n",
    "else:\n",
    "    print('아이디 또는 비밀번호가 잘못 입력되었습니다')"
   ]
  },
  {
   "cell_type": "code",
   "execution_count": 91,
   "metadata": {},
   "outputs": [
    {
     "name": "stdout",
     "output_type": "stream",
     "text": [
      "사과에 해당되는 영어 단어를 입력해주세요:apple\n",
      "정답입니다!\n",
      "컴퓨터에 해당되는 영어 단어를 입력해주세요:co\n",
      "틀렸습니다!\n",
      "학교에 해당되는 영어 단어를 입력해주세요:school\n",
      "정답입니다!\n",
      "책상에 해당되는 영어 단어를 입력해주세요:d\n",
      "틀렸습니다!\n",
      "의자에 해당되는 영어 단어를 입력해주세요:cha\n",
      "틀렸습니다!\n"
     ]
    }
   ],
   "source": [
    "# ex6-5\n",
    "words = {'사과':'apple', '컴퓨터':'computer', '학교':'school', '책상':'desk', '의자':'chair'}\n",
    "\n",
    "for key in words:\n",
    "    in_words=input('%s에 해당되는 영어 단어를 입력해주세요:' %key)\n",
    "    if words[key] != in_words:\n",
    "        result = '틀렸습니다!'\n",
    "    else:\n",
    "        result = '정답입니다!'\n",
    "    print(result)"
   ]
  },
  {
   "cell_type": "code",
   "execution_count": 5,
   "metadata": {
    "scrolled": true
   },
   "outputs": [
    {
     "name": "stdout",
     "output_type": "stream",
     "text": [
      "아이디 : kim99, 마일리지 : 12000점\n",
      "아이디 : lee66, 마일리지 : 11000점\n",
      "아이디 : han55, 마일리지 : 3000점\n",
      "아이디 : hone77, 마일리지 : 5000점\n",
      "아이디 : hwaong33, 마일리지 : 18000점\n"
     ]
    }
   ],
   "source": [
    "# 1\n",
    "\n",
    "m = {'kim99':12000,'lee66':11000,'han55':3000,'hone77':5000,\n",
    "     'hwaong33':18000}\n",
    "\n",
    "for i in m:\n",
    "    print('아이디 : %s, 마일리지 : %d점' %(i, m[i]))"
   ]
  },
  {
   "cell_type": "code",
   "execution_count": 4,
   "metadata": {},
   "outputs": [
    {
     "name": "stdout",
     "output_type": "stream",
     "text": [
      "han55님의 마일리지가 5000점으로 수정되었습니다\n"
     ]
    }
   ],
   "source": [
    "# 2\n",
    "m = {'kim99':12000,'lee66':11000,'han55':3000,'hone77':5000,\n",
    "     'hwaong33':18000}\n",
    "\n",
    "m.update(han55=5000)\n",
    "# m['han55']=5000\n",
    "\n",
    "for i in m:\n",
    "    if i =='han55':\n",
    "        print('%s님의 마일리지가 %d점으로 수정되었습니다' %(i, m[i]))\n"
   ]
  },
  {
   "cell_type": "code",
   "execution_count": 5,
   "metadata": {},
   "outputs": [
    {
     "name": "stdout",
     "output_type": "stream",
     "text": [
      "{'kim99': 12000, 'lee66': 11000, 'han55': 3000, 'hone77': 5000, 'hwaong33': 18000, 'jang88': 7000}\n",
      "jang88님의 마일리지 (7000점)가 추가되었습니다\n"
     ]
    }
   ],
   "source": [
    "# 3\n",
    "m = {'kim99':12000,'lee66':11000,'han55':3000,'hone77':5000,\n",
    "     'hwaong33':18000}\n",
    "\n",
    "m['jang88'] = 7000\n",
    "#m.setdefault('jang88',7000)\n",
    "print(m)\n",
    "for i in m:\n",
    "    if i =='jang88':\n",
    "        print('%s님의 마일리지 (%d점)가 추가되었습니다' %(i, m[i]))\n",
    "        "
   ]
  },
  {
   "cell_type": "code",
   "execution_count": 23,
   "metadata": {},
   "outputs": [
    {
     "name": "stdout",
     "output_type": "stream",
     "text": [
      "hwaong33님의 18000점이 가장 높은 점수입니다.\n"
     ]
    }
   ],
   "source": [
    "# 4\n",
    "m = {'kim99':12000,'lee66':11000,'han55':3000,'hone77':5000,'hwaong33':18000}\n",
    "\n",
    "biggest = m['kim99']\n",
    "\n",
    "for i in m:\n",
    "    if m[i] > biggest:\n",
    "        biggest = m[i]\n",
    "print('%s님의 %d점이 가장 높은 점수입니다.' %(i,biggest))\n",
    "    "
   ]
  },
  {
   "cell_type": "code",
   "execution_count": 49,
   "metadata": {},
   "outputs": [
    {
     "name": "stdout",
     "output_type": "stream",
     "text": [
      "----------------------------------------\n",
      "  월  화  수  목  금  토  일\n",
      "----------------------------------------\n",
      "25.5 28.3 33.2 32.1 17.3 35.3 33.3 \n",
      "----------------------------------------\n"
     ]
    }
   ],
   "source": [
    "# 5\n",
    "high_temp = {'월':25.5, '화':28.3, '수':33.2, '목':32.1, '금':17.3, '토':35.3, '일': 33.3}\n",
    "\n",
    "print('-'*40)\n",
    "for i in high_temp:\n",
    "    print('%3s' %i, end='')\n",
    "print()\n",
    "print('-'*40)\n",
    "for i in high_temp:\n",
    "    print('%.1f' %high_temp[i], end=' ')\n",
    "print()\n",
    "print('-'*40)\n",
    "    "
   ]
  },
  {
   "cell_type": "code",
   "execution_count": 82,
   "metadata": {},
   "outputs": [
    {
     "name": "stdout",
     "output_type": "stream",
     "text": [
      "가장 낮은 최고 기온 : 17.3도\n"
     ]
    }
   ],
   "source": [
    "# 6\n",
    "high_temp = {'월':25.5, '화':28.3, '수':33.2, '목':32.1, '금':17.3, '토':35.3, '일': 33.3}\n",
    "\n",
    "low = high_temp['월']\n",
    "for i in high_temp:\n",
    "    if i !='토' and i !='일':\n",
    "        if high_temp[i] < low:\n",
    "            low = high_temp[i]\n",
    "\n",
    "print('가장 낮은 최고 기온 : %.1f도' %low)\n",
    "    "
   ]
  },
  {
   "cell_type": "code",
   "execution_count": 7,
   "metadata": {},
   "outputs": [
    {
     "name": "stdout",
     "output_type": "stream",
     "text": [
      "['수', '목', '토', '일']\n",
      "기온이 30도 이상인 요일 :수 목 토 일 "
     ]
    }
   ],
   "source": [
    "# 7\n",
    "high_temp = {'월':25.5, '화':28.3, '수':33.2, '목':32.1, '금':17.3, '토':35.3, '일': 33.3}\n",
    "t_list = []\n",
    "\n",
    "for i in high_temp:\n",
    "    if high_temp[i] >= 30:\n",
    "        t_list.append(i)\n",
    "\n",
    "print('기온이 30도 이상인 요일 :', end='')\n",
    "for i in range(len(t_list)):\n",
    "    print ('%s '%t_list[i],end='')\n"
   ]
  },
  {
   "cell_type": "code",
   "execution_count": 83,
   "metadata": {},
   "outputs": [
    {
     "name": "stdout",
     "output_type": "stream",
     "text": [
      "일주일간 최고 기온의 평균 : 29.3도\n"
     ]
    }
   ],
   "source": [
    "# 8\n",
    "high_temp = {'월':25.5, '화':28.3, '수':33.2, '목':32.1, '금':17.3, '토':35.3, '일': 33.3}\n",
    "\n",
    "temp_avg =0\n",
    "temp_sum = 0\n",
    "for i in high_temp:\n",
    "    temp_sum +=high_temp[i]\n",
    "\n",
    "temp_avg = temp_sum/len(high_temp)\n",
    "print('일주일간 최고 기온의 평균 : %.1f도' %temp_avg)\n"
   ]
  }
 ],
 "metadata": {
  "kernelspec": {
   "display_name": "Python 3",
   "language": "python",
   "name": "python3"
  },
  "language_info": {
   "codemirror_mode": {
    "name": "ipython",
    "version": 3
   },
   "file_extension": ".py",
   "mimetype": "text/x-python",
   "name": "python",
   "nbconvert_exporter": "python",
   "pygments_lexer": "ipython3",
   "version": "3.7.6"
  }
 },
 "nbformat": 4,
 "nbformat_minor": 4
}
